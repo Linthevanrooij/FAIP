{
 "cells": [
  {
   "cell_type": "markdown",
   "metadata": {
    "id": "WkZP0JS2GpL6",
    "nbgrader": {
     "grade": false,
     "locked": true,
     "solution": false
    }
   },
   "source": [
    "# Fundamentals of Artificial Intelligence Programme (2024/25 Q1)\n",
    "## Data Work 2\n",
    "\n",
    "### Introduction\n",
    "<!-- A very important aspect of supervised and semi-supervised machine learning is the quality of the labels produced by human labelers. Unfortunately, humans are not perfect and in some cases may even maliciously label things incorrectly. In this assignment, you will evaluate the impact of incorrect labels on a number of different classifiers. -->\n",
    "A very important aspect of supervised and semi-supervised machine learning is the quality of the labels produced by human labelers. Unfortunately, humans are not perfect and in some cases may even maliciously label things incorrectly. In this assignment, you will explore a dataset that has missing data (null/NaN values) and fields in formats that are uninterpretable by machine learning models. By the end, you will have spent time learning how to handle messy data and how to apply simple machine learning strategies to such data, as well as see how poorly labelled data impacts the performance of such strategies.\n",
    "\n",
    "We have provided a number of code snippets you can use during this assignment. Feel free to modify them or replace them.\n",
    "\n",
    "\n",
    "### Dataset\n",
    "The dataset you will be using is the [Adult Income dataset](https://archive.ics.uci.edu/ml/datasets/Adult). Remember to download this dataset from [Brightspace](https://brightspace.tudelft.nl/d2l/le/content/500234/viewContent/2994354/View). This dataset was created by Ronny Kohavi and Barry Becker and was used to predict whether a person's income is more/less than 50k USD based on census data."
   ]
  },
  {
   "cell_type": "markdown",
   "metadata": {
    "id": "Pwo-ZEx8GpL7",
    "nbgrader": {
     "grade": false,
     "locked": true,
     "solution": false
    }
   },
   "source": [
    "### Data preprocessing\n",
    "Start by loading and preprocessing the data. Remove NaN values, convert strings to categorical variables and encode the target variable (the string <=50K, >50K in column index 14). You can read more on categorical data in Pandas [here](https://pandas.pydata.org/pandas-docs/stable/user_guide/categorical.html), and more on encoding values [here](https://pbpython.com/categorical-encoding.html)."
   ]
  },
  {
   "cell_type": "code",
   "execution_count": 27,
   "metadata": {
    "id": "a9xYESZ4GpL7",
    "nbgrader": {
     "grade": false,
     "locked": true,
     "solution": false
    }
   },
   "outputs": [
    {
     "name": "stdout",
     "output_type": "stream",
     "text": [
      "C:\\Users\\linth\\PycharmProjects\\FAIP\n"
     ]
    }
   ],
   "source": [
    "import pandas as pd\n",
    "import numpy as np\n",
    "import seaborn as sns\n",
    "\n",
    "from sklearn.compose import ColumnTransformer\n",
    "from sklearn.pipeline import Pipeline\n",
    "from sklearn.impute import SimpleImputer\n",
    "from sklearn.preprocessing import OrdinalEncoder, OneHotEncoder, FunctionTransformer, StandardScaler\n",
    "from sklearn.linear_model import LogisticRegression, SGDClassifier\n",
    "from numpy import mean\n",
    "from numpy import std\n",
    "from numpy import absolute\n",
    "from sklearn.model_selection import cross_val_score, train_test_split\n",
    "from sklearn.model_selection import KFold\n",
    "from sklearn.compose import ColumnTransformer\n",
    "from sklearn.pipeline import Pipeline\n",
    "from sklearn.svm import SVR\n",
    "from sklearn import tree\n",
    "from sklearn.kernel_approximation import RBFSampler\n",
    "\n",
    "\n",
    "from sklearn.metrics import accuracy_score, log_loss, classification_report\n",
    "from sklearn.neighbors import KNeighborsClassifier\n",
    "from sklearn.svm import SVC, LinearSVC, NuSVC\n",
    "from sklearn.tree import DecisionTreeClassifier\n",
    "from sklearn.ensemble import RandomForestClassifier, AdaBoostClassifier, GradientBoostingClassifier\n",
    "from sklearn.discriminant_analysis import LinearDiscriminantAnalysis\n",
    "from sklearn.discriminant_analysis import QuadraticDiscriminantAnalysis\n",
    "\n",
    "# %cd C:\\Users\\linth\\PycharmProjects\\FAIP"
   ]
  },
  {
   "cell_type": "code",
   "execution_count": 28,
   "metadata": {
    "id": "SdA3Fgz3GpL8",
    "nbgrader": {
     "grade": false,
     "locked": true,
     "solution": false
    }
   },
   "outputs": [],
   "source": [
    "# Load the data set and split into X features and y target\n",
    "data = pd.read_csv(\"data/adult_all.csv\", na_values=\"?\")\n",
    "X = data.drop(columns=[\"target\"])\n",
    "data[\"target\"] = data[\"target\"].astype(\"category\")\n",
    "data[\"target\"] = data[\"target\"].cat.codes\n",
    "y = data[\"target\"]\n",
    "\n",
    "# split data into training and testing sets\n",
    "X_train, X_test, y_train, y_test = train_test_split(X, y, test_size=0.2)"
   ]
  },
  {
   "cell_type": "markdown",
   "metadata": {
    "id": "skr8m4liGpL8",
    "nbgrader": {
     "grade": false,
     "locked": true,
     "solution": false
    }
   },
   "source": [
    "### Data classification\n",
    "Choose a [classifier](https://scikit-learn.org/stable/supervised_learning.html) and evaluate their performance in predicting the target variable.\n",
    "\n",
    "#### Preprocessing\n",
    "Think about how you are going to encode the categorical variables, whether you want to use all of the features or not. Justify your choices\n",
    "\n",
    "A good method to apply preprocessing steps is using a Pipeline. Read more about this [here](https://machinelearningmastery.com/columntransformer-for-numerical-and-categorical-data/) and [here](https://medium.com/vickdata/a-simple-guide-to-scikit-learn-pipelines-4ac0d974bdcf).\n",
    "\n"
   ]
  },
  {
   "cell_type": "code",
   "execution_count": 45,
   "metadata": {
    "id": "-hqkWVbNdafn"
   },
   "outputs": [],
   "source": [
    "# Preprocessing and making the pipeline\n",
    "def preprocess_data(data):\n",
    "    # Define the column indices or names for categorical and numerical columns\n",
    "    categorical_columns = data.select_dtypes(include=[\"object\"]).columns\n",
    "    numerical_columns = data.select_dtypes(include=[\"int64\"]).columns\n",
    "\n",
    "    # Create the pipeline for each column type\n",
    "    numeric = Pipeline(\n",
    "        steps=[\n",
    "            (\"imputer\", SimpleImputer(strategy=\"median\")),  # Replace missing values\n",
    "            (\"scaler\", StandardScaler()),\n",
    "        ]\n",
    "    )\n",
    "\n",
    "    categorical = Pipeline(\n",
    "        steps=[\n",
    "            (\n",
    "                \"imputer\",\n",
    "                SimpleImputer(strategy=\"constant\", fill_value=\"missing\"),\n",
    "            ),  # Replace missing values\n",
    "            (\"encoder\", OrdinalEncoder()),\n",
    "        ]\n",
    "    )\n",
    "\n",
    "    # Create a preprocessing pipeline using ColumnTransformer\n",
    "    preprocessor = ColumnTransformer(\n",
    "        transformers=[\n",
    "            (\n",
    "                \"cat\",\n",
    "                categorical,\n",
    "                categorical_columns,\n",
    "            ),  # Apply Ordinal Encoding to categorical columns\n",
    "            (\n",
    "                \"num\",\n",
    "                numeric,\n",
    "                numerical_columns,\n",
    "            ),  # Apply scaling to numerical columns\n",
    "        ]\n",
    "    )\n",
    "\n",
    "    return preprocessor"
   ]
  },
  {
   "cell_type": "markdown",
   "metadata": {
    "id": "pQExHo_otsXm",
    "nbgrader": {
     "grade": false,
     "locked": true,
     "solution": false
    }
   },
   "source": [
    "#### Evaluation\n",
    "Use a metric from the lecture videos to evaluate the performance of the model."
   ]
  },
  {
   "cell_type": "code",
   "execution_count": 53,
   "metadata": {
    "id": "FZUFr4av_atQ"
   },
   "outputs": [],
   "source": [
    "# Testing different model performances\n",
    "def test_models(preprocessor, X_train, y_train, X_test, y_test):\n",
    "    # Three chosen models for testing\n",
    "    classifiers = [AdaBoostClassifier(), GradientBoostingClassifier(), SGDClassifier()]\n",
    "\n",
    "    performances = {}\n",
    "\n",
    "    # For every model, apply preprocessor\n",
    "    for classifier in classifiers:\n",
    "        pipe = Pipeline(\n",
    "            steps=[(\"preprocessor\", preprocessor), (\"classifier\", classifier)]\n",
    "        )\n",
    "\n",
    "        # Fit the training data\n",
    "        pipe.fit(X_train, y_train)\n",
    "\n",
    "        # Make predictions\n",
    "        y_pred = pipe.predict(X_test)\n",
    "\n",
    "        # test model scores\n",
    "        acc = accuracy_score(y_test, y_pred)\n",
    "\n",
    "        performances[classifier] = {\n",
    "            \"accuracy\": accuracy_score(y_test, y_pred),\n",
    "            \"report\": classification_report(y_test, y_pred, zero_division=np.nan),\n",
    "        }\n",
    "\n",
    "    return performances"
   ]
  },
  {
   "cell_type": "code",
   "execution_count": 54,
   "metadata": {
    "colab": {
     "base_uri": "https://localhost:8080/",
     "height": 0
    },
    "id": "dBP5yHKpAts3",
    "outputId": "ebad65ba-8571-408d-ff95-73dc35f28da2"
   },
   "outputs": [
    {
     "name": "stdout",
     "output_type": "stream",
     "text": [
      "Model: AdaBoostClassifier()\n",
      "Accuracy: 0.8584297266864571\n",
      "Classification Report:\n",
      "              precision    recall  f1-score   support\n",
      "\n",
      "           0       0.88      0.94      0.91      7470\n",
      "           1       0.76      0.59      0.66      2299\n",
      "\n",
      "    accuracy                           0.86      9769\n",
      "   macro avg       0.82      0.76      0.79      9769\n",
      "weighted avg       0.85      0.86      0.85      9769\n",
      "\n",
      "\n",
      "==================================================\n",
      "\n",
      "Model: GradientBoostingClassifier()\n",
      "Accuracy: 0.8659023441498618\n",
      "Classification Report:\n",
      "              precision    recall  f1-score   support\n",
      "\n",
      "           0       0.88      0.95      0.92      7470\n",
      "           1       0.79      0.59      0.67      2299\n",
      "\n",
      "    accuracy                           0.87      9769\n",
      "   macro avg       0.84      0.77      0.79      9769\n",
      "weighted avg       0.86      0.87      0.86      9769\n",
      "\n",
      "\n",
      "==================================================\n",
      "\n",
      "Model: SGDClassifier()\n",
      "Accuracy: 0.8105230832224384\n",
      "Classification Report:\n",
      "              precision    recall  f1-score   support\n",
      "\n",
      "           0       0.88      0.87      0.88      7470\n",
      "           1       0.59      0.62      0.61      2299\n",
      "\n",
      "    accuracy                           0.81      9769\n",
      "   macro avg       0.74      0.74      0.74      9769\n",
      "weighted avg       0.81      0.81      0.81      9769\n",
      "\n",
      "\n",
      "==================================================\n",
      "\n"
     ]
    }
   ],
   "source": [
    "preprocessor = (preprocess_data(data))\n",
    "performances = test_models(preprocessor, X_train, y_train, X_test, y_test)\n",
    "for model, metrics in performances.items():\n",
    "        print(f\"Model: {model}\")\n",
    "        print(f\"Accuracy: {metrics['accuracy']}\")\n",
    "        print(f\"Classification Report:\\n{metrics['report']}\")\n",
    "        print(\"\\n\" + \"=\" * 50 + \"\\n\")"
   ]
  },
  {
   "cell_type": "markdown",
   "metadata": {
    "id": "imBnBhEPeaOB"
   },
   "source": [
    "#### Data visualization\n",
    "Calculate the correlation between different features, including the target variable. Visualize the correlations in a heatmap. A good example of how to do this can be found [here](https://towardsdatascience.com/better-heatmaps-and-correlation-matrix-plots-in-python-41445d0f2bec).\n",
    "\n",
    "Select a features you think will be an important predictor of the target variable and one which is not important. Explain your answers."
   ]
  },
  {
   "cell_type": "code",
   "execution_count": 55,
   "metadata": {
    "id": "ZJt7Xp__NV2h"
   },
   "outputs": [],
   "source": [
    "# Code\n",
    "data2 = data.copy()\n",
    "data2.dropna()\n",
    "data2[\n",
    "    [\n",
    "        \"feature1\",\n",
    "        \"feature3\",\n",
    "        \"feature5\",\n",
    "        \"feature6\",\n",
    "        \"feature7\",\n",
    "        \"feature8\",\n",
    "        \"feature9\",\n",
    "        \"feature13\",\n",
    "        \"target\",\n",
    "    ]\n",
    "] = data2[\n",
    "    [\n",
    "        \"feature1\",\n",
    "        \"feature3\",\n",
    "        \"feature5\",\n",
    "        \"feature6\",\n",
    "        \"feature7\",\n",
    "        \"feature8\",\n",
    "        \"feature9\",\n",
    "        \"feature13\",\n",
    "        \"target\",\n",
    "    ]\n",
    "].astype(\n",
    "    \"category\"\n",
    ")\n",
    "\n",
    "data2[[\"employement_type\", \"graduation\", \"job\", \"etnicity\", \"gender\", \"country\", \"target_value\"]] = data2[[\"feature1\", \"feature3\", \"feature6\", \"feature8\", \"feature9\", \"feature13\", \"target\"]].apply(lambda x: x.cat.codes)\n",
    "data_vis = data2[[\"employement_type\", \"graduation\", \"job\", \"etnicity\", \"gender\", \"country\", \"target_value\"]].copy()"
   ]
  },
  {
   "cell_type": "code",
   "execution_count": 56,
   "metadata": {
    "colab": {
     "base_uri": "https://localhost:8080/",
     "height": 546
    },
    "id": "qNfvDJweb15b",
    "outputId": "b50eec29-2ee0-4102-ed9c-eec2da87fda2"
   },
   "outputs": [
    {
     "data": {
      "image/png": "[encoded data removed]",
      "text/plain": [
       "<Figure size 640x480 with 2 Axes>"
      ]
     },
     "metadata": {},
     "output_type": "display_data"
    }
   ],
   "source": [
    "\n",
    "# visualizing function\n",
    "def visualize(df):\n",
    "    corr = df.corr()\n",
    "    ax = sns.heatmap(\n",
    "        corr,\n",
    "        vmin=-1,\n",
    "        vmax=1,\n",
    "        center=0,\n",
    "        cmap=sns.diverging_palette(20, 120, n=200),\n",
    "        square=True,\n",
    "        annot=True\n",
    "    )\n",
    "    ax.set_xticklabels(ax.get_xticklabels(), rotation=45, horizontalalignment=\"right\")\n",
    "\n",
    "\n",
    "\n",
    "visualize(data_vis)"
   ]
  },
  {
   "cell_type": "markdown",
   "metadata": {
    "id": "a1Os2sIWPsTp"
   },
   "source": [
    "### Label perturbation\n",
    "To evaluate the impact of faulty labels in a dataset, we will introduce some errors in the labels of our data.\n",
    "\n",
    "\n",
    "#### Preparation\n",
    "Start by creating a method which alters a dataset by selecting a percentage of rows randomly and swaps labels from a 0->1 and 1->0.\n"
   ]
  },
  {
   "cell_type": "code",
   "execution_count": 58,
   "metadata": {
    "id": "hDgNXDjoGpL9"
   },
   "outputs": [],
   "source": [
    "import numpy as np\n",
    "import random\n",
    "\n",
    "\n",
    "def pertubate(y: np.ndarray, fraction: float) -> np.ndarray:\n",
    "    copy = y.copy()  # Create a copy of the label vector\n",
    "\n",
    "    # Calculate the number of labels to flip\n",
    "    num_to_flip = int(fraction * len(y))\n",
    "\n",
    "    # Get random indices for the labels to be flipped\n",
    "    indices_to_flip = np.random.choice(len(y), size=num_to_flip, replace=False)\n",
    "\n",
    "    # Flip the labels at the selected indices\n",
    "    for idx in indices_to_flip:\n",
    "        if copy[idx] == 0:\n",
    "            copy[idx] = 1\n",
    "        else:\n",
    "            copy[idx] = 0\n",
    "\n",
    "    return copy"
   ]
  },
  {
   "cell_type": "markdown",
   "metadata": {
    "id": "ENEDW7cJGpL9",
    "nbgrader": {
     "grade": false,
     "locked": true,
     "solution": false
    }
   },
   "source": [
    "#### Analysis\n",
    "Create a number of new datasets with perturbed labels, for fractions ranging from `0` to `0.5` in increments of `0.1`.\n",
    "\n",
    "Perform the same experiment you did before, which compared the performances of different models except with the new datasets. Repeat your experiment at least once for each model and perturbation level and calculate the mean and variance of the scores."
   ]
  },
  {
   "cell_type": "code",
   "execution_count": 62,
   "metadata": {
    "id": "ipmsa4x1GpL9"
   },
   "outputs": [],
   "source": [
    "# Your code\n",
    "def create_perturbed_datasets(y: np.ndarray) -> dict:\n",
    "    fractions = np.arange(0, 0.6, 0.1)  # Fractions from 0.0 to 0.5 in steps of 0.1\n",
    "    perturbed_datasets = {}\n",
    "\n",
    "    for fraction in fractions:\n",
    "        perturbed_labels = pertubate(y, fraction)\n",
    "        perturbed_datasets[fraction] = perturbed_labels\n",
    "\n",
    "    return perturbed_datasets\n",
    "\n",
    "\n",
    "# Create perturbed datasets\n",
    "y_train = y_train.reset_index(drop=True)\n",
    "perturbed_datasets = create_perturbed_datasets(y_train)"
   ]
  },
  {
   "cell_type": "code",
   "execution_count": 60,
   "metadata": {
    "id": "q2DrYYIB6nf_"
   },
   "outputs": [],
   "source": [
    "def calculate_performance(preprocessor, pertubate_data, X_train, X_test, y_test):\n",
    "    perturbed_performance = {}\n",
    "\n",
    "    for fraction, perturbed_labels in pertubate_data.items():\n",
    "\n",
    "        performances = test_models(\n",
    "            preprocessor, X_train, perturbed_labels, X_test, y_test\n",
    "        )\n",
    "        perturbed_performance[fraction] = performances\n",
    "\n",
    "    return perturbed_performance\n",
    "\n",
    "\n",
    "pertubated_perf = calculate_performance(\n",
    "    preprocessor, perturbed_datasets, X_train, X_test, y_test\n",
    ")"
   ]
  },
  {
   "cell_type": "markdown",
   "metadata": {
    "id": "4EZJzdvjGpL-",
    "nbgrader": {
     "grade": false,
     "locked": true,
     "solution": false
    }
   },
   "source": [
    "Authors: Youri Arkesteijn, Tim van der Horst and Kevin Chong."
   ]
  },
  {
   "cell_type": "code",
   "execution_count": 61,
   "metadata": {
    "colab": {
     "base_uri": "https://localhost:8080/",
     "height": 0
    },
    "id": "7G7PygE6I9EC",
    "outputId": "66b23f4e-02ca-4c9d-ad7c-b669eb27fe46"
   },
   "outputs": [
    {
     "name": "stdout",
     "output_type": "stream",
     "text": [
      "Perturbation Fraction: 0.0\n",
      "Model: AdaBoostClassifier()\n",
      "Accuracy: 0.8584297266864571\n",
      "Classification Report:\n",
      "              precision    recall  f1-score   support\n",
      "\n",
      "           0       0.88      0.94      0.91      7470\n",
      "           1       0.76      0.59      0.66      2299\n",
      "\n",
      "    accuracy                           0.86      9769\n",
      "   macro avg       0.82      0.76      0.79      9769\n",
      "weighted avg       0.85      0.86      0.85      9769\n",
      "\n",
      "\n",
      "==================================================\n",
      "\n",
      "Model: GradientBoostingClassifier()\n",
      "Accuracy: 0.8659023441498618\n",
      "Classification Report:\n",
      "              precision    recall  f1-score   support\n",
      "\n",
      "           0       0.88      0.95      0.92      7470\n",
      "           1       0.79      0.59      0.67      2299\n",
      "\n",
      "    accuracy                           0.87      9769\n",
      "   macro avg       0.84      0.77      0.79      9769\n",
      "weighted avg       0.86      0.87      0.86      9769\n",
      "\n",
      "\n",
      "==================================================\n",
      "\n",
      "Model: SGDClassifier()\n",
      "Accuracy: 0.7314975944313645\n",
      "Classification Report:\n",
      "              precision    recall  f1-score   support\n",
      "\n",
      "           0       0.92      0.71      0.80      7470\n",
      "           1       0.46      0.79      0.58      2299\n",
      "\n",
      "    accuracy                           0.73      9769\n",
      "   macro avg       0.69      0.75      0.69      9769\n",
      "weighted avg       0.81      0.73      0.75      9769\n",
      "\n",
      "\n",
      "==================================================\n",
      "\n",
      "Perturbation Fraction: 0.1\n",
      "Model: AdaBoostClassifier()\n",
      "Accuracy: 0.8570989865902344\n",
      "Classification Report:\n",
      "              precision    recall  f1-score   support\n",
      "\n",
      "           0       0.87      0.96      0.91      7470\n",
      "           1       0.79      0.53      0.64      2299\n",
      "\n",
      "    accuracy                           0.86      9769\n",
      "   macro avg       0.83      0.74      0.77      9769\n",
      "weighted avg       0.85      0.86      0.85      9769\n",
      "\n",
      "\n",
      "==================================================\n",
      "\n",
      "Model: GradientBoostingClassifier()\n",
      "Accuracy: 0.8630361347118436\n",
      "Classification Report:\n",
      "              precision    recall  f1-score   support\n",
      "\n",
      "           0       0.88      0.96      0.91      7470\n",
      "           1       0.80      0.56      0.66      2299\n",
      "\n",
      "    accuracy                           0.86      9769\n",
      "   macro avg       0.84      0.76      0.79      9769\n",
      "weighted avg       0.86      0.86      0.85      9769\n",
      "\n",
      "\n",
      "==================================================\n",
      "\n",
      "Model: SGDClassifier()\n",
      "Accuracy: 0.7166547241273415\n",
      "Classification Report:\n",
      "              precision    recall  f1-score   support\n",
      "\n",
      "           0       0.92      0.69      0.79      7470\n",
      "           1       0.44      0.82      0.58      2299\n",
      "\n",
      "    accuracy                           0.72      9769\n",
      "   macro avg       0.68      0.75      0.68      9769\n",
      "weighted avg       0.81      0.72      0.74      9769\n",
      "\n",
      "\n",
      "==================================================\n",
      "\n",
      "Perturbation Fraction: 0.2\n",
      "Model: AdaBoostClassifier()\n",
      "Accuracy: 0.8544375063977889\n",
      "Classification Report:\n",
      "              precision    recall  f1-score   support\n",
      "\n",
      "           0       0.87      0.96      0.91      7470\n",
      "           1       0.78      0.53      0.63      2299\n",
      "\n",
      "    accuracy                           0.85      9769\n",
      "   macro avg       0.83      0.74      0.77      9769\n",
      "weighted avg       0.85      0.85      0.84      9769\n",
      "\n",
      "\n",
      "==================================================\n",
      "\n",
      "Model: GradientBoostingClassifier()\n",
      "Accuracy: 0.8609888422561163\n",
      "Classification Report:\n",
      "              precision    recall  f1-score   support\n",
      "\n",
      "           0       0.87      0.96      0.91      7470\n",
      "           1       0.79      0.56      0.65      2299\n",
      "\n",
      "    accuracy                           0.86      9769\n",
      "   macro avg       0.83      0.76      0.78      9769\n",
      "weighted avg       0.86      0.86      0.85      9769\n",
      "\n",
      "\n",
      "==================================================\n",
      "\n",
      "Model: SGDClassifier()\n",
      "Accuracy: 0.8004913501893746\n",
      "Classification Report:\n",
      "              precision    recall  f1-score   support\n",
      "\n",
      "           0       0.80      0.99      0.88      7470\n",
      "           1       0.90      0.17      0.29      2299\n",
      "\n",
      "    accuracy                           0.80      9769\n",
      "   macro avg       0.85      0.58      0.59      9769\n",
      "weighted avg       0.82      0.80      0.74      9769\n",
      "\n",
      "\n",
      "==================================================\n",
      "\n",
      "Perturbation Fraction: 0.30000000000000004\n",
      "Model: AdaBoostClassifier()\n",
      "Accuracy: 0.8498310983724024\n",
      "Classification Report:\n",
      "              precision    recall  f1-score   support\n",
      "\n",
      "           0       0.86      0.96      0.91      7470\n",
      "           1       0.80      0.49      0.60      2299\n",
      "\n",
      "    accuracy                           0.85      9769\n",
      "   macro avg       0.83      0.72      0.76      9769\n",
      "weighted avg       0.84      0.85      0.84      9769\n",
      "\n",
      "\n",
      "==================================================\n",
      "\n",
      "Model: GradientBoostingClassifier()\n",
      "Accuracy: 0.8610912068789026\n",
      "Classification Report:\n",
      "              precision    recall  f1-score   support\n",
      "\n",
      "           0       0.88      0.95      0.91      7470\n",
      "           1       0.79      0.56      0.66      2299\n",
      "\n",
      "    accuracy                           0.86      9769\n",
      "   macro avg       0.83      0.76      0.78      9769\n",
      "weighted avg       0.86      0.86      0.85      9769\n",
      "\n",
      "\n",
      "==================================================\n",
      "\n",
      "Model: SGDClassifier()\n",
      "Accuracy: 0.7703961510901832\n",
      "Classification Report:\n",
      "              precision    recall  f1-score   support\n",
      "\n",
      "           0       0.77      1.00      0.87      7470\n",
      "           1       0.94      0.03      0.05      2299\n",
      "\n",
      "    accuracy                           0.77      9769\n",
      "   macro avg       0.85      0.51      0.46      9769\n",
      "weighted avg       0.81      0.77      0.68      9769\n",
      "\n",
      "\n",
      "==================================================\n",
      "\n",
      "Perturbation Fraction: 0.4\n",
      "Model: AdaBoostClassifier()\n",
      "Accuracy: 0.8383662606203296\n",
      "Classification Report:\n",
      "              precision    recall  f1-score   support\n",
      "\n",
      "           0       0.86      0.95      0.90      7470\n",
      "           1       0.74      0.49      0.59      2299\n",
      "\n",
      "    accuracy                           0.84      9769\n",
      "   macro avg       0.80      0.72      0.74      9769\n",
      "weighted avg       0.83      0.84      0.83      9769\n",
      "\n",
      "\n",
      "==================================================\n",
      "\n",
      "Model: GradientBoostingClassifier()\n",
      "Accuracy: 0.8382638959975433\n",
      "Classification Report:\n",
      "              precision    recall  f1-score   support\n",
      "\n",
      "           0       0.85      0.95      0.90      7470\n",
      "           1       0.76      0.46      0.57      2299\n",
      "\n",
      "    accuracy                           0.84      9769\n",
      "   macro avg       0.80      0.71      0.74      9769\n",
      "weighted avg       0.83      0.84      0.82      9769\n",
      "\n",
      "\n",
      "==================================================\n",
      "\n",
      "Model: SGDClassifier()\n",
      "Accuracy: 0.7711127034496877\n",
      "Classification Report:\n",
      "              precision    recall  f1-score   support\n",
      "\n",
      "           0       0.77      1.00      0.87      7470\n",
      "           1       0.84      0.03      0.07      2299\n",
      "\n",
      "    accuracy                           0.77      9769\n",
      "   macro avg       0.80      0.52      0.47      9769\n",
      "weighted avg       0.79      0.77      0.68      9769\n",
      "\n",
      "\n",
      "==================================================\n",
      "\n",
      "Perturbation Fraction: 0.5\n",
      "Model: AdaBoostClassifier()\n",
      "Accuracy: 0.4381205855256423\n",
      "Classification Report:\n",
      "              precision    recall  f1-score   support\n",
      "\n",
      "           0       0.72      0.43      0.54      7470\n",
      "           1       0.20      0.45      0.28      2299\n",
      "\n",
      "    accuracy                           0.44      9769\n",
      "   macro avg       0.46      0.44      0.41      9769\n",
      "weighted avg       0.60      0.44      0.48      9769\n",
      "\n",
      "\n",
      "==================================================\n",
      "\n",
      "Model: GradientBoostingClassifier()\n",
      "Accuracy: 0.46023134404749716\n",
      "Classification Report:\n",
      "              precision    recall  f1-score   support\n",
      "\n",
      "           0       0.74      0.45      0.56      7470\n",
      "           1       0.22      0.49      0.30      2299\n",
      "\n",
      "    accuracy                           0.46      9769\n",
      "   macro avg       0.48      0.47      0.43      9769\n",
      "weighted avg       0.62      0.46      0.50      9769\n",
      "\n",
      "\n",
      "==================================================\n",
      "\n",
      "Model: SGDClassifier()\n",
      "Accuracy: 0.247620022520217\n",
      "Classification Report:\n",
      "              precision    recall  f1-score   support\n",
      "\n",
      "           0       0.72      0.03      0.05      7470\n",
      "           1       0.23      0.97      0.38      2299\n",
      "\n",
      "    accuracy                           0.25      9769\n",
      "   macro avg       0.48      0.50      0.21      9769\n",
      "weighted avg       0.61      0.25      0.13      9769\n",
      "\n",
      "\n",
      "==================================================\n",
      "\n"
     ]
    }
   ],
   "source": [
    "for fraction, performances in pertubated_perf.items():\n",
    "    print(f\"Perturbation Fraction: {fraction}\")\n",
    "    for model, metrics in performances.items():\n",
    "        print(f\"Model: {model}\")\n",
    "        print(f\"Accuracy: {metrics['accuracy']}\")\n",
    "        print(f\"Classification Report:\\n{metrics['report']}\")\n",
    "        print(\"\\n\" + \"=\" * 50 + \"\\n\")"
   ]
  },
  {
   "cell_type": "markdown",
   "metadata": {
    "id": "I_tHvJ5Po0Jn",
    "nbgrader": {
     "grade": false,
     "locked": true,
     "solution": false
    }
   },
   "source": [
    "### Final Thoughts\n",
    "\n",
    "You may have noticed in your exploration that there are many different classification models. While it's not required we highly recommend repeating the exercises above with different classifiers and exploring the sklearn documentation to familiarize yourself with the many tools available."
   ]
  },
  {
   "cell_type": "code",
   "execution_count": null,
   "metadata": {
    "id": "BGDaCiuPpshJ"
   },
   "outputs": [],
   "source": []
  }
 ],
 "metadata": {
  "colab": {
   "provenance": []
  },
  "kernel_id": "60e03a91-4cbd-4520-8321-d6ab6b9e1f2d",
  "kernelspec": {
   "display_name": "Python 3 (ipykernel)",
   "language": "python",
   "name": "python3"
  },
  "language_info": {
   "codemirror_mode": {
    "name": "ipython",
    "version": 3
   },
   "file_extension": ".py",
   "mimetype": "text/x-python",
   "name": "python",
   "nbconvert_exporter": "python",
   "pygments_lexer": "ipython3",
   "version": "3.8.19"
  }
 },
 "nbformat": 4,
 "nbformat_minor": 4
}
