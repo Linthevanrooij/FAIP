{
 "cells": [
  {
   "cell_type": "code",
   "execution_count": 7,
   "metadata": {},
   "outputs": [],
   "source": [
    "from pathlib import Path\n",
    "\n",
    "# prefix components:\n",
    "space =  '    '\n",
    "branch = '│   '\n",
    "# pointers:\n",
    "tee =    '├── '\n",
    "last =   '└── '\n",
    "\n",
    "\n",
    "def tree(dir_path: Path, prefix: str=''):\n",
    "    \"\"\"A recursive generator, given a directory Path object\n",
    "    will yield a visual tree structure line by line\n",
    "    with each line prefixed by the same characters\n",
    "    \"\"\"    \n",
    "    contents = list(dir_path.iterdir())\n",
    "    # contents each get pointers that are ├── with a final └── :\n",
    "    pointers = [tee] * (len(contents) - 1) + [last]\n",
    "    for pointer, path in zip(pointers, contents):\n",
    "        yield prefix + pointer + path.name\n",
    "        if path.is_dir(): # extend the prefix and recurse:\n",
    "            extension = branch if pointer == tee else space \n",
    "            # i.e. space because last, └── , above so no more |\n",
    "            yield from tree(path, prefix=prefix+extension)"
   ]
  },
  {
   "cell_type": "code",
   "execution_count": 21,
   "metadata": {},
   "outputs": [
    {
     "name": "stdout",
     "output_type": "stream",
     "text": [
      " ├── .ipynb_checkpoints\n",
      " │   ├── EEG Emotion Classification Machine Learning Models-checkpoint.ipynb\n",
      " │   └── Original EEG Emotion Classification Machine Learning Models-checkpoint.ipynb\n",
      " ├── 01 Dataset 3 classes TRAINING\n",
      " │   ├── .gitignore\n",
      " │   ├── data\n",
      " │   │   ├── emotions.csv\n",
      " │   │   └── features_raw.csv\n",
      " │   ├── models\n",
      " │   │   ├── Conformer_EEG.pth\n",
      " │   │   ├── linear-model.pkl\n",
      " │   │   ├── MLP.pth\n",
      " │   │   ├── randomforest-model.pkl\n",
      " │   │   └── svm-model.pkl\n",
      " │   ├── README.md\n",
      " │   ├── requirements.txt\n",
      " │   └── src\n",
      " │       ├── .ipynb_checkpoints\n",
      " │       │   ├── EEG-emotion-classifier-checkpoint.ipynb\n",
      " │       │   └── Workfile EEG-emotion-classifier -checkpoint.ipynb\n",
      " │       ├── EEG-Conformer-Architecture.png\n",
      " │       ├── eeg-electrodes.png\n",
      " │       ├── EEG-emotion-classifier.ipynb\n",
      " │       └── Workfile EEG-emotion-classifier .ipynb\n",
      " ├── 02 Dataset val-arou TRAINING\n",
      " │   ├── emotions.csv\n",
      " │   └── Multi_class_emotion.ipynb\n",
      " ├── 03 Dataset DEAP\n",
      " ├── logfile.md\n",
      " └── Text+image-generator\n",
      "     ├── Image-generator\n",
      "     │   ├── data\n",
      "     │   │   └── emotions.csv\n",
      "     │   ├── images\n",
      "     │   │   ├── predicted_image_NEUTRAL.png\n",
      "     │   │   └── predicted_image_P.png\n",
      "     │   ├── image_generator_colab_01.ipynb\n",
      "     │   └── model\n",
      "     │       └── Conformer_EEG.pth\n",
      "     └── llama2-generator\n",
      "         └── llama2.ipynb\n"
     ]
    }
   ],
   "source": [
    "import os\n",
    "wd = os.getcwd()\n",
    "wd = wd + \"\\\\Final_project\"\n",
    "\n",
    "for line in tree(Path(wd), ' '):\n",
    "    print(line)"
   ]
  },
  {
   "cell_type": "code",
   "execution_count": null,
   "metadata": {},
   "outputs": [],
   "source": []
  }
 ],
 "metadata": {
  "kernelspec": {
   "display_name": "FAIP",
   "language": "python",
   "name": "python3"
  },
  "language_info": {
   "codemirror_mode": {
    "name": "ipython",
    "version": 3
   },
   "file_extension": ".py",
   "mimetype": "text/x-python",
   "name": "python",
   "nbconvert_exporter": "python",
   "pygments_lexer": "ipython3",
   "version": "3.12.6"
  }
 },
 "nbformat": 4,
 "nbformat_minor": 2
}
