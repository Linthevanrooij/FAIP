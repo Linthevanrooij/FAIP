{
  "nbformat": 4,
  "nbformat_minor": 0,
  "metadata": {
    "colab": {
      "provenance": []
    },
    "kernelspec": {
      "name": "python3",
      "display_name": "Python 3"
    },
    "language_info": {
      "name": "python"
    }
  },
  "cells": [
    {
      "cell_type": "markdown",
      "source": [
        "# **Ranking Assignment - Question 2**\n",
        " ----\n",
        " ----\n",
        "\n",
        "From Brightspace, you can download two data files: harvard500.mat and\n",
        "wb-cs-stanford.mat.\n",
        "Each of these files contain a connectivity matrix G, which has been created from a webcrawl.\n",
        "As the output of your code, you should print the node numbers and probabilities\n",
        "of the ten nodes with the highest pageranks. Also give the computing times."
      ],
      "metadata": {
        "id": "h-rIygKsba-1"
      }
    },
    {
      "cell_type": "code",
      "execution_count": null,
      "metadata": {
        "id": "wi3ZpUKCbQ6m"
      },
      "outputs": [],
      "source": [
        "# !pip install pymatreader\n",
        "import numpy as np\n",
        "from pymatreader import read_mat\n",
        "\n",
        "import scipy\n",
        "import time\n",
        "\n",
        "## Please enter the location of the file you will be testing\n",
        "\n",
        "data = read_mat('___________')  ## Select test probem \n",
        "data.keys()\n",
        "print(data[\"G\"].shape)"
      ]
    },
    {
      "cell_type": "code",
      "source": [
        "n = data[\"G\"].shape[0]\n",
        "print(\"Test Problem \", \">>>>\" , \".Number of Nodes - \", str(data[\"G\"].shape[0]))"
      ],
      "metadata": {
        "id": "C31AZvRbbpnM"
      },
      "execution_count": null,
      "outputs": []
    },
    {
      "cell_type": "markdown",
      "source": [
        "Construct the Pt matrix and fill data into it based on the .mat files.\n"
      ],
      "metadata": {
        "id": "lNhV8zc6bvLM"
      }
    },
    {
      "cell_type": "code",
      "source": [
        "# Construct Pt\n",
        "\n",
        "G_ = scipy.sparse.csr_matrix(data[\"G\"])\n",
        "\n",
        "G = G_.toarray()\n",
        "c = np.count_nonzero(G, axis=0)              # Find the number of nonzeros per column\n",
        "k = np.argwhere(c == 0.0)                    # Find columns with only zeros (dangling nodes)\n",
        "\n",
        "dia = np.reciprocal(c[k].flatten())\n",
        "dia = np.array(dia).ravel()\n",
        "C = scipy.sparse.csr_matrix((dia.T, (k[:][:,-1], k[:][:,-1])), shape=(n,n)).toarray()\n",
        "\n",
        "mem = len(k)*n + scipy.sparse.csr_matrix.getnnz(G_)  # Number of nonzeros in Pt\n",
        "Pt = scipy.sparse.csr_matrix((n, n)).toarray()      # Allocate space for sparse matrix\n",
        "\n",
        "d = np.zeros((n,1))\n",
        "d[k] = 1"
      ],
      "metadata": {
        "id": "83s99Uv5bwDI"
      },
      "execution_count": null,
      "outputs": []
    },
    {
      "cell_type": "code",
      "source": [
        "#########\n",
        "\n",
        "# Fill in Pt Matrix\n",
        "\n",
        "# IMPLEMENT YOUR CODE HERE\n",
        "\n",
        "#########\n",
        "\n",
        "p = 0.85 # Damping coefficient\n",
        "v = (1/n)*np.ones((n,1))"
      ],
      "metadata": {
        "id": "OFC_Qo9ucA6V"
      },
      "execution_count": null,
      "outputs": []
    },
    {
      "cell_type": "code",
      "source": [
        "#  Probability vector for teleportations:\n",
        "\n",
        "# Power Method\n",
        "\n",
        "# Initialisation\n",
        "\n",
        "tb = time.time();\n",
        "xo = v;\n",
        "err = 1;\n",
        "iter = 0;\n",
        "\n",
        "# Iteration\n",
        "\n",
        "##########\n",
        "\n",
        "#IMPLEMENT YOUR CODE HERE\n",
        "\n",
        "# Hint : Do not forgot to normalise so that sum of x = 1\n",
        "\n",
        "###########\n",
        "\n",
        "elapsed_time = time.time() - tb\n",
        "\n",
        "print('Iterations Power method : ', str(iter),'. Computing time: ', str(elapsed_time))\n",
        "\n",
        "sort = np.flip(np.argsort(x.T))\n",
        "sort.ravel\n",
        "print(sort)\n",
        "\n",
        "# Output\n",
        "for i in range(10):\n",
        "  print(\"Node \", str(sort[:,i]), \" has page rank \", str(x[sort[:,i]]))"
      ],
      "metadata": {
        "id": "L91Ms5qScx24"
      },
      "execution_count": null,
      "outputs": []
    }
  ]
}