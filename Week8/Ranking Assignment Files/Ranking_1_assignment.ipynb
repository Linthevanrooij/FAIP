{
  "nbformat": 4,
  "nbformat_minor": 0,
  "metadata": {
    "colab": {
      "provenance": []
    },
    "kernelspec": {
      "name": "python3",
      "display_name": "Python 3"
    },
    "language_info": {
      "name": "python"
    }
  },
  "cells": [
    {
      "cell_type": "markdown",
      "source": [
        "# **Ranking Assignment - Question 1**\n",
        " ----\n",
        " ----\n",
        "\n",
        "From Brightspace, you can download two data files: harvard500.mat and\n",
        "wb-cs-stanford.mat.\n",
        "Each of these files contain a connectivity matrix G, which has been created from a webcrawl.\n",
        "As the output of your code, you should print the node numbers and probabilities\n",
        "of the ten nodes with the highest pageranks. Also give the computing times."
      ],
      "metadata": {
        "id": "awdb3GyZYdhI"
      }
    },
    {
      "cell_type": "code",
      "execution_count": null,
      "metadata": {
        "id": "pAhhKbK-YXDh"
      },
      "outputs": [],
      "source": [
        "# !pip install pymatreader\n",
        "import numpy as np\n",
        "from pymatreader import read_mat\n",
        "\n",
        "import scipy\n",
        "import time\n",
        "\n",
        "## Please enter the location of the file you will be testing\n",
        "\n",
        "data = read_mat('___________')  ## Select test probem \n",
        "data.keys()\n",
        "print(data[\"G\"].shape)"
      ]
    },
    {
      "cell_type": "code",
      "source": [
        "n = data[\"G\"].shape[0]\n",
        "print(\"Test Problem \", \">>>>\" , \".Number of Nodes - \", str(data[\"G\"].shape[0]))"
      ],
      "metadata": {
        "id": "SZKEYH7_Zviw"
      },
      "execution_count": null,
      "outputs": []
    },
    {
      "cell_type": "markdown",
      "source": [
        "Construct the Pt matrix and fill data into it based on the .mat files.\n",
        "\n",
        "\n",
        "\n"
      ],
      "metadata": {
        "id": "8lnh5u2IZzYD"
      }
    },
    {
      "cell_type": "code",
      "source": [
        "# Construct Pt\n",
        "\n",
        "G = scipy.sparse.csr_matrix(data[\"G\"])\n",
        "c = G.sum(axis=0)                                   # Find the number of nonzeros per column\n",
        "k = np.argwhere(c == 0.0)                           # Find columns with only zeros (dangling nodes)\n",
        "mem = len(k)*n + scipy.sparse.csr_matrix.getnnz(G)  # Number of nonzeros in Pt\n",
        "Pt = scipy.sparse.csr_matrix((n, n)).toarray()      # Allocate space for sparse matrix"
      ],
      "metadata": {
        "id": "SRUmvirqZ3JT"
      },
      "execution_count": null,
      "outputs": []
    },
    {
      "cell_type": "code",
      "source": [
        "# Put data into Pt\n",
        "\n",
        "\n",
        "###################\n",
        "\n",
        "# IMPLEMENT YOUR CODE HERE \n",
        "\n",
        "###################\n",
        "\n",
        "p = 0.85 # Damping coefficient\n",
        "v = (1/n)*np.ones((n,1))"
      ],
      "metadata": {
        "id": "Ao69rkcTZ95Q"
      },
      "execution_count": null,
      "outputs": []
    },
    {
      "cell_type": "code",
      "source": [
        "#  Probability vector for teleportations:\n",
        "\n",
        "# Power Method\n",
        "\n",
        "# Initialisation\n",
        "\n",
        "tb = time.time();\n",
        "xo = v;\n",
        "err = 1;\n",
        "iter = 0;\n",
        "\n",
        "# Iteration\n",
        "\n",
        "###########\n",
        "\n",
        "## use varaible name x \n",
        "\n",
        "# IMPLEMENT YOUR CODE HERE\n",
        "\n",
        "############\n",
        "\n",
        "elapsed_time = time.time() - tb\n",
        "\n",
        "print('Iterations Power method : ', str(iter),'. Computing time: ', str(elapsed_time))\n",
        "\n",
        "sort = np.flip(np.argsort(x.T))\n",
        "sort.ravel\n",
        "print(sort)\n",
        "\n",
        "# Output\n",
        "for i in range(10):\n",
        "  print(\"Node \", str(sort[:,i]), \" has page rank \", str(x[sort[:,i]]))"
      ],
      "metadata": {
        "id": "3RxNETvlaJOQ"
      },
      "execution_count": null,
      "outputs": []
    },
    {
      "cell_type": "code",
      "source": [
        "# Solve (I - p*Pt)*x = (1-p)*v  \n",
        "\n",
        "# Initialisaton \n",
        "\n",
        "\n",
        "tb = time.time();\n",
        "err = 1\n",
        "iter = 0\n",
        "\n",
        "############# \n",
        "\n",
        "# IMPLEMENT YOUR CODE HERE\n",
        "\n",
        "##############\n",
        "\n",
        "time_elpased = time.time() - tb\n",
        "print('Computing time: ', str(elapsed_time))\n",
        "\n",
        "sort = np.flip(np.argsort(x.T))\n",
        "sort.ravel\n",
        "print(x)\n",
        "\n",
        "# Output\n",
        "\n",
        "for i in range(10):\n",
        "  print(\"Node \", str(sort[:,i]), \" has page rank \", str(x[sort[:,i]]))"
      ],
      "metadata": {
        "id": "1j2Adf7uaMEL"
      },
      "execution_count": null,
      "outputs": []
    }
  ]
}