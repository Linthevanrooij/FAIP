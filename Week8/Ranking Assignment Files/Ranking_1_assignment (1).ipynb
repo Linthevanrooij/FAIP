{
  "cells": [
    {
      "cell_type": "markdown",
      "metadata": {
        "id": "awdb3GyZYdhI"
      },
      "source": [
        "# **Ranking Assignment - Question 1 and Question 2**\n",
        " ----\n",
        " ----\n",
        "\n",
        "From Brightspace, you can download two data files: harvard500.mat and\n",
        "wb-cs-stanford.mat.\n",
        "Each of these files contain a connectivity matrix G, which has been created from a webcrawl.\n",
        "As the output of your code, you should print the node numbers and probabilities\n",
        "of the ten nodes with the highest pageranks. Also give the computing times."
      ]
    },
    {
      "cell_type": "code",
      "execution_count": 20,
      "metadata": {
        "id": "pAhhKbK-YXDh"
      },
      "outputs": [
        {
          "name": "stdout",
          "output_type": "stream",
          "text": [
            "(9914, 9914)\n"
          ]
        }
      ],
      "source": [
        "# !pip install pymatreader\n",
        "import numpy as np\n",
        "from pymatreader import read_mat\n",
        "\n",
        "import scipy\n",
        "import time\n",
        "\n",
        "## Please enter the location of the file you will be testing\n",
        "\n",
        "data = read_mat('wb-cs-stanford.mat')  ## Select test probem \n",
        "data.keys()\n",
        "print(data[\"G\"].shape)"
      ]
    },
    {
      "cell_type": "code",
      "execution_count": 21,
      "metadata": {
        "id": "SZKEYH7_Zviw"
      },
      "outputs": [
        {
          "name": "stdout",
          "output_type": "stream",
          "text": [
            "Test Problem  >>>> .Number of Nodes -  9914\n"
          ]
        }
      ],
      "source": [
        "n = data[\"G\"].shape[0]\n",
        "print(\"Test Problem \", \">>>>\" , \".Number of Nodes - \", str(data[\"G\"].shape[0]))"
      ]
    },
    {
      "cell_type": "markdown",
      "metadata": {
        "id": "8lnh5u2IZzYD"
      },
      "source": [
        "Construct the Pt matrix and fill data into it based on the .mat files.\n",
        "\n",
        "\n",
        "\n"
      ]
    },
    {
      "cell_type": "code",
      "execution_count": 22,
      "metadata": {
        "id": "SRUmvirqZ3JT"
      },
      "outputs": [],
      "source": [
        "# Construct Pt\n",
        "\n",
        "G = scipy.sparse.csr_matrix(data[\"G\"])\n",
        "c = G.sum(axis=0)                                   # Find the number of nonzeros per column\n",
        "k = np.argwhere(c == 0.0)                           # Find columns with only zeros (dangling nodes)\n",
        "mem = len(k)*n + scipy.sparse.csr_matrix.getnnz(G)  # Number of nonzeros in Pt\n",
        "Pt = scipy.sparse.csr_matrix((n, n)).toarray()      # Allocate space for sparse matrix"
      ]
    },
    {
      "cell_type": "code",
      "execution_count": 23,
      "metadata": {
        "id": "Ao69rkcTZ95Q"
      },
      "outputs": [],
      "source": [
        "# Put data into Pt\n",
        "\n",
        "###################\n",
        "\n",
        "Pt = G.copy()\n",
        "\n",
        "###################\n",
        "\n",
        "p = 0.85 # Damping coefficient\n",
        "v = (1/n)*np.ones((n,1))"
      ]
    },
    {
      "cell_type": "markdown",
      "metadata": {
        "id": "0ZfgN2m-Xj35"
      },
      "source": [
        "Using Power method solve for question 1"
      ]
    },
    {
      "cell_type": "code",
      "execution_count": 24,
      "metadata": {
        "id": "3RxNETvlaJOQ"
      },
      "outputs": [
        {
          "name": "stdout",
          "output_type": "stream",
          "text": [
            "9914\n",
            "reached max iter\n",
            "Iterations Power method :  100 . Computing time:  79.40225601196289\n",
            "Node  [[6836]]  has page rank  [[[6.27433619e+144]]]\n",
            "Node  [[6838]]  has page rank  [[[6.27433619e+144]]]\n",
            "Node  [[6839]]  has page rank  [[[6.27433619e+144]]]\n",
            "Node  [[6837]]  has page rank  [[[6.27375874e+144]]]\n",
            "Node  [[6580]]  has page rank  [[[7.47213891e+143]]]\n",
            "Node  [[6604]]  has page rank  [[[7.47213891e+143]]]\n",
            "Node  [[6595]]  has page rank  [[[7.47213891e+143]]]\n",
            "Node  [[6596]]  has page rank  [[[7.47213891e+143]]]\n",
            "Node  [[6597]]  has page rank  [[[7.47213891e+143]]]\n",
            "Node  [[6598]]  has page rank  [[[7.47213891e+143]]]\n"
          ]
        }
      ],
      "source": [
        "#  Probability vector for teleportations:\n",
        "\n",
        "# Power Method\n",
        "\n",
        "# Initialisation\n",
        "\n",
        "tb = time.time();\n",
        "xo = v;\n",
        "err = 1;\n",
        "iter = 0;\n",
        "\n",
        "# Iteration\n",
        "\n",
        "###########\n",
        "\n",
        "## use varaible name x \n",
        "\n",
        "tol = 1e-6\n",
        "max_iter = 100\n",
        "e = np.ones((n,1))\n",
        "x = xo\n",
        "n = Pt.shape[0]\n",
        "\n",
        "for i in range(max_iter):\n",
        "  A = p * Pt + ((1-p)/n) * e @ e.T\n",
        "  x_new = A.dot(x)\n",
        "\n",
        "  err = np.linalg.norm(x_new - x, ord=1)\n",
        "\n",
        "  if err < tol: \n",
        "    print('converged with tolerance')\n",
        "    break\n",
        "\n",
        "  x = x_new\n",
        "  iter += 1\n",
        "\n",
        "print('reached max iter')\n",
        "\n",
        "\n",
        "############\n",
        "\n",
        "elapsed_time = time.time() - tb\n",
        "\n",
        "print('Iterations Power method : ', str(iter),'. Computing time: ', str(elapsed_time))\n",
        "\n",
        "sort = np.flip(np.argsort(x.T))\n",
        "sort.ravel\n",
        "# print(sort)\n",
        "\n",
        "# Output\n",
        "for i in range(10):\n",
        "  print(\"Node \", str(sort[:,i]), \" has page rank \", str(x[sort[:,i]]))"
      ]
    },
    {
      "cell_type": "code",
      "execution_count": 26,
      "metadata": {},
      "outputs": [
        {
          "name": "stdout",
          "output_type": "stream",
          "text": [
            "(500, 500)\n"
          ]
        }
      ],
      "source": [
        "## Please enter the location of the file you will be testing\n",
        "\n",
        "data = read_mat('harvard500.mat')  ## Select test probem \n",
        "data.keys()\n",
        "print(data[\"G\"].shape)"
      ]
    },
    {
      "cell_type": "code",
      "execution_count": 27,
      "metadata": {},
      "outputs": [
        {
          "name": "stdout",
          "output_type": "stream",
          "text": [
            "Test Problem  >>>> .Number of Nodes -  500\n"
          ]
        }
      ],
      "source": [
        "n = data[\"G\"].shape[0]\n",
        "print(\"Test Problem \", \">>>>\" , \".Number of Nodes - \", str(data[\"G\"].shape[0]))"
      ]
    },
    {
      "cell_type": "code",
      "execution_count": 28,
      "metadata": {},
      "outputs": [],
      "source": [
        "# Construct Pt\n",
        "\n",
        "G = scipy.sparse.csr_matrix(data[\"G\"])\n",
        "c = G.sum(axis=0)                                   # Find the number of nonzeros per column\n",
        "k = np.argwhere(c == 0.0)                           # Find columns with only zeros (dangling nodes)\n",
        "mem = len(k)*n + scipy.sparse.csr_matrix.getnnz(G)  # Number of nonzeros in Pt\n",
        "Pt = scipy.sparse.csr_matrix((n, n)).toarray()      # Allocate space for sparse matrix"
      ]
    },
    {
      "cell_type": "code",
      "execution_count": 29,
      "metadata": {},
      "outputs": [],
      "source": [
        "# Put data into Pt\n",
        "\n",
        "###################\n",
        "\n",
        "Pt = G.copy()\n",
        "\n",
        "###################\n",
        "\n",
        "p = 0.85 # Damping coefficient\n",
        "v = (1/n)*np.ones((n,1))"
      ]
    },
    {
      "cell_type": "code",
      "execution_count": 30,
      "metadata": {},
      "outputs": [
        {
          "name": "stdout",
          "output_type": "stream",
          "text": [
            "reached max iter\n",
            "Iterations Power method :  100 . Computing time:  0.36533665657043457\n",
            "Node  [[328]]  has page rank  [[[2.2429362e+108]]]\n",
            "Node  [[316]]  has page rank  [[[2.1127458e+108]]]\n",
            "Node  [[317]]  has page rank  [[[2.11258823e+108]]]\n",
            "Node  [[324]]  has page rank  [[[2.11258823e+108]]]\n",
            "Node  [[330]]  has page rank  [[[2.11258823e+108]]]\n",
            "Node  [[329]]  has page rank  [[[2.11258823e+108]]]\n",
            "Node  [[326]]  has page rank  [[[2.11258823e+108]]]\n",
            "Node  [[325]]  has page rank  [[[2.11258823e+108]]]\n",
            "Node  [[327]]  has page rank  [[[2.11258823e+108]]]\n",
            "Node  [[323]]  has page rank  [[[2.11258823e+108]]]\n"
          ]
        }
      ],
      "source": [
        "#  Probability vector for teleportations:\n",
        "\n",
        "# Power Method\n",
        "\n",
        "# Initialisation\n",
        "\n",
        "tb = time.time();\n",
        "xo = v;\n",
        "err = 1;\n",
        "iter = 0;\n",
        "\n",
        "# Iteration\n",
        "\n",
        "###########\n",
        "\n",
        "## use varaible name x \n",
        "\n",
        "tol = 1e-6\n",
        "max_iter = 100\n",
        "e = np.ones((n,1))\n",
        "x = xo\n",
        "n = Pt.shape[0]\n",
        "\n",
        "for i in range(max_iter):\n",
        "  A = p * Pt + ((1-p)/n) * e @ e.T\n",
        "  x_new = A.dot(x)\n",
        "\n",
        "  err = np.linalg.norm(x_new - x, ord=1)\n",
        "\n",
        "  if err < tol: \n",
        "    print('converged with tolerance')\n",
        "    break\n",
        "\n",
        "  x = x_new\n",
        "  iter += 1\n",
        "\n",
        "print('reached max iter')\n",
        "\n",
        "\n",
        "############\n",
        "\n",
        "elapsed_time = time.time() - tb\n",
        "\n",
        "print('Iterations Power method : ', str(iter),'. Computing time: ', str(elapsed_time))\n",
        "\n",
        "sort = np.flip(np.argsort(x.T))\n",
        "sort.ravel\n",
        "# print(sort)\n",
        "\n",
        "# Output\n",
        "for i in range(10):\n",
        "  print(\"Node \", str(sort[:,i]), \" has page rank \", str(x[sort[:,i]]))"
      ]
    },
    {
      "cell_type": "markdown",
      "metadata": {
        "id": "kv9b3XJ6XulI"
      },
      "source": [
        "Using Power method, solve for question 2\n"
      ]
    },
    {
      "cell_type": "code",
      "execution_count": null,
      "metadata": {
        "id": "1j2Adf7uaMEL"
      },
      "outputs": [],
      "source": [
        "# Solve (I - p*Pt)*x = (1-p)*v  \n",
        "\n",
        "# Initialisaton \n",
        "\n",
        "\n",
        "tb = time.time();\n",
        "err = 1\n",
        "iter = 0\n",
        "\n",
        "############# \n",
        "\n",
        "# IMPLEMENT YOUR CODE HERE\n",
        "\n",
        "##############\n",
        "\n",
        "time_elpased = time.time() - tb\n",
        "print('Computing time: ', str(elapsed_time))\n",
        "\n",
        "sort = np.flip(np.argsort(x.T))\n",
        "sort.ravel\n",
        "print(x)\n",
        "\n",
        "# Output\n",
        "\n",
        "for i in range(10):\n",
        "  print(\"Node \", str(sort[:,i]), \" has page rank \", str(x[sort[:,i]]))"
      ]
    }
  ],
  "metadata": {
    "colab": {
      "provenance": []
    },
    "kernelspec": {
      "display_name": "FAIP",
      "language": "python",
      "name": "python3"
    },
    "language_info": {
      "codemirror_mode": {
        "name": "ipython",
        "version": 3
      },
      "file_extension": ".py",
      "mimetype": "text/x-python",
      "name": "python",
      "nbconvert_exporter": "python",
      "pygments_lexer": "ipython3",
      "version": "3.12.6"
    }
  },
  "nbformat": 4,
  "nbformat_minor": 0
}
