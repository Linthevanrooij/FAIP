{
  "cells": [
    {
      "cell_type": "markdown",
      "metadata": {
        "colab_type": "text",
        "id": "view-in-github"
      },
      "source": [
        "<a href=\"https://colab.research.google.com/github/Linthevanrooij/FAIP/blob/main/Final_project/02 Dataset val-arou TRAINING/Multi class emotion.ipynb\" target=\"_parent\"><img src=\"https://colab.research.google.com/assets/colab-badge.svg\" alt=\"Open In Colab\"/></a>"
      ]
    },
    {
      "cell_type": "code",
      "execution_count": 1,
      "metadata": {
        "colab": {
          "base_uri": "https://localhost:8080/"
        },
        "id": "HaAcyTYnn0a6",
        "outputId": "335167de-9b93-4f5c-ad1c-794f5af9e073"
      },
      "outputs": [
        {
          "name": "stdout",
          "output_type": "stream",
          "text": [
            "Downloading from https://www.kaggle.com/api/v1/datasets/download/khan1803115/eeg-dataset-for-emotion-recognition?dataset_version_number=1...\n"
          ]
        },
        {
          "name": "stderr",
          "output_type": "stream",
          "text": [
            "100%|██████████| 181M/181M [00:05<00:00, 35.0MB/s]"
          ]
        },
        {
          "name": "stdout",
          "output_type": "stream",
          "text": [
            "Extracting files...\n"
          ]
        },
        {
          "name": "stderr",
          "output_type": "stream",
          "text": [
            "\n"
          ]
        },
        {
          "name": "stdout",
          "output_type": "stream",
          "text": [
            "Data source import complete.\n"
          ]
        }
      ],
      "source": [
        "# IMPORTANT: RUN THIS CELL IN ORDER TO IMPORT YOUR KAGGLE DATA SOURCES,\n",
        "# THEN FEEL FREE TO DELETE THIS CELL.\n",
        "# NOTE: THIS NOTEBOOK ENVIRONMENT DIFFERS FROM KAGGLE'S PYTHON\n",
        "# ENVIRONMENT SO THERE MAY BE MISSING LIBRARIES USED BY YOUR\n",
        "# NOTEBOOK.\n",
        "import kagglehub\n",
        "khan1803115_eeg_dataset_for_emotion_recognition_path = kagglehub.dataset_download('khan1803115/eeg-dataset-for-emotion-recognition')\n",
        "\n",
        "print('Data source import complete.')\n"
      ]
    },
    {
      "cell_type": "markdown",
      "metadata": {
        "id": "llq2pihLn0a8"
      },
      "source": [
        "# **Import Libraries**"
      ]
    },
    {
      "cell_type": "code",
      "execution_count": null,
      "metadata": {
        "execution": {
          "iopub.execute_input": "2024-04-10T08:27:59.406565Z",
          "iopub.status.busy": "2024-04-10T08:27:59.406053Z",
          "iopub.status.idle": "2024-04-10T08:27:59.411273Z",
          "shell.execute_reply": "2024-04-10T08:27:59.410339Z",
          "shell.execute_reply.started": "2024-04-10T08:27:59.406533Z"
        },
        "id": "Xk3bGpVXn0a9",
        "jupyter": {
          "source_hidden": true
        },
        "trusted": true
      },
      "outputs": [],
      "source": [
        "import os\n",
        "import pandas as pd\n",
        "import numpy as np\n",
        "import matplotlib.pyplot as plt\n",
        "import seaborn as sns"
      ]
    },
    {
      "cell_type": "markdown",
      "metadata": {
        "id": "PJCJstomn0a-"
      },
      "source": [
        "# **Read Data**"
      ]
    },
    {
      "cell_type": "code",
      "execution_count": null,
      "metadata": {
        "collapsed": true,
        "execution": {
          "iopub.execute_input": "2024-04-10T09:09:20.306123Z",
          "iopub.status.busy": "2024-04-10T09:09:20.305285Z",
          "iopub.status.idle": "2024-04-10T09:09:29.065544Z",
          "shell.execute_reply": "2024-04-10T09:09:29.064635Z",
          "shell.execute_reply.started": "2024-04-10T09:09:20.306092Z"
        },
        "id": "8eAlGGQnn0a_",
        "jupyter": {
          "outputs_hidden": true,
          "source_hidden": true
        },
        "trusted": true
      },
      "outputs": [],
      "source": [
        "\n",
        "# Directory containing the CSV files\n",
        "directory = '/kaggle/input/eeg-dataset-for-emotion-recognition/Data/'\n",
        "\n",
        "# Initialize lists to store EEG channels and labels\n",
        "all_eeg_channels = []\n",
        "all_labels = []\n",
        "\n",
        "# Iterate over each file in the directory\n",
        "for filename in os.listdir(directory):\n",
        "    if filename.endswith(\".csv\"):\n",
        "        file_path = os.path.join(directory, filename)\n",
        "        print(file_path)\n",
        "        # Read the CSV file\n",
        "        data = pd.read_csv(file_path)\n",
        "\n",
        "        # Select the EEG channels columns\n",
        "        eeg_channels = data[['AF3', 'AF4', 'F3', 'F4', 'F7', 'F8', 'FC5', 'FC6', 'O1', 'O2', 'P7', 'P8', 'T7', 'T8']][:-2]\n",
        "\n",
        "        # Select the valence and arousal columns\n",
        "        labels = data[['valence', 'arousal']].iloc[0]\n",
        "\n",
        "        # Convert EEG channels and labels to arrays and store them\n",
        "        all_eeg_channels.append(eeg_channels.values)\n",
        "        all_labels.append(labels.values)\n",
        "\n",
        "# Convert lists to arrays\n",
        "all_eeg_channels_array = np.array(all_eeg_channels)\n",
        "all_labels_array = np.array(all_labels)\n",
        "\n",
        "# Print the shapes of the arrays\n",
        "print(\"All EEG Channels Array Shape:\", all_eeg_channels_array.shape)\n",
        "print(\"All Labels Array Shape:\", all_labels_array.shape)\n"
      ]
    },
    {
      "cell_type": "code",
      "execution_count": null,
      "metadata": {
        "collapsed": true,
        "execution": {
          "iopub.execute_input": "2024-04-10T09:09:34.005811Z",
          "iopub.status.busy": "2024-04-10T09:09:34.005201Z",
          "iopub.status.idle": "2024-04-10T09:09:34.014607Z",
          "shell.execute_reply": "2024-04-10T09:09:34.013699Z",
          "shell.execute_reply.started": "2024-04-10T09:09:34.005781Z"
        },
        "id": "u110KYbmn0bA",
        "jupyter": {
          "outputs_hidden": true,
          "source_hidden": true
        },
        "trusted": true
      },
      "outputs": [],
      "source": [
        "def map_labels(valence, arousal):\n",
        "    if valence <= 2.5 and arousal <= 2.5:\n",
        "        return 0  # Low valence, low arousal\n",
        "    elif valence <= 2.5 and arousal > 2.5:\n",
        "        return 1  # Low valence, high arousal\n",
        "    elif valence > 2.5 and arousal <= 2.5:\n",
        "        return 2  # High valence, low arousal\n",
        "    else:\n",
        "        return 3  # High valence, high arousal\n",
        "\n",
        "# Example usage:\n",
        "labels_mapped = np.array([map_labels(valence, arousal) for valence, arousal in all_labels_array])\n",
        "labels_mapped"
      ]
    },
    {
      "cell_type": "markdown",
      "metadata": {
        "id": "nhGoGia1n0bC"
      },
      "source": [
        "**Check Shape and Data Types:** Verify the shape and data types of the arrays.\n",
        "\n",
        "**Summary Statistics:** Calculate basic summary statistics such as mean, median, minimum, maximum, and standard deviation for EEG channels.\n",
        "\n",
        "**Visualization:** Plot histograms or boxplots for each EEG channel to understand their distributions.\n",
        "\n",
        "**Correlation Analysis:** Compute correlation coefficients between EEG channels and visualize them using a heatmap.\n",
        "\n",
        "**Label Analysis:** Plot histograms or boxplots for valence and arousal labels to understand their distributions.\n",
        "\n",
        "**Label Correlation:** Compute correlation between valence and arousal labels.\n",
        "\n",
        "**Feature Engineering:** Explore potential feature engineering techniques such as Fourier transforms, wavelet transforms, or other signal processing methods.\n",
        "\n",
        "**Outlier Detection:** Detect and handle outliers if present in the data."
      ]
    },
    {
      "cell_type": "code",
      "execution_count": null,
      "metadata": {
        "collapsed": true,
        "execution": {
          "iopub.execute_input": "2024-04-09T15:35:32.103729Z",
          "iopub.status.busy": "2024-04-09T15:35:32.103385Z",
          "iopub.status.idle": "2024-04-09T15:35:34.004844Z",
          "shell.execute_reply": "2024-04-09T15:35:34.00393Z",
          "shell.execute_reply.started": "2024-04-09T15:35:32.103702Z"
        },
        "id": "raLqYRXyn0bD",
        "jupyter": {
          "outputs_hidden": true,
          "source_hidden": true
        },
        "trusted": true
      },
      "outputs": [],
      "source": [
        "# 1. Check Shape and Data Types\n",
        "print(\"All EEG Channels Array Shape:\", all_eeg_channels_array.shape)\n",
        "print(\"All Labels Array Shape:\", all_labels_array.shape)\n",
        "print(\"Data Type of EEG Channels Array:\", all_eeg_channels_array.dtype)\n",
        "print(\"Data Type of Labels Array:\", all_labels_array.dtype)\n",
        "\n",
        "# 2. Summary Statistics\n",
        "eeg_summary = np.hstack((np.mean(all_eeg_channels_array, axis=1), np.median(all_eeg_channels_array, axis=1),\n",
        "                         np.min(all_eeg_channels_array, axis=1), np.max(all_eeg_channels_array, axis=1),\n",
        "                         np.std(all_eeg_channels_array, axis=1)))\n",
        "print(\"Summary Statistics for EEG Channels:\")\n",
        "print(\"Mean, Median, Min, Max, Std Dev\")\n",
        "print(eeg_summary)"
      ]
    },
    {
      "cell_type": "code",
      "execution_count": null,
      "metadata": {
        "collapsed": true,
        "execution": {
          "iopub.execute_input": "2024-04-09T06:10:03.255113Z",
          "iopub.status.busy": "2024-04-09T06:10:03.254766Z",
          "iopub.status.idle": "2024-04-09T06:10:09.805511Z",
          "shell.execute_reply": "2024-04-09T06:10:09.804372Z",
          "shell.execute_reply.started": "2024-04-09T06:10:03.255085Z"
        },
        "id": "eZf9LLN0n0bE",
        "jupyter": {
          "outputs_hidden": true,
          "source_hidden": true
        },
        "trusted": true
      },
      "outputs": [],
      "source": [
        "channel_names = ['AF3', 'AF4', 'F3', 'F4', 'F7', 'F8', 'FC5', 'FC6', 'O1', 'O2', 'P7', 'P8', 'T7', 'T8']\n",
        "# 3. Visualization\n",
        "plt.figure(figsize=(12, 8))\n",
        "for i in range(all_eeg_channels_array.shape[2]):\n",
        "    plt.subplot(4, 4, i+1)\n",
        "    plt.hist(all_eeg_channels_array[:,:,i].flatten(), bins=50, color='skyblue', alpha=0.7)\n",
        "    plt.title(f\"{channel_names[i]} Channel Histogram\")\n",
        "    plt.xlabel(\"Value\")\n",
        "    plt.ylabel(\"Frequency\")\n",
        "plt.tight_layout()\n",
        "plt.show()"
      ]
    },
    {
      "cell_type": "code",
      "execution_count": null,
      "metadata": {
        "collapsed": true,
        "execution": {
          "iopub.execute_input": "2024-04-10T08:38:58.315318Z",
          "iopub.status.busy": "2024-04-10T08:38:58.314516Z",
          "iopub.status.idle": "2024-04-10T08:38:58.321244Z",
          "shell.execute_reply": "2024-04-10T08:38:58.320387Z",
          "shell.execute_reply.started": "2024-04-10T08:38:58.315289Z"
        },
        "id": "bv_xCUevn0bG",
        "jupyter": {
          "outputs_hidden": true,
          "source_hidden": true
        },
        "trusted": true
      },
      "outputs": [],
      "source": [
        "'''\n",
        "# 4. Visualization - Boxplot\n",
        "plt.figure(figsize=(12, 8))\n",
        "sns.set(style=\"whitegrid\")\n",
        "for i in range(all_eeg_channels_array.shape[2]):\n",
        "    plt.subplot(4, 4, i+1)\n",
        "    sns.boxplot(data=all_eeg_channels_array[:, :, i], color='skyblue')\n",
        "    plt.title(f\"{channel_names[i]} Channel Boxplot\")\n",
        "    plt.xlabel(\"EEG Channels\")\n",
        "    plt.ylabel(\"Value\")\n",
        "plt.tight_layout()\n",
        "plt.show()\n",
        "'''"
      ]
    },
    {
      "cell_type": "code",
      "execution_count": null,
      "metadata": {
        "collapsed": true,
        "execution": {
          "iopub.execute_input": "2024-04-09T06:21:40.13021Z",
          "iopub.status.busy": "2024-04-09T06:21:40.129537Z",
          "iopub.status.idle": "2024-04-09T06:21:41.147759Z",
          "shell.execute_reply": "2024-04-09T06:21:41.146793Z",
          "shell.execute_reply.started": "2024-04-09T06:21:40.130176Z"
        },
        "id": "NraUkW8On0bG",
        "jupyter": {
          "outputs_hidden": true,
          "source_hidden": true
        },
        "trusted": true
      },
      "outputs": [],
      "source": [
        "# Reduce the sample size for correlation analysis\n",
        "sample_size = 1  # Sample size is now 1\n",
        "sample_data = all_eeg_channels_array[0]  # Take the first sample\n",
        "\n",
        "# Calculate correlation matrix for the sample data\n",
        "corr_matrix = np.corrcoef(sample_data.T)\n",
        "\n",
        "# Plot correlation matrix\n",
        "plt.figure(figsize=(10, 8))\n",
        "sns.heatmap(corr_matrix, cmap='coolwarm', annot=True, fmt=\".2f\",\n",
        "            xticklabels=['AF3', 'AF4', 'F3', 'F4', 'F7', 'F8', 'FC5', 'FC6', 'O1', 'O2', 'P7', 'P8', 'T7', 'T8'],\n",
        "            yticklabels=['AF3', 'AF4', 'F3', 'F4', 'F7', 'F8', 'FC5', 'FC6', 'O1', 'O2', 'P7', 'P8', 'T7', 'T8'])\n",
        "plt.title(\"Correlation Matrix of EEG Channels (Single Sample)\")\n",
        "plt.xlabel(\"EEG Channels\")\n",
        "plt.ylabel(\"EEG Channels\")\n",
        "plt.show()\n"
      ]
    },
    {
      "cell_type": "code",
      "execution_count": null,
      "metadata": {
        "collapsed": true,
        "execution": {
          "iopub.execute_input": "2024-04-09T06:23:25.317372Z",
          "iopub.status.busy": "2024-04-09T06:23:25.316637Z",
          "iopub.status.idle": "2024-04-09T06:23:26.660587Z",
          "shell.execute_reply": "2024-04-09T06:23:26.659672Z",
          "shell.execute_reply.started": "2024-04-09T06:23:25.317339Z"
        },
        "id": "Yx3VtC4yn0bH",
        "jupyter": {
          "outputs_hidden": true,
          "source_hidden": true
        },
        "trusted": true
      },
      "outputs": [],
      "source": [
        "# Calculate correlation matrices for all samples\n",
        "cor_matrices = np.array([np.corrcoef(sample.T) for sample in all_eeg_channels_array])\n",
        "\n",
        "# Stack correlation matrices along a new dimension\n",
        "stacked_cor_matrices = np.stack(cor_matrices, axis=2)\n",
        "\n",
        "# Take the mean along the new dimension to get the average correlation matrix\n",
        "average_cor_matrix = np.mean(stacked_cor_matrices, axis=2)\n",
        "\n",
        "# Plot the average correlation matrix\n",
        "plt.figure(figsize=(10, 8))\n",
        "sns.heatmap(average_cor_matrix, cmap='coolwarm', annot=True, fmt=\".2f\",\n",
        "            xticklabels=['AF3', 'AF4', 'F3', 'F4', 'F7', 'F8', 'FC5', 'FC6', 'O1', 'O2', 'P7', 'P8', 'T7', 'T8'],\n",
        "            yticklabels=['AF3', 'AF4', 'F3', 'F4', 'F7', 'F8', 'FC5', 'FC6', 'O1', 'O2', 'P7', 'P8', 'T7', 'T8'])\n",
        "plt.title(\"Average Correlation Matrix of EEG Channels\")\n",
        "plt.xlabel(\"EEG Channels\")\n",
        "plt.ylabel(\"EEG Channels\")\n",
        "plt.show()\n"
      ]
    },
    {
      "cell_type": "code",
      "execution_count": null,
      "metadata": {
        "collapsed": true,
        "execution": {
          "iopub.execute_input": "2024-04-09T06:17:03.333787Z",
          "iopub.status.busy": "2024-04-09T06:17:03.333156Z",
          "iopub.status.idle": "2024-04-09T06:17:04.069618Z",
          "shell.execute_reply": "2024-04-09T06:17:04.068391Z",
          "shell.execute_reply.started": "2024-04-09T06:17:03.333751Z"
        },
        "id": "DAoXMymun0bH",
        "jupyter": {
          "outputs_hidden": true,
          "source_hidden": true
        },
        "trusted": true
      },
      "outputs": [],
      "source": [
        "# 5. Label Analysis\n",
        "plt.figure(figsize=(10, 4))\n",
        "plt.subplot(1, 2, 1)\n",
        "plt.hist(all_labels_array[:,0], bins=20, color='skyblue', alpha=0.7)\n",
        "plt.title(\"Valence Histogram\")\n",
        "plt.xlabel(\"Valence\")\n",
        "plt.ylabel(\"Frequency\")\n",
        "\n",
        "plt.subplot(1, 2, 2)\n",
        "plt.hist(all_labels_array[:,1], bins=20, color='salmon', alpha=0.7)\n",
        "plt.title(\"Arousal Histogram\")\n",
        "plt.xlabel(\"Arousal\")\n",
        "plt.ylabel(\"Frequency\")\n",
        "plt.tight_layout()\n",
        "plt.show()\n"
      ]
    },
    {
      "cell_type": "code",
      "execution_count": null,
      "metadata": {
        "collapsed": true,
        "execution": {
          "iopub.execute_input": "2024-04-09T06:17:20.856695Z",
          "iopub.status.busy": "2024-04-09T06:17:20.855819Z",
          "iopub.status.idle": "2024-04-09T06:17:21.174181Z",
          "shell.execute_reply": "2024-04-09T06:17:21.173291Z",
          "shell.execute_reply.started": "2024-04-09T06:17:20.85666Z"
        },
        "id": "U3xoOeqLn0bI",
        "jupyter": {
          "outputs_hidden": true,
          "source_hidden": true
        },
        "trusted": true
      },
      "outputs": [],
      "source": [
        "\n",
        "# 6. Label Correlation\n",
        "#label_corr = np.corrcoef(all_labels_array[:,0], all_labels_array[:,1])\n",
        "#print(\"Correlation between Valence and Arousal Labels:\", label_corr)\n",
        "import seaborn as sns\n",
        "\n",
        "# Calculate the correlation matrix\n",
        "label_corr_matrix = np.corrcoef(all_labels_array[:,0], all_labels_array[:,1])\n",
        "\n",
        "# Plot the heatmap\n",
        "plt.figure(figsize=(8, 6))\n",
        "sns.heatmap(label_corr_matrix, cmap='coolwarm', annot=True, fmt=\".2f\")\n",
        "plt.title(\"Correlation between Valence and Arousal Labels\")\n",
        "plt.xlabel(\"Valence\")\n",
        "plt.ylabel(\"Arousal\")\n",
        "plt.show()\n"
      ]
    },
    {
      "cell_type": "code",
      "execution_count": null,
      "metadata": {
        "collapsed": true,
        "execution": {
          "iopub.execute_input": "2024-04-09T06:25:07.978451Z",
          "iopub.status.busy": "2024-04-09T06:25:07.977333Z",
          "iopub.status.idle": "2024-04-09T06:25:14.948386Z",
          "shell.execute_reply": "2024-04-09T06:25:14.947514Z",
          "shell.execute_reply.started": "2024-04-09T06:25:07.978406Z"
        },
        "id": "M1W1j2tcn0bI",
        "jupyter": {
          "outputs_hidden": true,
          "source_hidden": true
        },
        "trusted": true
      },
      "outputs": [],
      "source": [
        "# 3. Visualization: Data Distribution\n",
        "plt.figure(figsize=(12, 8))\n",
        "for i in range(all_eeg_channels_array.shape[2]):\n",
        "    plt.subplot(4, 4, i+1)\n",
        "    plt.hist(all_eeg_channels_array[:, :, i].flatten(), bins=50, color='skyblue', alpha=0.7)\n",
        "    plt.title(f\"{channel_names[i]} Channel Distribution\")\n",
        "    plt.xlabel(\"Value\")\n",
        "    plt.ylabel(\"Frequency\")\n",
        "plt.tight_layout()\n",
        "plt.show()\n"
      ]
    },
    {
      "cell_type": "code",
      "execution_count": null,
      "metadata": {
        "collapsed": true,
        "execution": {
          "iopub.execute_input": "2024-04-09T06:26:16.584927Z",
          "iopub.status.busy": "2024-04-09T06:26:16.584383Z",
          "iopub.status.idle": "2024-04-09T06:28:39.65314Z",
          "shell.execute_reply": "2024-04-09T06:28:39.652228Z",
          "shell.execute_reply.started": "2024-04-09T06:26:16.584897Z"
        },
        "id": "YOySj9oCn0bJ",
        "jupyter": {
          "outputs_hidden": true,
          "source_hidden": true
        },
        "trusted": true
      },
      "outputs": [],
      "source": [
        "# Plot violin plot\n",
        "plt.figure(figsize=(12, 8))\n",
        "sns.violinplot(data=all_eeg_channels_array.reshape(-1, all_eeg_channels_array.shape[-1]),\n",
        "               palette='muted', inner='point')\n",
        "plt.title('Distribution of EEG Data Across Channels')\n",
        "plt.xlabel('Channels')\n",
        "plt.ylabel('EEG Data')\n",
        "plt.xticks(ticks=np.arange(all_eeg_channels_array.shape[-1]), labels=channel_names)\n",
        "plt.show()"
      ]
    },
    {
      "cell_type": "code",
      "execution_count": null,
      "metadata": {
        "collapsed": true,
        "execution": {
          "iopub.execute_input": "2024-04-10T10:04:49.475094Z",
          "iopub.status.busy": "2024-04-10T10:04:49.474734Z",
          "iopub.status.idle": "2024-04-10T10:04:58.464815Z",
          "shell.execute_reply": "2024-04-10T10:04:58.463855Z",
          "shell.execute_reply.started": "2024-04-10T10:04:49.475065Z"
        },
        "id": "5ri0keAyn0bJ",
        "jupyter": {
          "outputs_hidden": true,
          "source_hidden": true
        },
        "trusted": true
      },
      "outputs": [],
      "source": [
        "import os\n",
        "\n",
        "# Directory containing the CSV files\n",
        "directory = '/kaggle/input/eeg-dataset-for-emotion-recognition/Data/'\n",
        "\n",
        "# Initialize lists to store reshaped EEG channels and labels\n",
        "all_reshaped_channels = []\n",
        "all_labels = []\n",
        "\n",
        "# Iterate over each file in the directory\n",
        "for filename in os.listdir(directory):\n",
        "    if filename.endswith(\".csv\"):\n",
        "        file_path = os.path.join(directory, filename)\n",
        "        print(file_path)\n",
        "\n",
        "        # Read the CSV file\n",
        "        data = pd.read_csv(file_path)\n",
        "\n",
        "        # Select the EEG channels columns and the first 38250 samples\n",
        "        eeg_channels = data[['AF3', 'AF4', 'F3', 'F4', 'F7', 'F8', 'FC5', 'FC6', 'O1', 'O2', 'P7', 'P8', 'T7', 'T8']][:38250]\n",
        "\n",
        "        # Define the number of segments\n",
        "        num_segments = 6\n",
        "\n",
        "        # Calculate the segment size\n",
        "        segment_size = eeg_channels.shape[0] // num_segments\n",
        "\n",
        "        # Define the number of subsegments\n",
        "        num_subsegments = 5\n",
        "\n",
        "        # Calculate the subsegment size\n",
        "        subsegment_size = segment_size // num_subsegments\n",
        "\n",
        "        # Reshape the EEG channels data into segments and subsegments\n",
        "        reshaped_channels = eeg_channels.values.reshape(1, num_segments, eeg_channels.shape[1], num_subsegments, subsegment_size)\n",
        "\n",
        "        # Select the first 6 rows for labels\n",
        "        labels = data[['valence', 'arousal']][:6].values.reshape(1, 6, -1)\n",
        "\n",
        "        # Append the reshaped EEG channels and labels to the lists\n",
        "        all_reshaped_channels.append(reshaped_channels)\n",
        "        all_labels.append(labels)\n",
        "\n",
        "# Convert lists to arrays\n",
        "all_reshaped_channels_array = np.concatenate(all_reshaped_channels, axis=0)\n",
        "all_labels_array = np.concatenate(all_labels, axis=0)\n",
        "\n",
        "# Print the shapes of the arrays\n",
        "print(\"All Reshaped EEG Channels Array Shape:\", all_reshaped_channels_array.shape)\n",
        "print(\"All Labels Array Shape:\", all_labels_array.shape)\n"
      ]
    },
    {
      "cell_type": "code",
      "execution_count": null,
      "metadata": {
        "execution": {
          "iopub.execute_input": "2024-04-10T10:43:07.712528Z",
          "iopub.status.busy": "2024-04-10T10:43:07.711783Z",
          "iopub.status.idle": "2024-04-10T10:43:07.718365Z",
          "shell.execute_reply": "2024-04-10T10:43:07.717548Z",
          "shell.execute_reply.started": "2024-04-10T10:43:07.712481Z"
        },
        "id": "1v82Tv31n0bJ",
        "trusted": true
      },
      "outputs": [],
      "source": [
        "#3d\n",
        "# Reshape the EEG channels array\n",
        "reshaped_channels_array = all_reshaped_channels_array.reshape(-1, all_reshaped_channels_array.shape[2],\n",
        "                                                            all_reshaped_channels_array.shape[3],\n",
        "                                                            all_reshaped_channels_array.shape[4])\n",
        "\n",
        "# Reshape the labels array\n",
        "reshaped_labels_array = all_labels_array.reshape(-1, all_labels_array.shape[2])\n",
        "\n",
        "# Print the shapes of the reshaped arrays\n",
        "print(\"Reshaped EEG Channels Array Shape:\", reshaped_channels_array.shape)\n",
        "print(\"Reshaped Labels Array Shape:\", reshaped_labels_array.shape)\n"
      ]
    },
    {
      "cell_type": "code",
      "execution_count": null,
      "metadata": {
        "execution": {
          "iopub.execute_input": "2024-04-10T11:12:15.047978Z",
          "iopub.status.busy": "2024-04-10T11:12:15.047026Z",
          "iopub.status.idle": "2024-04-10T11:12:15.059433Z",
          "shell.execute_reply": "2024-04-10T11:12:15.05856Z",
          "shell.execute_reply.started": "2024-04-10T11:12:15.047942Z"
        },
        "id": "AMlgbGg0n0bJ",
        "trusted": true
      },
      "outputs": [],
      "source": [
        "#3d\n",
        "def map_labels(valence, arousal):\n",
        "    if valence <= 2.5 and arousal <= 2.5:\n",
        "        return 0  # Low valence, low arousal\n",
        "    elif valence <= 2.5 and arousal > 2.5:\n",
        "        return 1  # Low valence, high arousal\n",
        "    elif valence > 2.5 and arousal <= 2.5:\n",
        "        return 2  # High valence, low arousal\n",
        "    else:\n",
        "        return 3  # High valence, high arousal\n",
        "\n",
        "# Example usage:\n",
        "reshaped_labels_mapped = np.array([map_labels(valence, arousal) for valence, arousal in reshaped_labels_array])\n",
        "reshaped_labels_mapped"
      ]
    },
    {
      "cell_type": "markdown",
      "metadata": {
        "id": "3DGO-Cuin0bJ"
      },
      "source": [
        "# Preprocessing"
      ]
    },
    {
      "cell_type": "markdown",
      "metadata": {
        "id": "R-FAr6g9n0bK"
      },
      "source": [
        "**Filtering**"
      ]
    },
    {
      "cell_type": "code",
      "execution_count": null,
      "metadata": {
        "collapsed": true,
        "execution": {
          "iopub.execute_input": "2024-04-10T09:09:45.618476Z",
          "iopub.status.busy": "2024-04-10T09:09:45.618122Z",
          "iopub.status.idle": "2024-04-10T09:09:57.054412Z",
          "shell.execute_reply": "2024-04-10T09:09:57.053548Z",
          "shell.execute_reply.started": "2024-04-10T09:09:45.618448Z"
        },
        "id": "GXmeynT_n0bK",
        "jupyter": {
          "outputs_hidden": true,
          "source_hidden": true
        },
        "trusted": true
      },
      "outputs": [],
      "source": [
        "from scipy.signal import butter, filtfilt\n",
        "channel_names = ['AF3', 'AF4', 'F3', 'F4', 'F7', 'F8', 'FC5', 'FC6', 'O1', 'O2', 'P7', 'P8', 'T7', 'T8']\n",
        "\n",
        "# Define filter parameters\n",
        "lowcut = 0.5  # Lower cutoff frequency in Hz\n",
        "highcut = 45  # Upper cutoff frequency in Hz\n",
        "fs = 128      # Sampling frequency in Hz\n",
        "order = 4     # Filter order\n",
        "\n",
        "# Function to create Butterworth bandpass filter coefficients\n",
        "def butter_bandpass(lowcut, highcut, fs, order=4):\n",
        "    nyquist = 0.5 * fs\n",
        "    low = lowcut / nyquist\n",
        "    high = highcut / nyquist\n",
        "    b, a = butter(order, [low, high], btype='band')\n",
        "    return b, a\n",
        "\n",
        "# Function to apply the Butterworth bandpass filter\n",
        "def butter_bandpass_filter(data, lowcut, highcut, fs, order=4):\n",
        "    b, a = butter_bandpass(lowcut, highcut, fs, order=order)\n",
        "    filtered_data = filtfilt(b, a, data)\n",
        "    return filtered_data\n",
        "\n",
        "# Apply the filter to each EEG channel\n",
        "filtered_data = np.zeros_like(all_eeg_channels_array)\n",
        "for i in range(all_eeg_channels_array.shape[2]):\n",
        "    filtered_data[:,:,i] = butter_bandpass_filter(all_eeg_channels_array[:,:,i], lowcut, highcut, fs, order)\n",
        "\n",
        "# Visualize the filtered data\n",
        "plt.figure(figsize=(12, 8))\n",
        "for i in range(filtered_data.shape[2]):\n",
        "    plt.subplot(4, 4, i+1)\n",
        "    plt.plot(filtered_data[:,:,i].flatten(), color='skyblue')\n",
        "    plt.title(f\"{channel_names[i]} Channel (Filtered)\")\n",
        "    plt.xlabel(\"Time\")\n",
        "    plt.ylabel(\"Amplitude\")\n",
        "plt.tight_layout()\n",
        "plt.show()\n"
      ]
    },
    {
      "cell_type": "markdown",
      "metadata": {
        "id": "jGwiNCF6n0bM"
      },
      "source": [
        "# 3d Filter"
      ]
    },
    {
      "cell_type": "code",
      "execution_count": null,
      "metadata": {
        "collapsed": true,
        "execution": {
          "iopub.execute_input": "2024-04-10T10:13:37.520707Z",
          "iopub.status.busy": "2024-04-10T10:13:37.519408Z",
          "iopub.status.idle": "2024-04-10T10:14:01.520301Z",
          "shell.execute_reply": "2024-04-10T10:14:01.519451Z",
          "shell.execute_reply.started": "2024-04-10T10:13:37.520656Z"
        },
        "id": "oX3s01Myn0bM",
        "jupyter": {
          "outputs_hidden": true,
          "source_hidden": true
        },
        "trusted": true
      },
      "outputs": [],
      "source": [
        "from scipy.signal import butter, filtfilt\n",
        "\n",
        "# Define filter parameters\n",
        "lowcut = 0.5  # Lower cutoff frequency in Hz\n",
        "highcut = 45  # Upper cutoff frequency in Hz\n",
        "fs = 128      # Sampling frequency in Hz\n",
        "order = 4     # Filter order\n",
        "\n",
        "# Function to create Butterworth bandpass filter coefficients\n",
        "def butter_bandpass(lowcut, highcut, fs, order=4):\n",
        "    nyquist = 0.5 * fs\n",
        "    low = lowcut / nyquist\n",
        "    high = highcut / nyquist\n",
        "    b, a = butter(order, [low, high], btype='band')\n",
        "    return b, a\n",
        "\n",
        "# Function to apply the Butterworth bandpass filter to a 3D array\n",
        "def butter_bandpass_filter_3d(data, lowcut, highcut, fs, order=4):\n",
        "    filtered_data = np.zeros_like(data)\n",
        "    for i in range(data.shape[0]):\n",
        "        for j in range(data.shape[1]):\n",
        "            b, a = butter_bandpass(lowcut, highcut, fs, order=order)\n",
        "            filtered_data[i, j, :, :] = filtfilt(b, a, data[i, j, :, :])\n",
        "    return filtered_data\n",
        "\n",
        "# Apply the filter to the EEG channels data\n",
        "filtered_data = butter_bandpass_filter_3d(reshaped_channels_array, lowcut, highcut, fs, order)\n",
        "\n",
        "# Visualize the filtered data for each channel\n",
        "plt.figure(figsize=(12, 8))\n",
        "for i in range(filtered_data.shape[1]):\n",
        "    for j in range(filtered_data.shape[2]):\n",
        "        plt.subplot(14, 5, i*5 + j + 1)\n",
        "        plt.plot(filtered_data[0, i, j, :].flatten(), color='skyblue')\n",
        "        plt.title(f\"{channel_names[i]} Channel (Filtered)\")\n",
        "        plt.xlabel(\"Time\")\n",
        "        plt.ylabel(\"Amplitude\")\n",
        "plt.tight_layout()\n",
        "plt.show()\n",
        "\n"
      ]
    },
    {
      "cell_type": "code",
      "execution_count": null,
      "metadata": {
        "execution": {
          "iopub.execute_input": "2024-04-10T09:10:07.651279Z",
          "iopub.status.busy": "2024-04-10T09:10:07.650437Z",
          "iopub.status.idle": "2024-04-10T09:10:07.660545Z",
          "shell.execute_reply": "2024-04-10T09:10:07.659524Z",
          "shell.execute_reply.started": "2024-04-10T09:10:07.651251Z"
        },
        "id": "W8O4lJyMn0bM",
        "jupyter": {
          "source_hidden": true
        },
        "trusted": true
      },
      "outputs": [],
      "source": [
        "#no need after 3d reading\n",
        "filtered_data_reshaped = filtered_data.transpose(0, 2, 1)\n",
        "print(\"Reshaped Filtered Data Shape:\", filtered_data_reshaped.shape)\n",
        "\n",
        "filtered_data.shape"
      ]
    },
    {
      "cell_type": "code",
      "execution_count": null,
      "metadata": {
        "execution": {
          "iopub.execute_input": "2024-04-10T10:14:31.086968Z",
          "iopub.status.busy": "2024-04-10T10:14:31.086632Z",
          "iopub.status.idle": "2024-04-10T10:14:31.093078Z",
          "shell.execute_reply": "2024-04-10T10:14:31.092113Z",
          "shell.execute_reply.started": "2024-04-10T10:14:31.086932Z"
        },
        "id": "v9VRXdaUn0bN",
        "jupyter": {
          "source_hidden": true
        },
        "trusted": true
      },
      "outputs": [],
      "source": [
        "#no need after 3d reading\n",
        "import numpy as np\n",
        "\n",
        "# Assuming filtered_data is your original data with shape (100, 14, 38252)\n",
        "reshaped_filtered_data = filtered_data.reshape(100, 14, 6, 6375)\n",
        "reshaped_filtered_data = reshaped_filtered_data.transpose(0, 2, 1, 3)\n",
        "# Check the shape of the reshaped data\n",
        "print(\"Reshaped Filtered Data Shape:\", reshaped_filtered_data.shape)\n",
        "\n"
      ]
    },
    {
      "cell_type": "code",
      "execution_count": null,
      "metadata": {
        "id": "fWFoPtW5n0bN"
      },
      "outputs": [],
      "source": []
    },
    {
      "cell_type": "markdown",
      "metadata": {
        "id": "PxTRsQyun0bN"
      },
      "source": [
        "# Feature Extraction"
      ]
    },
    {
      "cell_type": "code",
      "execution_count": null,
      "metadata": {
        "collapsed": true,
        "execution": {
          "iopub.execute_input": "2024-04-10T10:16:43.950334Z",
          "iopub.status.busy": "2024-04-10T10:16:43.949894Z",
          "iopub.status.idle": "2024-04-10T10:16:43.95888Z",
          "shell.execute_reply": "2024-04-10T10:16:43.957862Z",
          "shell.execute_reply.started": "2024-04-10T10:16:43.950297Z"
        },
        "id": "BAYrDYFAn0bN",
        "jupyter": {
          "outputs_hidden": true,
          "source_hidden": true
        },
        "trusted": true
      },
      "outputs": [],
      "source": [
        "'''import numpy as np\n",
        "from scipy.stats import entropy\n",
        "\n",
        "# Define the number of segments\n",
        "num_segments = 6\n",
        "\n",
        "# Define a function to compute differential entropy for a given EEG channel\n",
        "def compute_differential_entropy(channel_data):\n",
        "    # Estimate probability density function using histogram-based method\n",
        "    hist, bin_edges = np.histogram(channel_data, bins='auto', density=True)\n",
        "\n",
        "    # Compute entropy\n",
        "    entropy_value = entropy(hist, base=2)  # Use base 2 for entropy calculation\n",
        "\n",
        "    return entropy_value\n",
        "\n",
        "# Compute differential entropy for each segment in the dataset\n",
        "num_samples = filtered_data.shape[0]\n",
        "num_channels = filtered_data.shape[2]\n",
        "segment_size = filtered_data.shape[1] // num_segments\n",
        "\n",
        "differential_entropy_features = []\n",
        "\n",
        "for sample_idx in range(num_samples):\n",
        "    sample_segment_entropy = []\n",
        "\n",
        "    for segment_idx in range(num_segments):\n",
        "        segment_entropy = []\n",
        "\n",
        "        # Calculate start and end indices for the segment\n",
        "        start_idx = segment_idx * segment_size\n",
        "        end_idx = start_idx + segment_size\n",
        "\n",
        "        for i in range(num_channels):\n",
        "            channel_data = filtered_data[sample_idx, start_idx:end_idx, i]\n",
        "            channel_segment_entropy = []\n",
        "            for point_idx in range(len(channel_data)):\n",
        "                point_data = channel_data[point_idx]\n",
        "                entropy_value = compute_differential_entropy(point_data)\n",
        "                channel_segment_entropy.append(entropy_value)\n",
        "\n",
        "            segment_entropy.append(channel_segment_entropy)\n",
        "\n",
        "        sample_segment_entropy.append(segment_entropy)\n",
        "\n",
        "    differential_entropy_features.append(sample_segment_entropy)\n",
        "\n",
        "# Convert the list to a numpy array\n",
        "differential_entropy_features = np.array(differential_entropy_features)\n",
        "\n",
        "# Print the shapes of the features and labels\n",
        "print(\"Differential Entropy Features Shape:\", differential_entropy_features.shape)\n",
        "print(\"Labels Shape:\", all_labels_array.shape)\n",
        "'''\n"
      ]
    },
    {
      "cell_type": "code",
      "execution_count": null,
      "metadata": {
        "execution": {
          "iopub.execute_input": "2024-04-09T06:55:47.284321Z",
          "iopub.status.busy": "2024-04-09T06:55:47.283627Z",
          "iopub.status.idle": "2024-04-09T06:55:50.583375Z",
          "shell.execute_reply": "2024-04-09T06:55:50.582213Z",
          "shell.execute_reply.started": "2024-04-09T06:55:47.284289Z"
        },
        "id": "eMJJl2U9n0bN",
        "jupyter": {
          "source_hidden": true
        },
        "trusted": true
      },
      "outputs": [],
      "source": [
        "import numpy as np\n",
        "from scipy.stats import entropy\n",
        "\n",
        "# Assuming you have filtered EEG data stored in filtered_data variable\n",
        "# Assuming labels are stored in all_labels_array variable\n",
        "\n",
        "# Define a function to compute differential entropy for a given EEG channel\n",
        "def compute_differential_entropy(channel_data):\n",
        "    # Estimate probability density function using histogram-based method\n",
        "    hist, bin_edges = np.histogram(channel_data, bins='auto', density=True)\n",
        "\n",
        "    # Compute entropy\n",
        "    entropy_value = entropy(hist, base=2)  # Use base 2 for entropy calculation\n",
        "\n",
        "    return entropy_value\n",
        "\n",
        "# Compute differential entropy for each sample in the dataset\n",
        "num_samples = filtered_data.shape[0]\n",
        "num_channels = filtered_data.shape[2]\n",
        "differential_entropy_features = []\n",
        "for sample_idx in range(num_samples):\n",
        "    sample_entropy = []\n",
        "    for i in range(num_channels):\n",
        "        channel_data = filtered_data[sample_idx, :, i]\n",
        "        entropy_value = compute_differential_entropy(channel_data)\n",
        "        sample_entropy.append(entropy_value)\n",
        "    differential_entropy_features.append(sample_entropy)\n",
        "\n",
        "# Convert the list to a numpy array\n",
        "differential_entropy_features = np.array(differential_entropy_features)\n",
        "\n",
        "# Print the shapes of the features and labels\n",
        "print(\"Differential Entropy Features Shape:\", differential_entropy_features.shape)\n",
        "print(\"Labels Shape:\", all_labels_array.shape)\n"
      ]
    },
    {
      "cell_type": "code",
      "execution_count": null,
      "metadata": {
        "execution": {
          "iopub.execute_input": "2024-04-10T10:43:14.39011Z",
          "iopub.status.busy": "2024-04-10T10:43:14.389753Z",
          "iopub.status.idle": "2024-04-10T10:43:54.766643Z",
          "shell.execute_reply": "2024-04-10T10:43:54.765695Z",
          "shell.execute_reply.started": "2024-04-10T10:43:14.390082Z"
        },
        "id": "L1bi5Qsan0bN",
        "trusted": true
      },
      "outputs": [],
      "source": [
        "import numpy as np\n",
        "from scipy.stats import entropy\n",
        "\n",
        "# Reshape the reshaped_channels_array to (600, 14, 5, 1275)\n",
        "reshaped_channels_array = reshaped_channels_array.reshape(600, 14, 5, 1275)\n",
        "\n",
        "# Function to compute differential entropy for a given EEG segment\n",
        "def compute_differential_entropy(segment):\n",
        "    # Estimate probability density function using histogram-based method\n",
        "    hist, bin_edges = np.histogram(segment, bins='auto', density=True)\n",
        "    # Compute entropy\n",
        "    entropy_values = entropy(hist, base=2)  # Use base 2 for entropy calculation\n",
        "    return entropy_values\n",
        "\n",
        "# Compute differential entropy for each segment\n",
        "differential_entropy_features = np.zeros((600, 14, 5, 1275))\n",
        "for i in range(600):\n",
        "    for j in range(14):\n",
        "        for k in range(5):\n",
        "            segment = reshaped_channels_array[i, j, k, :]\n",
        "            differential_entropy_features[i, j, :, k] = compute_differential_entropy(segment)\n",
        "\n",
        "# Swap the last two dimensions\n",
        "differential_entropy_features = np.swapaxes(differential_entropy_features, -1, -2)\n",
        "\n",
        "# Check the shape of the computed features\n",
        "print(\"Differential Entropy Features Shape:\", differential_entropy_features.shape)\n"
      ]
    },
    {
      "cell_type": "code",
      "execution_count": null,
      "metadata": {
        "execution": {
          "iopub.execute_input": "2024-04-10T10:57:13.195945Z",
          "iopub.status.busy": "2024-04-10T10:57:13.195102Z",
          "iopub.status.idle": "2024-04-10T10:57:13.202971Z",
          "shell.execute_reply": "2024-04-10T10:57:13.202066Z",
          "shell.execute_reply.started": "2024-04-10T10:57:13.195914Z"
        },
        "id": "K4o8Eh6gn0bO",
        "trusted": true
      },
      "outputs": [],
      "source": [
        "data = differential_entropy_features\n",
        "labels_edited = reshaped_labels_mapped\n",
        "data.shape"
      ]
    },
    {
      "cell_type": "code",
      "execution_count": null,
      "metadata": {
        "execution": {
          "iopub.execute_input": "2024-04-10T10:57:16.028482Z",
          "iopub.status.busy": "2024-04-10T10:57:16.027885Z",
          "iopub.status.idle": "2024-04-10T10:57:16.235215Z",
          "shell.execute_reply": "2024-04-10T10:57:16.234257Z",
          "shell.execute_reply.started": "2024-04-10T10:57:16.028455Z"
        },
        "id": "zfVz68oGn0bO",
        "trusted": true
      },
      "outputs": [],
      "source": [
        "from sklearn.utils import shuffle\n",
        "#(675, 62, 265, 5)(675,)\n",
        "#(600, 14, 5, 1275) (600,)\n",
        "differential_entropy_features, reshaped_labels_mapped = shuffle(differential_entropy_features, reshaped_labels_mapped)"
      ]
    },
    {
      "cell_type": "markdown",
      "metadata": {
        "id": "4vdnhjHXn0bP"
      },
      "source": [
        "# Traing"
      ]
    },
    {
      "cell_type": "code",
      "execution_count": null,
      "metadata": {
        "collapsed": true,
        "execution": {
          "iopub.execute_input": "2024-04-10T11:05:55.260833Z",
          "iopub.status.busy": "2024-04-10T11:05:55.259807Z",
          "iopub.status.idle": "2024-04-10T11:06:31.75894Z",
          "shell.execute_reply": "2024-04-10T11:06:31.757762Z",
          "shell.execute_reply.started": "2024-04-10T11:05:55.260798Z"
        },
        "id": "rN8odtdOn0bP",
        "jupyter": {
          "outputs_hidden": true
        },
        "trusted": true
      },
      "outputs": [],
      "source": [
        "!pip install keras-tuner\n",
        "!pip install mat73\n",
        "!pip install -U tensorflow-addons\n",
        "\n",
        "#from google.colab import drive\n",
        "#drive.mount('/content/drive')\n",
        "import tensorflow as tf\n",
        "from tensorflow import keras\n",
        "import numpy as np\n",
        "import scipy.io as sio\n",
        "from tensorflow.keras.utils import to_categorical\n",
        "import mat73\n",
        "from keras.callbacks import ReduceLROnPlateau\n",
        "import sklearn.metrics\n",
        "from sklearn.utils import shuffle\n",
        "from tensorflow.keras import layers\n",
        "#import tensorflow_addons as tfa\n",
        "from tensorflow.keras.layers import LSTM\n",
        "from tensorflow.keras.layers import Reshape\n",
        "from tensorflow.keras.models import Sequential\n",
        "from tensorflow.keras.layers import Conv2D, MaxPooling2D, Dense, Flatten, Dropout, Conv3D, MaxPooling3D, BatchNormalization\n",
        "import matplotlib.pyplot as plt\n",
        "%matplotlib inline"
      ]
    },
    {
      "cell_type": "code",
      "execution_count": null,
      "metadata": {
        "execution": {
          "iopub.execute_input": "2024-04-10T11:09:24.184214Z",
          "iopub.status.busy": "2024-04-10T11:09:24.183853Z",
          "iopub.status.idle": "2024-04-10T11:09:24.188809Z",
          "shell.execute_reply": "2024-04-10T11:09:24.187725Z",
          "shell.execute_reply.started": "2024-04-10T11:09:24.184189Z"
        },
        "id": "dn8ELNv8n0bP",
        "trusted": true
      },
      "outputs": [],
      "source": [
        "import tensorflow.keras as keras\n",
        "#import tensorflow_addons as tfa"
      ]
    },
    {
      "cell_type": "code",
      "execution_count": null,
      "metadata": {
        "collapsed": true,
        "execution": {
          "iopub.execute_input": "2024-04-09T06:58:06.270682Z",
          "iopub.status.busy": "2024-04-09T06:58:06.270311Z",
          "iopub.status.idle": "2024-04-09T06:58:25.282406Z",
          "shell.execute_reply": "2024-04-09T06:58:25.281539Z",
          "shell.execute_reply.started": "2024-04-09T06:58:06.270655Z"
        },
        "id": "b7pry11Qn0bQ",
        "jupyter": {
          "outputs_hidden": true,
          "source_hidden": true
        },
        "trusted": true
      },
      "outputs": [],
      "source": [
        "#**OLD trainging **\n",
        "\n",
        "import numpy as np\n",
        "import tensorflow as tf\n",
        "from tensorflow.keras import layers, models\n",
        "\n",
        "# Assuming you have the following shapes for features and labels\n",
        "# differential_entropy_features.shape: (100, 14)\n",
        "# all_labels_array.shape: (100, 2)\n",
        "\n",
        "# Selecting only arousal labels\n",
        "arousal_labels = all_labels_array[:, 1]  # Assuming arousal is the second column\n",
        "\n",
        "# Reshaping features to add channel dimension (required for CNN)\n",
        "differential_entropy_features = differential_entropy_features.reshape(-1, 14, 1)\n",
        "\n",
        "# Splitting data into training and validation sets\n",
        "train_ratio = 0.8\n",
        "train_size = int(train_ratio * len(differential_entropy_features))\n",
        "\n",
        "train_features = differential_entropy_features[:train_size]\n",
        "train_labels = arousal_labels[:train_size]\n",
        "val_features = differential_entropy_features[train_size:]\n",
        "val_labels = arousal_labels[train_size:]\n",
        "\n",
        "# Define the CNN model\n",
        "model = models.Sequential([\n",
        "    layers.Conv1D(32, 3, activation='relu', input_shape=(14, 1)),\n",
        "    layers.MaxPooling1D(2),\n",
        "    layers.Conv1D(64, 3, activation='relu'),\n",
        "    layers.MaxPooling1D(2),\n",
        "    layers.Flatten(),\n",
        "    layers.Dense(64, activation='relu'),\n",
        "    layers.Dense(1)  # Output layer with 1 neuron for regression\n",
        "])\n",
        "\n",
        "# Compile the model\n",
        "model.compile(optimizer='adam', loss='mse', metrics=['mae'])\n",
        "model.summary()\n"
      ]
    },
    {
      "cell_type": "code",
      "execution_count": null,
      "metadata": {
        "collapsed": true,
        "execution": {
          "iopub.execute_input": "2024-04-09T06:58:32.74309Z",
          "iopub.status.busy": "2024-04-09T06:58:32.74242Z",
          "iopub.status.idle": "2024-04-09T06:58:39.601413Z",
          "shell.execute_reply": "2024-04-09T06:58:39.600414Z",
          "shell.execute_reply.started": "2024-04-09T06:58:32.743058Z"
        },
        "id": "5nA3hsrXn0bQ",
        "jupyter": {
          "outputs_hidden": true,
          "source_hidden": true
        },
        "trusted": true
      },
      "outputs": [],
      "source": [
        "# Train the model\n",
        "history = model.fit(train_features, train_labels, epochs=10, batch_size=16, validation_data=(val_features, val_labels))\n",
        "\n",
        "# Evaluate the model on the validation set\n",
        "val_loss, val_mae = model.evaluate(val_features, val_labels)\n",
        "\n",
        "print(\"Validation Loss:\", val_loss)\n",
        "print(\"Validation MAE:\", val_mae)\n"
      ]
    },
    {
      "cell_type": "markdown",
      "metadata": {
        "id": "3RxHKCaqn0bR"
      },
      "source": [
        "**Colab traing**"
      ]
    },
    {
      "cell_type": "code",
      "execution_count": null,
      "metadata": {
        "execution": {
          "iopub.execute_input": "2024-04-10T10:57:19.905201Z",
          "iopub.status.busy": "2024-04-10T10:57:19.904843Z",
          "iopub.status.idle": "2024-04-10T10:57:19.909488Z",
          "shell.execute_reply": "2024-04-10T10:57:19.908553Z",
          "shell.execute_reply.started": "2024-04-10T10:57:19.905173Z"
        },
        "id": "gDC7hSJzn0bS",
        "trusted": true
      },
      "outputs": [],
      "source": [
        "cumul = []\n",
        "for i in range(4): cumul.append([])"
      ]
    },
    {
      "cell_type": "code",
      "execution_count": null,
      "metadata": {
        "execution": {
          "iopub.execute_input": "2024-04-10T11:16:45.079605Z",
          "iopub.status.busy": "2024-04-10T11:16:45.078665Z",
          "iopub.status.idle": "2024-04-10T11:16:45.848833Z",
          "shell.execute_reply": "2024-04-10T11:16:45.847706Z",
          "shell.execute_reply.started": "2024-04-10T11:16:45.079568Z"
        },
        "id": "bP4SkuV1n0bT",
        "trusted": true
      },
      "outputs": [],
      "source": [
        "max_val = np.max(data)\n",
        "min_val = np.min(data)\n",
        "\n",
        "# Normalizing data\n",
        "data = data / max_val\n",
        "data = (data - np.mean(data)) / np.std(data)\n",
        "\n",
        "# Cropping end time segments\n",
        "data = data[:, :, 0:1250, :]\n",
        "\n",
        "# Splitting Dataset into train, validation, test\n",
        "train_labels = labels_edited[0:520]\n",
        "test_labels = labels_edited[520:560]\n",
        "final_labels = labels_edited[560:600]\n",
        "\n",
        "train_data = data[0:520]\n",
        "test_data = data[520:560]\n",
        "final_test = data[560:600]\n",
        "\n",
        "cf_labels = np.where(final_labels == -1, 3, final_labels)  # Label in the form for confusion matrix\n",
        "un, co = np.unique(cf_labels, return_counts=True)\n",
        "print(f'Unique: {un}, Counts: {co}')\n",
        "\n",
        "train_labels_reshaped = train_labels.reshape(-1, 1)  # Formatting for input to the CNN model\n",
        "test_labels_reshaped = test_labels.reshape(-1, 1)\n",
        "final_labels_reshaped = final_labels.reshape(-1, 1)\n",
        "\n",
        "train_labels_reshaped = to_categorical(train_labels_reshaped, 4)  # One Hot Encoding\n",
        "test_labels_reshaped = to_categorical(test_labels_reshaped, 4)\n",
        "final_labels_reshaped = to_categorical(final_labels_reshaped, 4)\n",
        "\n",
        "rnn_train = train_data.reshape(520, 14, -1)  # Formatting for RNN input\n",
        "rnn_test = test_data.reshape(40, 14, -1)\n",
        "rnn_train = np.transpose(rnn_train, (0, 2, 1))\n",
        "rnn_test = np.transpose(rnn_test, (0, 2, 1))\n",
        "\n",
        "print(train_data.shape, rnn_train.shape)\n"
      ]
    },
    {
      "cell_type": "code",
      "execution_count": null,
      "metadata": {
        "execution": {
          "iopub.execute_input": "2024-04-10T11:17:28.462032Z",
          "iopub.status.busy": "2024-04-10T11:17:28.461296Z",
          "iopub.status.idle": "2024-04-10T11:17:29.582671Z",
          "shell.execute_reply": "2024-04-10T11:17:29.581753Z",
          "shell.execute_reply.started": "2024-04-10T11:17:28.462Z"
        },
        "id": "RtzDZdBAn0bV",
        "trusted": true
      },
      "outputs": [],
      "source": [
        "fig, a = plt.subplots(5, 1, squeeze= False, figsize= (15, 10))\n",
        "titles = ['Alpha', 'Beta', 'Delta', 'Gamma', 'Theta']\n",
        "for cnt in range(5):\n",
        "  for i in range(len(test_data[5])):\n",
        "    a[cnt][0].plot(range(len(test_data[5][i,:,cnt])), test_data[5][i,:,cnt])\n",
        "  a[cnt][0].set_title(titles[cnt])\n",
        "  a[cnt][0].set_xlabel('Samples')\n",
        "  a[cnt][0].set_ylabel('Amplitude')"
      ]
    },
    {
      "cell_type": "code",
      "execution_count": null,
      "metadata": {
        "execution": {
          "iopub.execute_input": "2024-04-10T11:31:01.816337Z",
          "iopub.status.busy": "2024-04-10T11:31:01.815562Z",
          "iopub.status.idle": "2024-04-10T11:31:01.956404Z",
          "shell.execute_reply": "2024-04-10T11:31:01.955481Z",
          "shell.execute_reply.started": "2024-04-10T11:31:01.816304Z"
        },
        "id": "mni2nVxCn0bW",
        "trusted": true
      },
      "outputs": [],
      "source": [
        "from tensorflow.keras.models import Sequential\n",
        "from tensorflow.keras.layers import Conv2D, MaxPooling2D, Dropout, Flatten, Dense\n",
        "\n",
        "model = Sequential([\n",
        "    Conv2D(filters=64, kernel_size=5, input_shape=(14, 1250, 5), padding='same'),\n",
        "    Conv2D(filters=64, kernel_size=3, padding='same'),\n",
        "    Conv2D(filters=64, kernel_size=3, padding='same'),\n",
        "    MaxPooling2D(pool_size=2, strides=2, padding='same'),  # Adjusted max-pooling layer\n",
        "    Dropout(rate=0.3),\n",
        "    Conv2D(filters=128, kernel_size=3, padding='same'),\n",
        "    Conv2D(filters=128, kernel_size=3, padding='same'),\n",
        "    MaxPooling2D(pool_size=2, strides=2, padding='same'),  # Adjusted max-pooling layer\n",
        "    Dropout(rate=0.2),\n",
        "    Conv2D(filters=256, kernel_size=3, padding='same'),\n",
        "    MaxPooling2D(pool_size=2, strides=2, padding='same'),  # Adjusted max-pooling layer\n",
        "    Dropout(rate=0.25),\n",
        "    Conv2D(filters=512, kernel_size=3, padding='same'),\n",
        "    MaxPooling2D(pool_size=2, strides=2, padding='same'),  # Adjusted max-pooling layer\n",
        "    Dropout(rate=0.3),\n",
        "    Flatten(),\n",
        "    Dense(512, activation='relu'),\n",
        "    Dropout(rate=0.4),\n",
        "    Dense(256, activation='relu'),\n",
        "    Dropout(rate=0.2),\n",
        "    Dense(64, activation='relu'),\n",
        "    Dense(4, activation='softmax')\n",
        "])\n",
        "\n",
        "model.compile(optimizer=keras.optimizers.Adam(learning_rate=9e-5),\n",
        "              loss=keras.losses.categorical_crossentropy,\n",
        "              metrics=['accuracy', tf.keras.metrics.RootMeanSquaredError()])\n",
        "\n",
        "model.summary()\n"
      ]
    },
    {
      "cell_type": "code",
      "execution_count": null,
      "metadata": {
        "execution": {
          "iopub.execute_input": "2024-04-10T11:19:45.837281Z",
          "iopub.status.busy": "2024-04-10T11:19:45.83631Z",
          "iopub.status.idle": "2024-04-10T11:19:46.553844Z",
          "shell.execute_reply": "2024-04-10T11:19:46.552915Z",
          "shell.execute_reply.started": "2024-04-10T11:19:45.837236Z"
        },
        "id": "moSAk61Dn0bW",
        "trusted": true
      },
      "outputs": [],
      "source": [
        "dot_img_file = 'model CNN .png'\n",
        "tf.keras.utils.plot_model(model, to_file=dot_img_file, show_shapes=True)"
      ]
    },
    {
      "cell_type": "code",
      "execution_count": null,
      "metadata": {
        "execution": {
          "iopub.execute_input": "2024-04-10T11:40:43.480705Z",
          "iopub.status.busy": "2024-04-10T11:40:43.479741Z",
          "iopub.status.idle": "2024-04-10T11:46:12.091015Z",
          "shell.execute_reply": "2024-04-10T11:46:12.090094Z",
          "shell.execute_reply.started": "2024-04-10T11:40:43.480673Z"
        },
        "id": "Rrt59NvMn0bW",
        "trusted": true
      },
      "outputs": [],
      "source": [
        "#Training our CNN model using a learning rate annealer (Reduces LR on Plateaus)\n",
        "reduce_lr_cnn = ReduceLROnPlateau(monitor='val_loss', factor=0.3, patience=5, min_lr=1e-7) #patience = 5 and factor = 0.9\n",
        "\n",
        "history = model.fit(\n",
        "  train_data,\n",
        "  train_labels_reshaped,\n",
        "  batch_size = 128,\n",
        "  epochs=100,\n",
        "  validation_data=(test_data, test_labels_reshaped),\n",
        "  callbacks = [reduce_lr_cnn]\n",
        ")"
      ]
    },
    {
      "cell_type": "code",
      "execution_count": null,
      "metadata": {
        "id": "LQx4-artn0bX"
      },
      "outputs": [],
      "source": []
    }
  ],
  "metadata": {
    "colab": {
      "include_colab_link": true,
      "name": "Multi Class Emotion Detection",
      "provenance": []
    },
    "kaggle": {
      "accelerator": "nvidiaTeslaT4",
      "dataSources": [
        {
          "datasetId": 4751397,
          "sourceId": 8055982,
          "sourceType": "datasetVersion"
        }
      ],
      "dockerImageVersionId": 30684,
      "isGpuEnabled": true,
      "isInternetEnabled": true,
      "language": "python",
      "sourceType": "notebook"
    },
    "kernelspec": {
      "display_name": "Python 3",
      "language": "python",
      "name": "python3"
    },
    "language_info": {
      "codemirror_mode": {
        "name": "ipython",
        "version": 3
      },
      "file_extension": ".py",
      "mimetype": "text/x-python",
      "name": "python",
      "nbconvert_exporter": "python",
      "pygments_lexer": "ipython3",
      "version": "3.10.13"
    }
  },
  "nbformat": 4,
  "nbformat_minor": 0
}
