{
 "cells": [
  {
   "cell_type": "markdown",
   "metadata": {},
   "source": [
    "### Import data"
   ]
  },
  {
   "cell_type": "code",
   "execution_count": 1,
   "metadata": {},
   "outputs": [],
   "source": [
    "import pickle\n",
    "import numpy as np\n",
    "\n",
    "def read_data(filename):\n",
    "    x = pickle._Unpickler(open(filename, 'rb'))\n",
    "    x.encoding = 'latin1'\n",
    "    data = x.load()\n",
    "    return data\n",
    "\n",
    "files = []\n",
    "for n in range(1, 33):\n",
    "    s = ''\n",
    "    if n < 10:\n",
    "        s += '0'\n",
    "    s += str(n)\n",
    "    files.append(s)\n",
    "\n",
    "labels = []\n",
    "data = []\n",
    "for i in files:\n",
    "    filepath = \"archive/data_preprocessed_python/s\" + i + \".dat\"\n",
    "    d = read_data(filepath)\n",
    "    labels.append(d['labels'])\n",
    "    data.append(d['data'])\n",
    "\n"
   ]
  },
  {
   "cell_type": "markdown",
   "metadata": {},
   "source": [
    "#### Reshape data"
   ]
  },
  {
   "cell_type": "code",
   "execution_count": 2,
   "metadata": {},
   "outputs": [
    {
     "name": "stdout",
     "output_type": "stream",
     "text": [
      "(32, 40, 4)\n",
      "(32, 40, 40, 8064)\n",
      "(1280, 4)\n",
      "(1280, 40, 8064)\n",
      "(1280, 32, 8064)\n"
     ]
    }
   ],
   "source": [
    "\n",
    "labels = np.array(labels)\n",
    "data = np.array(data)\n",
    "print(labels.shape)\n",
    "print(data.shape)\n",
    "labels = labels.reshape(1280, 4)\n",
    "data = data.reshape(1280, 40, 8064)\n",
    "print(labels.shape)\n",
    "print(data.shape)\n",
    "eeg_data = data[:,:32,:]\n",
    "print(eeg_data.shape)\n"
   ]
  },
  {
   "cell_type": "markdown",
   "metadata": {},
   "source": [
    "#### Encode labels"
   ]
  },
  {
   "cell_type": "code",
   "execution_count": 3,
   "metadata": {},
   "outputs": [
    {
     "data": {
      "text/plain": [
       "9"
      ]
     },
     "execution_count": 3,
     "metadata": {},
     "output_type": "execute_result"
    }
   ],
   "source": [
    "label_name = [\"valence\",\"arousal\"]\n",
    "labels_valence = []\n",
    "labels_arousal = []\n",
    "\n",
    "for la in labels:\n",
    "    if la[0] < 3:\n",
    "        labels_valence.append(\"LOW\")\n",
    "    elif 3 <= la[0] < 6:\n",
    "        labels_valence.append(\"MEDIUM\")\n",
    "    else:\n",
    "        labels_valence.append(\"HIGH\")\n",
    "    \n",
    "    if la[1] < 3:\n",
    "        labels_arousal.append(\"LOW\")\n",
    "    elif 3 <= la[1] < 6:\n",
    "       labels_arousal.append(\"MEDIUM\")\n",
    "    else:\n",
    "        labels_arousal.append(\"HIGH\")\n",
    "\n",
    "combined_labels = np.array([labels_valence[i] +'_' + labels_arousal[i] for i in range(len(labels_valence))]).reshape(-1,1)\n",
    "\n",
    "\n",
    "from sklearn.preprocessing import OrdinalEncoder\n",
    "enc = OrdinalEncoder()\n",
    "enc.fit(combined_labels)\n",
    "enc.categories_\n",
    "yData_enc = enc.transform(combined_labels).reshape(-1)\n",
    "\n",
    "num_categories = len(np.unique(yData_enc))\n",
    "num_categories"
   ]
  },
  {
   "cell_type": "markdown",
   "metadata": {},
   "source": [
    "#### Model definition - based on convolution"
   ]
  },
  {
   "cell_type": "code",
   "execution_count": 4,
   "metadata": {},
   "outputs": [
    {
     "name": "stdout",
     "output_type": "stream",
     "text": [
      "EEGClassifierCNN(\n",
      "  (conv1): Conv1d(32, 64, kernel_size=(7,), stride=(1,), padding=(3,))\n",
      "  (bn1): BatchNorm1d(64, eps=1e-05, momentum=0.1, affine=True, track_running_stats=True)\n",
      "  (pool1): MaxPool1d(kernel_size=2, stride=2, padding=0, dilation=1, ceil_mode=False)\n",
      "  (conv2): Conv1d(64, 128, kernel_size=(5,), stride=(1,), padding=(2,))\n",
      "  (bn2): BatchNorm1d(128, eps=1e-05, momentum=0.1, affine=True, track_running_stats=True)\n",
      "  (pool2): MaxPool1d(kernel_size=2, stride=2, padding=0, dilation=1, ceil_mode=False)\n",
      "  (conv3): Conv1d(128, 256, kernel_size=(3,), stride=(1,), padding=(1,))\n",
      "  (bn3): BatchNorm1d(256, eps=1e-05, momentum=0.1, affine=True, track_running_stats=True)\n",
      "  (pool3): MaxPool1d(kernel_size=2, stride=2, padding=0, dilation=1, ceil_mode=False)\n",
      "  (fc1): Linear(in_features=258048, out_features=512, bias=True)\n",
      "  (dropout): Dropout(p=0.5, inplace=False)\n",
      "  (fc2): Linear(in_features=512, out_features=9, bias=True)\n",
      ")\n"
     ]
    }
   ],
   "source": [
    "import torch\n",
    "import torch.nn as nn\n",
    "import torch.optim as optim\n",
    "\n",
    "class EEGClassifierCNN(nn.Module):\n",
    "    def __init__(self,num_classes):\n",
    "        super(EEGClassifierCNN, self).__init__()\n",
    "        \n",
    "        # First convolutional layer\n",
    "        self.conv1 = nn.Conv1d(in_channels=32, out_channels=64, kernel_size=7, stride=1, padding=3)\n",
    "        self.bn1 = nn.BatchNorm1d(64)\n",
    "        self.pool1 = nn.MaxPool1d(kernel_size=2, stride=2)\n",
    "        \n",
    "        # Second convolutional layer\n",
    "        self.conv2 = nn.Conv1d(in_channels=64, out_channels=128, kernel_size=5, stride=1, padding=2)\n",
    "        self.bn2 = nn.BatchNorm1d(128)\n",
    "        self.pool2 = nn.MaxPool1d(kernel_size=2, stride=2)\n",
    "        \n",
    "        # Third convolutional layer\n",
    "        self.conv3 = nn.Conv1d(in_channels=128, out_channels=256, kernel_size=3, stride=1, padding=1)\n",
    "        self.bn3 = nn.BatchNorm1d(256)\n",
    "        self.pool3 = nn.MaxPool1d(kernel_size=2, stride=2)\n",
    "        \n",
    "        # Fully connected layer\n",
    "        self.fc1 = nn.Linear(256 * (8064 // 8), 512)  # Adjust to account for pooling\n",
    "        self.dropout = nn.Dropout(0.5)\n",
    "        self.fc2 = nn.Linear(512, num_classes)  # 9 classes\n",
    "        \n",
    "    def forward(self, x):\n",
    "        x = self.pool1(torch.relu(self.bn1(self.conv1(x))))\n",
    "        x = self.pool2(torch.relu(self.bn2(self.conv2(x))))\n",
    "        x = self.pool3(torch.relu(self.bn3(self.conv3(x))))\n",
    "        \n",
    "        # Flatten for fully connected layers\n",
    "        x = x.view(x.size(0), -1)\n",
    "        x = torch.relu(self.fc1(x))\n",
    "        x = self.dropout(x)\n",
    "        x = self.fc2(x)\n",
    "        \n",
    "        return x\n",
    "\n",
    "\n",
    "# Function to calculate accuracy\n",
    "def calculate_accuracy(outputs, targets):\n",
    "    _, predicted = torch.max(outputs, 1)  # Get index of the max log-probability\n",
    "    correct = (predicted == targets).sum().item()\n",
    "    accuracy = correct / targets.size(0)\n",
    "    return accuracy\n",
    "\n",
    "# Instantiate the model\n",
    "model = EEGClassifierCNN(num_categories)\n",
    "\n",
    "# Define a loss function and optimizer\n",
    "criterion = nn.CrossEntropyLoss()\n",
    "optimizer = optim.Adam(model.parameters(), lr=0.001)\n",
    "\n",
    "print(model)"
   ]
  },
  {
   "cell_type": "markdown",
   "metadata": {},
   "source": [
    "#### Model training"
   ]
  },
  {
   "cell_type": "code",
   "execution_count": 5,
   "metadata": {},
   "outputs": [
    {
     "name": "stdout",
     "output_type": "stream",
     "text": [
      "Epoch [eval1/5], Loss: 7.9676, Val Loss: 4.3728, Val Accuracy: 0.2305\n",
      "Epoch [eval2/5], Loss: 2.2410, Val Loss: 2.2839, Val Accuracy: 0.1953\n",
      "Epoch [eval3/5], Loss: 2.5178, Val Loss: 2.1632, Val Accuracy: 0.2031\n",
      "Epoch [eval4/5], Loss: 2.0394, Val Loss: 2.3962, Val Accuracy: 0.1992\n",
      "Epoch [eval5/5], Loss: 2.1296, Val Loss: 2.1621, Val Accuracy: 0.1797\n"
     ]
    }
   ],
   "source": [
    "xData = eeg_data\n",
    "\n",
    "# Hyperparameters\n",
    "learning_rate = 0.002\n",
    "num_epochs = 5\n",
    "batch_size = 32\n",
    "\n",
    "# Convert to PyTorch tensors\n",
    "xData_tensor = torch.tensor(xData, dtype=torch.float32)\n",
    "yData_tensor = torch.tensor(yData_enc, dtype=torch.long)  # For classification, labels should be long\n",
    "\n",
    "from sklearn.model_selection import train_test_split\n",
    "X_train, X_val, y_train, y_val = train_test_split(xData_tensor, yData_tensor, test_size=0.2, random_state=42)\n",
    "\n",
    "\n",
    "# Training loop\n",
    "for epoch in range(num_epochs):\n",
    "    model.train()\n",
    "    for i in range(0, len(X_train), batch_size):\n",
    "        batch_X = X_train[i:i + batch_size]\n",
    "        batch_y = y_train[i:i + batch_size]\n",
    "\n",
    "        # Forward pass\n",
    "        outputs = model(batch_X)\n",
    "        loss = criterion(outputs, batch_y)\n",
    "\n",
    "        # Backward pass and optimization\n",
    "        optimizer.zero_grad()\n",
    "        loss.backward()\n",
    "        optimizer.step()\n",
    "\n",
    "    # Validation step\n",
    "    with torch.no_grad():\n",
    "        model.eval()\n",
    "        val_outputs = model(X_val)\n",
    "        val_loss = criterion(val_outputs, y_val)\n",
    "        val_accuracy = calculate_accuracy(val_outputs, y_val)\n",
    "    \n",
    "    print(f'Epoch [eval{epoch + 1}/{num_epochs}], Loss: {loss.item():.4f}, Val Loss: {val_loss.item():.4f}, Val Accuracy: {val_accuracy:.4f}')\n",
    "\n",
    "# Save the model\n",
    "torch.save(model.state_dict(), 'classifier_model.pth')"
   ]
  },
  {
   "cell_type": "code",
   "execution_count": 10,
   "metadata": {},
   "outputs": [
    {
     "name": "stderr",
     "output_type": "stream",
     "text": [
      "C:\\Users\\josebencao9\\AppData\\Local\\Temp\\ipykernel_15260\\349629132.py:9: UserWarning: To copy construct from a tensor, it is recommended to use sourceTensor.clone().detach() or sourceTensor.clone().detach().requires_grad_(True), rather than torch.tensor(sourceTensor).\n",
      "  y_pred_tensor = model(torch.tensor(X_val, dtype=torch.float32))\n"
     ]
    },
    {
     "data": {
      "image/png": "[encoded data removed]",
      "text/plain": [
       "<Figure size 640x480 with 2 Axes>"
      ]
     },
     "metadata": {},
     "output_type": "display_data"
    },
    {
     "name": "stdout",
     "output_type": "stream",
     "text": [
      "               precision    recall  f1-score   support\n",
      "\n",
      "    HIGH_HIGH       0.21      0.22      0.21        59\n",
      "     HIGH_LOW       0.00      0.00      0.00         1\n",
      "  HIGH_MEDIUM       0.33      0.04      0.07        49\n",
      "     LOW_HIGH       0.00      0.00      0.00        15\n",
      "      LOW_LOW       0.00      0.00      0.00        14\n",
      "   LOW_MEDIUM       0.00      0.00      0.00        14\n",
      "  MEDIUM_HIGH       0.00      0.00      0.00        29\n",
      "   MEDIUM_LOW       0.00      0.00      0.00        25\n",
      "MEDIUM_MEDIUM       0.18      0.62      0.28        50\n",
      "\n",
      "     accuracy                           0.18       256\n",
      "    macro avg       0.08      0.10      0.06       256\n",
      " weighted avg       0.15      0.18      0.12       256\n",
      "\n"
     ]
    },
    {
     "name": "stderr",
     "output_type": "stream",
     "text": [
      "c:\\Users\\josebencao9\\miniconda3\\envs\\faip\\lib\\site-packages\\sklearn\\metrics\\_classification.py:1469: UndefinedMetricWarning: Precision and F-score are ill-defined and being set to 0.0 in labels with no predicted samples. Use `zero_division` parameter to control this behavior.\n",
      "  _warn_prf(average, modifier, msg_start, len(result))\n",
      "c:\\Users\\josebencao9\\miniconda3\\envs\\faip\\lib\\site-packages\\sklearn\\metrics\\_classification.py:1469: UndefinedMetricWarning: Precision and F-score are ill-defined and being set to 0.0 in labels with no predicted samples. Use `zero_division` parameter to control this behavior.\n",
      "  _warn_prf(average, modifier, msg_start, len(result))\n",
      "c:\\Users\\josebencao9\\miniconda3\\envs\\faip\\lib\\site-packages\\sklearn\\metrics\\_classification.py:1469: UndefinedMetricWarning: Precision and F-score are ill-defined and being set to 0.0 in labels with no predicted samples. Use `zero_division` parameter to control this behavior.\n",
      "  _warn_prf(average, modifier, msg_start, len(result))\n"
     ]
    }
   ],
   "source": [
    "from sklearn.metrics import confusion_matrix, ConfusionMatrixDisplay\n",
    "from sklearn.metrics import classification_report\n",
    "import matplotlib.pyplot as plt\n",
    "\n",
    "\n",
    "# Predict the labels for the test set using the neural network model\n",
    "model.eval()\n",
    "with torch.no_grad():\n",
    "    y_pred_tensor = model(torch.tensor(X_val, dtype=torch.float32))\n",
    "    _, y_pred = torch.max(y_pred_tensor, 1)\n",
    "    y_pred = y_pred.numpy()\n",
    "\n",
    "# Compute the confusion matrix\n",
    "cm = confusion_matrix(y_val, y_pred)\n",
    "\n",
    "# Display the confusion matrix\n",
    "disp = ConfusionMatrixDisplay(confusion_matrix=cm, display_labels=np.unique(y_val))\n",
    "disp.plot(cmap=plt.cm.Blues)\n",
    "plt.title('Confusion Matrix for Neural Network Classifier')\n",
    "plt.show()\n",
    "\n",
    "# Generate a classification report\n",
    "report = classification_report(y_val, y_pred, target_names=enc.categories_[0])\n",
    "print(report)"
   ]
  },
  {
   "cell_type": "markdown",
   "metadata": {},
   "source": [
    "#### Test model "
   ]
  },
  {
   "cell_type": "code",
   "execution_count": 11,
   "metadata": {},
   "outputs": [
    {
     "name": "stderr",
     "output_type": "stream",
     "text": [
      "C:\\Users\\josebencao9\\AppData\\Local\\Temp\\ipykernel_15260\\2802075950.py:11: UserWarning: To copy construct from a tensor, it is recommended to use sourceTensor.clone().detach() or sourceTensor.clone().detach().requires_grad_(True), rather than torch.tensor(sourceTensor).\n",
      "  sample_X_tensor = torch.tensor(sample_X, dtype=torch.float32).unsqueeze(0)\n"
     ]
    },
    {
     "name": "stdout",
     "output_type": "stream",
     "text": [
      "Actual label: [['MEDIUM_MEDIUM']]\n",
      "Neural Network Predicted label: [['MEDIUM_MEDIUM']]\n"
     ]
    }
   ],
   "source": [
    "# Model in evaluation mode\n",
    "model.eval()\n",
    "\n",
    "sampleIDX = 1\n",
    "\n",
    "# Get the first sample from the testing set\n",
    "sample_X = X_val[sampleIDX]\n",
    "sample_y = y_val[sampleIDX]\n",
    "\n",
    "# Convert the sample to a PyTorch tensor and reshape to match the model's input dimensions\n",
    "sample_X_tensor = torch.tensor(sample_X, dtype=torch.float32).unsqueeze(0)\n",
    "\n",
    "# Perform a forward pass to get the model's prediction\n",
    "with torch.no_grad():\n",
    "    output = model(sample_X_tensor)\n",
    "    _, predicted = torch.max(output, 1)\n",
    "\n",
    "# Print the actual and predicted labels\n",
    "print(f'Actual label: {enc.inverse_transform(sample_y.reshape(1,-1))}')\n",
    "print(f'Neural Network Predicted label: {enc.inverse_transform(predicted.reshape(1,-1))}')\n"
   ]
  },
  {
   "cell_type": "code",
   "execution_count": null,
   "metadata": {},
   "outputs": [],
   "source": []
  }
 ],
 "metadata": {
  "kernelspec": {
   "display_name": "faip",
   "language": "python",
   "name": "python3"
  },
  "language_info": {
   "codemirror_mode": {
    "name": "ipython",
    "version": 3
   },
   "file_extension": ".py",
   "mimetype": "text/x-python",
   "name": "python",
   "nbconvert_exporter": "python",
   "pygments_lexer": "ipython3",
   "version": "3.8.19"
  }
 },
 "nbformat": 4,
 "nbformat_minor": 2
}
