{
 "cells": [
  {
   "cell_type": "markdown",
   "metadata": {},
   "source": [
    "### Import data"
   ]
  },
  {
   "cell_type": "code",
   "execution_count": 15,
   "metadata": {},
   "outputs": [],
   "source": [
    "import pickle\n",
    "import numpy as np\n",
    "\n",
    "def read_data(filename):\n",
    "    x = pickle._Unpickler(open(filename, 'rb'))\n",
    "    x.encoding = 'latin1'\n",
    "    data = x.load()\n",
    "    return data\n",
    "\n",
    "files = []\n",
    "for n in range(1, 33):\n",
    "    s = ''\n",
    "    if n < 10:\n",
    "        s += '0'\n",
    "    s += str(n)\n",
    "    files.append(s)\n",
    "\n",
    "labels = []\n",
    "data = []\n",
    "for i in files:\n",
    "    filepath = \"archive/data_preprocessed_python/s\" + i + \".dat\"\n",
    "    d = read_data(filepath)\n",
    "    labels.append(d['labels'])\n",
    "    data.append(d['data'])\n",
    "\n"
   ]
  },
  {
   "cell_type": "markdown",
   "metadata": {},
   "source": [
    "#### Reshape data"
   ]
  },
  {
   "cell_type": "code",
   "execution_count": 16,
   "metadata": {},
   "outputs": [
    {
     "name": "stdout",
     "output_type": "stream",
     "text": [
      "(32, 40, 4)\n",
      "(32, 40, 40, 8064)\n",
      "(1280, 4)\n",
      "(1280, 40, 8064)\n",
      "(1280, 32, 8064)\n"
     ]
    }
   ],
   "source": [
    "\n",
    "labels = np.array(labels)\n",
    "data = np.array(data)\n",
    "print(labels.shape)\n",
    "print(data.shape)\n",
    "labels = labels.reshape(1280, 4)\n",
    "data = data.reshape(1280, 40, 8064)\n",
    "print(labels.shape)\n",
    "print(data.shape)\n",
    "eeg_data = data[:,:32,:]\n",
    "print(eeg_data.shape)\n"
   ]
  },
  {
   "cell_type": "markdown",
   "metadata": {},
   "source": [
    "#### Encode labels"
   ]
  },
  {
   "cell_type": "code",
   "execution_count": 17,
   "metadata": {},
   "outputs": [
    {
     "data": {
      "text/plain": [
       "9"
      ]
     },
     "execution_count": 17,
     "metadata": {},
     "output_type": "execute_result"
    }
   ],
   "source": [
    "label_name = [\"valence\",\"arousal\"]\n",
    "labels_valence = []\n",
    "labels_arousal = []\n",
    "\n",
    "#9 classes\n",
    "labels_valence = [\"LOW\" if la[0] < 3 else \"MEDIUM\" if la[0] < 6 else \"HIGH\" for la in labels] \n",
    "labels_arousal = [\"LOW\" if la[1] < 3 else \"MEDIUM\" if la[1] < 6 else \"HIGH\" for la in labels]\n",
    "\n",
    "combined_labels = np.array([labels_valence[i] +'_' + labels_arousal[i] for i in range(len(labels_valence))]).reshape(-1,1)\n",
    "\n",
    "\n",
    "from sklearn.preprocessing import OrdinalEncoder\n",
    "enc = OrdinalEncoder()\n",
    "enc.fit(combined_labels)\n",
    "enc.categories_\n",
    "yData_enc = enc.transform(combined_labels).reshape(-1)\n",
    "\n",
    "num_categories = len(np.unique(yData_enc))\n",
    "num_categories"
   ]
  },
  {
   "cell_type": "markdown",
   "metadata": {},
   "source": [
    "#### Model definition - EEGNet"
   ]
  },
  {
   "cell_type": "code",
   "execution_count": 18,
   "metadata": {},
   "outputs": [
    {
     "name": "stdout",
     "output_type": "stream",
     "text": [
      "EEGNet(\n",
      "  (temporal_conv): Conv2d(1, 8, kernel_size=(1, 64), stride=(1, 1), padding=(0, 32), bias=False)\n",
      "  (batchnorm1): BatchNorm2d(8, eps=1e-05, momentum=0.1, affine=True, track_running_stats=True)\n",
      "  (depthwise_conv): Conv2d(8, 16, kernel_size=(32, 1), stride=(1, 1), groups=8, bias=False)\n",
      "  (batchnorm2): BatchNorm2d(16, eps=1e-05, momentum=0.1, affine=True, track_running_stats=True)\n",
      "  (activation): ELU(alpha=1.0)\n",
      "  (avgpool1): AvgPool2d(kernel_size=(1, 4), stride=(1, 4), padding=0)\n",
      "  (dropout1): Dropout(p=0.5, inplace=False)\n",
      "  (separable_conv1): Conv2d(16, 16, kernel_size=(1, 16), stride=(1, 1), padding=(0, 8), bias=False)\n",
      "  (batchnorm3): BatchNorm2d(16, eps=1e-05, momentum=0.1, affine=True, track_running_stats=True)\n",
      "  (separable_conv2): Conv2d(16, 16, kernel_size=(1, 1), stride=(1, 1), bias=False)\n",
      "  (batchnorm4): BatchNorm2d(16, eps=1e-05, momentum=0.1, affine=True, track_running_stats=True)\n",
      "  (avgpool2): AvgPool2d(kernel_size=(1, 8), stride=(1, 8), padding=0)\n",
      "  (dropout2): Dropout(p=0.5, inplace=False)\n",
      "  (fc): Linear(in_features=4032, out_features=9, bias=True)\n",
      ")\n"
     ]
    }
   ],
   "source": [
    "import torch\n",
    "import torch.nn as nn\n",
    "import torch.optim as optim\n",
    "import torch.nn.functional as F\n",
    "\n",
    "class EEGNet(nn.Module):\n",
    "    def __init__(self, num_channels=32, num_samples=8064, num_classes=9, dropout_rate=0.5):\n",
    "        super(EEGNet, self).__init__()\n",
    "        \n",
    "        # First block: Temporal Convolution\n",
    "        self.temporal_conv = nn.Conv2d(1, 8, (1, 64), padding=(0, 32), bias=False)\n",
    "        self.batchnorm1 = nn.BatchNorm2d(8)\n",
    "        \n",
    "        # Second block: Depthwise Convolution\n",
    "        self.depthwise_conv = nn.Conv2d(8, 16, (num_channels, 1), groups=8, bias=False)\n",
    "        self.batchnorm2 = nn.BatchNorm2d(16)\n",
    "        self.activation = nn.ELU()\n",
    "        self.avgpool1 = nn.AvgPool2d((1, 4))\n",
    "        self.dropout1 = nn.Dropout(dropout_rate)\n",
    "        \n",
    "        # Third block: Separable Convolutions\n",
    "        self.separable_conv1 = nn.Conv2d(16, 16, (1, 16), padding=(0, 8), bias=False)\n",
    "        self.batchnorm3 = nn.BatchNorm2d(16)\n",
    "        self.separable_conv2 = nn.Conv2d(16, 16, (1, 1), bias=False)\n",
    "        self.batchnorm4 = nn.BatchNorm2d(16)\n",
    "        self.avgpool2 = nn.AvgPool2d((1, 8))\n",
    "        self.dropout2 = nn.Dropout(dropout_rate)\n",
    "        \n",
    "        # Final Fully Connected Layer\n",
    "        self.fc = nn.Linear(16 * (num_samples // (4 * 8)), num_classes)\n",
    "    \n",
    "    def forward(self, x):\n",
    "        # Temporal Convolution\n",
    "        x = self.temporal_conv(x)\n",
    "        x = self.batchnorm1(x)\n",
    "        x = x ** 2  # Squaring non-linearity\n",
    "        \n",
    "        # Depthwise Convolution\n",
    "        x = self.depthwise_conv(x)\n",
    "        x = self.batchnorm2(x)\n",
    "        x = self.activation(x)\n",
    "        x = self.avgpool1(x)\n",
    "        x = self.dropout1(x)\n",
    "        \n",
    "        # Separable Convolutions\n",
    "        x = self.separable_conv1(x)\n",
    "        x = self.batchnorm3(x)\n",
    "        x = self.separable_conv2(x)\n",
    "        x = self.batchnorm4(x)\n",
    "        x = self.activation(x)\n",
    "        x = self.avgpool2(x)\n",
    "        x = self.dropout2(x)\n",
    "        \n",
    "        # Flatten for Fully Connected layer\n",
    "        x = x.view(x.size(0), -1)\n",
    "        x = self.fc(x)\n",
    "        \n",
    "        return x\n",
    "\n",
    "# Function to calculate accuracy\n",
    "def calculate_accuracy(outputs, targets):\n",
    "    _, predicted = torch.max(outputs, 1)  # Get index of the max log-probability\n",
    "    correct = (predicted == targets).sum().item()\n",
    "    accuracy = correct / targets.size(0)\n",
    "    return accuracy\n",
    "\n",
    "# Instantiate the model\n",
    "model = EEGNet(num_channels=32, num_samples=8064, num_classes=9, dropout_rate=0.5)\n",
    "\n",
    "# Define a loss function and optimizer\n",
    "criterion = nn.CrossEntropyLoss()\n",
    "optimizer = optim.Adam(model.parameters(), lr=0.001)\n",
    "\n",
    "print(model)"
   ]
  },
  {
   "cell_type": "markdown",
   "metadata": {},
   "source": [
    "#### Model training"
   ]
  },
  {
   "cell_type": "code",
   "execution_count": 25,
   "metadata": {},
   "outputs": [
    {
     "name": "stdout",
     "output_type": "stream",
     "text": [
      "Epoch [1/10], Loss: 2.2177, Val Loss: 2.1095, Val Accuracy: 0.2227\n",
      "Epoch [2/10], Loss: 1.9935, Val Loss: 2.0606, Val Accuracy: 0.2109\n",
      "Epoch [3/10], Loss: 1.7062, Val Loss: 2.1222, Val Accuracy: 0.2148\n",
      "Epoch [4/10], Loss: 1.4715, Val Loss: 2.1031, Val Accuracy: 0.2031\n",
      "Epoch [5/10], Loss: 1.5769, Val Loss: 2.0928, Val Accuracy: 0.2383\n",
      "Epoch [6/10], Loss: 1.2968, Val Loss: 2.0856, Val Accuracy: 0.2344\n",
      "Epoch [7/10], Loss: 1.3498, Val Loss: 2.0841, Val Accuracy: 0.2500\n",
      "Epoch [8/10], Loss: 1.5103, Val Loss: 2.0783, Val Accuracy: 0.2461\n",
      "Epoch [9/10], Loss: 1.1609, Val Loss: 2.0811, Val Accuracy: 0.2305\n",
      "Epoch [10/10], Loss: 1.2825, Val Loss: 2.0925, Val Accuracy: 0.2578\n"
     ]
    }
   ],
   "source": [
    "from torch.utils.data import DataLoader, TensorDataset\n",
    "\n",
    "# Hyperparameters\n",
    "learning_rate = 0.001\n",
    "num_epochs = 10\n",
    "batch_size = 32\n",
    "\n",
    "xData = eeg_data\n",
    "# Convert to PyTorch tensors\n",
    "xData_tensor = torch.tensor(xData, dtype=torch.float32)\n",
    "yData_tensor = torch.tensor(yData_enc, dtype=torch.long)  # For classification, labels should be long\n",
    "\n",
    "# Split the data into training and validation sets\n",
    "train_size = int(0.8 * len(xData_tensor))\n",
    "val_size = len(xData_tensor) - train_size\n",
    "train_dataset, val_dataset = torch.utils.data.random_split(TensorDataset(xData_tensor, yData_tensor), [train_size, val_size])\n",
    "\n",
    "train_loader = DataLoader(train_dataset, batch_size=batch_size, shuffle=True)\n",
    "val_loader = DataLoader(val_dataset, batch_size=batch_size, shuffle=False)\n",
    "\n",
    "# Reinitialize the model, optimizer, and criterion\n",
    "model = EEGNet(num_channels=32, num_samples=8064, num_classes=9, dropout_rate=0.5)\n",
    "optimizer = optim.AdamW(model.parameters(), lr=learning_rate)\n",
    "criterion = nn.CrossEntropyLoss()\n",
    "\n",
    "# Learning rate scheduler\n",
    "scheduler = optim.lr_scheduler.StepLR(optimizer, step_size=5, gamma=0.1)\n",
    "\n",
    "# Training loop\n",
    "for epoch in range(num_epochs):\n",
    "    model.train()\n",
    "    for batch_X, batch_y in train_loader:\n",
    "        batch_X = batch_X.unsqueeze(1)  # Add channel dimension\n",
    "\n",
    "        # Forward pass\n",
    "        outputs = model(batch_X)\n",
    "        loss = criterion(outputs, batch_y)\n",
    "\n",
    "        # Backward pass and optimization\n",
    "        optimizer.zero_grad()\n",
    "        loss.backward()\n",
    "        optimizer.step()\n",
    "\n",
    "    # Step the scheduler\n",
    "    scheduler.step()\n",
    "\n",
    "    # Validation step\n",
    "    with torch.no_grad():\n",
    "        model.eval()\n",
    "        val_loss = 0\n",
    "        val_accuracy = 0\n",
    "        for batch_X, batch_y in val_loader:\n",
    "            batch_X = batch_X.unsqueeze(1)  # Add channel dimension\n",
    "            val_outputs = model(batch_X)\n",
    "            val_loss += criterion(val_outputs, batch_y).item()\n",
    "            val_accuracy += calculate_accuracy(val_outputs, batch_y)\n",
    "\n",
    "        val_loss /= len(val_loader)\n",
    "        val_accuracy /= len(val_loader)\n",
    "\n",
    "    print(f'Epoch [{epoch + 1}/{num_epochs}], Loss: {loss.item():.4f}, Val Loss: {val_loss:.4f}, Val Accuracy: {val_accuracy:.4f}')\n",
    "\n",
    "# Save the model\n",
    "torch.save(model.state_dict(), 'classifier_model.pth')\n"
   ]
  },
  {
   "cell_type": "code",
   "execution_count": 23,
   "metadata": {},
   "outputs": [
    {
     "data": {
      "image/png": "[encoded data removed]",
      "text/plain": [
       "<Figure size 640x480 with 2 Axes>"
      ]
     },
     "metadata": {},
     "output_type": "display_data"
    }
   ],
   "source": [
    "from sklearn.metrics import confusion_matrix, ConfusionMatrixDisplay\n",
    "from sklearn.metrics import classification_report\n",
    "import matplotlib.pyplot as plt\n",
    "\n",
    "# Extract validation data from the DataLoader\n",
    "X_val, y_val = next(iter(val_loader))\n",
    "X_val = X_val.numpy()\n",
    "y_val = y_val.numpy()\n",
    "\n",
    "# Predict the labels for the test set using the neural network model\n",
    "model.eval()\n",
    "with torch.no_grad():\n",
    "    X_val_tensor = torch.tensor(X_val, dtype=torch.float32).unsqueeze(1)  # Add channel dimension\n",
    "    y_pred_tensor = model(X_val_tensor)\n",
    "    _, y_pred = torch.max(y_pred_tensor, 1)\n",
    "    y_pred = y_pred.numpy()\n",
    "\n",
    "# Compute the confusion matrix\n",
    "cm = confusion_matrix(y_val, y_pred)\n",
    "\n",
    "# Display the confusion matrix\n",
    "disp = ConfusionMatrixDisplay(confusion_matrix=cm, display_labels=np.unique(y_val))\n",
    "disp.plot(cmap=plt.cm.Blues)\n",
    "plt.title('Confusion Matrix for Neural Network Classifier')\n",
    "plt.show()"
   ]
  },
  {
   "cell_type": "code",
   "execution_count": null,
   "metadata": {},
   "outputs": [],
   "source": []
  }
 ],
 "metadata": {
  "kernelspec": {
   "display_name": "faip",
   "language": "python",
   "name": "python3"
  },
  "language_info": {
   "codemirror_mode": {
    "name": "ipython",
    "version": 3
   },
   "file_extension": ".py",
   "mimetype": "text/x-python",
   "name": "python",
   "nbconvert_exporter": "python",
   "pygments_lexer": "ipython3",
   "version": "3.8.19"
  }
 },
 "nbformat": 4,
 "nbformat_minor": 2
}
