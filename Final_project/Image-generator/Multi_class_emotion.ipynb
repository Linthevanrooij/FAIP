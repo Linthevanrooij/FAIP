{
  "metadata": {
    "kernelspec": {
      "display_name": "Python 3",
      "name": "python3"
    },
    "language_info": {
      "name": "python",
      "version": "3.10.13",
      "mimetype": "text/x-python",
      "codemirror_mode": {
        "name": "ipython",
        "version": 3
      },
      "pygments_lexer": "ipython3",
      "nbconvert_exporter": "python",
      "file_extension": ".py"
    },
    "kaggle": {
      "accelerator": "none",
      "dataSources": [
        {
          "sourceId": 8055982,
          "sourceType": "datasetVersion",
          "datasetId": 4751397
        }
      ],
      "dockerImageVersionId": 30684,
      "isInternetEnabled": false,
      "language": "python",
      "sourceType": "notebook",
      "isGpuEnabled": false
    },
    "colab": {
      "name": "notebook42378286a4",
      "provenance": [],
      "gpuType": "T4",
      "include_colab_link": true
    },
    "accelerator": "GPU"
  },
  "nbformat_minor": 0,
  "nbformat": 4,
  "cells": [
    {
      "cell_type": "markdown",
      "metadata": {
        "id": "view-in-github",
        "colab_type": "text"
      },
      "source": [
        "<a href=\"https://colab.research.google.com/github/Linthevanrooij/FAIP/blob/main/Final_project/Image-generator/Multi_class_emotion.ipynb\" target=\"_parent\"><img src=\"https://colab.research.google.com/assets/colab-badge.svg\" alt=\"Open In Colab\"/></a>"
      ]
    },
    {
      "source": [
        "\n",
        "# IMPORTANT: RUN THIS CELL IN ORDER TO IMPORT YOUR KAGGLE DATA SOURCES\n",
        "# TO THE CORRECT LOCATION (/kaggle/input) IN YOUR NOTEBOOK,\n",
        "# THEN FEEL FREE TO DELETE THIS CELL.\n",
        "# NOTE: THIS NOTEBOOK ENVIRONMENT DIFFERS FROM KAGGLE'S PYTHON\n",
        "# ENVIRONMENT SO THERE MAY BE MISSING LIBRARIES USED BY YOUR\n",
        "# NOTEBOOK.\n",
        "\n",
        "import os\n",
        "import sys\n",
        "from tempfile import NamedTemporaryFile\n",
        "from urllib.request import urlopen\n",
        "from urllib.parse import unquote, urlparse\n",
        "from urllib.error import HTTPError\n",
        "from zipfile import ZipFile\n",
        "import tarfile\n",
        "import shutil\n",
        "\n",
        "CHUNK_SIZE = 40960\n",
        "DATA_SOURCE_MAPPING = 'eeg-dataset-for-emotion-recognition:https%3A%2F%2Fstorage.googleapis.com%2Fkaggle-data-sets%2F4751397%2F8055982%2Fbundle%2Farchive.zip%3FX-Goog-Algorithm%3DGOOG4-RSA-SHA256%26X-Goog-Credential%3Dgcp-kaggle-com%2540kaggle-161607.iam.gserviceaccount.com%252F20241007%252Fauto%252Fstorage%252Fgoog4_request%26X-Goog-Date%3D20241007T092606Z%26X-Goog-Expires%3D259200%26X-Goog-SignedHeaders%3Dhost%26X-Goog-Signature%3D9ca71f4d23e65d00333bb1fcb302550b4e21ab020f24d9a6cce8e0df299b7e215db95857859408132f3b214ceaa8d0d5ac01549ecab7c92c59e4dc628f0faeece00230d235a754b01b749f2da5d326aaa09dea5ef46b08b7f9f477d5cc23506eb92201437a9c790fa31edef85cf1532cda29bf9e9955ceacb0359e1081a01cefcf7fe2b4eaf6126b92c032677040d0cce35374c8ad4631ac3383c60a0c3cdb3ef151e89181cdb04ad440944566959ee1bd2620274f3a8b279f924e59de4746c20f43b21ff3881cef2061f1238720fdee08c9c68141974f7d664e875c735ceb3e1020c6f475dfafde2dd909b97a2f286c249a402043f8985442c6f73099910edb'\n",
        "\n",
        "KAGGLE_INPUT_PATH='/kaggle/input'\n",
        "KAGGLE_WORKING_PATH='/kaggle/working'\n",
        "KAGGLE_SYMLINK='kaggle'\n",
        "\n",
        "!umount /kaggle/input/ 2> /dev/null\n",
        "shutil.rmtree('/kaggle/input', ignore_errors=True)\n",
        "os.makedirs(KAGGLE_INPUT_PATH, 0o777, exist_ok=True)\n",
        "os.makedirs(KAGGLE_WORKING_PATH, 0o777, exist_ok=True)\n",
        "\n",
        "try:\n",
        "  os.symlink(KAGGLE_INPUT_PATH, os.path.join(\"..\", 'input'), target_is_directory=True)\n",
        "except FileExistsError:\n",
        "  pass\n",
        "try:\n",
        "  os.symlink(KAGGLE_WORKING_PATH, os.path.join(\"..\", 'working'), target_is_directory=True)\n",
        "except FileExistsError:\n",
        "  pass\n",
        "\n",
        "for data_source_mapping in DATA_SOURCE_MAPPING.split(','):\n",
        "    directory, download_url_encoded = data_source_mapping.split(':')\n",
        "    download_url = unquote(download_url_encoded)\n",
        "    filename = urlparse(download_url).path\n",
        "    destination_path = os.path.join(KAGGLE_INPUT_PATH, directory)\n",
        "    try:\n",
        "        with urlopen(download_url) as fileres, NamedTemporaryFile() as tfile:\n",
        "            total_length = fileres.headers['content-length']\n",
        "            print(f'Downloading {directory}, {total_length} bytes compressed')\n",
        "            dl = 0\n",
        "            data = fileres.read(CHUNK_SIZE)\n",
        "            while len(data) > 0:\n",
        "                dl += len(data)\n",
        "                tfile.write(data)\n",
        "                done = int(50 * dl / int(total_length))\n",
        "                sys.stdout.write(f\"\\r[{'=' * done}{' ' * (50-done)}] {dl} bytes downloaded\")\n",
        "                sys.stdout.flush()\n",
        "                data = fileres.read(CHUNK_SIZE)\n",
        "            if filename.endswith('.zip'):\n",
        "              with ZipFile(tfile) as zfile:\n",
        "                zfile.extractall(destination_path)\n",
        "            else:\n",
        "              with tarfile.open(tfile.name) as tarfile:\n",
        "                tarfile.extractall(destination_path)\n",
        "            print(f'\\nDownloaded and uncompressed: {directory}')\n",
        "    except HTTPError as e:\n",
        "        print(f'Failed to load (likely expired) {download_url} to path {destination_path}')\n",
        "        continue\n",
        "    except OSError as e:\n",
        "        print(f'Failed to load {download_url} to path {destination_path}')\n",
        "        continue\n",
        "\n",
        "print('Data source import complete.')\n"
      ],
      "metadata": {
        "colab": {
          "base_uri": "https://localhost:8080/"
        },
        "id": "N-K2EmtGTOfP",
        "outputId": "7ba5a162-682f-4e55-df45-9d116a13a4cd"
      },
      "cell_type": "code",
      "outputs": [
        {
          "output_type": "stream",
          "name": "stdout",
          "text": [
            "Downloading eeg-dataset-for-emotion-recognition, 190266329 bytes compressed\n",
            "[==================================================] 190266329 bytes downloaded\n",
            "Downloaded and uncompressed: eeg-dataset-for-emotion-recognition\n",
            "Data source import complete.\n"
          ]
        }
      ],
      "execution_count": 1
    },
    {
      "cell_type": "markdown",
      "source": [
        "# **Import Libraries**"
      ],
      "metadata": {
        "id": "N3IwXbKtTOfR"
      }
    },
    {
      "cell_type": "code",
      "source": [
        "import os\n",
        "import pandas as pd\n",
        "import numpy as np\n",
        "import matplotlib.pyplot as plt\n",
        "import seaborn as sns"
      ],
      "metadata": {
        "execution": {
          "iopub.status.busy": "2024-10-07T09:24:58.834126Z",
          "iopub.execute_input": "2024-10-07T09:24:58.834522Z",
          "iopub.status.idle": "2024-10-07T09:25:01.277395Z",
          "shell.execute_reply.started": "2024-10-07T09:24:58.834477Z",
          "shell.execute_reply": "2024-10-07T09:25:01.276498Z"
        },
        "trusted": true,
        "id": "MmsZQf2mTOfS"
      },
      "execution_count": 2,
      "outputs": []
    },
    {
      "cell_type": "markdown",
      "source": [
        "# **Read Data**"
      ],
      "metadata": {
        "id": "lVDcUJaQTOfS"
      }
    },
    {
      "cell_type": "code",
      "source": [
        "\n",
        "# Directory containing the CSV files\n",
        "directory = '/kaggle/input/eeg-dataset-for-emotion-recognition/Data/'\n",
        "\n",
        "# Initialize lists to store EEG channels and labels\n",
        "all_eeg_channels = []\n",
        "all_labels = []\n",
        "\n",
        "# Iterate over each file in the directory\n",
        "for filename in os.listdir(directory):\n",
        "    if filename.endswith(\".csv\"):\n",
        "        file_path = os.path.join(directory, filename)\n",
        "        print(file_path)\n",
        "        # Read the CSV file\n",
        "        data = pd.read_csv(file_path)\n",
        "\n",
        "        # Select the EEG channels columns\n",
        "        eeg_channels = data[['AF3', 'AF4', 'F3', 'F4', 'F7', 'F8', 'FC5', 'FC6', 'O1', 'O2', 'P7', 'P8', 'T7', 'T8']][:-2]\n",
        "\n",
        "        # Select the valence and arousal columns\n",
        "        labels = data[['valence', 'arousal']].iloc[0]\n",
        "\n",
        "        # Convert EEG channels and labels to arrays and store them\n",
        "        all_eeg_channels.append(eeg_channels.values)\n",
        "        all_labels.append(labels.values)\n",
        "\n",
        "# Convert lists to arrays\n",
        "all_eeg_channels_array = np.array(all_eeg_channels)\n",
        "all_labels_array = np.array(all_labels)\n",
        "\n",
        "# Print the shapes of the arrays\n",
        "print(\"All EEG Channels Array Shape:\", all_eeg_channels_array.shape)\n",
        "print(\"All Labels Array Shape:\", all_labels_array.shape)\n"
      ],
      "metadata": {
        "execution": {
          "iopub.status.busy": "2024-04-10T09:09:20.305285Z",
          "iopub.execute_input": "2024-04-10T09:09:20.306123Z",
          "iopub.status.idle": "2024-04-10T09:09:29.065544Z",
          "shell.execute_reply.started": "2024-04-10T09:09:20.306092Z",
          "shell.execute_reply": "2024-04-10T09:09:29.064635Z"
        },
        "jupyter": {
          "source_hidden": true,
          "outputs_hidden": true
        },
        "collapsed": true,
        "trusted": true,
        "colab": {
          "base_uri": "https://localhost:8080/"
        },
        "id": "auEYdpO6TOfT",
        "outputId": "70fc6612-2d44-4742-b9a7-56cc80b65fd0"
      },
      "execution_count": 3,
      "outputs": [
        {
          "output_type": "stream",
          "name": "stdout",
          "text": [
            "/kaggle/input/eeg-dataset-for-emotion-recognition/Data/S25G1AllChannels.csv\n",
            "/kaggle/input/eeg-dataset-for-emotion-recognition/Data/S10G2AllChannels.csv\n",
            "/kaggle/input/eeg-dataset-for-emotion-recognition/Data/S07G4AllChannels.csv\n",
            "/kaggle/input/eeg-dataset-for-emotion-recognition/Data/S02G2AllChannels.csv\n",
            "/kaggle/input/eeg-dataset-for-emotion-recognition/Data/S05G1AllChannels.csv\n",
            "/kaggle/input/eeg-dataset-for-emotion-recognition/Data/S15G4AllChannels.csv\n",
            "/kaggle/input/eeg-dataset-for-emotion-recognition/Data/S22G4AllChannels.csv\n",
            "/kaggle/input/eeg-dataset-for-emotion-recognition/Data/S21G1AllChannels.csv\n",
            "/kaggle/input/eeg-dataset-for-emotion-recognition/Data/S15G3AllChannels.csv\n",
            "/kaggle/input/eeg-dataset-for-emotion-recognition/Data/S23G4AllChannels.csv\n",
            "/kaggle/input/eeg-dataset-for-emotion-recognition/Data/S04G1AllChannels.csv\n",
            "/kaggle/input/eeg-dataset-for-emotion-recognition/Data/S01G1AllChannels.csv\n",
            "/kaggle/input/eeg-dataset-for-emotion-recognition/Data/S16G4AllChannels.csv\n",
            "/kaggle/input/eeg-dataset-for-emotion-recognition/Data/S13G2AllChannels.csv\n",
            "/kaggle/input/eeg-dataset-for-emotion-recognition/Data/S25G2AllChannels.csv\n",
            "/kaggle/input/eeg-dataset-for-emotion-recognition/Data/S10G1AllChannels.csv\n",
            "/kaggle/input/eeg-dataset-for-emotion-recognition/Data/S03G3AllChannels.csv\n",
            "/kaggle/input/eeg-dataset-for-emotion-recognition/Data/S08G3AllChannels.csv\n",
            "/kaggle/input/eeg-dataset-for-emotion-recognition/Data/S15G2AllChannels.csv\n",
            "/kaggle/input/eeg-dataset-for-emotion-recognition/Data/S06G4AllChannels.csv\n",
            "/kaggle/input/eeg-dataset-for-emotion-recognition/Data/S01G4AllChannels.csv\n",
            "/kaggle/input/eeg-dataset-for-emotion-recognition/Data/S16G3AllChannels.csv\n",
            "/kaggle/input/eeg-dataset-for-emotion-recognition/Data/S08G2AllChannels.csv\n",
            "/kaggle/input/eeg-dataset-for-emotion-recognition/Data/S14G4AllChannels.csv\n",
            "/kaggle/input/eeg-dataset-for-emotion-recognition/Data/S12G4AllChannels.csv\n",
            "/kaggle/input/eeg-dataset-for-emotion-recognition/Data/S25G4AllChannels.csv\n",
            "/kaggle/input/eeg-dataset-for-emotion-recognition/Data/S18G3AllChannels.csv\n",
            "/kaggle/input/eeg-dataset-for-emotion-recognition/Data/S14G1AllChannels.csv\n",
            "/kaggle/input/eeg-dataset-for-emotion-recognition/Data/S19G1AllChannels.csv\n",
            "/kaggle/input/eeg-dataset-for-emotion-recognition/Data/S04G4AllChannels.csv\n",
            "/kaggle/input/eeg-dataset-for-emotion-recognition/Data/S18G2AllChannels.csv\n",
            "/kaggle/input/eeg-dataset-for-emotion-recognition/Data/S06G1AllChannels.csv\n",
            "/kaggle/input/eeg-dataset-for-emotion-recognition/Data/S23G1AllChannels.csv\n",
            "/kaggle/input/eeg-dataset-for-emotion-recognition/Data/S06G3AllChannels.csv\n",
            "/kaggle/input/eeg-dataset-for-emotion-recognition/Data/S08G4AllChannels.csv\n",
            "/kaggle/input/eeg-dataset-for-emotion-recognition/Data/S02G4AllChannels.csv\n",
            "/kaggle/input/eeg-dataset-for-emotion-recognition/Data/S16G1AllChannels.csv\n",
            "/kaggle/input/eeg-dataset-for-emotion-recognition/Data/S11G2AllChannels.csv\n",
            "/kaggle/input/eeg-dataset-for-emotion-recognition/Data/S19G4AllChannels.csv\n",
            "/kaggle/input/eeg-dataset-for-emotion-recognition/Data/S07G3AllChannels.csv\n",
            "/kaggle/input/eeg-dataset-for-emotion-recognition/Data/S24G1AllChannels.csv\n",
            "/kaggle/input/eeg-dataset-for-emotion-recognition/Data/S12G1AllChannels.csv\n",
            "/kaggle/input/eeg-dataset-for-emotion-recognition/Data/S11G4AllChannels.csv\n",
            "/kaggle/input/eeg-dataset-for-emotion-recognition/Data/S21G3AllChannels.csv\n",
            "/kaggle/input/eeg-dataset-for-emotion-recognition/Data/S24G4AllChannels.csv\n",
            "/kaggle/input/eeg-dataset-for-emotion-recognition/Data/S20G3AllChannels.csv\n",
            "/kaggle/input/eeg-dataset-for-emotion-recognition/Data/S02G3AllChannels.csv\n",
            "/kaggle/input/eeg-dataset-for-emotion-recognition/Data/S15G1AllChannels.csv\n",
            "/kaggle/input/eeg-dataset-for-emotion-recognition/Data/S12G3AllChannels.csv\n",
            "/kaggle/input/eeg-dataset-for-emotion-recognition/Data/S18G4AllChannels.csv\n",
            "/kaggle/input/eeg-dataset-for-emotion-recognition/Data/S05G4AllChannels.csv\n",
            "/kaggle/input/eeg-dataset-for-emotion-recognition/Data/S11G1AllChannels.csv\n",
            "/kaggle/input/eeg-dataset-for-emotion-recognition/Data/S09G1AllChannels.csv\n",
            "/kaggle/input/eeg-dataset-for-emotion-recognition/Data/S17G1AllChannels.csv\n",
            "/kaggle/input/eeg-dataset-for-emotion-recognition/Data/S25G3AllChannels.csv\n",
            "/kaggle/input/eeg-dataset-for-emotion-recognition/Data/S14G2AllChannels.csv\n",
            "/kaggle/input/eeg-dataset-for-emotion-recognition/Data/S03G4AllChannels.csv\n",
            "/kaggle/input/eeg-dataset-for-emotion-recognition/Data/S23G3AllChannels.csv\n",
            "/kaggle/input/eeg-dataset-for-emotion-recognition/Data/S08G1AllChannels.csv\n",
            "/kaggle/input/eeg-dataset-for-emotion-recognition/Data/S09G3AllChannels.csv\n",
            "/kaggle/input/eeg-dataset-for-emotion-recognition/Data/S03G1AllChannels.csv\n",
            "/kaggle/input/eeg-dataset-for-emotion-recognition/Data/S02G1AllChannels.csv\n",
            "/kaggle/input/eeg-dataset-for-emotion-recognition/Data/S09G2AllChannels.csv\n",
            "/kaggle/input/eeg-dataset-for-emotion-recognition/Data/S13G3AllChannels.csv\n",
            "/kaggle/input/eeg-dataset-for-emotion-recognition/Data/S09G4AllChannels.csv\n",
            "/kaggle/input/eeg-dataset-for-emotion-recognition/Data/S01G3AllChannels.csv\n",
            "/kaggle/input/eeg-dataset-for-emotion-recognition/Data/S20G1AllChannels.csv\n",
            "/kaggle/input/eeg-dataset-for-emotion-recognition/Data/S13G4AllChannels.csv\n",
            "/kaggle/input/eeg-dataset-for-emotion-recognition/Data/S24G2AllChannels.csv\n",
            "/kaggle/input/eeg-dataset-for-emotion-recognition/Data/S21G2AllChannels.csv\n",
            "/kaggle/input/eeg-dataset-for-emotion-recognition/Data/S24G3AllChannels.csv\n",
            "/kaggle/input/eeg-dataset-for-emotion-recognition/Data/S10G3AllChannels.csv\n",
            "/kaggle/input/eeg-dataset-for-emotion-recognition/Data/S22G2AllChannels.csv\n",
            "/kaggle/input/eeg-dataset-for-emotion-recognition/Data/S14G3AllChannels.csv\n",
            "/kaggle/input/eeg-dataset-for-emotion-recognition/Data/S20G2AllChannels.csv\n",
            "/kaggle/input/eeg-dataset-for-emotion-recognition/Data/S12G2AllChannels.csv\n",
            "/kaggle/input/eeg-dataset-for-emotion-recognition/Data/S05G2AllChannels.csv\n",
            "/kaggle/input/eeg-dataset-for-emotion-recognition/Data/S22G3AllChannels.csv\n",
            "/kaggle/input/eeg-dataset-for-emotion-recognition/Data/S07G2AllChannels.csv\n",
            "/kaggle/input/eeg-dataset-for-emotion-recognition/Data/S20G4AllChannels.csv\n",
            "/kaggle/input/eeg-dataset-for-emotion-recognition/Data/S13G1AllChannels.csv\n",
            "/kaggle/input/eeg-dataset-for-emotion-recognition/Data/S23G2AllChannels.csv\n",
            "/kaggle/input/eeg-dataset-for-emotion-recognition/Data/S19G3AllChannels.csv\n",
            "/kaggle/input/eeg-dataset-for-emotion-recognition/Data/S06G2AllChannels.csv\n",
            "/kaggle/input/eeg-dataset-for-emotion-recognition/Data/S17G4AllChannels.csv\n",
            "/kaggle/input/eeg-dataset-for-emotion-recognition/Data/S05G3AllChannels.csv\n",
            "/kaggle/input/eeg-dataset-for-emotion-recognition/Data/S03G2AllChannels.csv\n",
            "/kaggle/input/eeg-dataset-for-emotion-recognition/Data/S17G3AllChannels.csv\n",
            "/kaggle/input/eeg-dataset-for-emotion-recognition/Data/S04G2AllChannels.csv\n",
            "/kaggle/input/eeg-dataset-for-emotion-recognition/Data/S22G1AllChannels.csv\n",
            "/kaggle/input/eeg-dataset-for-emotion-recognition/Data/S10G4AllChannels.csv\n",
            "/kaggle/input/eeg-dataset-for-emotion-recognition/Data/S21G4AllChannels.csv\n",
            "/kaggle/input/eeg-dataset-for-emotion-recognition/Data/S07G1AllChannels.csv\n",
            "/kaggle/input/eeg-dataset-for-emotion-recognition/Data/S04G3AllChannels.csv\n",
            "/kaggle/input/eeg-dataset-for-emotion-recognition/Data/S17G2AllChannels.csv\n",
            "/kaggle/input/eeg-dataset-for-emotion-recognition/Data/S16G2AllChannels.csv\n",
            "/kaggle/input/eeg-dataset-for-emotion-recognition/Data/S11G3AllChannels.csv\n",
            "/kaggle/input/eeg-dataset-for-emotion-recognition/Data/S19G2AllChannels.csv\n",
            "/kaggle/input/eeg-dataset-for-emotion-recognition/Data/S18G1AllChannels.csv\n",
            "/kaggle/input/eeg-dataset-for-emotion-recognition/Data/S01G2AllChannels.csv\n",
            "All EEG Channels Array Shape: (100, 38250, 14)\n",
            "All Labels Array Shape: (100, 2)\n"
          ]
        }
      ]
    },
    {
      "cell_type": "code",
      "source": [
        "def map_labels(valence, arousal):\n",
        "    if valence <= 2.5 and arousal <= 2.5:\n",
        "        return 0  # Low valence, low arousal\n",
        "    elif valence <= 2.5 and arousal > 2.5:\n",
        "        return 1  # Low valence, high arousal\n",
        "    elif valence > 2.5 and arousal <= 2.5:\n",
        "        return 2  # High valence, low arousal\n",
        "    else:\n",
        "        return 3  # High valence, high arousal\n",
        "\n",
        "# Example usage:\n",
        "labels_mapped = np.array([map_labels(valence, arousal) for valence, arousal in all_labels_array])\n",
        "labels_mapped"
      ],
      "metadata": {
        "execution": {
          "iopub.status.busy": "2024-04-10T09:09:34.005201Z",
          "iopub.execute_input": "2024-04-10T09:09:34.005811Z",
          "iopub.status.idle": "2024-04-10T09:09:34.014607Z",
          "shell.execute_reply.started": "2024-04-10T09:09:34.005781Z",
          "shell.execute_reply": "2024-04-10T09:09:34.013699Z"
        },
        "jupyter": {
          "source_hidden": true,
          "outputs_hidden": true
        },
        "collapsed": true,
        "trusted": true,
        "id": "Hn-OgTSHTOfT"
      },
      "execution_count": null,
      "outputs": []
    },
    {
      "cell_type": "markdown",
      "source": [
        "**Check Shape and Data Types:** Verify the shape and data types of the arrays.\n",
        "\n",
        "**Summary Statistics:** Calculate basic summary statistics such as mean, median, minimum, maximum, and standard deviation for EEG channels.\n",
        "\n",
        "**Visualization:** Plot histograms or boxplots for each EEG channel to understand their distributions.\n",
        "\n",
        "**Correlation Analysis:** Compute correlation coefficients between EEG channels and visualize them using a heatmap.\n",
        "\n",
        "**Label Analysis:** Plot histograms or boxplots for valence and arousal labels to understand their distributions.\n",
        "\n",
        "**Label Correlation:** Compute correlation between valence and arousal labels.\n",
        "\n",
        "**Feature Engineering:** Explore potential feature engineering techniques such as Fourier transforms, wavelet transforms, or other signal processing methods.\n",
        "\n",
        "**Outlier Detection:** Detect and handle outliers if present in the data."
      ],
      "metadata": {
        "id": "Eo8zWffhTOfU"
      }
    },
    {
      "cell_type": "code",
      "source": [
        "# 1. Check Shape and Data Types\n",
        "print(\"All EEG Channels Array Shape:\", all_eeg_channels_array.shape)\n",
        "print(\"All Labels Array Shape:\", all_labels_array.shape)\n",
        "print(\"Data Type of EEG Channels Array:\", all_eeg_channels_array.dtype)\n",
        "print(\"Data Type of Labels Array:\", all_labels_array.dtype)\n",
        "\n",
        "# 2. Summary Statistics\n",
        "eeg_summary = np.hstack((np.mean(all_eeg_channels_array, axis=1), np.median(all_eeg_channels_array, axis=1),\n",
        "                         np.min(all_eeg_channels_array, axis=1), np.max(all_eeg_channels_array, axis=1),\n",
        "                         np.std(all_eeg_channels_array, axis=1)))\n",
        "print(\"Summary Statistics for EEG Channels:\")\n",
        "print(\"Mean, Median, Min, Max, Std Dev\")\n",
        "print(eeg_summary)"
      ],
      "metadata": {
        "execution": {
          "iopub.status.busy": "2024-04-09T15:35:32.103385Z",
          "iopub.execute_input": "2024-04-09T15:35:32.103729Z",
          "iopub.status.idle": "2024-04-09T15:35:34.004844Z",
          "shell.execute_reply.started": "2024-04-09T15:35:32.103702Z",
          "shell.execute_reply": "2024-04-09T15:35:34.00393Z"
        },
        "jupyter": {
          "source_hidden": true,
          "outputs_hidden": true
        },
        "collapsed": true,
        "trusted": true,
        "id": "PpZrpevnTOfU"
      },
      "execution_count": null,
      "outputs": []
    },
    {
      "cell_type": "code",
      "source": [
        "channel_names = ['AF3', 'AF4', 'F3', 'F4', 'F7', 'F8', 'FC5', 'FC6', 'O1', 'O2', 'P7', 'P8', 'T7', 'T8']\n",
        "# 3. Visualization\n",
        "plt.figure(figsize=(12, 8))\n",
        "for i in range(all_eeg_channels_array.shape[2]):\n",
        "    plt.subplot(4, 4, i+1)\n",
        "    plt.hist(all_eeg_channels_array[:,:,i].flatten(), bins=50, color='skyblue', alpha=0.7)\n",
        "    plt.title(f\"{channel_names[i]} Channel Histogram\")\n",
        "    plt.xlabel(\"Value\")\n",
        "    plt.ylabel(\"Frequency\")\n",
        "plt.tight_layout()\n",
        "plt.show()"
      ],
      "metadata": {
        "execution": {
          "iopub.status.busy": "2024-04-09T06:10:03.254766Z",
          "iopub.execute_input": "2024-04-09T06:10:03.255113Z",
          "iopub.status.idle": "2024-04-09T06:10:09.805511Z",
          "shell.execute_reply.started": "2024-04-09T06:10:03.255085Z",
          "shell.execute_reply": "2024-04-09T06:10:09.804372Z"
        },
        "jupyter": {
          "source_hidden": true,
          "outputs_hidden": true
        },
        "collapsed": true,
        "trusted": true,
        "id": "P71COxFqTOfV"
      },
      "execution_count": null,
      "outputs": []
    },
    {
      "cell_type": "code",
      "source": [
        "'''\n",
        "# 4. Visualization - Boxplot\n",
        "plt.figure(figsize=(12, 8))\n",
        "sns.set(style=\"whitegrid\")\n",
        "for i in range(all_eeg_channels_array.shape[2]):\n",
        "    plt.subplot(4, 4, i+1)\n",
        "    sns.boxplot(data=all_eeg_channels_array[:, :, i], color='skyblue')\n",
        "    plt.title(f\"{channel_names[i]} Channel Boxplot\")\n",
        "    plt.xlabel(\"EEG Channels\")\n",
        "    plt.ylabel(\"Value\")\n",
        "plt.tight_layout()\n",
        "plt.show()\n",
        "'''"
      ],
      "metadata": {
        "execution": {
          "iopub.status.busy": "2024-04-10T08:38:58.314516Z",
          "iopub.execute_input": "2024-04-10T08:38:58.315318Z",
          "iopub.status.idle": "2024-04-10T08:38:58.321244Z",
          "shell.execute_reply.started": "2024-04-10T08:38:58.315289Z",
          "shell.execute_reply": "2024-04-10T08:38:58.320387Z"
        },
        "jupyter": {
          "source_hidden": true,
          "outputs_hidden": true
        },
        "collapsed": true,
        "trusted": true,
        "id": "XfEnzJ5oTOfW"
      },
      "execution_count": null,
      "outputs": []
    },
    {
      "cell_type": "code",
      "source": [
        "# Reduce the sample size for correlation analysis\n",
        "sample_size = 1  # Sample size is now 1\n",
        "sample_data = all_eeg_channels_array[0]  # Take the first sample\n",
        "\n",
        "# Calculate correlation matrix for the sample data\n",
        "corr_matrix = np.corrcoef(sample_data.T)\n",
        "\n",
        "# Plot correlation matrix\n",
        "plt.figure(figsize=(10, 8))\n",
        "sns.heatmap(corr_matrix, cmap='coolwarm', annot=True, fmt=\".2f\",\n",
        "            xticklabels=['AF3', 'AF4', 'F3', 'F4', 'F7', 'F8', 'FC5', 'FC6', 'O1', 'O2', 'P7', 'P8', 'T7', 'T8'],\n",
        "            yticklabels=['AF3', 'AF4', 'F3', 'F4', 'F7', 'F8', 'FC5', 'FC6', 'O1', 'O2', 'P7', 'P8', 'T7', 'T8'])\n",
        "plt.title(\"Correlation Matrix of EEG Channels (Single Sample)\")\n",
        "plt.xlabel(\"EEG Channels\")\n",
        "plt.ylabel(\"EEG Channels\")\n",
        "plt.show()\n"
      ],
      "metadata": {
        "execution": {
          "iopub.status.busy": "2024-04-09T06:21:40.129537Z",
          "iopub.execute_input": "2024-04-09T06:21:40.13021Z",
          "iopub.status.idle": "2024-04-09T06:21:41.147759Z",
          "shell.execute_reply.started": "2024-04-09T06:21:40.130176Z",
          "shell.execute_reply": "2024-04-09T06:21:41.146793Z"
        },
        "jupyter": {
          "source_hidden": true,
          "outputs_hidden": true
        },
        "collapsed": true,
        "trusted": true,
        "id": "D5y-Wx3_TOfX"
      },
      "execution_count": null,
      "outputs": []
    },
    {
      "cell_type": "code",
      "source": [
        "# Calculate correlation matrices for all samples\n",
        "cor_matrices = np.array([np.corrcoef(sample.T) for sample in all_eeg_channels_array])\n",
        "\n",
        "# Stack correlation matrices along a new dimension\n",
        "stacked_cor_matrices = np.stack(cor_matrices, axis=2)\n",
        "\n",
        "# Take the mean along the new dimension to get the average correlation matrix\n",
        "average_cor_matrix = np.mean(stacked_cor_matrices, axis=2)\n",
        "\n",
        "# Plot the average correlation matrix\n",
        "plt.figure(figsize=(10, 8))\n",
        "sns.heatmap(average_cor_matrix, cmap='coolwarm', annot=True, fmt=\".2f\",\n",
        "            xticklabels=['AF3', 'AF4', 'F3', 'F4', 'F7', 'F8', 'FC5', 'FC6', 'O1', 'O2', 'P7', 'P8', 'T7', 'T8'],\n",
        "            yticklabels=['AF3', 'AF4', 'F3', 'F4', 'F7', 'F8', 'FC5', 'FC6', 'O1', 'O2', 'P7', 'P8', 'T7', 'T8'])\n",
        "plt.title(\"Average Correlation Matrix of EEG Channels\")\n",
        "plt.xlabel(\"EEG Channels\")\n",
        "plt.ylabel(\"EEG Channels\")\n",
        "plt.show()\n"
      ],
      "metadata": {
        "execution": {
          "iopub.status.busy": "2024-04-09T06:23:25.316637Z",
          "iopub.execute_input": "2024-04-09T06:23:25.317372Z",
          "iopub.status.idle": "2024-04-09T06:23:26.660587Z",
          "shell.execute_reply.started": "2024-04-09T06:23:25.317339Z",
          "shell.execute_reply": "2024-04-09T06:23:26.659672Z"
        },
        "jupyter": {
          "source_hidden": true,
          "outputs_hidden": true
        },
        "collapsed": true,
        "trusted": true,
        "id": "k6mHv5HpTOfX"
      },
      "execution_count": null,
      "outputs": []
    },
    {
      "cell_type": "code",
      "source": [
        "# 5. Label Analysis\n",
        "plt.figure(figsize=(10, 4))\n",
        "plt.subplot(1, 2, 1)\n",
        "plt.hist(all_labels_array[:,0], bins=20, color='skyblue', alpha=0.7)\n",
        "plt.title(\"Valence Histogram\")\n",
        "plt.xlabel(\"Valence\")\n",
        "plt.ylabel(\"Frequency\")\n",
        "\n",
        "plt.subplot(1, 2, 2)\n",
        "plt.hist(all_labels_array[:,1], bins=20, color='salmon', alpha=0.7)\n",
        "plt.title(\"Arousal Histogram\")\n",
        "plt.xlabel(\"Arousal\")\n",
        "plt.ylabel(\"Frequency\")\n",
        "plt.tight_layout()\n",
        "plt.show()\n"
      ],
      "metadata": {
        "execution": {
          "iopub.status.busy": "2024-04-09T06:17:03.333156Z",
          "iopub.execute_input": "2024-04-09T06:17:03.333787Z",
          "iopub.status.idle": "2024-04-09T06:17:04.069618Z",
          "shell.execute_reply.started": "2024-04-09T06:17:03.333751Z",
          "shell.execute_reply": "2024-04-09T06:17:04.068391Z"
        },
        "jupyter": {
          "source_hidden": true,
          "outputs_hidden": true
        },
        "collapsed": true,
        "trusted": true,
        "id": "kc8HEKu0TOfY"
      },
      "execution_count": null,
      "outputs": []
    },
    {
      "cell_type": "code",
      "source": [
        "\n",
        "# 6. Label Correlation\n",
        "#label_corr = np.corrcoef(all_labels_array[:,0], all_labels_array[:,1])\n",
        "#print(\"Correlation between Valence and Arousal Labels:\", label_corr)\n",
        "import seaborn as sns\n",
        "\n",
        "# Calculate the correlation matrix\n",
        "label_corr_matrix = np.corrcoef(all_labels_array[:,0], all_labels_array[:,1])\n",
        "\n",
        "# Plot the heatmap\n",
        "plt.figure(figsize=(8, 6))\n",
        "sns.heatmap(label_corr_matrix, cmap='coolwarm', annot=True, fmt=\".2f\")\n",
        "plt.title(\"Correlation between Valence and Arousal Labels\")\n",
        "plt.xlabel(\"Valence\")\n",
        "plt.ylabel(\"Arousal\")\n",
        "plt.show()\n"
      ],
      "metadata": {
        "execution": {
          "iopub.status.busy": "2024-04-09T06:17:20.855819Z",
          "iopub.execute_input": "2024-04-09T06:17:20.856695Z",
          "iopub.status.idle": "2024-04-09T06:17:21.174181Z",
          "shell.execute_reply.started": "2024-04-09T06:17:20.85666Z",
          "shell.execute_reply": "2024-04-09T06:17:21.173291Z"
        },
        "jupyter": {
          "source_hidden": true,
          "outputs_hidden": true
        },
        "collapsed": true,
        "trusted": true,
        "id": "AQLQLwzhTOfY"
      },
      "execution_count": null,
      "outputs": []
    },
    {
      "cell_type": "code",
      "source": [
        "# 3. Visualization: Data Distribution\n",
        "plt.figure(figsize=(12, 8))\n",
        "for i in range(all_eeg_channels_array.shape[2]):\n",
        "    plt.subplot(4, 4, i+1)\n",
        "    plt.hist(all_eeg_channels_array[:, :, i].flatten(), bins=50, color='skyblue', alpha=0.7)\n",
        "    plt.title(f\"{channel_names[i]} Channel Distribution\")\n",
        "    plt.xlabel(\"Value\")\n",
        "    plt.ylabel(\"Frequency\")\n",
        "plt.tight_layout()\n",
        "plt.show()\n"
      ],
      "metadata": {
        "execution": {
          "iopub.status.busy": "2024-04-09T06:25:07.977333Z",
          "iopub.execute_input": "2024-04-09T06:25:07.978451Z",
          "iopub.status.idle": "2024-04-09T06:25:14.948386Z",
          "shell.execute_reply.started": "2024-04-09T06:25:07.978406Z",
          "shell.execute_reply": "2024-04-09T06:25:14.947514Z"
        },
        "jupyter": {
          "source_hidden": true,
          "outputs_hidden": true
        },
        "collapsed": true,
        "trusted": true,
        "id": "rSGYDBKvTOfY"
      },
      "execution_count": null,
      "outputs": []
    },
    {
      "cell_type": "code",
      "source": [
        "# Plot violin plot\n",
        "plt.figure(figsize=(12, 8))\n",
        "sns.violinplot(data=all_eeg_channels_array.reshape(-1, all_eeg_channels_array.shape[-1]),\n",
        "               palette='muted', inner='point')\n",
        "plt.title('Distribution of EEG Data Across Channels')\n",
        "plt.xlabel('Channels')\n",
        "plt.ylabel('EEG Data')\n",
        "plt.xticks(ticks=np.arange(all_eeg_channels_array.shape[-1]), labels=channel_names)\n",
        "plt.show()"
      ],
      "metadata": {
        "execution": {
          "iopub.status.busy": "2024-04-09T06:26:16.584383Z",
          "iopub.execute_input": "2024-04-09T06:26:16.584927Z",
          "iopub.status.idle": "2024-04-09T06:28:39.65314Z",
          "shell.execute_reply.started": "2024-04-09T06:26:16.584897Z",
          "shell.execute_reply": "2024-04-09T06:28:39.652228Z"
        },
        "jupyter": {
          "source_hidden": true,
          "outputs_hidden": true
        },
        "collapsed": true,
        "trusted": true,
        "id": "_q3rUwr-TOfY"
      },
      "execution_count": null,
      "outputs": []
    },
    {
      "cell_type": "code",
      "source": [
        "import os\n",
        "\n",
        "# Directory containing the CSV files\n",
        "directory = '/kaggle/input/eeg-dataset-for-emotion-recognition/Data/'\n",
        "\n",
        "# Initialize lists to store reshaped EEG channels and labels\n",
        "all_reshaped_channels = []\n",
        "all_labels = []\n",
        "\n",
        "# Iterate over each file in the directory\n",
        "for filename in os.listdir(directory):\n",
        "    if filename.endswith(\".csv\"):\n",
        "        file_path = os.path.join(directory, filename)\n",
        "        print(file_path)\n",
        "\n",
        "        # Read the CSV file\n",
        "        data = pd.read_csv(file_path)\n",
        "\n",
        "        # Select the EEG channels columns and the first 38250 samples\n",
        "        eeg_channels = data[['AF3', 'AF4', 'F3', 'F4', 'F7', 'F8', 'FC5', 'FC6', 'O1', 'O2', 'P7', 'P8', 'T7', 'T8']][:38250]\n",
        "\n",
        "        # Define the number of segments\n",
        "        num_segments = 6\n",
        "\n",
        "        # Calculate the segment size\n",
        "        segment_size = eeg_channels.shape[0] // num_segments\n",
        "\n",
        "        # Define the number of subsegments\n",
        "        num_subsegments = 5\n",
        "\n",
        "        # Calculate the subsegment size\n",
        "        subsegment_size = segment_size // num_subsegments\n",
        "\n",
        "        # Reshape the EEG channels data into segments and subsegments\n",
        "        reshaped_channels = eeg_channels.values.reshape(1, num_segments, eeg_channels.shape[1], num_subsegments, subsegment_size)\n",
        "\n",
        "        # Select the first 6 rows for labels\n",
        "        labels = data[['valence', 'arousal']][:6].values.reshape(1, 6, -1)\n",
        "\n",
        "        # Append the reshaped EEG channels and labels to the lists\n",
        "        all_reshaped_channels.append(reshaped_channels)\n",
        "        all_labels.append(labels)\n",
        "\n",
        "# Convert lists to arrays\n",
        "all_reshaped_channels_array = np.concatenate(all_reshaped_channels, axis=0)\n",
        "all_labels_array = np.concatenate(all_labels, axis=0)\n",
        "\n",
        "# Print the shapes of the arrays\n",
        "print(\"All Reshaped EEG Channels Array Shape:\", all_reshaped_channels_array.shape)\n",
        "print(\"All Labels Array Shape:\", all_labels_array.shape)\n"
      ],
      "metadata": {
        "execution": {
          "iopub.status.busy": "2024-04-10T10:04:49.474734Z",
          "iopub.execute_input": "2024-04-10T10:04:49.475094Z",
          "iopub.status.idle": "2024-04-10T10:04:58.464815Z",
          "shell.execute_reply.started": "2024-04-10T10:04:49.475065Z",
          "shell.execute_reply": "2024-04-10T10:04:58.463855Z"
        },
        "jupyter": {
          "source_hidden": true,
          "outputs_hidden": true
        },
        "collapsed": true,
        "trusted": true,
        "id": "e1c3Ou6HTOfZ"
      },
      "execution_count": null,
      "outputs": []
    },
    {
      "cell_type": "code",
      "source": [
        "#3d\n",
        "# Reshape the EEG channels array\n",
        "reshaped_channels_array = all_reshaped_channels_array.reshape(-1, all_reshaped_channels_array.shape[2],\n",
        "                                                            all_reshaped_channels_array.shape[3],\n",
        "                                                            all_reshaped_channels_array.shape[4])\n",
        "\n",
        "# Reshape the labels array\n",
        "reshaped_labels_array = all_labels_array.reshape(-1, all_labels_array.shape[2])\n",
        "\n",
        "# Print the shapes of the reshaped arrays\n",
        "print(\"Reshaped EEG Channels Array Shape:\", reshaped_channels_array.shape)\n",
        "print(\"Reshaped Labels Array Shape:\", reshaped_labels_array.shape)\n"
      ],
      "metadata": {
        "execution": {
          "iopub.status.busy": "2024-04-10T10:43:07.711783Z",
          "iopub.execute_input": "2024-04-10T10:43:07.712528Z",
          "iopub.status.idle": "2024-04-10T10:43:07.718365Z",
          "shell.execute_reply.started": "2024-04-10T10:43:07.712481Z",
          "shell.execute_reply": "2024-04-10T10:43:07.717548Z"
        },
        "trusted": true,
        "id": "S61E8aTmTOfZ"
      },
      "execution_count": null,
      "outputs": []
    },
    {
      "cell_type": "code",
      "source": [
        "#3d\n",
        "def map_labels(valence, arousal):\n",
        "    if valence <= 2.5 and arousal <= 2.5:\n",
        "        return 0  # Low valence, low arousal\n",
        "    elif valence <= 2.5 and arousal > 2.5:\n",
        "        return 1  # Low valence, high arousal\n",
        "    elif valence > 2.5 and arousal <= 2.5:\n",
        "        return 2  # High valence, low arousal\n",
        "    else:\n",
        "        return 3  # High valence, high arousal\n",
        "\n",
        "# Example usage:\n",
        "reshaped_labels_mapped = np.array([map_labels(valence, arousal) for valence, arousal in reshaped_labels_array])\n",
        "reshaped_labels_mapped"
      ],
      "metadata": {
        "execution": {
          "iopub.status.busy": "2024-04-10T11:12:15.047026Z",
          "iopub.execute_input": "2024-04-10T11:12:15.047978Z",
          "iopub.status.idle": "2024-04-10T11:12:15.059433Z",
          "shell.execute_reply.started": "2024-04-10T11:12:15.047942Z",
          "shell.execute_reply": "2024-04-10T11:12:15.05856Z"
        },
        "trusted": true,
        "id": "cS4VLVe2TOfa"
      },
      "execution_count": null,
      "outputs": []
    },
    {
      "cell_type": "markdown",
      "source": [
        "# Preprocessing"
      ],
      "metadata": {
        "id": "H8ds12yKTOfa"
      }
    },
    {
      "cell_type": "markdown",
      "source": [
        "**Filtering**"
      ],
      "metadata": {
        "id": "lwuBKqwcTOfa"
      }
    },
    {
      "cell_type": "code",
      "source": [
        "from scipy.signal import butter, filtfilt\n",
        "channel_names = ['AF3', 'AF4', 'F3', 'F4', 'F7', 'F8', 'FC5', 'FC6', 'O1', 'O2', 'P7', 'P8', 'T7', 'T8']\n",
        "\n",
        "# Define filter parameters\n",
        "lowcut = 0.5  # Lower cutoff frequency in Hz\n",
        "highcut = 45  # Upper cutoff frequency in Hz\n",
        "fs = 128      # Sampling frequency in Hz\n",
        "order = 4     # Filter order\n",
        "\n",
        "# Function to create Butterworth bandpass filter coefficients\n",
        "def butter_bandpass(lowcut, highcut, fs, order=4):\n",
        "    nyquist = 0.5 * fs\n",
        "    low = lowcut / nyquist\n",
        "    high = highcut / nyquist\n",
        "    b, a = butter(order, [low, high], btype='band')\n",
        "    return b, a\n",
        "\n",
        "# Function to apply the Butterworth bandpass filter\n",
        "def butter_bandpass_filter(data, lowcut, highcut, fs, order=4):\n",
        "    b, a = butter_bandpass(lowcut, highcut, fs, order=order)\n",
        "    filtered_data = filtfilt(b, a, data)\n",
        "    return filtered_data\n",
        "\n",
        "# Apply the filter to each EEG channel\n",
        "filtered_data = np.zeros_like(all_eeg_channels_array)\n",
        "for i in range(all_eeg_channels_array.shape[2]):\n",
        "    filtered_data[:,:,i] = butter_bandpass_filter(all_eeg_channels_array[:,:,i], lowcut, highcut, fs, order)\n",
        "\n",
        "# Visualize the filtered data\n",
        "plt.figure(figsize=(12, 8))\n",
        "for i in range(filtered_data.shape[2]):\n",
        "    plt.subplot(4, 4, i+1)\n",
        "    plt.plot(filtered_data[:,:,i].flatten(), color='skyblue')\n",
        "    plt.title(f\"{channel_names[i]} Channel (Filtered)\")\n",
        "    plt.xlabel(\"Time\")\n",
        "    plt.ylabel(\"Amplitude\")\n",
        "plt.tight_layout()\n",
        "plt.show()\n"
      ],
      "metadata": {
        "execution": {
          "iopub.status.busy": "2024-04-10T09:09:45.618122Z",
          "iopub.execute_input": "2024-04-10T09:09:45.618476Z",
          "iopub.status.idle": "2024-04-10T09:09:57.054412Z",
          "shell.execute_reply.started": "2024-04-10T09:09:45.618448Z",
          "shell.execute_reply": "2024-04-10T09:09:57.053548Z"
        },
        "jupyter": {
          "source_hidden": true,
          "outputs_hidden": true
        },
        "collapsed": true,
        "trusted": true,
        "id": "tG6jzoBUTOfa"
      },
      "execution_count": null,
      "outputs": []
    },
    {
      "cell_type": "markdown",
      "source": [
        "# 3d Filter"
      ],
      "metadata": {
        "id": "giFIXjtYTOfa"
      }
    },
    {
      "cell_type": "code",
      "source": [
        "from scipy.signal import butter, filtfilt\n",
        "\n",
        "# Define filter parameters\n",
        "lowcut = 0.5  # Lower cutoff frequency in Hz\n",
        "highcut = 45  # Upper cutoff frequency in Hz\n",
        "fs = 128      # Sampling frequency in Hz\n",
        "order = 4     # Filter order\n",
        "\n",
        "# Function to create Butterworth bandpass filter coefficients\n",
        "def butter_bandpass(lowcut, highcut, fs, order=4):\n",
        "    nyquist = 0.5 * fs\n",
        "    low = lowcut / nyquist\n",
        "    high = highcut / nyquist\n",
        "    b, a = butter(order, [low, high], btype='band')\n",
        "    return b, a\n",
        "\n",
        "# Function to apply the Butterworth bandpass filter to a 3D array\n",
        "def butter_bandpass_filter_3d(data, lowcut, highcut, fs, order=4):\n",
        "    filtered_data = np.zeros_like(data)\n",
        "    for i in range(data.shape[0]):\n",
        "        for j in range(data.shape[1]):\n",
        "            b, a = butter_bandpass(lowcut, highcut, fs, order=order)\n",
        "            filtered_data[i, j, :, :] = filtfilt(b, a, data[i, j, :, :])\n",
        "    return filtered_data\n",
        "\n",
        "# Apply the filter to the EEG channels data\n",
        "filtered_data = butter_bandpass_filter_3d(reshaped_channels_array, lowcut, highcut, fs, order)\n",
        "\n",
        "# Visualize the filtered data for each channel\n",
        "plt.figure(figsize=(12, 8))\n",
        "for i in range(filtered_data.shape[1]):\n",
        "    for j in range(filtered_data.shape[2]):\n",
        "        plt.subplot(14, 5, i*5 + j + 1)\n",
        "        plt.plot(filtered_data[0, i, j, :].flatten(), color='skyblue')\n",
        "        plt.title(f\"{channel_names[i]} Channel (Filtered)\")\n",
        "        plt.xlabel(\"Time\")\n",
        "        plt.ylabel(\"Amplitude\")\n",
        "plt.tight_layout()\n",
        "plt.show()\n",
        "\n"
      ],
      "metadata": {
        "execution": {
          "iopub.status.busy": "2024-04-10T10:13:37.519408Z",
          "iopub.execute_input": "2024-04-10T10:13:37.520707Z",
          "iopub.status.idle": "2024-04-10T10:14:01.520301Z",
          "shell.execute_reply.started": "2024-04-10T10:13:37.520656Z",
          "shell.execute_reply": "2024-04-10T10:14:01.519451Z"
        },
        "jupyter": {
          "source_hidden": true,
          "outputs_hidden": true
        },
        "collapsed": true,
        "trusted": true,
        "id": "fSG43OsZTOfb"
      },
      "execution_count": null,
      "outputs": []
    },
    {
      "cell_type": "code",
      "source": [
        "#no need after 3d reading\n",
        "filtered_data_reshaped = filtered_data.transpose(0, 2, 1)\n",
        "print(\"Reshaped Filtered Data Shape:\", filtered_data_reshaped.shape)\n",
        "\n",
        "filtered_data.shape"
      ],
      "metadata": {
        "execution": {
          "iopub.status.busy": "2024-04-10T09:10:07.650437Z",
          "iopub.execute_input": "2024-04-10T09:10:07.651279Z",
          "iopub.status.idle": "2024-04-10T09:10:07.660545Z",
          "shell.execute_reply.started": "2024-04-10T09:10:07.651251Z",
          "shell.execute_reply": "2024-04-10T09:10:07.659524Z"
        },
        "jupyter": {
          "source_hidden": true
        },
        "trusted": true,
        "id": "bJUW0ZI0TOfb"
      },
      "execution_count": null,
      "outputs": []
    },
    {
      "cell_type": "code",
      "source": [
        "#no need after 3d reading\n",
        "import numpy as np\n",
        "\n",
        "# Assuming filtered_data is your original data with shape (100, 14, 38252)\n",
        "reshaped_filtered_data = filtered_data.reshape(100, 14, 6, 6375)\n",
        "reshaped_filtered_data = reshaped_filtered_data.transpose(0, 2, 1, 3)\n",
        "# Check the shape of the reshaped data\n",
        "print(\"Reshaped Filtered Data Shape:\", reshaped_filtered_data.shape)\n",
        "\n"
      ],
      "metadata": {
        "execution": {
          "iopub.status.busy": "2024-04-10T10:14:31.086632Z",
          "iopub.execute_input": "2024-04-10T10:14:31.086968Z",
          "iopub.status.idle": "2024-04-10T10:14:31.093078Z",
          "shell.execute_reply.started": "2024-04-10T10:14:31.086932Z",
          "shell.execute_reply": "2024-04-10T10:14:31.092113Z"
        },
        "jupyter": {
          "source_hidden": true
        },
        "trusted": true,
        "id": "kJd3ys3kTOfb"
      },
      "execution_count": null,
      "outputs": []
    },
    {
      "cell_type": "code",
      "source": [],
      "metadata": {
        "id": "z6T_fY4GTOfb"
      },
      "execution_count": null,
      "outputs": []
    },
    {
      "cell_type": "markdown",
      "source": [
        "# Feature Extraction"
      ],
      "metadata": {
        "id": "u8Jct3gfTOfb"
      }
    },
    {
      "cell_type": "code",
      "source": [
        "'''import numpy as np\n",
        "from scipy.stats import entropy\n",
        "\n",
        "# Define the number of segments\n",
        "num_segments = 6\n",
        "\n",
        "# Define a function to compute differential entropy for a given EEG channel\n",
        "def compute_differential_entropy(channel_data):\n",
        "    # Estimate probability density function using histogram-based method\n",
        "    hist, bin_edges = np.histogram(channel_data, bins='auto', density=True)\n",
        "\n",
        "    # Compute entropy\n",
        "    entropy_value = entropy(hist, base=2)  # Use base 2 for entropy calculation\n",
        "\n",
        "    return entropy_value\n",
        "\n",
        "# Compute differential entropy for each segment in the dataset\n",
        "num_samples = filtered_data.shape[0]\n",
        "num_channels = filtered_data.shape[2]\n",
        "segment_size = filtered_data.shape[1] // num_segments\n",
        "\n",
        "differential_entropy_features = []\n",
        "\n",
        "for sample_idx in range(num_samples):\n",
        "    sample_segment_entropy = []\n",
        "\n",
        "    for segment_idx in range(num_segments):\n",
        "        segment_entropy = []\n",
        "\n",
        "        # Calculate start and end indices for the segment\n",
        "        start_idx = segment_idx * segment_size\n",
        "        end_idx = start_idx + segment_size\n",
        "\n",
        "        for i in range(num_channels):\n",
        "            channel_data = filtered_data[sample_idx, start_idx:end_idx, i]\n",
        "            channel_segment_entropy = []\n",
        "            for point_idx in range(len(channel_data)):\n",
        "                point_data = channel_data[point_idx]\n",
        "                entropy_value = compute_differential_entropy(point_data)\n",
        "                channel_segment_entropy.append(entropy_value)\n",
        "\n",
        "            segment_entropy.append(channel_segment_entropy)\n",
        "\n",
        "        sample_segment_entropy.append(segment_entropy)\n",
        "\n",
        "    differential_entropy_features.append(sample_segment_entropy)\n",
        "\n",
        "# Convert the list to a numpy array\n",
        "differential_entropy_features = np.array(differential_entropy_features)\n",
        "\n",
        "# Print the shapes of the features and labels\n",
        "print(\"Differential Entropy Features Shape:\", differential_entropy_features.shape)\n",
        "print(\"Labels Shape:\", all_labels_array.shape)\n",
        "'''\n"
      ],
      "metadata": {
        "execution": {
          "iopub.status.busy": "2024-04-10T10:16:43.949894Z",
          "iopub.execute_input": "2024-04-10T10:16:43.950334Z",
          "iopub.status.idle": "2024-04-10T10:16:43.95888Z",
          "shell.execute_reply.started": "2024-04-10T10:16:43.950297Z",
          "shell.execute_reply": "2024-04-10T10:16:43.957862Z"
        },
        "jupyter": {
          "source_hidden": true,
          "outputs_hidden": true
        },
        "collapsed": true,
        "trusted": true,
        "id": "OFtcR6YuTOfb"
      },
      "execution_count": null,
      "outputs": []
    },
    {
      "cell_type": "code",
      "source": [
        "import numpy as np\n",
        "from scipy.stats import entropy\n",
        "\n",
        "# Assuming you have filtered EEG data stored in filtered_data variable\n",
        "# Assuming labels are stored in all_labels_array variable\n",
        "\n",
        "# Define a function to compute differential entropy for a given EEG channel\n",
        "def compute_differential_entropy(channel_data):\n",
        "    # Estimate probability density function using histogram-based method\n",
        "    hist, bin_edges = np.histogram(channel_data, bins='auto', density=True)\n",
        "\n",
        "    # Compute entropy\n",
        "    entropy_value = entropy(hist, base=2)  # Use base 2 for entropy calculation\n",
        "\n",
        "    return entropy_value\n",
        "\n",
        "# Compute differential entropy for each sample in the dataset\n",
        "num_samples = filtered_data.shape[0]\n",
        "num_channels = filtered_data.shape[2]\n",
        "differential_entropy_features = []\n",
        "for sample_idx in range(num_samples):\n",
        "    sample_entropy = []\n",
        "    for i in range(num_channels):\n",
        "        channel_data = filtered_data[sample_idx, :, i]\n",
        "        entropy_value = compute_differential_entropy(channel_data)\n",
        "        sample_entropy.append(entropy_value)\n",
        "    differential_entropy_features.append(sample_entropy)\n",
        "\n",
        "# Convert the list to a numpy array\n",
        "differential_entropy_features = np.array(differential_entropy_features)\n",
        "\n",
        "# Print the shapes of the features and labels\n",
        "print(\"Differential Entropy Features Shape:\", differential_entropy_features.shape)\n",
        "print(\"Labels Shape:\", all_labels_array.shape)\n"
      ],
      "metadata": {
        "execution": {
          "iopub.status.busy": "2024-04-09T06:55:47.283627Z",
          "iopub.execute_input": "2024-04-09T06:55:47.284321Z",
          "iopub.status.idle": "2024-04-09T06:55:50.583375Z",
          "shell.execute_reply.started": "2024-04-09T06:55:47.284289Z",
          "shell.execute_reply": "2024-04-09T06:55:50.582213Z"
        },
        "jupyter": {
          "source_hidden": true
        },
        "trusted": true,
        "id": "cGzR9XPzTOfc"
      },
      "execution_count": null,
      "outputs": []
    },
    {
      "cell_type": "code",
      "source": [
        "import numpy as np\n",
        "from scipy.stats import entropy\n",
        "\n",
        "# Reshape the reshaped_channels_array to (600, 14, 5, 1275)\n",
        "reshaped_channels_array = reshaped_channels_array.reshape(600, 14, 5, 1275)\n",
        "\n",
        "# Function to compute differential entropy for a given EEG segment\n",
        "def compute_differential_entropy(segment):\n",
        "    # Estimate probability density function using histogram-based method\n",
        "    hist, bin_edges = np.histogram(segment, bins='auto', density=True)\n",
        "    # Compute entropy\n",
        "    entropy_values = entropy(hist, base=2)  # Use base 2 for entropy calculation\n",
        "    return entropy_values\n",
        "\n",
        "# Compute differential entropy for each segment\n",
        "differential_entropy_features = np.zeros((600, 14, 5, 1275))\n",
        "for i in range(600):\n",
        "    for j in range(14):\n",
        "        for k in range(5):\n",
        "            segment = reshaped_channels_array[i, j, k, :]\n",
        "            differential_entropy_features[i, j, :, k] = compute_differential_entropy(segment)\n",
        "\n",
        "# Swap the last two dimensions\n",
        "differential_entropy_features = np.swapaxes(differential_entropy_features, -1, -2)\n",
        "\n",
        "# Check the shape of the computed features\n",
        "print(\"Differential Entropy Features Shape:\", differential_entropy_features.shape)\n"
      ],
      "metadata": {
        "execution": {
          "iopub.status.busy": "2024-04-10T10:43:14.389753Z",
          "iopub.execute_input": "2024-04-10T10:43:14.39011Z",
          "iopub.status.idle": "2024-04-10T10:43:54.766643Z",
          "shell.execute_reply.started": "2024-04-10T10:43:14.390082Z",
          "shell.execute_reply": "2024-04-10T10:43:54.765695Z"
        },
        "trusted": true,
        "id": "4rSI303dTOfc"
      },
      "execution_count": null,
      "outputs": []
    },
    {
      "cell_type": "code",
      "source": [
        "data = differential_entropy_features\n",
        "labels_edited = reshaped_labels_mapped\n",
        "data.shape"
      ],
      "metadata": {
        "execution": {
          "iopub.status.busy": "2024-04-10T10:57:13.195102Z",
          "iopub.execute_input": "2024-04-10T10:57:13.195945Z",
          "iopub.status.idle": "2024-04-10T10:57:13.202971Z",
          "shell.execute_reply.started": "2024-04-10T10:57:13.195914Z",
          "shell.execute_reply": "2024-04-10T10:57:13.202066Z"
        },
        "trusted": true,
        "id": "7EWhqHJmTOfd"
      },
      "execution_count": null,
      "outputs": []
    },
    {
      "cell_type": "code",
      "source": [
        "from sklearn.utils import shuffle\n",
        "#(675, 62, 265, 5)(675,)\n",
        "#(600, 14, 5, 1275) (600,)\n",
        "differential_entropy_features, reshaped_labels_mapped = shuffle(differential_entropy_features, reshaped_labels_mapped)"
      ],
      "metadata": {
        "execution": {
          "iopub.status.busy": "2024-04-10T10:57:16.027885Z",
          "iopub.execute_input": "2024-04-10T10:57:16.028482Z",
          "iopub.status.idle": "2024-04-10T10:57:16.235215Z",
          "shell.execute_reply.started": "2024-04-10T10:57:16.028455Z",
          "shell.execute_reply": "2024-04-10T10:57:16.234257Z"
        },
        "trusted": true,
        "id": "TwxxtHBpTOfd"
      },
      "execution_count": null,
      "outputs": []
    },
    {
      "cell_type": "markdown",
      "source": [
        "# Traing"
      ],
      "metadata": {
        "id": "InQ4-r53TOfd"
      }
    },
    {
      "cell_type": "code",
      "source": [
        "!pip install keras-tuner\n",
        "!pip install mat73\n",
        "!pip install -U tensorflow-addons\n",
        "\n",
        "#from google.colab import drive\n",
        "#drive.mount('/content/drive')\n",
        "import tensorflow as tf\n",
        "from tensorflow import keras\n",
        "import numpy as np\n",
        "import scipy.io as sio\n",
        "from tensorflow.keras.utils import to_categorical\n",
        "import mat73\n",
        "from keras.callbacks import ReduceLROnPlateau\n",
        "import sklearn.metrics\n",
        "from sklearn.utils import shuffle\n",
        "from tensorflow.keras import layers\n",
        "#import tensorflow_addons as tfa\n",
        "from tensorflow.keras.layers import LSTM\n",
        "from tensorflow.keras.layers import Reshape\n",
        "from tensorflow.keras.models import Sequential\n",
        "from tensorflow.keras.layers import Conv2D, MaxPooling2D, Dense, Flatten, Dropout, Conv3D, MaxPooling3D, BatchNormalization\n",
        "import matplotlib.pyplot as plt\n",
        "%matplotlib inline"
      ],
      "metadata": {
        "execution": {
          "iopub.status.busy": "2024-04-10T11:05:55.259807Z",
          "iopub.execute_input": "2024-04-10T11:05:55.260833Z",
          "iopub.status.idle": "2024-04-10T11:06:31.75894Z",
          "shell.execute_reply.started": "2024-04-10T11:05:55.260798Z",
          "shell.execute_reply": "2024-04-10T11:06:31.757762Z"
        },
        "collapsed": true,
        "jupyter": {
          "outputs_hidden": true
        },
        "trusted": true,
        "id": "KI3QbnLwTOfd"
      },
      "execution_count": null,
      "outputs": []
    },
    {
      "cell_type": "code",
      "source": [
        "import tensorflow.keras as keras\n",
        "#import tensorflow_addons as tfa"
      ],
      "metadata": {
        "execution": {
          "iopub.status.busy": "2024-04-10T11:09:24.183853Z",
          "iopub.execute_input": "2024-04-10T11:09:24.184214Z",
          "iopub.status.idle": "2024-04-10T11:09:24.188809Z",
          "shell.execute_reply.started": "2024-04-10T11:09:24.184189Z",
          "shell.execute_reply": "2024-04-10T11:09:24.187725Z"
        },
        "trusted": true,
        "id": "PG8D4XNrTOfd"
      },
      "execution_count": null,
      "outputs": []
    },
    {
      "cell_type": "code",
      "source": [
        "#**OLD trainging **\n",
        "\n",
        "import numpy as np\n",
        "import tensorflow as tf\n",
        "from tensorflow.keras import layers, models\n",
        "\n",
        "# Assuming you have the following shapes for features and labels\n",
        "# differential_entropy_features.shape: (100, 14)\n",
        "# all_labels_array.shape: (100, 2)\n",
        "\n",
        "# Selecting only arousal labels\n",
        "arousal_labels = all_labels_array[:, 1]  # Assuming arousal is the second column\n",
        "\n",
        "# Reshaping features to add channel dimension (required for CNN)\n",
        "differential_entropy_features = differential_entropy_features.reshape(-1, 14, 1)\n",
        "\n",
        "# Splitting data into training and validation sets\n",
        "train_ratio = 0.8\n",
        "train_size = int(train_ratio * len(differential_entropy_features))\n",
        "\n",
        "train_features = differential_entropy_features[:train_size]\n",
        "train_labels = arousal_labels[:train_size]\n",
        "val_features = differential_entropy_features[train_size:]\n",
        "val_labels = arousal_labels[train_size:]\n",
        "\n",
        "# Define the CNN model\n",
        "model = models.Sequential([\n",
        "    layers.Conv1D(32, 3, activation='relu', input_shape=(14, 1)),\n",
        "    layers.MaxPooling1D(2),\n",
        "    layers.Conv1D(64, 3, activation='relu'),\n",
        "    layers.MaxPooling1D(2),\n",
        "    layers.Flatten(),\n",
        "    layers.Dense(64, activation='relu'),\n",
        "    layers.Dense(1)  # Output layer with 1 neuron for regression\n",
        "])\n",
        "\n",
        "# Compile the model\n",
        "model.compile(optimizer='adam', loss='mse', metrics=['mae'])\n",
        "model.summary()\n"
      ],
      "metadata": {
        "execution": {
          "iopub.status.busy": "2024-04-09T06:58:06.270311Z",
          "iopub.execute_input": "2024-04-09T06:58:06.270682Z",
          "iopub.status.idle": "2024-04-09T06:58:25.282406Z",
          "shell.execute_reply.started": "2024-04-09T06:58:06.270655Z",
          "shell.execute_reply": "2024-04-09T06:58:25.281539Z"
        },
        "jupyter": {
          "source_hidden": true,
          "outputs_hidden": true
        },
        "collapsed": true,
        "trusted": true,
        "id": "uDVNVK5gTOfe"
      },
      "execution_count": null,
      "outputs": []
    },
    {
      "cell_type": "code",
      "source": [
        "# Train the model\n",
        "history = model.fit(train_features, train_labels, epochs=10, batch_size=16, validation_data=(val_features, val_labels))\n",
        "\n",
        "# Evaluate the model on the validation set\n",
        "val_loss, val_mae = model.evaluate(val_features, val_labels)\n",
        "\n",
        "print(\"Validation Loss:\", val_loss)\n",
        "print(\"Validation MAE:\", val_mae)\n"
      ],
      "metadata": {
        "execution": {
          "iopub.status.busy": "2024-04-09T06:58:32.74242Z",
          "iopub.execute_input": "2024-04-09T06:58:32.74309Z",
          "iopub.status.idle": "2024-04-09T06:58:39.601413Z",
          "shell.execute_reply.started": "2024-04-09T06:58:32.743058Z",
          "shell.execute_reply": "2024-04-09T06:58:39.600414Z"
        },
        "jupyter": {
          "source_hidden": true,
          "outputs_hidden": true
        },
        "collapsed": true,
        "trusted": true,
        "id": "TJnEzeHKTOfe"
      },
      "execution_count": null,
      "outputs": []
    },
    {
      "cell_type": "markdown",
      "source": [
        "**Colab traing**"
      ],
      "metadata": {
        "id": "NF08n6F1TOfe"
      }
    },
    {
      "cell_type": "code",
      "source": [
        "cumul = []\n",
        "for i in range(4): cumul.append([])"
      ],
      "metadata": {
        "execution": {
          "iopub.status.busy": "2024-04-10T10:57:19.904843Z",
          "iopub.execute_input": "2024-04-10T10:57:19.905201Z",
          "iopub.status.idle": "2024-04-10T10:57:19.909488Z",
          "shell.execute_reply.started": "2024-04-10T10:57:19.905173Z",
          "shell.execute_reply": "2024-04-10T10:57:19.908553Z"
        },
        "trusted": true,
        "id": "JtD47bb0TOfe"
      },
      "execution_count": null,
      "outputs": []
    },
    {
      "cell_type": "code",
      "source": [
        "max_val = np.max(data)\n",
        "min_val = np.min(data)\n",
        "\n",
        "# Normalizing data\n",
        "data = data / max_val\n",
        "data = (data - np.mean(data)) / np.std(data)\n",
        "\n",
        "# Cropping end time segments\n",
        "data = data[:, :, 0:1250, :]\n",
        "\n",
        "# Splitting Dataset into train, validation, test\n",
        "train_labels = labels_edited[0:520]\n",
        "test_labels = labels_edited[520:560]\n",
        "final_labels = labels_edited[560:600]\n",
        "\n",
        "train_data = data[0:520]\n",
        "test_data = data[520:560]\n",
        "final_test = data[560:600]\n",
        "\n",
        "cf_labels = np.where(final_labels == -1, 3, final_labels)  # Label in the form for confusion matrix\n",
        "un, co = np.unique(cf_labels, return_counts=True)\n",
        "print(f'Unique: {un}, Counts: {co}')\n",
        "\n",
        "train_labels_reshaped = train_labels.reshape(-1, 1)  # Formatting for input to the CNN model\n",
        "test_labels_reshaped = test_labels.reshape(-1, 1)\n",
        "final_labels_reshaped = final_labels.reshape(-1, 1)\n",
        "\n",
        "train_labels_reshaped = to_categorical(train_labels_reshaped, 4)  # One Hot Encoding\n",
        "test_labels_reshaped = to_categorical(test_labels_reshaped, 4)\n",
        "final_labels_reshaped = to_categorical(final_labels_reshaped, 4)\n",
        "\n",
        "rnn_train = train_data.reshape(520, 14, -1)  # Formatting for RNN input\n",
        "rnn_test = test_data.reshape(40, 14, -1)\n",
        "rnn_train = np.transpose(rnn_train, (0, 2, 1))\n",
        "rnn_test = np.transpose(rnn_test, (0, 2, 1))\n",
        "\n",
        "print(train_data.shape, rnn_train.shape)\n"
      ],
      "metadata": {
        "execution": {
          "iopub.status.busy": "2024-04-10T11:16:45.078665Z",
          "iopub.execute_input": "2024-04-10T11:16:45.079605Z",
          "iopub.status.idle": "2024-04-10T11:16:45.848833Z",
          "shell.execute_reply.started": "2024-04-10T11:16:45.079568Z",
          "shell.execute_reply": "2024-04-10T11:16:45.847706Z"
        },
        "trusted": true,
        "id": "hVkWdskOTOfe"
      },
      "execution_count": null,
      "outputs": []
    },
    {
      "cell_type": "code",
      "source": [
        "fig, a = plt.subplots(5, 1, squeeze= False, figsize= (15, 10))\n",
        "titles = ['Alpha', 'Beta', 'Delta', 'Gamma', 'Theta']\n",
        "for cnt in range(5):\n",
        "  for i in range(len(test_data[5])):\n",
        "    a[cnt][0].plot(range(len(test_data[5][i,:,cnt])), test_data[5][i,:,cnt])\n",
        "  a[cnt][0].set_title(titles[cnt])\n",
        "  a[cnt][0].set_xlabel('Samples')\n",
        "  a[cnt][0].set_ylabel('Amplitude')"
      ],
      "metadata": {
        "execution": {
          "iopub.status.busy": "2024-04-10T11:17:28.461296Z",
          "iopub.execute_input": "2024-04-10T11:17:28.462032Z",
          "iopub.status.idle": "2024-04-10T11:17:29.582671Z",
          "shell.execute_reply.started": "2024-04-10T11:17:28.462Z",
          "shell.execute_reply": "2024-04-10T11:17:29.581753Z"
        },
        "trusted": true,
        "id": "Sj5J4hwLTOff"
      },
      "execution_count": null,
      "outputs": []
    },
    {
      "cell_type": "code",
      "source": [
        "from tensorflow.keras.models import Sequential\n",
        "from tensorflow.keras.layers import Conv2D, MaxPooling2D, Dropout, Flatten, Dense\n",
        "\n",
        "model = Sequential([\n",
        "    Conv2D(filters=64, kernel_size=5, input_shape=(14, 1250, 5), padding='same'),\n",
        "    Conv2D(filters=64, kernel_size=3, padding='same'),\n",
        "    Conv2D(filters=64, kernel_size=3, padding='same'),\n",
        "    MaxPooling2D(pool_size=2, strides=2, padding='same'),  # Adjusted max-pooling layer\n",
        "    Dropout(rate=0.3),\n",
        "    Conv2D(filters=128, kernel_size=3, padding='same'),\n",
        "    Conv2D(filters=128, kernel_size=3, padding='same'),\n",
        "    MaxPooling2D(pool_size=2, strides=2, padding='same'),  # Adjusted max-pooling layer\n",
        "    Dropout(rate=0.2),\n",
        "    Conv2D(filters=256, kernel_size=3, padding='same'),\n",
        "    MaxPooling2D(pool_size=2, strides=2, padding='same'),  # Adjusted max-pooling layer\n",
        "    Dropout(rate=0.25),\n",
        "    Conv2D(filters=512, kernel_size=3, padding='same'),\n",
        "    MaxPooling2D(pool_size=2, strides=2, padding='same'),  # Adjusted max-pooling layer\n",
        "    Dropout(rate=0.3),\n",
        "    Flatten(),\n",
        "    Dense(512, activation='relu'),\n",
        "    Dropout(rate=0.4),\n",
        "    Dense(256, activation='relu'),\n",
        "    Dropout(rate=0.2),\n",
        "    Dense(64, activation='relu'),\n",
        "    Dense(4, activation='softmax')\n",
        "])\n",
        "\n",
        "model.compile(optimizer=keras.optimizers.Adam(learning_rate=9e-5),\n",
        "              loss=keras.losses.categorical_crossentropy,\n",
        "              metrics=['accuracy', tf.keras.metrics.RootMeanSquaredError()])\n",
        "\n",
        "model.summary()\n"
      ],
      "metadata": {
        "execution": {
          "iopub.status.busy": "2024-04-10T11:31:01.815562Z",
          "iopub.execute_input": "2024-04-10T11:31:01.816337Z",
          "iopub.status.idle": "2024-04-10T11:31:01.956404Z",
          "shell.execute_reply.started": "2024-04-10T11:31:01.816304Z",
          "shell.execute_reply": "2024-04-10T11:31:01.955481Z"
        },
        "trusted": true,
        "id": "cLTL7uZQTOff"
      },
      "execution_count": null,
      "outputs": []
    },
    {
      "cell_type": "code",
      "source": [
        "dot_img_file = 'model CNN .png'\n",
        "tf.keras.utils.plot_model(model, to_file=dot_img_file, show_shapes=True)"
      ],
      "metadata": {
        "execution": {
          "iopub.status.busy": "2024-04-10T11:19:45.83631Z",
          "iopub.execute_input": "2024-04-10T11:19:45.837281Z",
          "iopub.status.idle": "2024-04-10T11:19:46.553844Z",
          "shell.execute_reply.started": "2024-04-10T11:19:45.837236Z",
          "shell.execute_reply": "2024-04-10T11:19:46.552915Z"
        },
        "trusted": true,
        "id": "vohPBLkYTOff"
      },
      "execution_count": null,
      "outputs": []
    },
    {
      "cell_type": "code",
      "source": [
        "#Training our CNN model using a learning rate annealer (Reduces LR on Plateaus)\n",
        "reduce_lr_cnn = ReduceLROnPlateau(monitor='val_loss', factor=0.3, patience=5, min_lr=1e-7) #patience = 5 and factor = 0.9\n",
        "\n",
        "history = model.fit(\n",
        "  train_data,\n",
        "  train_labels_reshaped,\n",
        "  batch_size = 128,\n",
        "  epochs=100,\n",
        "  validation_data=(test_data, test_labels_reshaped),\n",
        "  callbacks = [reduce_lr_cnn]\n",
        ")"
      ],
      "metadata": {
        "execution": {
          "iopub.status.busy": "2024-04-10T11:40:43.479741Z",
          "iopub.execute_input": "2024-04-10T11:40:43.480705Z",
          "iopub.status.idle": "2024-04-10T11:46:12.091015Z",
          "shell.execute_reply.started": "2024-04-10T11:40:43.480673Z",
          "shell.execute_reply": "2024-04-10T11:46:12.090094Z"
        },
        "trusted": true,
        "id": "viUVkMaWTOff"
      },
      "execution_count": null,
      "outputs": []
    },
    {
      "cell_type": "code",
      "source": [],
      "metadata": {
        "id": "fWXIDFWTTOfg"
      },
      "execution_count": null,
      "outputs": []
    }
  ]
}