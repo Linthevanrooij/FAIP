{
 "cells": [
  {
   "cell_type": "code",
   "execution_count": 85,
   "metadata": {},
   "outputs": [],
   "source": [
    "import random\n",
    "import numpy as np\n",
    "import json"
   ]
  },
  {
   "cell_type": "code",
   "execution_count": 86,
   "metadata": {},
   "outputs": [],
   "source": [
    "stage_01 = \"Create a detailed persona for the intended user of a chair, focusing on their lifestyle, preferences, and values relevant to seating. Include key factors such as comfort needs, aesthetic tastes, and potential use environments. Additionally, create a visual portrait of this persona, capturing their characteristics and style preferences in a visualization.\"\n",
    "stage_02 = \"Define the main problem the chair design aims to solve, independently of any prior user insights or persona details. Outline functional and aesthetic requirements that the chair should meet, focusing on aspects like durability, comfort, and visual style. Create a mood board to capture these requirements, combining textures, colors, and style inspirations that align with the intended direction.\"\n",
    "stage_03 = \"Generate multiple design ideas for the chair without reference to prior user personas, problem definitions, or requirements. List each concept with descriptions of the chair’s form, shape, and material choices. Create an industrial design sketch that explores different forms and styles, visualizing the various possibilities for the chair design.\"\n",
    "stage_04 = \"Create a final design for the chair that is production-ready, focusing on specific materials, dimensions, and assembly instructions. Do not refer to any previous personas, problem definitions, or form ideas. Produce a high-quality rendering of the finalized design, showcasing materials, finishes, and structure in a realistic setting.\"\n",
    "all_stages = [stage_01, stage_02, stage_03, stage_04]\n",
    "\n",
    "\n",
    "text_prompts = [\"Text Output: Persona description including user lifestyle, values, comfort needs, and aesthetic preferences.\", \"Text Output: Problem statement with a list of functional and aesthetic requirements for the chair.\", \"Text Output: List of design ideas, each with form descriptions and material choices.\", \"Text Output: Finalized design description with materials, dimensions, and assembly instructions.\"]\n",
    "image_prompts = [\"Image Output: Portrait of the persona that visually represents their style and characteristics.\", \"Image Output: Mood board that reflects the functional and aesthetic requirements.\", \"Image Output: Industrial design sketch showing various chair forms and styles.\", \"Image Output: High-resolution rendering of the final chair design in a realistic setting.\"]"
   ]
  },
  {
   "cell_type": "code",
   "execution_count": 87,
   "metadata": {},
   "outputs": [],
   "source": [
    "def extra_emotion(valence, arousal):\n",
    "  emotion = f\"\"\"\n",
    "  Take into account my current emotional state without explicitly mentioning it, scales ranging from -1 to 1.\n",
    "  Arousal: {arousal}\n",
    "  Valence: {valence}\n",
    "  \"\"\"\n",
    "  return emotion"
   ]
  },
  {
   "cell_type": "code",
   "execution_count": 88,
   "metadata": {},
   "outputs": [],
   "source": [
    "def make_prompts(stage_num, all_scores, stage):\n",
    "    current_stage = all_scores[f'stage_{stage_num}']['prompts']\n",
    "    pos = all_scores['positive']\n",
    "    neg = all_scores['negative']\n",
    "\n",
    "    prompt_baseline = stage\n",
    "    prompt_pos_h_arousal= stage + \" \" + extra_emotion(pos['valence'], pos['arousal_high'])\n",
    "    prompt_neg_h_arousal = stage + \" \" + extra_emotion(neg['valence'], neg['arousal_high'])\n",
    "\n",
    "    prompt_pos_l_arousal= stage + \" \" + extra_emotion(pos['valence'], pos['arousal_low'])\n",
    "    prompt_neg_l_arousal = stage + \" \" + extra_emotion(neg['valence'], neg['arousal_low'])\n",
    "\n",
    "    # text\n",
    "    current_text = current_stage['text_prompt']\n",
    "    current_text['B'] = prompt_baseline + text_prompts[stage_num-1]\n",
    "    current_text['PHA'] = prompt_pos_h_arousal + text_prompts[stage_num-1]\n",
    "    current_text['NHA'] = prompt_neg_h_arousal + text_prompts[stage_num-1]\n",
    "    current_text['PLA'] = prompt_pos_l_arousal + text_prompts[stage_num-1]\n",
    "    current_text['NLA'] = prompt_neg_l_arousal + text_prompts[stage_num-1]\n",
    "\n",
    "    # images\n",
    "    current_image = current_stage['image_prompt']\n",
    "    current_image['B'] = prompt_baseline + image_prompts[stage_num-1]\n",
    "    current_image['PHA'] = prompt_pos_h_arousal + image_prompts[stage_num-1]\n",
    "    current_image['NHA'] = prompt_neg_h_arousal + image_prompts[stage_num-1]\n",
    "    current_image['PLA'] = prompt_pos_l_arousal + image_prompts[stage_num-1]\n",
    "    current_image['NLA'] = prompt_neg_l_arousal + image_prompts[stage_num-1]\n",
    "\n",
    "    # all without specifics\n",
    "    current_text = current_stage['all']\n",
    "    current_text['B'] = prompt_baseline \n",
    "    current_text['PHA'] = prompt_pos_h_arousal \n",
    "    current_text['NHA'] = prompt_neg_h_arousal \n",
    "    current_text['PLA'] = prompt_pos_l_arousal \n",
    "    current_text['NLA'] = prompt_neg_l_arousal \n",
    "    "
   ]
  },
  {
   "cell_type": "code",
   "execution_count": null,
   "metadata": {},
   "outputs": [],
   "source": []
  },
  {
   "cell_type": "code",
   "execution_count": 89,
   "metadata": {},
   "outputs": [],
   "source": [
    "all_scores = {'positive': {'valence': 0.5, 'arousal_high': 0.5, 'arousal_low': -0.5},\n",
    "              'negative': {'valence': -0.5, 'arousal_high': 0.5, 'arousal_low': -0.5},\n",
    "              'stages': len(all_stages)}\n",
    "\n",
    "\n",
    "for i, stage in enumerate(all_stages):\n",
    "  i += 1\n",
    "  all_scores[f'stage_{i}'] = {'prompts': {'text_prompt': {}, 'image_prompt': {}, 'all': {}}, 'output_text': {}, 'sentiment': {}}\n",
    "  make_prompts(i, all_scores, stage)\n",
    "\n",
    "with open('all_scores.json', 'w') as f:\n",
    "  f.write(json.dumps(all_scores, indent=3))\n"
   ]
  },
  {
   "cell_type": "code",
   "execution_count": null,
   "metadata": {},
   "outputs": [],
   "source": []
  },
  {
   "cell_type": "code",
   "execution_count": null,
   "metadata": {},
   "outputs": [],
   "source": []
  }
 ],
 "metadata": {
  "kernelspec": {
   "display_name": "FAIP",
   "language": "python",
   "name": "python3"
  },
  "language_info": {
   "codemirror_mode": {
    "name": "ipython",
    "version": 3
   },
   "file_extension": ".py",
   "mimetype": "text/x-python",
   "name": "python",
   "nbconvert_exporter": "python",
   "pygments_lexer": "ipython3",
   "version": "3.12.6"
  }
 },
 "nbformat": 4,
 "nbformat_minor": 2
}
