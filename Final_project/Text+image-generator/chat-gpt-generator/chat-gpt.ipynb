{
 "cells": [
  {
   "cell_type": "markdown",
   "metadata": {},
   "source": [
    "# Retrieve input for experimental design"
   ]
  },
  {
   "cell_type": "markdown",
   "metadata": {},
   "source": [
    "## Import libraries and files"
   ]
  },
  {
   "cell_type": "code",
   "execution_count": 1,
   "metadata": {},
   "outputs": [],
   "source": [
    "from openai import OpenAI\n",
    "import openai\n",
    "import os\n",
    "import json\n",
    "import requests\n",
    "import nltk\n",
    "from textblob import TextBlob\n",
    "from textblob.sentiments import NaiveBayesAnalyzer\n",
    "\n",
    "\n",
    "client = OpenAI()\n",
    "openai.api_key = os.getenv(\"OPENAI_API_KEY\")\n",
    "\n",
    "with open('all_scores.json', 'r') as file:\n",
    "    data = json.load(file)"
   ]
  },
  {
   "cell_type": "markdown",
   "metadata": {},
   "source": [
    "## GPT functions to retrieve text and image based on all_scores.json"
   ]
  },
  {
   "cell_type": "code",
   "execution_count": 2,
   "metadata": {},
   "outputs": [],
   "source": [
    "def generate_text_GPT(text_prompt):\n",
    "    \"\"\"\n",
    "    Creates a new ChatGPT output, based on certain rules defined in the global variable \"standard_rules\".\n",
    "    It clears the conversation history and add the new list items to it (starting a new chat).\n",
    "\n",
    "    Input\n",
    "    A text prompt that is meant for ChatGPT in string\n",
    "\n",
    "    Returns\n",
    "    ChatGPT output in a string\n",
    "\n",
    "    \"\"\"\n",
    "    messages = [{\"role\": \"system\", \"content\": \"Create the output without any markdown or markup\"}]\n",
    "    messages.append({\"role\": \"user\", \"content\": text_prompt})\n",
    "\n",
    "    new = client.chat.completions.create(\n",
    "                model=\"gpt-4o\",\n",
    "                messages=messages\n",
    "            )\n",
    "\n",
    "    # only get the output message \n",
    "    output = new.choices[0].message.content\n",
    "\n",
    "    return output\n",
    "\n",
    "def generate_image_GPT(text_prompt):\n",
    "    \"\"\"\n",
    "    Creates a new DALLE-3 output, based on certain rules defined in the global variable \"standard_rules\".\n",
    "\n",
    "    Input\n",
    "    A text prompt that is meant for ChatGPT in string\n",
    "\n",
    "    Returns\n",
    "    Image URL (online for an hour)\n",
    "\n",
    "    \"\"\"\n",
    "\n",
    "    response = client.images.generate(\n",
    "                model=\"dall-e-3\",\n",
    "                prompt=text_prompt,\n",
    "                size=\"1024x1024\",\n",
    "                quality=\"standard\",\n",
    "                n=1\n",
    "            )\n",
    "\n",
    "    # get image URL\n",
    "    image_url = response.data[0].url\n",
    "\n",
    "    return image_url\n",
    "\n",
    "\n",
    "def output(data):\n",
    "    amount_stages = data['stages']\n",
    "    for i in range(amount_stages):\n",
    "        i += 1\n",
    "        print(f\"log - stage: {i}\")\n",
    "\n",
    "        prompts = data[f'stage_{i}']['prompts']['text_prompt']\n",
    "        for cat, prompt in prompts.items():\n",
    "            print(f\"log - category: {cat}, creating text\")\n",
    "            text_output = generate_text_GPT(prompt)\n",
    "            data[f'stage_{i}']['output_text'][f'{cat}'] = text_output\n",
    "\n",
    "            print('log - creating sentiment')\n",
    "            blob = TextBlob(text_output, analyzer=NaiveBayesAnalyzer())\n",
    "            data[f'stage_{i}']['sentiment'][f'{cat}'] = blob.sentiment\n",
    "\n",
    "        prompts = data[f'stage_{i}']['prompts']['image_prompt']\n",
    "        for cat, prompt in prompts.items():\n",
    "            print(f\"log - category: {cat}, creating image\")\n",
    "            image_url = generate_image_GPT(prompt)\n",
    "            image_output = requests.get(image_url).content\n",
    "            with open(f\"images2/S{i}{cat}.png\", \"wb\") as file:\n",
    "                file.write(image_output)\n"
   ]
  },
  {
   "cell_type": "code",
   "execution_count": 134,
   "metadata": {},
   "outputs": [
    {
     "name": "stdout",
     "output_type": "stream",
     "text": [
      "log - stage: 1\n",
      "log - category: B, creating text\n",
      "log - creating sentiment\n",
      "log - category: PHA, creating text\n",
      "log - creating sentiment\n",
      "log - category: NHA, creating text\n",
      "log - creating sentiment\n",
      "log - category: PLA, creating text\n",
      "log - creating sentiment\n",
      "log - category: NLA, creating text\n",
      "log - creating sentiment\n",
      "log - category: B, creating image\n",
      "log - category: PHA, creating image\n",
      "log - category: NHA, creating image\n",
      "log - category: PLA, creating image\n",
      "log - category: NLA, creating image\n",
      "log - stage: 2\n",
      "log - category: B, creating text\n",
      "log - creating sentiment\n",
      "log - category: PHA, creating text\n",
      "log - creating sentiment\n",
      "log - category: NHA, creating text\n",
      "log - creating sentiment\n",
      "log - category: PLA, creating text\n",
      "log - creating sentiment\n",
      "log - category: NLA, creating text\n",
      "log - creating sentiment\n",
      "log - category: B, creating image\n",
      "log - category: PHA, creating image\n",
      "log - category: NHA, creating image\n",
      "log - category: PLA, creating image\n",
      "log - category: NLA, creating image\n",
      "log - stage: 3\n",
      "log - category: B, creating text\n",
      "log - creating sentiment\n",
      "log - category: PHA, creating text\n",
      "log - creating sentiment\n",
      "log - category: NHA, creating text\n",
      "log - creating sentiment\n",
      "log - category: PLA, creating text\n",
      "log - creating sentiment\n",
      "log - category: NLA, creating text\n",
      "log - creating sentiment\n",
      "log - category: B, creating image\n",
      "log - category: PHA, creating image\n",
      "log - category: NHA, creating image\n",
      "log - category: PLA, creating image\n",
      "log - category: NLA, creating image\n",
      "log - stage: 4\n",
      "log - category: B, creating text\n",
      "log - creating sentiment\n",
      "log - category: PHA, creating text\n",
      "log - creating sentiment\n",
      "log - category: NHA, creating text\n",
      "log - creating sentiment\n",
      "log - category: PLA, creating text\n",
      "log - creating sentiment\n",
      "log - category: NLA, creating text\n",
      "log - creating sentiment\n",
      "log - category: B, creating image\n",
      "log - category: PHA, creating image\n",
      "log - category: NHA, creating image\n",
      "log - category: PLA, creating image\n",
      "log - category: NLA, creating image\n"
     ]
    }
   ],
   "source": [
    "# Run functions\n",
    "output(data)"
   ]
  },
  {
   "cell_type": "markdown",
   "metadata": {},
   "source": [
    "Testing"
   ]
  },
  {
   "cell_type": "code",
   "execution_count": 6,
   "metadata": {},
   "outputs": [
    {
     "name": "stdout",
     "output_type": "stream",
     "text": [
      "Valid OpenAI API key.\n"
     ]
    }
   ],
   "source": [
    "def check_openai_api_key(api_key):\n",
    "    client = openai.OpenAI(api_key=api_key)\n",
    "    try:\n",
    "        client.models.list()\n",
    "    except openai.AuthenticationError:\n",
    "        return False\n",
    "    else:\n",
    "        return True\n",
    "    \n",
    "if check_openai_api_key(openai.api_key):\n",
    "    print(\"Valid OpenAI API key.\")\n",
    "else:\n",
    "    print(\"Invalid OpenAI API key.\")"
   ]
  },
  {
   "cell_type": "code",
   "execution_count": 72,
   "metadata": {},
   "outputs": [
    {
     "name": "stdout",
     "output_type": "stream",
     "text": [
      "Cheerful\n",
      "\n",
      "Persona Name: Alex Morgan\n",
      "\n",
      "Lifestyle: Alex is a 35-year-old creative professional working in graphic design. They lead an active lifestyle, often balancing professional work with personal interests in art, outdoor activities, and social gatherings. Alex enjoys spending time at home, which serves as both a sanctuary for relaxation and a space to nurture creative ideas. Flexibility in living and work environments is essential for Alex, as they often transition between home office setup, studios, and occasional outdoor workspaces to draw inspiration from nature.\n",
      "\n",
      "Comfort Needs: Comfort is a top priority for Alex, who often spends long hours working on projects. The chair must provide superior ergonomic support, helping maintain good posture to prevent strain during extended working sessions. Alex appreciates features like adjustable seat heights, lumbar support, and breathable materials, ensuring comfort throughout the day. For Alex, the ability to easily switch from a focused working position to a relaxed lounging mode is crucial, as it aligns with their dynamic work style.\n",
      "\n",
      "Aesthetic Tastes: Alex has a modern, eclectic aesthetic preference. They appreciate clean lines, unique design elements, and a mix of textures in furniture. Alex is drawn to pieces that can serve dual purposes, offering both functionality and a visual statement. A blend of contemporary minimalism with artistic flair captures their design taste, often favoring neutral palettes highlighted with bold accents or sustainable materials. \n",
      "\n",
      "Potential Use Environments: The chair will primarily be used in Alex's home office, a well-lit space decorated with art, greenery, and multifunctional furniture. The chair should complement the existing interior design while also being versatile enough to be moved to the living room or an outdoor patio for different work settings. Alex values pieces that contribute to a harmonious environment, enhancing both productivity and relaxation.\n",
      "\n",
      "Visual Portrait: Alex has a casual yet stylish appearance, reflecting their creative personality. Their wardrobe typically consists of sophisticated yet laid-back attire, combining classic pieces with artistic innovations such as patterned shirts, statement accessories, and comfortable footwear. Alex’s personal style resonates with their home environment – tasteful, modern, and effortlessly chic, with an attention to detail that subtly showcases their artistic sensibility and appreciation for design. Their surroundings mirror their positive outlook and energetic approach to life.\n"
     ]
    }
   ],
   "source": [
    "test_text = generate_text_GPT(\"\"\"Create a detailed persona for the intended user of the chair, focusing on their lifestyle, preferences, and values relevant to seating. Describe key factors such as comfort needs, aesthetic tastes, and potential use environments. Additionally, create a visual portrait of this persona, capturing their characteristics and style preferences. Take into account my current emotional state without explicitly mentioning it. \n",
    "  Arousal: 0.8, Valence: 0.8. Include the emotion at the top.\"\"\")\n",
    "print(test_text)"
   ]
  },
  {
   "cell_type": "code",
   "execution_count": 45,
   "metadata": {},
   "outputs": [
    {
     "data": {
      "text/plain": [
       "Sentiment(classification='pos', p_pos=0.9999999993685619, p_neg=6.314555843163077e-10)"
      ]
     },
     "execution_count": 45,
     "metadata": {},
     "output_type": "execute_result"
    }
   ],
   "source": [
    "blob = TextBlob(test_text, analyzer=NaiveBayesAnalyzer())\n",
    "blob.sentiment"
   ]
  },
  {
   "cell_type": "code",
   "execution_count": 3,
   "metadata": {},
   "outputs": [],
   "source": [
    "for i in range(0,2):\n",
    "    image_url = generate_image_GPT(data['stage_2']['prompts']['all']['B']+ \" Take into account my current emotional state without explicitly mentioning it, scales ranging from -1 to 1. Valence -1.0 arousal 1.\")\n",
    "    image_data = requests.get(image_url).content\n",
    "    with open(f\"HIGH{i}.png\", \"wb\") as file:\n",
    "        file.write(image_data)"
   ]
  },
  {
   "cell_type": "code",
   "execution_count": 135,
   "metadata": {},
   "outputs": [],
   "source": [
    "with open('all_data.json', 'w') as f:\n",
    "  f.write(json.dumps(data, indent=3))"
   ]
  },
  {
   "cell_type": "code",
   "execution_count": 140,
   "metadata": {},
   "outputs": [],
   "source": [
    "with open('all_data.json', 'r') as f:\n",
    "  data_ext = json.load(f)\n",
    "\n",
    "with open('all_data copy.json', 'r') as f:\n",
    "  data_simp = json.load(f)"
   ]
  },
  {
   "cell_type": "code",
   "execution_count": 144,
   "metadata": {},
   "outputs": [
    {
     "name": "stdout",
     "output_type": "stream",
     "text": [
      "Persona Description:\n",
      "\n",
      "Name: Jamie Thompson\n",
      "\n",
      "Age: 34\n",
      "\n",
      "Occupation: Graphic Designer\n",
      "\n",
      "Lifestyle: Jamie lives in a bustling urban environment. He splits his time between the home office and a co-working space downtown. An avid supporter of work-life balance, Jamie incorporates brief exercise routines and stretching into his daily schedule. He enjoys an active social life, frequently hosting friends at home for game nights and dinners. Weekends are reserved for outdoor activities like hiking or visiting art galleries.\n",
      "\n",
      "Values and Preferences: \n",
      "- Comfort Needs: Jamie values ergonomic design in seating, prioritizing lumbar support and adjustable features. As someone who spends long hours at the computer, he requires a chair that supports a healthy posture to prevent fatigue.\n",
      "- Aesthetic Tastes: With an eye for design, Jamie gravitates toward modern minimalist styles. He favors neutral color palettes with occasional bold accents, preferring materials that are both durable and sustainable. Sleek lines and subtle curves are a plus.\n",
      "- Use Environments: His chair transitions smoothly from the work desk to living spaces, adapting for use as a dining chair when hosting guests. He values versatility and pieces that complement various home settings.\n",
      "- Lifestyle Synergy: Jamie seeks furniture that aligns with his eco-conscious mindset, preferring materials that are responsibly sourced. He values products from companies with strong ethical practices and a focus on environmental impact.\n",
      "\n",
      "Visual Portrait:\n",
      "\n",
      "Jamie is stylish and somewhat eclectic, combining casual, comfortable clothing with a few standout pieces that reflect his love for contemporary art and design. He often wears tailored jeans paired with graphic tees or a relaxed button-up. Accessories are minimal but well-chosen, such as a designer watch or unique eyewear, embodying a blend of practicality and self-expression. His home reflects a similar aesthetic, with artful decor and a blend of functional yet stylish furniture, all chosen to create a comfortable yet inspiring atmosphere.\n"
     ]
    }
   ],
   "source": [
    "print(data_ext['stage_1']['output_text']['PHA'])"
   ]
  },
  {
   "cell_type": "code",
   "execution_count": 143,
   "metadata": {},
   "outputs": [
    {
     "name": "stdout",
     "output_type": "stream",
     "text": [
      "Persona Name: Emily Jacobs\n",
      "\n",
      "Age: 34\n",
      "\n",
      "Occupation: Freelance Graphic Designer\n",
      "\n",
      "Lifestyle and Habits: Emily lives in an urban apartment with a mix of modern and vintage decor. She works primarily from home, often spending hours at her desk. She enjoys hosting friends for casual get-togethers, valuing moments of connection and comfort. Her weekends are filled with visits to art galleries, cozy cafes, and city parks. Emily leads an active lifestyle, practicing yoga and occasionally cycling around the city.\n",
      "\n",
      "Seating Preferences: Comfort is paramount for Emily due to her long working hours, so ergonomic support is critical. She appreciates chairs with cushions that provide both support and softness. A high backrest is desirable for relaxation during breaks. She also values versatility in seating, preferring chairs that can easily transition from a workday setup to a comfortable spot for social gatherings.\n",
      "\n",
      "Aesthetic Tastes: Emily has an eclectic taste, merging modern simplicity with a touch of vintage charm. She prefers earth tones and natural materials, like wood and linen, which complement her apartment's aesthetic. Subtle patterns and textures are welcome, but she avoids overly ornate designs.\n",
      "\n",
      "Values: Emily prioritizes sustainable and ethically produced products, aligning with her environmental awareness. She appreciates locally crafted furniture and values quality over quantity, often investing in pieces that are timeless and durable. Functionality is important to her, as is the ability for items to adapt to different purposes and spaces.\n",
      "\n",
      "Potential Use Environments: Emily's chair would primarily be used at her home office desk but should also fit seamlessly into her living room for additional seating during gatherings. The chair should be lightweight enough for easy relocation but sturdy enough for daily use.\n",
      "\n",
      "Visual Portrait: Emily is an expressive individual who values creativity. She often dresses in casual yet stylish attire, favoring comfortable fabrics like cotton and soft knits. Her style is characterized by a mix of classic and contemporary, often accessorized with statement jewelry or a colorful scarf. Her home is reflective of her personality, blending sleek lines with a warm, inviting atmosphere. Her choice in seating is likely to mirror her love for simplicity with flair, capturing both function and form in balanced harmony.\n"
     ]
    }
   ],
   "source": [
    "print(data_simp['stage_1']['output_text']['PHA'])"
   ]
  },
  {
   "cell_type": "code",
   "execution_count": null,
   "metadata": {},
   "outputs": [],
   "source": []
  }
 ],
 "metadata": {
  "kernelspec": {
   "display_name": "FAIP",
   "language": "python",
   "name": "python3"
  },
  "language_info": {
   "codemirror_mode": {
    "name": "ipython",
    "version": 3
   },
   "file_extension": ".py",
   "mimetype": "text/x-python",
   "name": "python",
   "nbconvert_exporter": "python",
   "pygments_lexer": "ipython3",
   "version": "3.12.6"
  }
 },
 "nbformat": 4,
 "nbformat_minor": 2
}
