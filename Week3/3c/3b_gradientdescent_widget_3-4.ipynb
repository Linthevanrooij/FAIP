{
 "cells": [
  {
   "cell_type": "markdown",
   "id": "5f2dd88b",
   "metadata": {
    "cellIdentifier": "re43n9x8ifaj7s0xq2axa"
   },
   "source": [
    "We use these widgets below to:\n",
    "\n",
    "- To get a better understanding of how optimization works for machine learning algorithms\n",
    "- To understand the meaning of the gradient\n",
    "\n",
    "Please try to answer each question in the Jupyter notebook. "
   ]
  },
  {
   "cell_type": "code",
   "execution_count": 1,
   "id": "40c27410",
   "metadata": {
    "cellIdentifier": "jgn5e0cpr2rqznb4novg"
   },
   "outputs": [],
   "source": [
    "%matplotlib inline\n",
    "from interactive import init, init2, init3, init4\n"
   ]
  },
  {
   "cell_type": "markdown",
   "id": "f2470195",
   "metadata": {
    "cellIdentifier": "6cotf85174wmoz7mq94m39"
   },
   "source": [
    "# Widget 3"
   ]
  },
  {
   "cell_type": "code",
   "execution_count": 2,
   "id": "96c3b11e",
   "metadata": {
    "cellIdentifier": "9f088m9q6h6z7rqhcgyzfo"
   },
   "outputs": [
    {
     "data": {
      "application/vnd.jupyter.widget-view+json": {
       "model_id": "618cdcdef48d45ef978edafd8b4ed7bf",
       "version_major": 2,
       "version_minor": 0
      },
      "text/plain": [
       "VBox(children=(HBox(children=(FloatSlider(value=-10.0, continuous_update=False, max=15.0, min=-15.0), Label(va…"
      ]
     },
     "metadata": {},
     "output_type": "display_data"
    },
    {
     "data": {
      "application/vnd.jupyter.widget-view+json": {
       "model_id": "98708ca6904842d8bd6c8b16ffc4e77a",
       "version_major": 2,
       "version_minor": 0
      },
      "text/plain": [
       "Output()"
      ]
     },
     "metadata": {},
     "output_type": "display_data"
    }
   ],
   "source": [
    "plot = init2()\n",
    "plot"
   ]
  },
  {
   "cell_type": "markdown",
   "id": "522b4424",
   "metadata": {
    "cellIdentifier": "9rqx3xjqyqr19bqthm8qmx"
   },
   "source": [
    "Let us now go back to the very first example. During the optimization process, we can efficiently compute the red arrow. The red arrow represents the negative gradient, which means, it tells us how to update the parameters to reduce the MSE as fast as possible. In this widget, we show the value of the negative gradient next to the slider. This value tells us how to update the parameters. \n",
    "\n",
    "**Q3.1:** use the negative gradient displayed next to the sliders to guide the optimization. How many tries does it take you to reach a MSE of < 1.5? "
   ]
  },
  {
   "cell_type": "code",
   "execution_count": null,
   "id": "d72b2135",
   "metadata": {
    "cellIdentifier": "ittd6tfz1gmalmmxv5dsr5"
   },
   "outputs": [],
   "source": [
    "# answer"
   ]
  },
  {
   "cell_type": "markdown",
   "id": "bc648f14",
   "metadata": {
    "cellIdentifier": "qq9s7qa0hcoxpg9px65bxi"
   },
   "source": [
    "# Widget 4"
   ]
  },
  {
   "cell_type": "code",
   "execution_count": 3,
   "id": "45cf4679",
   "metadata": {
    "cellIdentifier": "e2lanfru5jmhu5sqohcig"
   },
   "outputs": [
    {
     "data": {
      "application/vnd.jupyter.widget-view+json": {
       "model_id": "ec945018f6174b639feca2516740aacd",
       "version_major": 2,
       "version_minor": 0
      },
      "text/plain": [
       "VBox(children=(HBox(children=(FloatSlider(value=0.0, continuous_update=False, max=10.0, min=-10.0), Label(valu…"
      ]
     },
     "metadata": {},
     "output_type": "display_data"
    },
    {
     "data": {
      "application/vnd.jupyter.widget-view+json": {
       "model_id": "c90fe97e4f194e87a4a042bb6c5d2127",
       "version_major": 2,
       "version_minor": 0
      },
      "text/plain": [
       "Output()"
      ]
     },
     "metadata": {},
     "output_type": "display_data"
    }
   ],
   "source": [
    "plot = init3(show_grad=True)\n",
    "plot"
   ]
  },
  {
   "cell_type": "markdown",
   "id": "66cdfaef",
   "metadata": {
    "cellIdentifier": "bzcmkn6qgyepnnf3ws8akd"
   },
   "source": [
    "Now try the same strategy (using the negative gradients displayed next to the slider) for this more realistic example.\n",
    "\n",
    "**Q4.1:** What MSE can you get with 25 tries?"
   ]
  },
  {
   "cell_type": "code",
   "execution_count": null,
   "id": "0884cca0",
   "metadata": {
    "cellIdentifier": "j50paiybmcdpl5390fxwtq"
   },
   "outputs": [],
   "source": [
    "# answer"
   ]
  }
 ],
 "metadata": {
  "kernelspec": {
   "display_name": "Python 3 (ipykernel)",
   "language": "python",
   "name": "python3"
  },
  "language_info": {
   "codemirror_mode": {
    "name": "ipython",
    "version": 3
   },
   "file_extension": ".py",
   "mimetype": "text/x-python",
   "name": "python",
   "nbconvert_exporter": "python",
   "pygments_lexer": "ipython3",
   "version": "3.8.19"
  }
 },
 "nbformat": 4,
 "nbformat_minor": 5
}
