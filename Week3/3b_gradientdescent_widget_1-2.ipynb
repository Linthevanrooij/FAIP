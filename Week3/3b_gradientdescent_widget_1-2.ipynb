{
 "cells": [
  {
   "cell_type": "markdown",
   "id": "5f2dd88b",
   "metadata": {
    "cellIdentifier": "e96s3n46m9dseve8tv7qq"
   },
   "source": [
    "We use these widgets below to:\n",
    "\n",
    "- To get a better understanding of how optimization works for machine learning algorithms\n",
    "- To understand the meaning of the gradient\n",
    "\n",
    "Please try to answer each question in the Jupyter notebook. "
   ]
  },
  {
   "cell_type": "markdown",
   "id": "34792b37",
   "metadata": {
    "cellIdentifier": "6yk4keetsa8up91vbhrwi"
   },
   "source": [
    "# Widget 1"
   ]
  },
  {
   "cell_type": "code",
   "execution_count": 1,
   "id": "40c27410",
   "metadata": {
    "cellIdentifier": "98tu0fwlihqy3mpoiydb2c"
   },
   "outputs": [
    {
     "data": {
      "application/vnd.jupyter.widget-view+json": {
       "model_id": "70d30f940f2c4a32b8724033d1e98b25",
       "version_major": 2,
       "version_minor": 0
      },
      "text/plain": [
       "interactive(children=(FloatSlider(value=0.0, continuous_update=False, description='a', max=10.0, min=-10.0), F…"
      ]
     },
     "execution_count": 1,
     "metadata": {},
     "output_type": "execute_result"
    }
   ],
   "source": [
    "%matplotlib inline\n",
    "from interactive import init, init2, init3, init4\n",
    "\n",
    "plot = init()\n",
    "plot"
   ]
  },
  {
   "cell_type": "markdown",
   "id": "58368307",
   "metadata": {
    "cellIdentifier": "aa3o3uyr94urslqopss8i"
   },
   "source": [
    "Here we have a toy problem where we are trying to fit a regression model, $y=ax+b$. \n",
    "\n",
    "**Q 1.1:** Move the sliders for **a** and **b** around. What does the leftmost plot show?"
   ]
  },
  {
   "cell_type": "code",
   "execution_count": null,
   "id": "a88b48cb",
   "metadata": {
    "cellIdentifier": "gasf8ms1hbg1v65fhi3hgt"
   },
   "outputs": [],
   "source": [
    "# answer here\n"
   ]
  },
  {
   "cell_type": "markdown",
   "id": "0896fa02",
   "metadata": {
    "cellIdentifier": "68ayffzkm2xchg5xc0ik45"
   },
   "source": [
    "**Q 1.2:** Move the sliders for **a** and **b** around. Can you explain what the middle plot shows? What do the level lines indicate? "
   ]
  },
  {
   "cell_type": "code",
   "execution_count": null,
   "id": "63441521",
   "metadata": {
    "cellIdentifier": "31ro5g2upvoif8nvn9ey3s"
   },
   "outputs": [],
   "source": [
    "# answer here"
   ]
  },
  {
   "cell_type": "markdown",
   "id": "8e18882e",
   "metadata": {
    "cellIdentifier": "xhzfj8zxdvf7leayh2th7"
   },
   "source": [
    "**Q1.3:** Note that each time you update the sliders for **a** and **b**, that the red arrow in the middle plot changes direction. In what direction is it always pointing?"
   ]
  },
  {
   "cell_type": "code",
   "execution_count": null,
   "id": "386e4e35",
   "metadata": {
    "cellIdentifier": "xl37c78bugb5mmn2qhm6en"
   },
   "outputs": [],
   "source": [
    "# answer here"
   ]
  },
  {
   "cell_type": "markdown",
   "id": "f9ab1574",
   "metadata": {
    "cellIdentifier": "dqntbb41ozcj9gvcprtswc"
   },
   "source": [
    "In the third plot you can see your progress (blue line) and the optimal MSE (orange).\n",
    "\n",
    "**Q1.4:** Can you tune the sliders so you get an MSE < 1.5? What value of a and b do you find? How many tries did it take you?"
   ]
  },
  {
   "cell_type": "code",
   "execution_count": null,
   "id": "63e0ad39",
   "metadata": {
    "cellIdentifier": "tpbq4vp8jjt7wz5ga3x3"
   },
   "outputs": [],
   "source": [
    "# answer here"
   ]
  },
  {
   "cell_type": "markdown",
   "id": "5745c3bd",
   "metadata": {
    "cellIdentifier": "dhuh0gfqq9mmdu6gvygzy"
   },
   "source": [
    "# Widget 2"
   ]
  },
  {
   "cell_type": "code",
   "execution_count": 2,
   "id": "972efee2",
   "metadata": {
    "cellIdentifier": "bczof58ehobxv8wan1x178"
   },
   "outputs": [
    {
     "data": {
      "application/vnd.jupyter.widget-view+json": {
       "model_id": "67dba39d0ba24ac293514909fe017ee9",
       "version_major": 2,
       "version_minor": 0
      },
      "text/plain": [
       "VBox(children=(HBox(children=(FloatSlider(value=0.0, continuous_update=False, max=10.0, min=-10.0), Label(valu…"
      ]
     },
     "metadata": {},
     "output_type": "display_data"
    },
    {
     "data": {
      "application/vnd.jupyter.widget-view+json": {
       "model_id": "f74ed56cfe0147649753470034bd178a",
       "version_major": 2,
       "version_minor": 0
      },
      "text/plain": [
       "Output()"
      ]
     },
     "metadata": {},
     "output_type": "display_data"
    }
   ],
   "source": [
    "plot = init3()\n",
    "plot"
   ]
  },
  {
   "cell_type": "markdown",
   "id": "801813a8",
   "metadata": {
    "cellIdentifier": "kiiq5hx67wk2jkysh301ky"
   },
   "source": [
    "Now let us have a look at a more realistic example. Here we have 6 parameters to set. Because of this reason, we cannot plot the parameter space anymore (a 6 dimensional plot would be difficult to visualize). "
   ]
  },
  {
   "cell_type": "markdown",
   "id": "fe87697a",
   "metadata": {
    "cellIdentifier": "6qmb8fsarr2zztn4a0c7nh"
   },
   "source": [
    "**Q2.1:** Try to set the parameters using at maximum 25 tries (see the x-axis on the right plot). What MSE can you reach in 25 tries? What strategy did you use?"
   ]
  },
  {
   "cell_type": "code",
   "execution_count": null,
   "id": "d63f1cd7",
   "metadata": {
    "cellIdentifier": "v1ue5gagvwmrfm405pr8o"
   },
   "outputs": [],
   "source": [
    "# answer"
   ]
  }
 ],
 "metadata": {
  "kernelspec": {
   "display_name": "Python 3 (ipykernel)",
   "language": "python",
   "name": "python3"
  },
  "language_info": {
   "codemirror_mode": {
    "name": "ipython",
    "version": 3
   },
   "file_extension": ".py",
   "mimetype": "text/x-python",
   "name": "python",
   "nbconvert_exporter": "python",
   "pygments_lexer": "ipython3",
   "version": "3.8.19"
  }
 },
 "nbformat": 4,
 "nbformat_minor": 5
}
