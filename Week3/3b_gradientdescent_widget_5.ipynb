{
 "cells": [
  {
   "cell_type": "markdown",
   "id": "5f2dd88b",
   "metadata": {
    "cellIdentifier": "l90whoam3fxubqj4w4itj"
   },
   "source": [
    "We use these widgets below to:\n",
    "\n",
    "- To get a better understanding of how optimization works for machine learning algorithms\n",
    "- To understand the meaning of the gradient\n",
    "\n",
    "Please try to answer each question in the Jupyter notebook. "
   ]
  },
  {
   "cell_type": "code",
   "execution_count": 1,
   "id": "40c27410",
   "metadata": {
    "cellIdentifier": "6op63i40stw9mv6j5ampv"
   },
   "outputs": [],
   "source": [
    "%matplotlib inline\n",
    "from interactive import init, init2, init3, init4"
   ]
  },
  {
   "cell_type": "markdown",
   "id": "939b7e2e",
   "metadata": {
    "cellIdentifier": "wz4olnvvz5xfbsmmes7ms"
   },
   "source": [
    "# Widget 5"
   ]
  },
  {
   "cell_type": "code",
   "execution_count": 2,
   "id": "0de3467c",
   "metadata": {
    "cellIdentifier": "7eccnoe9z6cq1syi06q5ng"
   },
   "outputs": [
    {
     "data": {
      "application/vnd.jupyter.widget-view+json": {
       "model_id": "b15eb8e3e18e41adb7f66d48e6ef9eb2",
       "version_major": 2,
       "version_minor": 0
      },
      "text/plain": [
       "HBox(children=(FloatLogSlider(value=0.01, continuous_update=False, description='Eta', max=-0.1, min=-5.0, step…"
      ]
     },
     "metadata": {},
     "output_type": "display_data"
    },
    {
     "data": {
      "application/vnd.jupyter.widget-view+json": {
       "model_id": "97204243e97c45e09021d802c2fcd9b0",
       "version_major": 2,
       "version_minor": 0
      },
      "text/plain": [
       "Output()"
      ]
     },
     "metadata": {},
     "output_type": "display_data"
    }
   ],
   "source": [
    "plot = init4()\n",
    "plot"
   ]
  },
  {
   "cell_type": "markdown",
   "id": "a7de94d2",
   "metadata": {
    "cellIdentifier": "7kb5mt22trx8lyvloqut"
   },
   "source": [
    "In this plot we show the the results of training using the optimization algorithm \"batch gradient descent\". \n",
    "Each iteration, this algorithm updates the parameters by taking a step in the direction of the negative gradient. \n",
    "The number of epochs determines how long the optimization keeps running, and the learning rate determines the size of the step.\n",
    "In the parameter space, the blue dots show the progress of the optimization and the red dot indicates the final solution. \n",
    "\n",
    "**Q5.1:** Update the learning rate **Eta** and the **(Number of) Epochs** such that the training converges. Converges means that training has found a good optimal solution. Which setting for **Eta** and **Epochs** did you find?"
   ]
  },
  {
   "cell_type": "code",
   "execution_count": 3,
   "id": "3d502a4e",
   "metadata": {
    "cellIdentifier": "nq0bszx2qy8igru4ldtymr"
   },
   "outputs": [],
   "source": [
    "# answer: "
   ]
  },
  {
   "cell_type": "markdown",
   "id": "b63c891e",
   "metadata": {
    "cellIdentifier": "hi1czy5p1ig0ifzlcl0f6yg"
   },
   "source": [
    "**Q5.2:** If the learning rate is small (for example, 0.025), how can we compensate for this and still converge? "
   ]
  },
  {
   "cell_type": "code",
   "execution_count": null,
   "id": "5e38964c",
   "metadata": {
    "cellIdentifier": "apqukpije44g728b1bl6yo"
   },
   "outputs": [],
   "source": [
    "# answer:"
   ]
  },
  {
   "cell_type": "markdown",
   "id": "39363efc",
   "metadata": {
    "cellIdentifier": "fdtnvzl5ru7vcly741agtm"
   },
   "source": [
    "**Q5.3:** What happens if the learning rate is too large? How can we explain this?"
   ]
  },
  {
   "cell_type": "code",
   "execution_count": null,
   "id": "a34bdda3",
   "metadata": {
    "cellIdentifier": "7y3xwpoii97z1qjmh8vkx"
   },
   "outputs": [],
   "source": [
    "# answer: "
   ]
  }
 ],
 "metadata": {
  "kernel_id": "ba7d94f8-2ae3-4f45-91eb-01d633c6c098",
  "kernelspec": {
   "display_name": "Python 3 (ipykernel)",
   "language": "python",
   "name": "python3"
  },
  "language_info": {
   "codemirror_mode": {
    "name": "ipython",
    "version": 3
   },
   "file_extension": ".py",
   "mimetype": "text/x-python",
   "name": "python",
   "nbconvert_exporter": "python",
   "pygments_lexer": "ipython3",
   "version": "3.8.19"
  }
 },
 "nbformat": 4,
 "nbformat_minor": 5
}
