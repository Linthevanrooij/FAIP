{
 "cells": [
  {
   "cell_type": "markdown",
   "id": "662a2513",
   "metadata": {
    "cellIdentifier": "ruiak2qwvghqykddvkt4wg"
   },
   "source": [
    "# Fundamentals of Artificial Intelligence Programme (2024/25 Q1)\n",
    "## Classification & Training Models\n",
    "### Part 1: Classification\n",
    "Author: Tom Viering, Juan Molano  \n",
    "Revised by: Prajit Bhaskaran, Danae Savvidi\n",
    "\n",
    "**WHAT** This lab consists of some programming and insight exercises/questions.\n",
    "\n",
    "**WHY** The exercises are meant to familiarize you with the basic concepts of classification models.\n",
    "\n",
    "**HOW** Follow the exercises in the notebook on your own or with a fellow student. For questions and feedback please\n",
    "consult the TA's during the lab session or on Mattermost.\n",
    "\n",
    "**Please note that under each subquestion there is an empty box to put your answers in. Simply click under the subquestion and the answer box will be highlighted and double click to put your answers in. In some exercises you may need to provide your final answer in a variable for autograding. Questions 3 and 5 are graded.**\n",
    "\n",
    "<div style=\"background-color:#c2eafa\">\n",
    "\n",
    "**Exercise 1** Given following 1D problem compute the decision boundary for the nearest mean.\n",
    "\n",
    "Class 1: \\[10, 18, 20, 25\\] \n",
    "\n",
    "Class 2: \\[30, 43, 55, 78\\] \n"
   ]
  },
  {
   "cell_type": "markdown",
   "id": "ceee35c0",
   "metadata": {
    "cellIdentifier": "njk9pz24unk8p2qiplb7"
   },
   "source": [
    "<div style=\"background-color:#f1be3e\">\n",
    "\n",
    "[//]: # (START ANSWER)\n",
    "34.875\n",
    "\n",
    "[//]: # (END ANSWER)\n"
   ]
  },
  {
   "cell_type": "code",
   "execution_count": 1,
   "id": "04806ce2",
   "metadata": {
    "cellIdentifier": "glyok7s4s8jsvyhxvmh0c",
    "lines_to_next_cell": 2
   },
   "outputs": [
    {
     "name": "stdout",
     "output_type": "stream",
     "text": [
      "34.875\n"
     ]
    }
   ],
   "source": [
    "# Write your answer here, round your answer to 3 decimal places.\n",
    "class1_mean = (10+18+20+25)/4\n",
    "class2_mean = (30+43+55+78)/4\n",
    "\n",
    "decision_boundary = (class1_mean + class2_mean) /2\n",
    "print(decision_boundary)"
   ]
  },
  {
   "cell_type": "code",
   "execution_count": 2,
   "id": "2b85c2dd",
   "metadata": {
    "cellIdentifier": "wzq44rokasysss7maltm",
    "deletable": false,
    "editable": false,
    "nbgrader": {
     "grade": true,
     "grade_id": "decision_boundary",
     "locked": true,
     "points": "1",
     "solution": false
    }
   },
   "outputs": [],
   "source": [
    "###\n",
    "### AUTOGRADER TEST - DO NOT REMOVE\n",
    "###\n"
   ]
  },
  {
   "cell_type": "markdown",
   "id": "1a3aa6a7",
   "metadata": {
    "cellIdentifier": "1idvbvq3dwxcrt2jo5054e"
   },
   "source": [
    "**Exercise 2** **(Pen & paper)** The Nearest mean classifier in 2D\n",
    "\n",
    "Say we are dealing with two classes in two dimensions, i.e., we measured two\n",
    "features for every object. One class is the squared area $A_1$ of dimensions [0, 2] x [0, 2], while\n",
    "the other class the squared area $A_2$ of dimensions [2,4] x [0, 2].\n",
    "\n",
    "![nmc2d](images/exercise_1_nmc2d.png)\n",
    "\n",
    "Let the training set consist of three points of each class:\n",
    "\n",
    "$C_1: (1.9,\\ 1),\\ (1.3,\\ \\frac{1}{2}),\\ (1.3,\\ 1.5)$\n",
    "\n",
    "$C_2: (3.3,\\ \\frac{1}{2}),\\ (3.3,\\ 2),\\ (3.9,\\ \\frac{1}{2})$\n"
   ]
  },
  {
   "cell_type": "markdown",
   "id": "d6d31c33",
   "metadata": {
    "cellIdentifier": "7oxgedgxnu0885totuo7i"
   },
   "source": [
    "<div style=\"background-color:#c2eafa\">\n",
    "    \n",
    "**Question 2.1** Sketch the points in the 2D figure.    \n",
    "\n",
    "</div>\n",
    "\n",
    "<div style=\"background-color:#f1be3e\">\n",
    "\n",
    "[//]: # (START ANSWER)\n",
    "\n",
    "![nmc2d2](images/exercise_1_nmc2d_2.png)\n",
    "    \n",
    "[//]: # (END ANSWER)\n",
    "\n",
    "<div style=\"background-color:#c2eafa\">\n",
    "\n",
    "**Question 2.2** What percentage of the training set is misclassified (the so-called training error)?"
   ]
  },
  {
   "cell_type": "markdown",
   "id": "27ccf517",
   "metadata": {
    "cellIdentifier": "gom99icf0hi7uui7zdxsna"
   },
   "source": [
    "<div style=\"background-color:#f1be3e\">\n",
    "    \n",
    "[//]: # (START ANSWER)\n",
    "none of the points seem to be misclassified, thus the training error is 0.\n",
    "\n",
    "[//]: # (END ANSWER)\n"
   ]
  },
  {
   "cell_type": "code",
   "execution_count": 3,
   "id": "a5b38fd0",
   "metadata": {
    "cellIdentifier": "ma1tomtw4t91mym4jyr5w",
    "lines_to_next_cell": 2
   },
   "outputs": [],
   "source": [
    "# Write your answer here, round your answer to 2 decimal places e.g. for 60.9% write 0.61.\n",
    "training_error = 0"
   ]
  },
  {
   "cell_type": "code",
   "execution_count": 4,
   "id": "f45d04c4",
   "metadata": {
    "cellIdentifier": "1d8xa7kb7lrvumdaqunx7",
    "deletable": false,
    "editable": false,
    "nbgrader": {
     "grade": true,
     "grade_id": "training_error",
     "locked": true,
     "points": "1",
     "solution": false
    }
   },
   "outputs": [],
   "source": [
    "###\n",
    "### AUTOGRADER TEST - DO NOT REMOVE\n",
    "###\n"
   ]
  },
  {
   "cell_type": "markdown",
   "id": "430f8615",
   "metadata": {
    "cellIdentifier": "belawtwtzg5odvue3pixs9"
   },
   "source": [
    "<div style=\"background-color:#c2eafa\">\n",
    "\n",
    "**Question 2.3** Sketch the line for the decision boundary of the classifier. Based on the given training set.\n",
    "\n",
    "<div style=\"background-color:#f1be3e\">\n",
    "\n",
    "[//]: # (START ANSWER)\n",
    "![nmc2d3](images/exercise_1_nmc2d_3.png)\n",
    "\n",
    "[//]: # (END ANSWER)\n"
   ]
  },
  {
   "cell_type": "code",
   "execution_count": 5,
   "id": "36f2692f",
   "metadata": {
    "cellIdentifier": "jq5nqpgclh21rp1gyer74",
    "lines_to_next_cell": 2
   },
   "outputs": [],
   "source": [
    "# Provided the line can be described as a*x+b*y=c, give the values for a, b and c.\n",
    "a, b, c = 1, 0, 2"
   ]
  },
  {
   "cell_type": "code",
   "execution_count": 6,
   "id": "60cc914f",
   "metadata": {
    "cellIdentifier": "6l8xnpkepq96dotbqz9w9y",
    "deletable": false,
    "editable": false,
    "nbgrader": {
     "grade": true,
     "grade_id": "Correct line",
     "locked": true,
     "points": "1",
     "solution": false
    }
   },
   "outputs": [],
   "source": [
    "###\n",
    "### AUTOGRADER TEST - DO NOT REMOVE\n",
    "###\n"
   ]
  },
  {
   "cell_type": "markdown",
   "id": "2aac167f",
   "metadata": {
    "cellIdentifier": "yfn7pvwxabfr3ts4s372qh"
   },
   "source": [
    "<div style=\"background-color:#c2eafa\">\n",
    "\n",
    "**Question 2.4** What error does this classifier make on the first class (the one on the left)? That is,\n",
    "which part is misclassified? You don't have to give an exact answer, a sketch is enough.\n",
    "\n",
    "<div style=\"background-color:#f1be3e\">"
   ]
  },
  {
   "cell_type": "markdown",
   "id": "a8c53483",
   "metadata": {
    "cellIdentifier": "bn0maykwq889clloow7ru"
   },
   "source": [
    "[//]: # (START ANSWER)\n",
    "None\n",
    "\n",
    "[//]: # (END ANSWER)\n"
   ]
  },
  {
   "cell_type": "code",
   "execution_count": 7,
   "id": "38a69ddf",
   "metadata": {
    "cellIdentifier": "vsfgw51or29tyv8koth7hl",
    "lines_to_next_cell": 2
   },
   "outputs": [],
   "source": [
    "# Write your answer here, round your answer to 2 decimal places e.g. for 60.9% write 0.61.\n",
    "first_class_error = 0.00"
   ]
  },
  {
   "cell_type": "code",
   "execution_count": 8,
   "id": "5936f99f",
   "metadata": {
    "cellIdentifier": "5okh8hzwi8pi5t09eqkmp8",
    "deletable": false,
    "editable": false,
    "nbgrader": {
     "grade": true,
     "grade_id": "first_class_error",
     "locked": true,
     "points": "1",
     "solution": false
    }
   },
   "outputs": [],
   "source": [
    "###\n",
    "### AUTOGRADER TEST - DO NOT REMOVE\n",
    "###\n"
   ]
  },
  {
   "cell_type": "markdown",
   "id": "12e8adf7",
   "metadata": {
    "cellIdentifier": "a6o4dyhkenj5ujc1kkvuxd"
   },
   "source": [
    "<div style=\"background-color:#c2eafa\">"
   ]
  },
  {
   "cell_type": "markdown",
   "id": "3b8c0eb5",
   "metadata": {
    "cellIdentifier": "qidm3vt7h3r22ybiyy52uv"
   },
   "source": [
    "**Question 2.5** What error does this classifier make on the second class (the one on the right)? That is,\n",
    "which part is misclassified? You don't have to give an exact answer, a sketch is enough."
   ]
  },
  {
   "cell_type": "markdown",
   "id": "ecc6dc5c",
   "metadata": {
    "cellIdentifier": "vkz75au5aeiqwjj4jlsgte"
   },
   "source": [
    "<div style=\"background-color:#f1be3e\">"
   ]
  },
  {
   "cell_type": "markdown",
   "id": "d31069aa",
   "metadata": {
    "cellIdentifier": "uujbqvxl3ae2dxr9k92ef"
   },
   "source": [
    "[//]: # (START ANSWER)\n",
    "No misclassification\n",
    "\n",
    "[//]: # (END ANSWER)\n"
   ]
  },
  {
   "cell_type": "code",
   "execution_count": 9,
   "id": "c09af7e2",
   "metadata": {
    "cellIdentifier": "9118r9oiwjnnl19npjdvd9",
    "lines_to_next_cell": 2
   },
   "outputs": [],
   "source": [
    "# Write your answer here, round your answer to 2 decimal places e.g. for 60.9% write 0.61.\n",
    "second_class_error = 0.00"
   ]
  },
  {
   "cell_type": "code",
   "execution_count": 10,
   "id": "d52464bc",
   "metadata": {
    "cellIdentifier": "maggiyqtney6ndjxyrif",
    "deletable": false,
    "editable": false,
    "nbgrader": {
     "grade": true,
     "grade_id": "second_class_error",
     "locked": true,
     "points": "1",
     "solution": false
    }
   },
   "outputs": [],
   "source": [
    "###\n",
    "### AUTOGRADER TEST - DO NOT REMOVE\n",
    "###\n"
   ]
  },
  {
   "cell_type": "markdown",
   "id": "7bca30c1",
   "metadata": {
    "cellIdentifier": "lgtxoozzjbajmsigzn7li"
   },
   "source": [
    "**Exercise 3** **(Pen & paper)** KNN\n",
    "\n",
    "For the following dataset provide your answer as a string describing the color of the label e.g. \"Black\", in case of a tie write \"Tie\".\n",
    "\n",
    "![knn](images/exercise_2_knn.png)\n",
    "\n",
    "<div style=\"background-color:#c2eafa\">\n",
    "\n",
    "**Question 3.1** Compute the label of the test point in black, for the 3-NN\n",
    "\n",
    "<div style=\"background-color:#f1be3e\">"
   ]
  },
  {
   "cell_type": "markdown",
   "id": "e91deaf1",
   "metadata": {
    "cellIdentifier": "mvfbz1stdhld6wrok1nje"
   },
   "source": [
    "[//]: # (START ANSWER)\n",
    "The 3-NN are red (3,4) d = 1.42, blue (5,6) d = 1.42 and blue (6,5) d = 2. So the label is going to be blue. \n",
    "\n",
    "[//]: # (END ANSWER)\n"
   ]
  },
  {
   "cell_type": "code",
   "execution_count": 11,
   "id": "69274251",
   "metadata": {
    "cellIdentifier": "zft3huwwq50ml4q9esc6",
    "lines_to_next_cell": 2
   },
   "outputs": [],
   "source": [
    "# Write your answer here\n",
    "label_3nn = \"Blue\""
   ]
  },
  {
   "cell_type": "code",
   "execution_count": 12,
   "id": "4b7ff881",
   "metadata": {
    "cellIdentifier": "pv049jpjthd238j7d4og5s",
    "deletable": false,
    "editable": false,
    "nbgrader": {
     "grade": true,
     "grade_id": "label_3nn",
     "locked": true,
     "points": "1",
     "solution": false
    }
   },
   "outputs": [],
   "source": [
    "###\n",
    "### AUTOGRADER TEST - DO NOT REMOVE\n",
    "###\n"
   ]
  },
  {
   "cell_type": "markdown",
   "id": "f53a8c6d",
   "metadata": {
    "cellIdentifier": "94wlbmmhnro3aapi8pqg9s"
   },
   "source": [
    "<div style=\"background-color:#c2eafa\">\n",
    "\n",
    "**Question 3.2** Also compute the label for 4-NN and 5-NN.\n",
    "\n",
    "<div style=\"background-color:#f1be3e\">"
   ]
  },
  {
   "cell_type": "markdown",
   "id": "44568235",
   "metadata": {
    "cellIdentifier": "2cfpyvtipdl5dodb8gvh4x"
   },
   "source": [
    "[//]: # (START ANSWER)\n",
    "So we have 1 red, 2 blue from 3NN and have blue (3,7) and red (3,4) both d = 2.2. 4NN results in Tie, 5NN results in 3 blue, 2 red, so the label is going to be blue. \n",
    "\n",
    "[//]: # (END ANSWER)\n"
   ]
  },
  {
   "cell_type": "code",
   "execution_count": 13,
   "id": "37c1fe3e",
   "metadata": {
    "cellIdentifier": "aynjs1kf12j3oj0a019dkw",
    "lines_to_next_cell": 2
   },
   "outputs": [],
   "source": [
    "# Write your answer here\n",
    "label_4nn, label_5nn = \"Tie\", \"Blue\""
   ]
  },
  {
   "cell_type": "code",
   "execution_count": 14,
   "id": "1f3eb553",
   "metadata": {
    "cellIdentifier": "b0uevuf147uj117gcraeom",
    "deletable": false,
    "editable": false,
    "lines_to_next_cell": 2,
    "nbgrader": {
     "grade": true,
     "grade_id": "label_4nn",
     "locked": true,
     "points": "1",
     "solution": false
    }
   },
   "outputs": [],
   "source": [
    "###\n",
    "### AUTOGRADER TEST - DO NOT REMOVE\n",
    "###\n"
   ]
  },
  {
   "cell_type": "code",
   "execution_count": 15,
   "id": "bd8c9bd0",
   "metadata": {
    "cellIdentifier": "4hqtwixe5i2qbt19epgybe",
    "deletable": false,
    "editable": false,
    "nbgrader": {
     "grade": true,
     "grade_id": "label_5nn",
     "locked": true,
     "points": "1",
     "solution": false
    }
   },
   "outputs": [],
   "source": [
    "###\n",
    "### AUTOGRADER TEST - DO NOT REMOVE\n",
    "###\n"
   ]
  },
  {
   "cell_type": "markdown",
   "id": "1507b081",
   "metadata": {
    "cellIdentifier": "8sqvndab98tv8307ebau"
   },
   "source": [
    "<div style=\"background-color:#c2eafa\">\n",
    "\n",
    "**Question 3.3** What is the problem for 2-NN when deciding the label of this test point?\n",
    "\n",
    "<div style=\"background-color:#f1be3e\">"
   ]
  },
  {
   "cell_type": "markdown",
   "id": "884d2e7f",
   "metadata": {
    "cellIdentifier": "un7mlvdqdyah5y6bd9oouw"
   },
   "source": [
    "[//]: # (START ANSWER)\n",
    "When using k = 2, the black point lies exactly midway between the two closest neighbours, which are of opposite class, thus resulting in a tie.\n",
    "\n",
    "[//]: # (END ANSWER)\n",
    "\n",
    "**Exercise 4** **(Pen & paper)** Histogram\n",
    "\n",
    "A simple way to construct a classifier is by using histograms. To illustrate this we will look at 1D Dataset with\n",
    "two classes. The dataset is shown in the following figure:\n",
    "\n",
    "![histogram_dataset](images/exercise_3_histogram_dataset.png)\n",
    "\n",
    "<div style=\"background-color:#c2eafa\">\n",
    "\n",
    "**Question 4.1** To construct a classifier we will draw 4 histograms. In each bin of the histogram you draw\n",
    "two bars indicating the count of each class: so one bar of the triangle class and one bar for the circle class.\n",
    "The first bin of each histogram will start at 0. Use the following sizes for the bins: 1, 2, 4 and 8.\n"
   ]
  },
  {
   "cell_type": "markdown",
   "id": "3fca19bb",
   "metadata": {
    "cellIdentifier": "jm5qmvqkt8jroc82q57hen"
   },
   "source": [
    "<div style=\"background-color:#f1be3e\">\n",
    "\n",
    "[//]: # (START ANSWER)\n",
    "\n",
    "<img src=\"images/historgrams.jpg\" width=\"400\" height=\"200\">\n",
    "\n",
    "[//]: # (END ANSWER)"
   ]
  },
  {
   "cell_type": "markdown",
   "id": "6bb6c321",
   "metadata": {
    "cellIdentifier": "4xc1vohzb85xaqetkrlzwn"
   },
   "source": [
    "<div style=\"background-color:#c2eafa\">\n",
    "\n",
    "**Question 4.2** To make a classification rule, we select the majority class in each bin of the histogram.\n",
    "In each histogram indicate the classification rule\n",
    "\n",
    "<div style=\"background-color:#f1be3e\">"
   ]
  },
  {
   "cell_type": "markdown",
   "id": "7192b656",
   "metadata": {
    "cellIdentifier": "3qbgeasmrjj6oo2qfsjge5"
   },
   "source": [
    "[//]: # (START ANSWER)\n",
    "\n",
    "- s1 -> circles, triangles, circles, circles, triangles, circles, triangles, triangles\n",
    "- s2 -> triangles, circles, triangles, triangles\n",
    "- s4 -> circles, triangles\n",
    "- s8 -> Triangles\n",
    "\n",
    "[//]: # (END ANSWER)\n"
   ]
  },
  {
   "cell_type": "code",
   "execution_count": 16,
   "id": "fa63b9c9",
   "metadata": {
    "cellIdentifier": "evegb50j1kdxn5zcya3rtr",
    "lines_to_next_cell": 2
   },
   "outputs": [],
   "source": [
    "# Write your answer here as a list for each histogram, with each list item representing the majority class in a bin.\n",
    "# E.g. For a histogram with 4 bins write [\"Circle\", \"Triangle\", \"Triangle\", \"Circle\"] corresponding to Bin #1, ..., Bin #4.\n",
    "histogram_size_1, histogram_size_2, histogram_size_4, histogram_size_8 = [\"Triangle\"], [\"Circle\", \"Triangle\"], [\"Triangle\", \"Circle\", \"Triangle\", \"Triangle\"], [\"Circle\", \"Triangle\", \"Circle\", \"Circle\", \"Triangle\", \"Circle\", \"Triangle\", \"Triangle\"]"
   ]
  },
  {
   "cell_type": "code",
   "execution_count": 17,
   "id": "9c094c76",
   "metadata": {
    "cellIdentifier": "14p7qq5p3x5erxml8gco4o",
    "deletable": false,
    "editable": false,
    "lines_to_next_cell": 2,
    "nbgrader": {
     "grade": true,
     "grade_id": "histogram_size_1",
     "locked": true,
     "points": "1",
     "solution": false
    }
   },
   "outputs": [],
   "source": [
    "###\n",
    "### AUTOGRADER TEST - DO NOT REMOVE\n",
    "###\n"
   ]
  },
  {
   "cell_type": "code",
   "execution_count": 18,
   "id": "3499658d",
   "metadata": {
    "cellIdentifier": "4n9ipajdy04znm1ll2elzc",
    "deletable": false,
    "editable": false,
    "lines_to_next_cell": 2,
    "nbgrader": {
     "grade": true,
     "grade_id": "histogram_size_2",
     "locked": true,
     "points": "1",
     "solution": false
    }
   },
   "outputs": [],
   "source": [
    "###\n",
    "### AUTOGRADER TEST - DO NOT REMOVE\n",
    "###\n"
   ]
  },
  {
   "cell_type": "code",
   "execution_count": 19,
   "id": "ae1e24fc",
   "metadata": {
    "cellIdentifier": "wgcyrrfrj48dm2mfh0idua",
    "deletable": false,
    "editable": false,
    "lines_to_next_cell": 2,
    "nbgrader": {
     "grade": true,
     "grade_id": "histogram_size_4",
     "locked": true,
     "points": "1",
     "solution": false
    }
   },
   "outputs": [],
   "source": [
    "###\n",
    "### AUTOGRADER TEST - DO NOT REMOVE\n",
    "###\n"
   ]
  },
  {
   "cell_type": "code",
   "execution_count": 20,
   "id": "573617a0",
   "metadata": {
    "cellIdentifier": "9r7bb5r6wruirogj0wufxn",
    "deletable": false,
    "editable": false,
    "nbgrader": {
     "grade": true,
     "grade_id": "histogram_size_8",
     "locked": true,
     "points": "1",
     "solution": false
    }
   },
   "outputs": [],
   "source": [
    "###\n",
    "### AUTOGRADER TEST - DO NOT REMOVE\n",
    "###\n"
   ]
  },
  {
   "cell_type": "markdown",
   "id": "2a8d036a",
   "metadata": {
    "cellIdentifier": "h4psf81otgame2gz86xqk"
   },
   "source": [
    "<div style=\"background-color:#c2eafa\">\n",
    "\n",
    "**Question 4.3** How does the size of the bins relate to complexity of the classifier?\n",
    "\n",
    "<div style=\"background-color:#f1be3e\">"
   ]
  },
  {
   "cell_type": "markdown",
   "id": "169409ef",
   "metadata": {
    "cellIdentifier": "w9f60o5o2hte7xci7ee7xl"
   },
   "source": [
    "[//]: # (START ANSWER)\n",
    "The smaller the size, the more bins there are, the more features, thus the more complex the classifier. \n",
    "The bigger the size of the bins, fewer bins, fewer features, thus simpler classifier.\n",
    "\n",
    "[//]: # (END ANSWER)\n",
    "\n",
    "<div style=\"background-color:#c2eafa\">\n",
    "\n",
    "**Question 4.4** For each histogram that you have drawn, indicate whether you expect the classification rule\n",
    "to generalize well and indicate why.\n",
    "\n",
    "<div style=\"background-color:#f1be3e\">"
   ]
  },
  {
   "cell_type": "markdown",
   "id": "81952095",
   "metadata": {
    "cellIdentifier": "kahutzg3q78zwrygq6df6"
   },
   "source": [
    "[//]: # (START ANSWER)\n",
    "- s1 -> No, too much variance, risk of overfitting \n",
    "- s2 -> No, noise is present, effecting the classification\n",
    "- s4 -> Yes, good distribution of data, less sensitive to noise \n",
    "- s8 -> No, too simple, risk of underfitting\n",
    "\n",
    "[//]: # (END ANSWER)\n",
    "\n",
    "<div style=\"background-color:#c2eafa\">\n",
    "\n",
    "**Question 4.5** Say we want to use the histogram method to classify a 2D dataset.\n",
    "For each feature, assume the features have the same domain as the features in the shown figure and use the same number\n",
    "of bins as in the previous question. For each of the bin sizes, how many bins do we have in total?\n",
    "\n",
    "<div style=\"background-color:#f1be3e\">"
   ]
  },
  {
   "cell_type": "markdown",
   "id": "11ddfd4f",
   "metadata": {
    "cellIdentifier": "yiwvs5cjsc5ao4l1c3njp"
   },
   "source": [
    "[//]: # (START ANSWER)\n",
    "- s1 -> 64 bins\n",
    "- s2 -> 16 bins\n",
    "- s4 -> 4 bins\n",
    "- s8 -> 1 bins\n",
    "\n",
    "[//]: # (END ANSWER)\n"
   ]
  },
  {
   "cell_type": "code",
   "execution_count": 21,
   "id": "b4e01be6",
   "metadata": {
    "cellIdentifier": "kuwo2dg7fbbcgo2ic5n1s",
    "lines_to_next_cell": 2
   },
   "outputs": [],
   "source": [
    "# Write the total number of bins for each bin size.\n",
    "bin_size_1, bin_size_2, bin_size_4, bin_size_8 = 64, 16, 4, 1"
   ]
  },
  {
   "cell_type": "code",
   "execution_count": 22,
   "id": "bc31970e",
   "metadata": {
    "cellIdentifier": "0r2mzim8x93mbbajnpa82",
    "deletable": false,
    "editable": false,
    "lines_to_next_cell": 2,
    "nbgrader": {
     "grade": true,
     "grade_id": "bin_size_1",
     "locked": true,
     "points": "1",
     "solution": false
    }
   },
   "outputs": [],
   "source": [
    "###\n",
    "### AUTOGRADER TEST - DO NOT REMOVE\n",
    "###\n"
   ]
  },
  {
   "cell_type": "code",
   "execution_count": 23,
   "id": "d0772331",
   "metadata": {
    "cellIdentifier": "jf29dqurmpjiia66uo3zpa",
    "deletable": false,
    "editable": false,
    "lines_to_next_cell": 2,
    "nbgrader": {
     "grade": true,
     "grade_id": "bin_size_2",
     "locked": true,
     "points": "1",
     "solution": false
    }
   },
   "outputs": [],
   "source": [
    "###\n",
    "### AUTOGRADER TEST - DO NOT REMOVE\n",
    "###\n"
   ]
  },
  {
   "cell_type": "code",
   "execution_count": 24,
   "id": "f019e383",
   "metadata": {
    "cellIdentifier": "aitgda0jmdczf4j3f2q6ah",
    "deletable": false,
    "editable": false,
    "lines_to_next_cell": 2,
    "nbgrader": {
     "grade": true,
     "grade_id": "bin_size_4",
     "locked": true,
     "points": "1",
     "solution": false
    }
   },
   "outputs": [],
   "source": [
    "###\n",
    "### AUTOGRADER TEST - DO NOT REMOVE\n",
    "###\n"
   ]
  },
  {
   "cell_type": "code",
   "execution_count": 25,
   "id": "69f32ee9",
   "metadata": {
    "cellIdentifier": "nc1g3mktd3qn0x1hbfujpi",
    "deletable": false,
    "editable": false,
    "nbgrader": {
     "grade": true,
     "grade_id": "bin_size_8",
     "locked": true,
     "points": "1",
     "solution": false
    }
   },
   "outputs": [],
   "source": [
    "###\n",
    "### AUTOGRADER TEST - DO NOT REMOVE\n",
    "###\n"
   ]
  },
  {
   "cell_type": "markdown",
   "id": "e3921722",
   "metadata": {
    "cellIdentifier": "bvf3wt07c6nu36scy1uz0f"
   },
   "source": [
    "<div style=\"background-color:#c2eafa\">\n",
    "\n",
    "**Question 4.6** Indicate how many training objects you would need _at a minimum_ to be able to construct\n",
    "these classifiers for each of the bin sizes. Why?\n",
    "\n",
    "<div style=\"background-color:#f1be3e\">"
   ]
  },
  {
   "cell_type": "markdown",
   "id": "ae0efc1d",
   "metadata": {
    "cellIdentifier": "78aauuub85upnthzvqnt09"
   },
   "source": [
    "[//]: # (START ANSWER)\n",
    "* _The amount of training objects is equal to the bin sizes, to ensure that each bin has at least one object. This way, the classifier covers the entire feature space (so.. 64, 16, 4, 2)._\n",
    "\n",
    "[//]: # (END ANSWER)\n",
    "\n",
    "<div style=\"background-color:#c2eafa\">\n",
    "\n",
    "**Question 4.7** Assume that we have 8 bins per feature. How many bins do we have in case we have a dataset with 6 features?"
   ]
  },
  {
   "cell_type": "markdown",
   "id": "5e921a58",
   "metadata": {
    "cellIdentifier": "kraqzkar3ugunrswoj8nw"
   },
   "source": [
    "<div style=\"background-color:#f1be3e\">"
   ]
  },
  {
   "cell_type": "markdown",
   "id": "bbc168a5",
   "metadata": {
    "cellIdentifier": "okpbl0tukub1ce7tmo2o4"
   },
   "source": [
    "[//]: # (START ANSWER)\n",
    "8^6 = 262144\n",
    "\n",
    "[//]: # (END ANSWER)\n"
   ]
  },
  {
   "cell_type": "code",
   "execution_count": 26,
   "id": "13213ca7",
   "metadata": {
    "cellIdentifier": "b4mr1nx0esa36qluhig89c",
    "lines_to_next_cell": 2
   },
   "outputs": [],
   "source": [
    "# Write your answer here\n",
    "bins_for_6_features = 262144"
   ]
  },
  {
   "cell_type": "code",
   "execution_count": 27,
   "id": "440f9d9d",
   "metadata": {
    "cellIdentifier": "ojy8y21oxbstd1ddqnutt",
    "deletable": false,
    "editable": false,
    "nbgrader": {
     "grade": true,
     "grade_id": "bins_for_6_features",
     "locked": true,
     "points": "1",
     "solution": false
    }
   },
   "outputs": [],
   "source": [
    "###\n",
    "### AUTOGRADER TEST - DO NOT REMOVE\n",
    "###\n"
   ]
  },
  {
   "cell_type": "markdown",
   "id": "43d008fe",
   "metadata": {
    "cellIdentifier": "ddg4kotfqakevjuqyfxubr"
   },
   "source": [
    "**Exercise 5** Generalization\n",
    "\n",
    "<div style=\"background-color:#c2eafa\">\n",
    "\n",
    "**Question 5.1** Using the  helper function `get_moon_data` we can generate a specific artificial dataset in 2 dimensions. `get_moon_data` takes one argument which is the number of objects **per class** and returns **two** variables containg the generated samples and its corresponding labels. Let's generate a set `train_set` of 40 objects per class and a test set `test_set` of 2000 object **per class**. Store the training set in `X_train`, `y_train` and the test set in `X_test`, `y_test`.\n"
   ]
  },
  {
   "cell_type": "code",
   "execution_count": 28,
   "id": "29c2175e",
   "metadata": {
    "cellIdentifier": "xrq2szm68xqsxrmmtptv8",
    "lines_to_next_cell": 2
   },
   "outputs": [],
   "source": [
    "import numpy as np\n",
    "import matplotlib.pyplot as plt\n",
    "from helper_functions import get_moon_data\n",
    "\n",
    "\n",
    "np.random.seed(42) # Setting a random seed ensures that we get the same results every time the code is ran\n",
    "X_train = None\n",
    "y_train = None\n",
    "X_test = None\n",
    "y_test = None\n",
    "\n",
    "# START ANSWER\n",
    "X_train, y_train = get_moon_data(40)\n",
    "X_test, y_test = get_moon_data(2000)\n",
    "# END ANSWER"
   ]
  },
  {
   "cell_type": "code",
   "execution_count": 29,
   "id": "3315cad6",
   "metadata": {
    "cellIdentifier": "3rd7u7s7q6vh6gcl4iu9u"
   },
   "outputs": [],
   "source": [
    "###\n",
    "### AUTOGRADER TEST - DO NOT REMOVE\n",
    "###\n"
   ]
  },
  {
   "cell_type": "markdown",
   "id": "45edcf24",
   "metadata": {
    "cellIdentifier": "h3e0qu454j4k9s4xppzpj"
   },
   "source": [
    "<div style=\"background-color:#c2eafa\">\n",
    "\n",
    "**Question 5.2** Now use `plt.plot` or `plt.scatter` to plot the train dataset and the test dataset.\n"
   ]
  },
  {
   "cell_type": "code",
   "execution_count": 30,
   "id": "80ae2d35",
   "metadata": {
    "cellIdentifier": "l9d4ecj7mninxvow4fk2",
    "lines_to_next_cell": 0
   },
   "outputs": [
    {
     "data": {
      "image/png": "[encoded data removed]",
      "text/plain": [
       "<Figure size 432x288 with 1 Axes>"
      ]
     },
     "metadata": {
      "needs_background": "light"
     },
     "output_type": "display_data"
    },
    {
     "data": {
      "image/png": "[encoded data removed]",
      "text/plain": [
       "<Figure size 432x288 with 1 Axes>"
      ]
     },
     "metadata": {
      "needs_background": "light"
     },
     "output_type": "display_data"
    }
   ],
   "source": [
    "# START ANSWER\n",
    "plt.scatter(X_train[:,0],X_train[:,1],c=y_train)\n",
    "# END ANSWER\n",
    "\n",
    "plt.title('Train dataset')\n",
    "plt.show()\n",
    "\n",
    "# START ANSWER\n",
    "plt.scatter(X_test[:,0],X_test[:,1],c = y_test)\n",
    "# END ANSWER\n",
    "\n",
    "plt.title('Test dataset')\n",
    "plt.show()"
   ]
  },
  {
   "cell_type": "markdown",
   "id": "7b0c62b1",
   "metadata": {
    "cellIdentifier": "3h9af2fzifs81ftoy9ti27"
   },
   "source": [
    "<div style=\"background-color:#c2eafa\">\n",
    "\n",
    "**Question 5.3** Can you perfectly separate the training dataset with a linear classifier? Could you separate the test dataset as well?\n"
   ]
  },
  {
   "cell_type": "code",
   "execution_count": 31,
   "id": "32e0a18b",
   "metadata": {
    "cellIdentifier": "bf7avktkrxflopjgjlz56g",
    "lines_to_next_cell": 2
   },
   "outputs": [],
   "source": [
    "# Write your answer here as a string: \"Yes\", \"No\" or \"N/A\"\n",
    "separate_training_dataset, separate_test_dataset = \"No\", \"No\""
   ]
  },
  {
   "cell_type": "code",
   "execution_count": 32,
   "id": "d885b812",
   "metadata": {
    "cellIdentifier": "c36e6kfyc2ecoznrnishuo",
    "deletable": false,
    "editable": false,
    "lines_to_next_cell": 2,
    "nbgrader": {
     "grade": true,
     "grade_id": "separate_training_dataset",
     "locked": true,
     "points": "1",
     "solution": false
    }
   },
   "outputs": [],
   "source": [
    "###\n",
    "### AUTOGRADER TEST - DO NOT REMOVE\n",
    "###\n"
   ]
  },
  {
   "cell_type": "code",
   "execution_count": 33,
   "id": "6742908c",
   "metadata": {
    "cellIdentifier": "eyix9dpom2t67yniseau1",
    "deletable": false,
    "editable": false,
    "nbgrader": {
     "grade": true,
     "grade_id": "separate_test_dataset",
     "locked": true,
     "points": "1",
     "solution": false
    }
   },
   "outputs": [],
   "source": [
    "###\n",
    "### AUTOGRADER TEST - DO NOT REMOVE\n",
    "###\n"
   ]
  },
  {
   "cell_type": "markdown",
   "id": "a84c40d7",
   "metadata": {
    "cellIdentifier": "6dv2tas1vcpr1qyna6hbx"
   },
   "source": [
    "Let us train a nearest mean classifier on `train_set` and compute the error rate on both `train_set` and `test_set`.\n"
   ]
  },
  {
   "cell_type": "code",
   "execution_count": 34,
   "id": "e681a67e",
   "metadata": {
    "cellIdentifier": "i1teieau49aafalwz7sosu"
   },
   "outputs": [
    {
     "name": "stdout",
     "output_type": "stream",
     "text": [
      "0.2000\n",
      "0.23\n"
     ]
    }
   ],
   "source": [
    "from sklearn.neighbors import NearestCentroid\n",
    "from sklearn.neighbors import KNeighborsClassifier\n",
    "from sklearn.metrics import accuracy_score\n",
    "\n",
    "ncc = NearestCentroid()\n",
    "ncc.fit(X_train, y_train)\n",
    "\n",
    "ncc_train_predictions = ncc.predict(X_train)\n",
    "ncc_test_predictions = ncc.predict(X_test)\n",
    "\n",
    "ncc_train_error = 1 - accuracy_score(y_train, ncc_train_predictions)\n",
    "ncc_test_error = 1 - accuracy_score(y_test, ncc_test_predictions)\n",
    "\n",
    "print(\"{:.4f}\".format(ncc_train_error))\n",
    "print(\"{:.2f}\".format(ncc_test_error))"
   ]
  },
  {
   "cell_type": "markdown",
   "id": "b4ebd036",
   "metadata": {
    "cellIdentifier": "i8eb7cgxe7kwnc6x1g7zi"
   },
   "source": [
    "<div style=\"background-color:#c2eafa\">\n",
    "\n",
    "**Question 5.4** Now do the same for the 1 nearest neighbour classifier.\n"
   ]
  },
  {
   "cell_type": "code",
   "execution_count": 35,
   "id": "ee83afb7",
   "metadata": {
    "cellIdentifier": "qw8fkonqilvpaep7nzd7r"
   },
   "outputs": [
    {
     "name": "stdout",
     "output_type": "stream",
     "text": [
      "0.0000\n",
      "0.0620\n"
     ]
    }
   ],
   "source": [
    "knc = KNeighborsClassifier(n_neighbors=1)\n",
    "\n",
    "knc_train_predictions = None\n",
    "knc_test_predictions = None\n",
    "\n",
    "knc_train_error = None\n",
    "knc_test_error = None\n",
    "\n",
    "# START ANSWER\n",
    "knc.fit(X_train, y_train)\n",
    "\n",
    "knc_train_predictions = knc.predict(X_train)\n",
    "knc_test_predictions = knc.predict(X_test)\n",
    "\n",
    "\n",
    "knc_train_error =  1 - accuracy_score(y_train, knc_train_predictions)\n",
    "knc_test_error = 1 - accuracy_score(y_test, knc_test_predictions)\n",
    "# END ANSWER\n",
    "\n",
    "print(\"{:.4f}\".format(knc_train_error))\n",
    "print(\"{:.4f}\".format(knc_test_error))\n"
   ]
  },
  {
   "cell_type": "code",
   "execution_count": 36,
   "id": "b464b262",
   "metadata": {
    "cellIdentifier": "140q62zzycsz8ifj1zd5ns",
    "lines_to_next_cell": 2
   },
   "outputs": [],
   "source": [
    "###\n",
    "### AUTOGRADER TEST - DO NOT REMOVE\n",
    "###\n"
   ]
  },
  {
   "cell_type": "code",
   "execution_count": 37,
   "id": "baca96f5",
   "metadata": {
    "cellIdentifier": "a9lxj1z4eseurf4b1fi0ro"
   },
   "outputs": [],
   "source": [
    "###\n",
    "### AUTOGRADER TEST - DO NOT REMOVE\n",
    "###\n"
   ]
  },
  {
   "cell_type": "markdown",
   "id": "77597a6d",
   "metadata": {
    "cellIdentifier": "d7y1lcihftfpisvf4xjvvk"
   },
   "source": [
    "<div style=\"background-color:#c2eafa\">\n",
    "\n",
    "**Question 5.5** Which of the two classifiers performs best on `train_set`? Does it also perform best on `test_set`?\n"
   ]
  },
  {
   "cell_type": "markdown",
   "id": "5060aead",
   "metadata": {
    "cellIdentifier": "ejt88r0pnruuedfz4wvlh"
   },
   "source": [
    "<div style=\"background-color:#f1be3e\">"
   ]
  },
  {
   "cell_type": "markdown",
   "id": "48f6cb73",
   "metadata": {
    "cellIdentifier": "t0npu0r879ogfv2hfmln1r"
   },
   "source": [
    "[//]: # (START ANSWER)\n",
    "The KNN performs best on the train set, with an error rate of 0.0. It also performs best on the test set with an error rate of 0.062\n",
    "\n",
    "[//]: # (END ANSWER)\n"
   ]
  },
  {
   "cell_type": "code",
   "execution_count": 38,
   "id": "49de4c4a",
   "metadata": {
    "cellIdentifier": "s0t4s6s905p3slwmz0odmd",
    "lines_to_next_cell": 2
   },
   "outputs": [],
   "source": [
    "# Write your answer here as a string: \"knc\", \"nnc\" or \"Tie\"\n",
    "best_on_train_set, best_on_test_set = \"knc\", \"knc\""
   ]
  },
  {
   "cell_type": "code",
   "execution_count": 39,
   "id": "7a2e6f9b",
   "metadata": {
    "cellIdentifier": "7mhwc7wxauou89l2ox4wn",
    "deletable": false,
    "editable": false,
    "lines_to_next_cell": 2,
    "nbgrader": {
     "grade": true,
     "grade_id": "best_on_train_set",
     "locked": true,
     "points": "1",
     "solution": false
    }
   },
   "outputs": [],
   "source": [
    "###\n",
    "### AUTOGRADER TEST - DO NOT REMOVE\n",
    "###\n"
   ]
  },
  {
   "cell_type": "code",
   "execution_count": 40,
   "id": "455d9338",
   "metadata": {
    "cellIdentifier": "4bvccjybq23wdvmjkpp6e",
    "deletable": false,
    "editable": false,
    "nbgrader": {
     "grade": true,
     "grade_id": "best_on_test_set",
     "locked": true,
     "points": "1",
     "solution": false
    }
   },
   "outputs": [],
   "source": [
    "###\n",
    "### AUTOGRADER TEST - DO NOT REMOVE\n",
    "###\n"
   ]
  },
  {
   "cell_type": "markdown",
   "id": "f4e511f8",
   "metadata": {
    "cellIdentifier": "foxnzmkuvx8b1f0tff3nrw"
   },
   "source": [
    "<div style=\"background-color:#c2eafa\">\n",
    "\n",
    "**Question 5.6** Make a scatterplot of `train_set` and then plot the different classifiers.  \n",
    "**Hint:** The following function can help you to graph the boundaries of your classifier. It requires the features `x`, the labels `y` and your trained classifier.\n"
   ]
  },
  {
   "cell_type": "code",
   "execution_count": 41,
   "id": "9d3a6611",
   "metadata": {
    "cellIdentifier": "wl9zjczbexr5ak9qlk4w1",
    "lines_to_next_cell": 2
   },
   "outputs": [],
   "source": [
    "# Helper function to graph boundaries.\n",
    "def plot_dataset(X, y):\n",
    "    plt.plot(X[y==0, 0], X[y==0, 1], \"bs\")\n",
    "    plt.plot(X[y==1, 0], X[y==1, 1], \"g^\")\n",
    "\n",
    "    plt.xlabel('$x_1$')\n",
    "    plt.ylabel('$x_2$')\n",
    "\n",
    "def plot_decision_boundary(X, y, model):\n",
    "    Xmin = np.min(X[:,:],axis=0)\n",
    "    Xmax = np.max(X[:,:],axis=0)\n",
    "\n",
    "    x0, x1 = np.meshgrid(\n",
    "            np.linspace(Xmin[0], Xmax[0], 500).reshape(-1, 1),\n",
    "            np.linspace(Xmin[1], Xmax[1], 200).reshape(-1, 1),\n",
    "        )\n",
    "    X_new = np.c_[x0.ravel(), x1.ravel()]\n",
    "\n",
    "    y_new = model.predict(X_new)\n",
    "\n",
    "    plot_dataset(X,y)\n",
    "\n",
    "    zz = y_new.reshape(x0.shape)\n",
    "    contour = plt.contour(x0, x1, zz, levels=np.array([0.5]),colors='k')\n",
    "\n",
    "def plot_decision_boundary_twostep(X, y, preprocessing, model):\n",
    "    model_combined = Pipeline([('preprocessing', preprocessing), ('classifier', model)])\n",
    "    plot_decision_boundary(X, y, model_combined)"
   ]
  },
  {
   "cell_type": "code",
   "execution_count": 42,
   "id": "614d29e8",
   "metadata": {
    "cellIdentifier": "vflq69oefmsbdo6ex5ioj",
    "lines_to_next_cell": 0
   },
   "outputs": [
    {
     "data": {
      "image/png": "[encoded data removed]",
      "text/plain": [
       "<Figure size 432x288 with 1 Axes>"
      ]
     },
     "metadata": {
      "needs_background": "light"
     },
     "output_type": "display_data"
    },
    {
     "data": {
      "image/png": "[encoded data removed]",
      "text/plain": [
       "<Figure size 432x288 with 1 Axes>"
      ]
     },
     "metadata": {
      "needs_background": "light"
     },
     "output_type": "display_data"
    }
   ],
   "source": [
    "# First plot the nearest centroid boundary\n",
    "# START ANSWER\n",
    "plot_dataset(X_train,y_train)\n",
    "plot_decision_boundary(X_train,y_train,ncc)\n",
    "# END ANSWER\n",
    "plt.show()\n",
    "\n",
    "# Then plot the k-nearest neighbor boundary\n",
    "# START ANSWER\n",
    "plot_dataset(X_train,y_train)\n",
    "plot_decision_boundary(X_train,y_train,knc)\n",
    "# END ANSWER\n",
    "plt.show()"
   ]
  },
  {
   "cell_type": "markdown",
   "id": "b248df46",
   "metadata": {
    "cellIdentifier": "giu13ejtliadyrtub3sv"
   },
   "source": [
    "<div style=\"background-color:#c2eafa\">\n",
    "\n",
    "**Question 5.7** What can you say about the boundaries in relation to the training data? Which classifier would change more if you create a new `train_set`?\n"
   ]
  },
  {
   "cell_type": "markdown",
   "id": "1eb83c97",
   "metadata": {
    "cellIdentifier": "wsndamtejn7lhwz0v1td3"
   },
   "source": [
    "<div style=\"background-color:#f1be3e\">"
   ]
  },
  {
   "cell_type": "markdown",
   "id": "65393aeb",
   "metadata": {
    "cellIdentifier": "c7hukfmxzwlt9ggie06h"
   },
   "source": [
    "[//]: # (START ANSWER)\n",
    "_The K nearest neighbour seems to fit the training data better. In case a new training set would be generated, the KNN would change more._\n",
    "\n",
    "[//]: # (END ANSWER)\n",
    "\n",
    "Now we will repeat **5.3** and **5.4** with the same classifiers but training sets of various sizes. We will store errors in a list to access them later. Here is an example for the Nearest Centroid classifier."
   ]
  },
  {
   "cell_type": "code",
   "execution_count": 43,
   "id": "16a3308d",
   "metadata": {
    "cellIdentifier": "yy0zrs470k7sy4q8bz5qv"
   },
   "outputs": [],
   "source": [
    "train_sizes = [5, 10, 20, 50, 100, 200]\n",
    "err_train_ncc = []\n",
    "err_test_ncc = []\n",
    "\n",
    "for i in range(len(train_sizes)):\n",
    "    s = train_sizes[i]\n",
    "\n",
    "    X_train, y_train  = get_moon_data(s)\n",
    "    X_test, y_test = get_moon_data(2000)\n",
    "\n",
    "    classifier = NearestCentroid()\n",
    "    classifier.fit(X_train, y_train)\n",
    "\n",
    "    train_predictions = classifier.predict(X_train)\n",
    "    test_predictions = classifier.predict(X_test)\n",
    "\n",
    "    err_train_ncc.append(1 - accuracy_score(y_train, train_predictions))\n",
    "    err_test_ncc.append(1 - accuracy_score(y_test, test_predictions))"
   ]
  },
  {
   "cell_type": "markdown",
   "id": "65b68abd",
   "metadata": {
    "cellIdentifier": "aybgjrbwibuvwuhbnnyhmc"
   },
   "source": [
    "<div style=\"background-color:#c2eafa\">\n",
    "\n",
    "**Question 5.8** Do the same for the K-Nearest Neighbor classifier with $k = 1$.  \n",
    "**Hint**: make sure to rename the variables so that the results of the NCC are not overwritten.\n"
   ]
  },
  {
   "cell_type": "code",
   "execution_count": 44,
   "id": "8bdacbaf",
   "metadata": {
    "cellIdentifier": "ry2jdr4wsnr8e4a4q41i",
    "lines_to_next_cell": 2
   },
   "outputs": [],
   "source": [
    "err_train_knn = []\n",
    "err_test_knn = []\n",
    "\n",
    "# START ANSWER\n",
    "\n",
    "\n",
    "for i in range(len(train_sizes)):\n",
    "    s = train_sizes[i]\n",
    "\n",
    "    X_train, y_train  = get_moon_data(s)\n",
    "    X_test, y_test = get_moon_data(2000)\n",
    "\n",
    "    classifier = KNeighborsClassifier(n_neighbors=1)\n",
    "    classifier.fit(X_train, y_train)\n",
    "\n",
    "    train_predictions = classifier.predict(X_train)\n",
    "    test_predictions = classifier.predict(X_test)\n",
    "\n",
    "    err_train_knn.append(1 - accuracy_score(y_train, train_predictions))\n",
    "    err_test_knn.append(1 - accuracy_score(y_test, test_predictions))\n",
    "\n",
    "\n",
    "# END ANSWER"
   ]
  },
  {
   "cell_type": "code",
   "execution_count": 45,
   "id": "284c79f1",
   "metadata": {
    "cellIdentifier": "ljqrs4birvsawwnl56ey",
    "deletable": false,
    "editable": false,
    "lines_to_next_cell": 2,
    "nbgrader": {
     "grade": true,
     "grade_id": "err_test_knn_expected",
     "locked": true,
     "points": "1",
     "solution": false
    }
   },
   "outputs": [],
   "source": [
    "###\n",
    "### AUTOGRADER TEST - DO NOT REMOVE\n",
    "###\n"
   ]
  },
  {
   "cell_type": "code",
   "execution_count": 46,
   "id": "cde9c492",
   "metadata": {
    "cellIdentifier": "zn6o296v6miq0jkayfe78d",
    "deletable": false,
    "editable": false,
    "nbgrader": {
     "grade": true,
     "grade_id": "err_train_knn_expected",
     "locked": true,
     "points": "1",
     "solution": false
    }
   },
   "outputs": [],
   "source": [
    "###\n",
    "### AUTOGRADER TEST - DO NOT REMOVE\n",
    "###\n"
   ]
  },
  {
   "cell_type": "markdown",
   "id": "d164cb99",
   "metadata": {
    "cellIdentifier": "pkxa1ulwjes0v4v32fx0k"
   },
   "source": [
    "<div style=\"background-color:#c2eafa\">\n",
    "\n",
    "**Question 5.9** Now that you have four variables (train and test set error for two classifiers), plot these results in the same plot as a function of the training size.\n"
   ]
  },
  {
   "cell_type": "code",
   "execution_count": 47,
   "id": "8b52f1c0",
   "metadata": {
    "cellIdentifier": "d38uhffyx9wzol095gesg",
    "lines_to_next_cell": 0
   },
   "outputs": [
    {
     "data": {
      "image/png": "[encoded data removed]",
      "text/plain": [
       "<Figure size 432x288 with 1 Axes>"
      ]
     },
     "metadata": {
      "needs_background": "light"
     },
     "output_type": "display_data"
    }
   ],
   "source": [
    "# START ANSWER\n",
    "plt.plot(train_sizes,err_train_ncc)\n",
    "plt.plot(train_sizes,err_test_ncc)\n",
    "plt.plot(train_sizes,err_train_knn)\n",
    "plt.plot(train_sizes,err_test_knn)\n",
    "plt.legend(['Error train NCC','Error test NCC','Error train KNN','Error test KNN'])\n",
    "# END ANSWER\n",
    "\n",
    "plt.xlabel('Training set size')\n",
    "plt.ylabel('Error rate')\n",
    "plt.xscale('log')\n",
    "plt.show()"
   ]
  },
  {
   "cell_type": "markdown",
   "id": "7aee6541",
   "metadata": {
    "cellIdentifier": "4eza0xpqmxapkxpmjt2iqk"
   },
   "source": [
    "<div style=\"background-color:#c2eafa\">\n",
    "\n",
    "**Question 5.10** Which classifier seems better for a small training set? Which classifier seems better for a large training set?\n"
   ]
  },
  {
   "cell_type": "markdown",
   "id": "04cdae97",
   "metadata": {
    "cellIdentifier": "bv5lqntaag9h5drn0f6pa"
   },
   "source": [
    "<div style=\"background-color:#f1be3e\">"
   ]
  },
  {
   "cell_type": "markdown",
   "id": "6b3a29c1",
   "metadata": {
    "cellIdentifier": "5j94rx5kmee5rryrjl24f"
   },
   "source": [
    "[//]: # (START ANSWER)\n",
    "In both cases, the KNN classifier seems to provide the best performance, displaying the smallest error for both small and large data sets of new data.\n",
    "\n",
    "[//]: # (END ANSWER)\n"
   ]
  },
  {
   "cell_type": "code",
   "execution_count": 48,
   "id": "25f29b9f",
   "metadata": {
    "cellIdentifier": "ptcfdggr5gf5wdsu5xxu6",
    "lines_to_next_cell": 2
   },
   "outputs": [],
   "source": [
    "# Write your answer here as a string: \"knc\", \"nnc\" or \"Tie\"\n",
    "best_on_small_train_set, best_on_large_train_set = \"knc\", \"knc\""
   ]
  },
  {
   "cell_type": "code",
   "execution_count": 49,
   "id": "7c28482a",
   "metadata": {
    "cellIdentifier": "bbveqndorle6ap7helsxlt",
    "deletable": false,
    "editable": false,
    "lines_to_next_cell": 2,
    "nbgrader": {
     "grade": true,
     "grade_id": "best_on_small_train_set",
     "locked": true,
     "points": "1",
     "solution": false
    }
   },
   "outputs": [],
   "source": [
    "###\n",
    "### AUTOGRADER TEST - DO NOT REMOVE\n",
    "###\n"
   ]
  },
  {
   "cell_type": "code",
   "execution_count": 50,
   "id": "4eccf3e2",
   "metadata": {
    "cellIdentifier": "5bjzhui7hxkne3vzw7rbtm",
    "deletable": false,
    "editable": false,
    "nbgrader": {
     "grade": true,
     "grade_id": "best_on_large_train_set",
     "locked": true,
     "points": "1",
     "solution": false
    }
   },
   "outputs": [],
   "source": [
    "###\n",
    "### AUTOGRADER TEST - DO NOT REMOVE\n",
    "###\n"
   ]
  },
  {
   "cell_type": "markdown",
   "id": "ecb99baf",
   "metadata": {
    "cellIdentifier": "3r1z8tl1dgd0dqkz99xu82m"
   },
   "source": [
    "**Exercise 6** Influence of *k* on the nearest neighbor models\n",
    "\n",
    "Let's first generate some artificial data to work with.\n"
   ]
  },
  {
   "cell_type": "code",
   "execution_count": 51,
   "id": "67a4f70b",
   "metadata": {
    "cellIdentifier": "r4jlm63u1oe9rmbodekvz",
    "lines_to_next_cell": 0
   },
   "outputs": [
    {
     "data": {
      "image/png": "[encoded data removed]",
      "text/plain": [
       "<Figure size 432x288 with 1 Axes>"
      ]
     },
     "metadata": {
      "needs_background": "light"
     },
     "output_type": "display_data"
    }
   ],
   "source": [
    "from helper_functions import create_dataset \n",
    "np.random.seed(42) \n",
    "\n",
    "x, y = create_dataset (40, 2, 2)\n",
    "plt.scatter(x[:,0], x[:,1], c=y)\n",
    "plt.show()"
   ]
  },
  {
   "cell_type": "markdown",
   "id": "9b8a9eee",
   "metadata": {
    "cellIdentifier": "mqo6w5qo39dlgwy5rq9if"
   },
   "source": [
    "<div style=\"background-color:#c2eafa\">\n",
    "\n",
    "**Question 6.1** Build a 1-nearest neighbor classifier and plot its decision boundary.\n"
   ]
  },
  {
   "cell_type": "code",
   "execution_count": 52,
   "id": "d4a23030",
   "metadata": {
    "cellIdentifier": "t273ig2y4gd6b7gwt4fvq",
    "lines_to_next_cell": 0
   },
   "outputs": [
    {
     "data": {
      "image/png": "[encoded data removed]",
      "text/plain": [
       "<Figure size 432x288 with 1 Axes>"
      ]
     },
     "metadata": {
      "needs_background": "light"
     },
     "output_type": "display_data"
    }
   ],
   "source": [
    "# START ANSWER\n",
    "\n",
    "\n",
    "knn = KNeighborsClassifier(n_neighbors=1)\n",
    "knn.fit(x,y)\n",
    "\n",
    "plot_decision_boundary(x, y, knn)\n",
    "\n",
    "\n",
    "# END ANSWER"
   ]
  },
  {
   "cell_type": "markdown",
   "id": "2ac2b965",
   "metadata": {
    "cellIdentifier": "0y5a47p8gksbt8squhu0j7b"
   },
   "source": [
    "<div style=\"background-color:#c2eafa\">"
   ]
  },
  {
   "cell_type": "markdown",
   "id": "37efec64",
   "metadata": {
    "cellIdentifier": "53l2pm0oyevl9cet4iwlla"
   },
   "source": [
    "**Question 6.2** What do you notice about the boundary? How will it change if you would generate a different dataset?\n"
   ]
  },
  {
   "cell_type": "markdown",
   "id": "1eaf378a",
   "metadata": {
    "cellIdentifier": "rvh948y6qg8u2xla98ppa8"
   },
   "source": [
    "<div style=\"background-color:#f1be3e\">\n",
    "\n",
    "[//]: # (START ANSWER)\n",
    "There is no averaging, smoothing, the line is wiggly. It would adapt to new data points if we generate a different data set, because it aligns with the training data (is sensitive to this data). \n",
    "\n",
    "[//]: # (END ANSWER)\n",
    "\n",
    "\n",
    "<div style=\"background-color:#c2eafa\">\n",
    "We will now load the `breast_cancer` dataset but use only the first ten features. \n",
    "\n"
   ]
  },
  {
   "cell_type": "markdown",
   "id": "09de313c",
   "metadata": {
    "cellIdentifier": "ji6l320u9265jnxn8xg67"
   },
   "source": [
    "**Question 6.3** [Split](https://scikit-learn.org/stable/modules/generated/sklearn.model_selection.train_test_split.html) the data into a training set of 100 objects and a test set containing the rest of samples. Make sure to set the `random_state` parameter to 42 for the automatic grading.\n"
   ]
  },
  {
   "cell_type": "code",
   "execution_count": 53,
   "id": "9ad2f9ce",
   "metadata": {
    "cellIdentifier": "1tjcx8semdrjei45zk8cd",
    "lines_to_next_cell": 2
   },
   "outputs": [],
   "source": [
    "from sklearn.datasets import load_breast_cancer\n",
    "from sklearn.model_selection import train_test_split\n",
    "\n",
    "breast_cancer = load_breast_cancer()\n",
    "X = breast_cancer.data[:, :10] # Select the initial 10 features\n",
    "y = breast_cancer.target # Get the labels\n",
    "\n",
    "\n",
    "# START ANSWER\n",
    "\n",
    "X_train, X_test, y_train, y_test = train_test_split(X, y, train_size=100,random_state=42)\n",
    "# END ANSWER"
   ]
  },
  {
   "cell_type": "code",
   "execution_count": 54,
   "id": "4353fba8",
   "metadata": {
    "cellIdentifier": "vewk0cftuqbjw5h6rclqke",
    "deletable": false,
    "editable": false,
    "nbgrader": {
     "grade": true,
     "grade_id": "y_train",
     "locked": true,
     "points": "1",
     "solution": false
    }
   },
   "outputs": [],
   "source": [
    "###\n",
    "### AUTOGRADER TEST - DO NOT REMOVE\n",
    "###\n"
   ]
  },
  {
   "cell_type": "markdown",
   "id": "bbcd41c0",
   "metadata": {
    "cellIdentifier": "cqrt678953jnmwxuhix59"
   },
   "source": [
    "<div style=\"background-color:#c2eafa\">"
   ]
  },
  {
   "cell_type": "markdown",
   "id": "86225e27",
   "metadata": {
    "cellIdentifier": "6zezrdwp683pl1lq9pvs8k"
   },
   "source": [
    "**Question 6.4** Train multiple nearest neighbor classifiers with different values of *k*, and record their errors on the training and test sets. Plot these errors as a function of *k*.\n"
   ]
  },
  {
   "cell_type": "code",
   "execution_count": 55,
   "id": "cbf307af",
   "metadata": {
    "cellIdentifier": "ta904lamgtf6b77uxoee53"
   },
   "outputs": [
    {
     "data": {
      "image/png": "[encoded data removed]",
      "text/plain": [
       "<Figure size 720x432 with 1 Axes>"
      ]
     },
     "metadata": {
      "needs_background": "light"
     },
     "output_type": "display_data"
    }
   ],
   "source": [
    "ks = [1, 2, 3, 5, 10, 20, 30, 50, 100]\n",
    "err_train = []\n",
    "err_test = []\n",
    "\n",
    "# START ANSWER\n",
    "\n",
    "for k in ks:\n",
    "    classifier = KNeighborsClassifier(n_neighbors=k)\n",
    "    classifier.fit(X_train, y_train)\n",
    "\n",
    "    train_predictions = classifier.predict(X_train)\n",
    "    test_predictions = classifier.predict(X_test)\n",
    "\n",
    "    err_train.append(1 - accuracy_score(y_train, train_predictions))\n",
    "    err_test.append(1 - accuracy_score(y_test, test_predictions))\n",
    "\n",
    "plt.figure(figsize=(10, 6))\n",
    "plt.plot(ks, err_train, label=\"Training Error\", marker='o')\n",
    "plt.plot(ks, err_test, label=\"Test Error\", marker='o')\n",
    "plt.title('Training and Test Errors as a Function of k')\n",
    "plt.xlabel('k (Number of Neighbors)')\n",
    "plt.ylabel('Error rate')\n",
    "plt.xticks(ks)\n",
    "plt.legend()\n",
    "plt.show()\n",
    "\n",
    "# END ANSWER"
   ]
  },
  {
   "cell_type": "markdown",
   "id": "9a51e676",
   "metadata": {
    "cellIdentifier": "v8xikkozi8nm9sos5c57"
   },
   "source": [
    "<div style=\"background-color:#c2eafa\">"
   ]
  },
  {
   "cell_type": "markdown",
   "id": "7e14f92c",
   "metadata": {
    "cellIdentifier": "wc8xkbku2bf701fo0mal44"
   },
   "source": [
    "**Question 6.5** What *k* seems to give the best error a) for the training set and b) for the test set? \n"
   ]
  },
  {
   "cell_type": "markdown",
   "id": "e4743746",
   "metadata": {
    "cellIdentifier": "1tdxt4rspdij6fc8z5wpcs"
   },
   "source": [
    "<div style=\"background-color:#f1be3e\">"
   ]
  },
  {
   "cell_type": "markdown",
   "id": "5ec413d6",
   "metadata": {
    "cellIdentifier": "cnajt3fa2va9m0syo40nv7"
   },
   "source": [
    "[//]: # (START ANSWER)\n",
    "a) k = 1. \n",
    "b) k = 30.\n",
    "\n",
    "[//]: # (END ANSWER)\n",
    "\n",
    "**Exercise 7** Scaling\n",
    "\n",
    "We now come back to the moons dataset. We will modify it by scaling one of the features by a factor of 10.\n"
   ]
  },
  {
   "cell_type": "code",
   "execution_count": 56,
   "id": "71968194",
   "metadata": {
    "cellIdentifier": "g6qsew0ryoem36061zakvj"
   },
   "outputs": [],
   "source": [
    "X_train, y_train = get_moon_data(100)\n",
    "X_train_rescaled = X_train.copy()\n",
    "\n",
    "# Scale up a feature\n",
    "X_train_rescaled[:, 1] = X_train_rescaled[:, 1] * 10"
   ]
  },
  {
   "cell_type": "markdown",
   "id": "43ef62ef",
   "metadata": {
    "cellIdentifier": "52u6wijcf8p9y5f7ppqcg"
   },
   "source": [
    "<div style=\"background-color:#c2eafa\">"
   ]
  },
  {
   "cell_type": "markdown",
   "id": "dafb8f6a",
   "metadata": {
    "cellIdentifier": "cl7ureb354rcmvvlf7h45r"
   },
   "source": [
    "**Question 7.1** Train two different K-Nearest Neighbors classifiers with *k = 3*, one for each of the datasets.\n"
   ]
  },
  {
   "cell_type": "code",
   "execution_count": 57,
   "id": "3cc2887c",
   "metadata": {
    "cellIdentifier": "bld5ue394bcdi5vq5w7wu"
   },
   "outputs": [],
   "source": [
    "from sklearn.utils.validation import check_is_fitted\n",
    "\n",
    "# START ANSWER\n",
    "knn_basic = KNeighborsClassifier(n_neighbors=3)\n",
    "knn_rescaled = KNeighborsClassifier(n_neighbors=3)\n",
    "\n",
    "knn_basic.fit(X_train, y_train)\n",
    "knn_rescaled.fit(X_train_rescaled, y_train)\n",
    "# END ANSWER\n",
    "\n",
    "check_is_fitted(knn_basic)\n",
    "check_is_fitted(knn_rescaled)"
   ]
  },
  {
   "cell_type": "markdown",
   "id": "81848a2b",
   "metadata": {
    "cellIdentifier": "v4xuddencfbvx8pzz93rk9"
   },
   "source": [
    "<div style=\"background-color:#c2eafa\">\n",
    "\n",
    "**Question 7.2** Plot the boundaries of our two classifiers in two separate figures.  \n",
    "**Hint:** You need to call `plt.show()` two times.\n"
   ]
  },
  {
   "cell_type": "code",
   "execution_count": 58,
   "id": "fd52285d",
   "metadata": {
    "cellIdentifier": "9fs2hhle5xwa0funkzwsx9",
    "lines_to_next_cell": 0
   },
   "outputs": [
    {
     "data": {
      "image/png": "[encoded data removed]",
      "text/plain": [
       "<Figure size 432x288 with 1 Axes>"
      ]
     },
     "metadata": {
      "needs_background": "light"
     },
     "output_type": "display_data"
    },
    {
     "data": {
      "image/png": "[encoded data removed]",
      "text/plain": [
       "<Figure size 432x288 with 1 Axes>"
      ]
     },
     "metadata": {
      "needs_background": "light"
     },
     "output_type": "display_data"
    }
   ],
   "source": [
    "# START ANSWER\n",
    "plot_dataset(X_train,y_train)\n",
    "plot_decision_boundary(X_train,y_train,knn_basic)\n",
    "plt.show()\n",
    "# END ANSWER\n",
    "\n",
    "\n",
    "# START ANSWER\n",
    "plot_dataset(X_train,y_train)\n",
    "plot_decision_boundary(X_train_rescaled,y_train,knn_rescaled)\n",
    "plt.show()\n",
    "# END ANSWER\n"
   ]
  },
  {
   "cell_type": "markdown",
   "id": "caffacba",
   "metadata": {
    "cellIdentifier": "eh66cftta4v46b8vhyp0ds"
   },
   "source": [
    "<div style=\"background-color:#c2eafa\">"
   ]
  },
  {
   "cell_type": "markdown",
   "id": "1d84c4bb",
   "metadata": {
    "cellIdentifier": "01kk5arads6u38qpdktrjlh"
   },
   "source": [
    "**Question 7.3** What do you notice about the decision boundaries? How can we explain this behaviour?\n"
   ]
  },
  {
   "cell_type": "markdown",
   "id": "932ca384",
   "metadata": {
    "cellIdentifier": "ue8pkuelsug5icozmlkwk5"
   },
   "source": [
    "<div style=\"background-color:#f1be3e\">"
   ]
  },
  {
   "cell_type": "markdown",
   "id": "03d01439",
   "metadata": {
    "cellIdentifier": "w8yyu6i6i3fhiv8mj7yl69"
   },
   "source": [
    "[//]: # (START ANSWER)\n",
    "_The decision boundary of the basic dataset seems to classify the data better than the decision boundary of the reshaped dataset. We can explain this behaviour by the rescaling. Because one feature is rescaled, this feature dominates the data in magnitude, so the model will interpret this feature as more important, shifting its focus to this feature and also shifting the boundary to the scaled feature._\n",
    "\n",
    "[//]: # (END ANSWER)\n",
    "\n",
    "We will load the `breast_cancer` dataset again and select the first ten features. We will also calculate the variance and mean for each of these features.\n"
   ]
  },
  {
   "cell_type": "code",
   "execution_count": 59,
   "id": "280ff084",
   "metadata": {
    "cellIdentifier": "j4k3iiwn4ubvrhik7ol1v"
   },
   "outputs": [
    {
     "name": "stdout",
     "output_type": "stream",
     "text": [
      "Variances: [1.23970943e+01 1.84663974e+01 5.89402799e+02 1.23625903e+05\n",
      " 1.97452073e-04 2.78428549e-03 6.34407875e-03 1.50301462e-03\n",
      " 7.50222008e-04 4.97611152e-05]\n",
      "Means: [1.41272917e+01 1.92896485e+01 9.19690334e+01 6.54889104e+02\n",
      " 9.63602812e-02 1.04340984e-01 8.87993158e-02 4.89191459e-02\n",
      " 1.81161863e-01 6.27976098e-02]\n"
     ]
    }
   ],
   "source": [
    "breast_cancer = load_breast_cancer()\n",
    "X = breast_cancer.data[:, :10] # Select the initial 10 features\n",
    "y = breast_cancer.target # Get the labels\n",
    "\n",
    "print(\"Variances:\", np.var(X, axis=0))\n",
    "print(\"Means:\", np.mean(X, axis=0))"
   ]
  },
  {
   "cell_type": "markdown",
   "id": "8bb7aeac",
   "metadata": {
    "cellIdentifier": "gcpymb9f1lkzgw5di8j78g"
   },
   "source": [
    "<div style=\"background-color:#c2eafa\">"
   ]
  },
  {
   "cell_type": "markdown",
   "id": "7fc3cbc9",
   "metadata": {
    "cellIdentifier": "8x0uro7fbthqx4my8x8fb"
   },
   "source": [
    "**Question 7.4** What do you notice about these values?\n"
   ]
  },
  {
   "cell_type": "markdown",
   "id": "dc633ff2",
   "metadata": {
    "cellIdentifier": "wmvjszijd3jloqpqxmphd"
   },
   "source": [
    "<div style=\"background-color:#f1be3e\">"
   ]
  },
  {
   "cell_type": "markdown",
   "id": "4eaafb9d",
   "metadata": {
    "cellIdentifier": "gn1spwu9t1aem0kfen20sf"
   },
   "source": [
    "[//]: # (START ANSWER)\n",
    "_The values are not scaled, so they have a large spread (ranging from e+01 to e-05)._\n",
    "\n",
    "[//]: # (END ANSWER)\n",
    "\n",
    "<div style=\"background-color:#c2eafa\">"
   ]
  },
  {
   "cell_type": "markdown",
   "id": "eb4fb240",
   "metadata": {
    "cellIdentifier": "dtm7407ivfvnlvxwbqvvsl"
   },
   "source": [
    "**Question 7.5** You can automatically rescale a dataset with the [`StandardScaler`](StandardScaler) from `Scikit` library. Check what happens with the mean and variance of the features after they are rescaled.\n"
   ]
  },
  {
   "cell_type": "code",
   "execution_count": 60,
   "id": "8ce518f6",
   "metadata": {
    "cellIdentifier": "xejjz8y42yd1hivoiuvyg"
   },
   "outputs": [
    {
     "name": "stdout",
     "output_type": "stream",
     "text": [
      "[1. 1. 1. 1. 1. 1. 1. 1. 1. 1.]\n",
      "[-0. -0. -0. -0.  0. -0. -0.  0. -0. -0.]\n"
     ]
    }
   ],
   "source": [
    "from sklearn.preprocessing import StandardScaler\n",
    "\n",
    "scaler = StandardScaler()\n",
    "X_scaled = scaler.fit_transform(X)\n",
    "\n",
    "print(np.var(X_scaled, axis=0))\n",
    "print(np.rint(np.mean(X_scaled, axis=0)))"
   ]
  },
  {
   "cell_type": "markdown",
   "id": "454491ad",
   "metadata": {
    "cellIdentifier": "dszvmx6m5i6dp9wzmgzjo"
   },
   "source": [
    "<div style=\"background-color:#c2eafa\">"
   ]
  },
  {
   "cell_type": "markdown",
   "id": "45e2f9ec",
   "metadata": {
    "cellIdentifier": "lta5borvnkan4pl5zv4e08"
   },
   "source": [
    "**Question 7.6** Train two KNN classifiers with `k = 5`: one on the scaled data and the other on the unscaled data. What training accuracies do they achieve?\n"
   ]
  },
  {
   "cell_type": "code",
   "execution_count": 61,
   "id": "e2a1f839",
   "metadata": {
    "cellIdentifier": "ta13hftkqjcxekzgghn1j"
   },
   "outputs": [
    {
     "name": "stdout",
     "output_type": "stream",
     "text": [
      "0.9086115992970123\n",
      "0.9595782073813708\n"
     ]
    }
   ],
   "source": [
    "knn_basic = None\n",
    "knn_scaled = None\n",
    "knn_basic_training_acc = None\n",
    "knn_scaled_training_acc = None\n",
    "\n",
    "# START ANSWER\n",
    "knn_basic = KNeighborsClassifier(n_neighbors=5)\n",
    "knn_scaled = KNeighborsClassifier(n_neighbors=5)\n",
    "\n",
    "knn_basic.fit(X, y)\n",
    "knn_scaled.fit(X_scaled, y)\n",
    "\n",
    "basic_predictions = knn_basic.predict(X)\n",
    "scaled_predictions = knn_scaled.predict(X_scaled)\n",
    "\n",
    "knn_basic_training_acc = accuracy_score(y, basic_predictions)\n",
    "knn_scaled_training_acc = accuracy_score(y, scaled_predictions)\n",
    "\n",
    "print(knn_basic_training_acc)\n",
    "print(knn_scaled_training_acc)\n",
    "# END ANSWER"
   ]
  },
  {
   "cell_type": "code",
   "execution_count": 62,
   "id": "01aabc75",
   "metadata": {
    "cellIdentifier": "hhhp20hc84bij2qsy63jeg",
    "deletable": false,
    "editable": false,
    "lines_to_next_cell": 2,
    "nbgrader": {
     "grade": true,
     "grade_id": "knn_basic_training_acc",
     "locked": true,
     "points": "1",
     "solution": false
    }
   },
   "outputs": [],
   "source": [
    "###\n",
    "### AUTOGRADER TEST - DO NOT REMOVE\n",
    "###\n"
   ]
  },
  {
   "cell_type": "code",
   "execution_count": 63,
   "id": "dd2f3b7c",
   "metadata": {
    "cellIdentifier": "g0w2qrm8zabiuor8z3vxmm",
    "deletable": false,
    "editable": false,
    "nbgrader": {
     "grade": true,
     "grade_id": "knn_scaled_training_acc",
     "locked": true,
     "points": "1",
     "solution": false
    }
   },
   "outputs": [],
   "source": [
    "###\n",
    "### AUTOGRADER TEST - DO NOT REMOVE\n",
    "###\n"
   ]
  },
  {
   "cell_type": "markdown",
   "id": "5bc2e59f",
   "metadata": {
    "cellIdentifier": "psb4espmp2uvmm2xeje3"
   },
   "source": [
    "<div style=\"background-color:#f1be3e\">"
   ]
  },
  {
   "cell_type": "markdown",
   "id": "5a0d5ac0",
   "metadata": {
    "cellIdentifier": "06wcfqv8ysu82fgot7ke5ge"
   },
   "source": [
    "### Part 2: Training Models\n",
    "\n",
    "Author: Tom Viering and Aleksander Buszydlik\n",
    "\n",
    "Revised by: Prajit Bhaskaran and Aditi Rawat\n",
    "\n",
    "#### Part A: Linear Models\n",
    "\n",
    "**WHAT** This lab consists of several programming tasks and pen-and-paper questions. Successful completion of the assignment and handing it in for grading can reward you with a bonus point.\n",
    "\n",
    "**WHY** The exercises are meant to help you learn about the training of machine learning models. \n",
    "\n",
    "**HOW** Follow the exercises in the notebook on your own. For questions and feedback please consult the TAs during the lab session.\n",
    "\n",
    "**Questions 1 and 2 are graded.**\n"
   ]
  },
  {
   "cell_type": "markdown",
   "id": "a09791a5",
   "metadata": {
    "cellIdentifier": "xw503374an28e56pnyutw"
   },
   "source": [
    "<div style=\"background-color:#f1be3e\">"
   ]
  },
  {
   "cell_type": "markdown",
   "id": "828198a7",
   "metadata": {
    "cellIdentifier": "8wgj8vqrwg3jrb0k5v8o3n"
   },
   "source": [
    "<div style=\"background-color:#c2eafa\">\n",
    "\n",
    "**Exercise 1** Now, we will work with gradient descent to train a logistic regression model. We will  generate a dataset of two moon-shaped classes. We will extract some polynomial features for the classification problem. These features are helpful for solving a nonlinear classification problem and will be explained in detail in a later lecture. \n",
    "\n",
    "\n"
   ]
  },
  {
   "cell_type": "code",
   "execution_count": 64,
   "id": "de451829",
   "metadata": {
    "cellIdentifier": "afymdj9z4o786pcbm7mpsv",
    "lines_to_next_cell": 0
   },
   "outputs": [
    {
     "data": {
      "text/plain": [
       "(100, 496)"
      ]
     },
     "execution_count": 64,
     "metadata": {},
     "output_type": "execute_result"
    },
    {
     "data": {
      "image/png": "[encoded data removed]",
      "text/plain": [
       "<Figure size 432x288 with 1 Axes>"
      ]
     },
     "metadata": {
      "needs_background": "light"
     },
     "output_type": "display_data"
    }
   ],
   "source": [
    "import numpy as np\n",
    "%matplotlib inline\n",
    "from sklearn.linear_model import LogisticRegression\n",
    "import matplotlib.pyplot as plt\n",
    "\n",
    "from sklearn.datasets import make_moons\n",
    "from sklearn.linear_model import LinearRegression, SGDClassifier\n",
    "from sklearn.metrics import log_loss\n",
    "from sklearn.preprocessing import PolynomialFeatures, StandardScaler\n",
    "\n",
    "np.random.seed(42)\n",
    "random_state = 42\n",
    "\n",
    "# First get the data \n",
    "(X,y) = make_moons(noise=0.05, random_state=random_state)\n",
    "# Plot the dataset using a helper function \n",
    "plot_dataset(X,y)\n",
    "\n",
    "# Then transform it to extract the features of this dataset\n",
    "preprocessing = PolynomialFeatures(degree=30)\n",
    "X_poly_features = preprocessing.fit_transform(X)\n",
    "X_poly_features.shape"
   ]
  },
  {
   "cell_type": "markdown",
   "id": "61e5069f",
   "metadata": {
    "cellIdentifier": "jor638ihr1eoftrvfff2on"
   },
   "source": [
    "\n",
    "\n",
    "    \n",
    "    "
   ]
  },
  {
   "cell_type": "markdown",
   "id": "ca6111ab",
   "metadata": {
    "cellIdentifier": "jgfqqfkivkw9ntyu30f7s"
   },
   "source": [
    "<div style=\"background-color:#c2eafa\">"
   ]
  },
  {
   "cell_type": "markdown",
   "id": "cdd3c847",
   "metadata": {
    "cellIdentifier": "xp5uswu1zn9r6zqve63p6p"
   },
   "source": [
    "**Question 1.1** Can you use a linear model for this dataset. Why (not)?\n",
    "\n",
    "<div style=\"background-color:#f1be3e\">\n",
    "\n",
    "[//]: # (START ANSWER)\n",
    "No, a linear nodel is not suited for this kind of data, because the boundary that separates the two classes is clearly non linear.\n",
    "    \n",
    "    \n",
    "[//]: # (END ANSWER)\n",
    "\n",
    "<div style=\"background-color:#c2eafa\">"
   ]
  },
  {
   "cell_type": "markdown",
   "id": "c494ded8",
   "metadata": {
    "cellIdentifier": "duc1w0lrcpdntxae11apr"
   },
   "source": [
    "**Question 1.2** What is the dimensionality of our dataset after we have extracted the polynomial features? <br>\n"
   ]
  },
  {
   "cell_type": "code",
   "execution_count": 65,
   "id": "735bc43b",
   "metadata": {
    "cellIdentifier": "pd058br0u65hg3sistaar",
    "lines_to_next_cell": 0
   },
   "outputs": [],
   "source": [
    "# START ANSWER\n",
    "dimensionality = 496\n",
    "# END ANSWER"
   ]
  },
  {
   "cell_type": "markdown",
   "id": "8168decc",
   "metadata": {
    "cellIdentifier": "4f52mntwgcwmapfp4daohm"
   },
   "source": [
    "First we will try to fit a logistic regression model to the polynomial features directly.\n"
   ]
  },
  {
   "cell_type": "code",
   "execution_count": 66,
   "id": "dc01a4a1",
   "metadata": {
    "cellIdentifier": "pl427xe8wcd41yua1n14s",
    "lines_to_next_cell": 0
   },
   "outputs": [
    {
     "data": {
      "image/png": "[encoded data removed]",
      "text/plain": [
       "<Figure size 1080x360 with 2 Axes>"
      ]
     },
     "metadata": {
      "needs_background": "light"
     },
     "output_type": "display_data"
    },
    {
     "name": "stdout",
     "output_type": "stream",
     "text": [
      "Final training log loss: 15.49877\n"
     ]
    }
   ],
   "source": [
    "from sklearn.pipeline import Pipeline\n",
    "\n",
    "# Hyperparameters for SGD\n",
    "number_of_epochs = 100\n",
    "learning_rate = 100\n",
    "\n",
    "# Create our logistic regression model\n",
    "model = SGDClassifier(warm_start=True, loss='log_loss', random_state=random_state,\n",
    "                      learning_rate='constant', eta0=learning_rate)\n",
    "\n",
    "# We will use this list to track the performance during optimization\n",
    "train_log_loss = []\n",
    "\n",
    "# We repeat the optimization routine a given number of times\n",
    "for i in range(number_of_epochs):\n",
    "    # Use the whole dataset to perform one gradient step\n",
    "    model.partial_fit(X_poly_features, y, classes=np.unique(y))\n",
    "    \n",
    "    # Evaluate our current model on the training data\n",
    "    y_pred = model.predict_proba(X_poly_features)\n",
    "    train_log_loss.append(log_loss(y, y_pred, labels=np.unique(y)))\n",
    "\n",
    "# Let's also visualize the results\n",
    "fig, (ax1, ax2) = plt.subplots(1, 2, figsize=(15,5))\n",
    "\n",
    "fig.suptitle('Monitoring the optimization process')\n",
    "\n",
    "ax1.plot(train_log_loss)\n",
    "ax1.set(xlabel='epoch', ylabel='training log loss')\n",
    "\n",
    "plt.sca(ax2)\n",
    "plot_decision_boundary_twostep(X, y, preprocessing, model)\n",
    "ax2.set(title='Model after optimization')\n",
    "\n",
    "plt.show()\n",
    "\n",
    "print(\"Final training log loss: {}\".format(np.round(train_log_loss[number_of_epochs - 1],5)))"
   ]
  },
  {
   "cell_type": "markdown",
   "id": "f20e951f",
   "metadata": {
    "cellIdentifier": "mxj4kr0cg9nb87fb20z68"
   },
   "source": [
    "<div style=\"background-color:#c2eafa\">\n",
    "\n",
    "**Question 1.3** Explain the role of the for-loop in the code snippet above and what it implements.\n",
    "\n",
    "<div style=\"background-color:#f1be3e\">\n",
    "\n",
    "[//]: # (START ANSWER)\n",
    "Each iteration of the for loop correspondes to one step in the gradient descent optimization. As the loop runs, the optimization converges to a minimum of the cost function used to evaluat the performance of the model.\n",
    "    \n",
    "[//]: # (END ANSWER)\n",
    "\n",
    "<div style=\"background-color:#c2eafa\">\n",
    "\n",
    "**Question 1.4** Analyze the code above. Which variation of the gradient descent procedure (stochastic, batch, or minibatch) is used to train our classifier?\n",
    "\n",
    "**Hint:** when we call partial_fit, a gradient descent step is performed using the provided objects.  "
   ]
  },
  {
   "cell_type": "markdown",
   "id": "b5335878",
   "metadata": {
    "cellIdentifier": "lxwm0kbeedlgf5bfed84kc"
   },
   "source": [
    "<div style=\"background-color:#f1be3e\">\n",
    "\n",
    "[//]: # (START ANSWER)\n",
    "\n",
    "The entire dataset is used in each iteration of the gradient descent, thus it is the batch approach.\n",
    "    \n",
    "    \n",
    "    \n",
    "[//]: # (END ANSWER)\n",
    "\n",
    "<div style=\"background-color:#c2eafa\">\n",
    "\n",
    "**Question 1.5** Do you think that the optimization has converged? Why (not)?\n",
    "\n",
    "<div style=\"background-color:#f1be3e\">\n",
    "\n",
    "[//]: # (START ANSWER)\n",
    "No, the optimization did not seem to converge, since the decision boundary clearly does not fit the training data, thus with more iterations the model is expected to improve.\n",
    "    \n",
    "[//]: # (END ANSWER)\n",
    "\n",
    "<div style=\"background-color:#c2eafa\">\n",
    "\n",
    "**Question 1.6** Set the learning rate to 100. What happens? How do you explain it?\n"
   ]
  },
  {
   "cell_type": "markdown",
   "id": "de1f6ce0",
   "metadata": {
    "cellIdentifier": "sit0rq0fr1j8cbfqumhy1h"
   },
   "source": [
    "<div style=\"background-color:#f1be3e\">\n",
    "\n",
    "[//]: # (START ANSWER)\n",
    "\n",
    "The step size in the optimization process is now too large, thus even though the optimization is \"moving\" in the direction of steepest descent, since the size of the step is large, the  local minimum is skipped . \n",
    "    \n",
    "[//]: # (END ANSWER)\n",
    "\n",
    "<div style=\"background-color:#c2eafa\">\n",
    "    \n",
    "When tuning the hyper-parameters you should try multiple orders of magnitudes. For example, try a learning rate of $0.001$, then $0.01$, then $0.1$, etc. If we take constant steps (e.g. $0.001$, $0.002$, $0.003$) tuning will take too long. This holds for all hyperparameter settings that are positive but unbounded (they have no maximum). \n",
    "\n",
    "If you set the number of epochs very high, for example $>1000$, the computation will take a long time. To avoid doing very long computations, we advice you to increase the number of epochs in steps of say 100 or 200 and to see if this yields any improvement to begin with. \n"
   ]
  },
  {
   "cell_type": "markdown",
   "id": "3a7c29b2",
   "metadata": {
    "cellIdentifier": "qb3ajvov6lp2og5njl5jmg"
   },
   "source": [
    "<div style=\"background-color:#c2eafa\">\n",
    "\n",
    "**Question 1.7** Try to get our model to converge to zero training log loss. Change both the learning rate and the number of epochs used for training. Which hyper-parameters did you choose in the end? How did you conduct the tuning procedure?\n"
   ]
  },
  {
   "cell_type": "code",
   "execution_count": 67,
   "id": "1ed88e5a",
   "metadata": {
    "cellIdentifier": "558i0galksg7rapc9tmw2o",
    "lines_to_next_cell": 0
   },
   "outputs": [
    {
     "data": {
      "image/png": "[encoded data removed]",
      "text/plain": [
       "<Figure size 1080x360 with 2 Axes>"
      ]
     },
     "metadata": {
      "needs_background": "light"
     },
     "output_type": "display_data"
    },
    {
     "name": "stdout",
     "output_type": "stream",
     "text": [
      "Final training log loss: 0.00584\n"
     ]
    }
   ],
   "source": [
    "number_of_epochs = None\n",
    "learning_rate = None\n",
    "\n",
    "# START ANSWER\n",
    "number_of_epochs = 10000\n",
    "learning_rate = 0.1\n",
    "# END ANSWER\n",
    "\n",
    "# Create our logistic regression model\n",
    "model = SGDClassifier(warm_start=True, loss='log_loss', random_state=random_state,\n",
    "                      learning_rate='constant', eta0=learning_rate)\n",
    "\n",
    "# We will use this list to track the performance during optimization\n",
    "train_log_loss = []\n",
    "\n",
    "# We repeat the optimization routine a given number of times\n",
    "for i in range(number_of_epochs):\n",
    "    # Use the whole dataset to perform one gradient step\n",
    "    model.partial_fit(X_poly_features, y, classes=np.unique(y))\n",
    "    \n",
    "    # Evaluate our current model on the training data\n",
    "    y_pred = model.predict_proba(X_poly_features)\n",
    "    train_log_loss.append(log_loss(y, y_pred, labels=np.unique(y)))\n",
    "\n",
    "# Let's also visualize the results\n",
    "fig, (ax1, ax2) = plt.subplots(1, 2, figsize=(15,5))\n",
    "\n",
    "fig.suptitle('Monitoring the optimization process')\n",
    "\n",
    "ax1.plot(train_log_loss)\n",
    "ax1.set(xlabel='epoch', ylabel='training log loss')\n",
    "\n",
    "plt.sca(ax2)\n",
    "plot_decision_boundary_twostep(X, y, preprocessing, model)\n",
    "ax2.set(title='Model after optimization')\n",
    "\n",
    "plt.show()\n",
    "\n",
    "print(\"Final training log loss: {}\".format(np.round(train_log_loss[number_of_epochs - 1],5)))\n"
   ]
  },
  {
   "cell_type": "markdown",
   "id": "97fca882",
   "metadata": {
    "cellIdentifier": "c7dky0wbv1pcmzkkqc289"
   },
   "source": [
    "<div style=\"background-color:#f1be3e\">"
   ]
  },
  {
   "cell_type": "markdown",
   "id": "5ee26892",
   "metadata": {
    "cellIdentifier": "ro86d1l22o26cvq98n56w"
   },
   "source": [
    "<div style=\"background-color:#f1be3e\">\n",
    "\n",
    "[//]: # (START ANSWER)\n",
    "The first combination of hyper-parameters used was number_of_epochs = 5000 and learning_rate = 0.1, which led to better results when compared to the previous exercise, nonetheless since the training loss stopped at a plateau, thus for the following interations the number of iterations was increased.\n",
    "\n",
    "\n",
    "\n",
    "\n",
    "[//]: # (END ANSWER)"
   ]
  },
  {
   "cell_type": "markdown",
   "id": "01c4d041",
   "metadata": {
    "cellIdentifier": "jzjnrsu3oegfrzvtsfhg2u"
   },
   "source": [
    "**Exercise 2** Scaled versus unscaled logistic regression.\n",
    "\n",
    "As you can see, it may take quite some time to train even a simple model. We discussed during the lecture that there is a way to improve the optimization procedure for gradient descent.\n",
    "\n",
    "<div style=\"background-color:#c2eafa\">\n",
    "\n",
    "**Question 2.1** Compute the standard deviation as the scale of the features. You should receive multiple numbers, one number for each of the features.  \n",
    "**Hint:** You can use numpy's `std()` function. This measures the standard deviation, which indicates the spread of the feature. \n"
   ]
  },
  {
   "cell_type": "code",
   "execution_count": 68,
   "id": "cc497acd",
   "metadata": {
    "cellIdentifier": "xw9che0rr5onwyxsaqrveq"
   },
   "outputs": [
    {
     "name": "stdout",
     "output_type": "stream",
     "text": [
      "[0.8848480985054413, 0.5122398628376743]\n"
     ]
    }
   ],
   "source": [
    "scales = []\n",
    "\n",
    "# START ANSWER\n",
    "scales = [np.std(X_train[:,0]), np.std(X_train[:,1])]\n",
    "# END ANSWER\n",
    "\n",
    "print(scales)"
   ]
  },
  {
   "cell_type": "markdown",
   "id": "6231c1eb",
   "metadata": {
    "cellIdentifier": "om6b8j2p0vhmmjsq7e8fu"
   },
   "source": [
    "<div style=\"background-color:#c2eafa\">\n",
    "\n",
    "**Question 2.2** Inspect the numbers you have found. Do you think all features are on the same scale? Why (not)? "
   ]
  },
  {
   "cell_type": "markdown",
   "id": "d51085c5",
   "metadata": {
    "cellIdentifier": "ckfekr2zf6tnojedxo0gal"
   },
   "source": [
    "<div style=\"background-color:#f1be3e\">\n",
    "\n",
    "[//]: # (START ANSWER)\n",
    "Both features have the same order of magnitude\n",
    "    \n",
    "[//]: # (END ANSWER)\n",
    "\n",
    "<div style=\"background-color:#c2eafa\">\n",
    "\n",
    "**Question 2.3** Why may gradient descent have some difficulties with features that are not on the same scale?"
   ]
  },
  {
   "cell_type": "markdown",
   "id": "bd4dd6a9",
   "metadata": {
    "cellIdentifier": "26euxi8tboxfzzsxlz8r3h"
   },
   "source": [
    "<div style=\"background-color:#f1be3e\">\n",
    "\n",
    "[//]: # (START ANSWER)\n",
    "The gradient descent will encounter difficulties, because the gradient will have different magnitudes in different directions, and since the same learning rate is going to be used on all directions, this might result that some directions converge more easily to the minimum than others.  \n",
    "    \n",
    "[//]: # (END ANSWER)"
   ]
  },
  {
   "cell_type": "markdown",
   "id": "b8a3a16d",
   "metadata": {
    "cellIdentifier": "y15xmq0x50kfgvdax493k"
   },
   "source": [
    "<div style=\"background-color:#c2eafa\">\n",
    "\n",
    "**Question 2.4** Use the `StandardScaler()` from Scikit library to standardize the features to have zero mean and unit standard deviation. Store the transformed features in the variable `X_scaled_poly_features`.<br/>\n",
    "**Hint:** Take a look at the [documentation](https://scikit-learn.org/stable/modules/generated/sklearn.preprocessing.StandardScaler.html) of Scikit to learn how you should use the `StandardScaler()`\n"
   ]
  },
  {
   "cell_type": "code",
   "execution_count": 69,
   "id": "76869b9d",
   "metadata": {
    "cellIdentifier": "dc8tbl98zzq4n2nlyno17q",
    "lines_to_next_cell": 0
   },
   "outputs": [],
   "source": [
    "X_scaled_poly_features = None\n",
    "\n",
    "# START ANSWER\n",
    "scaler = StandardScaler()\n",
    "scaler.fit(X_train)\n",
    "X_scaled_poly_features = scaler.transform(X_train)\n",
    "# END ANSWER"
   ]
  },
  {
   "cell_type": "markdown",
   "id": "43bac52c",
   "metadata": {
    "cellIdentifier": "jyoyusn8nieg6qzicb05x5"
   },
   "source": [
    "\n"
   ]
  },
  {
   "cell_type": "markdown",
   "id": "4ea5ef12",
   "metadata": {
    "cellIdentifier": "hs2hj9fiig6ltypd4o749"
   },
   "source": [
    "<div style=\"background-color:#c2eafa\">\n",
    "\n",
    "**Question 2.5** Verify that the new features have a mean of 0 and standard deviation of 1.  \n",
    "**Hint:** The first feature is constant ($1$) so its standard deviation will be 0.\n"
   ]
  },
  {
   "cell_type": "code",
   "execution_count": 70,
   "id": "d79b8e55",
   "metadata": {
    "cellIdentifier": "r3kw84xo40rnf6xxvegyrn"
   },
   "outputs": [
    {
     "name": "stdout",
     "output_type": "stream",
     "text": [
      "[1.8873791418627663e-17, -9.048317650695025e-17]\n",
      "[1.0, 1.0000000000000002]\n"
     ]
    }
   ],
   "source": [
    "scaled_deviations = None\n",
    "scaled_means = None\n",
    "\n",
    "# START ANSWER\n",
    "scaled_means = [np.mean(X_scaled_poly_features[:,0]),  np.mean(X_scaled_poly_features[:,1])]\n",
    "scaled_deviations = [np.std(X_scaled_poly_features[:,0]),  np.std(X_scaled_poly_features[:,1])]\n",
    "\n",
    "# END ANSWER\n",
    "\n",
    "print(scaled_means)\n",
    "print(scaled_deviations)"
   ]
  },
  {
   "cell_type": "markdown",
   "id": "fca13e90",
   "metadata": {
    "cellIdentifier": "xqhyvxp3ghe2urdc1fddj"
   },
   "source": [
    "<div style=\"background-color:#c2eafa\">\n",
    "\n",
    "**Question 2.6** Create two SGD models reusing the code from exercise 5.1. One will use the scaled features stored in `X_scaled_poly_features`, the other will use `X_poly_features` just like before. Use the learning rate and number of epochs you found previously worked best on the unscaled features. \n",
    "**Hint:** Make sure to pass the `random_state` variable to get repeatable results.\n"
   ]
  },
  {
   "cell_type": "code",
   "execution_count": 71,
   "id": "d4080923",
   "metadata": {
    "cellIdentifier": "m0efq8jbrdo17ffb39gfx7"
   },
   "outputs": [
    {
     "name": "stdout",
     "output_type": "stream",
     "text": [
      "Log loss without scaled features: 0.005836610775948838 \n",
      "\n",
      "Log loss on scaled features: 0.6892685255333868\n"
     ]
    },
    {
     "data": {
      "image/png": "[encoded data removed]",
      "text/plain": [
       "<Figure size 1080x360 with 2 Axes>"
      ]
     },
     "metadata": {
      "needs_background": "light"
     },
     "output_type": "display_data"
    }
   ],
   "source": [
    "# set the learning rate and number of epochs to the values you found previously were optimal\n",
    "\n",
    "# START ANSWER\n",
    "number_of_epochs = 10000\n",
    "learning_rate = 0.1\n",
    "# END ANSWER\n",
    "\n",
    "# store the training curves of both models in these lists:\n",
    "train_log_loss_basic = [] # the basic model is trained should be trained on X_poly_features\n",
    "train_log_loss_scaled = [] # the scaled model is trained with X_scaled_poly_features\n",
    "\n",
    "basic_model = SGDClassifier(warm_start=True, loss='log_loss', random_state=random_state,\n",
    "                            learning_rate='constant', eta0=learning_rate)\n",
    "\n",
    "scaled_model = SGDClassifier(warm_start=True, loss='log_loss', random_state=random_state,\n",
    "                            learning_rate='constant', eta0=learning_rate)\n",
    "\n",
    "for i in range(number_of_epochs):\n",
    "    basic_model.partial_fit(X_poly_features, y, classes=np.unique(y))\n",
    "    y_pred_basic = basic_model.predict_proba(X_poly_features)\n",
    "    train_log_loss_basic.append(log_loss(y, y_pred_basic, labels=np.unique(y)))\n",
    "    \n",
    "    scaled_model.partial_fit(X_scaled_poly_features, y, classes=np.unique(y))   \n",
    "    y_pred_scaled = scaled_model.predict_proba(X_scaled_poly_features)\n",
    "    train_log_loss_scaled.append(log_loss(y, y_pred_scaled, labels=np.unique(y)))\n",
    "    \n",
    "# Let's also visualize the results\n",
    "fig, (ax1, ax2) = plt.subplots(1, 2, figsize=(15,5))\n",
    "\n",
    "fig.suptitle('Training curves')\n",
    "\n",
    "ax1.plot(train_log_loss_basic)\n",
    "ax1.set(xlabel='epoch', ylabel='training log loss unscaled')\n",
    "ax1.set(title='Unscaled features')\n",
    "\n",
    "ax2.plot(train_log_loss_scaled)\n",
    "ax2.set(xlabel='epoch', ylabel='training log loss scaled')\n",
    "ax2.set(title='Scaled features')\n",
    "    \n",
    "print('Log loss without scaled features: {} \\n'.format(train_log_loss_basic[-1]))\n",
    "print('Log loss on scaled features: {}'.format(train_log_loss_scaled[-1]))"
   ]
  },
  {
   "cell_type": "markdown",
   "id": "97f497fa",
   "metadata": {
    "cellIdentifier": "6ox79xrqfloio8203u9t4"
   },
   "source": [
    "<div style=\"background-color:#c2eafa\">\n",
    "\n",
    "**Question 2.7** Does the learning rate you found previously for the unscaled model work well for the scaled model?\n"
   ]
  },
  {
   "cell_type": "markdown",
   "id": "e927e16a",
   "metadata": {
    "cellIdentifier": "rpx5ja3twiga9dien4eqtp"
   },
   "source": [
    "<div style=\"background-color:#f1be3e\">\n",
    "\n",
    "[//]: # (START ANSWER)\n",
    "_No, the log loss is much bigger at the scaled model._\n",
    "\n",
    "[//]: # (END ANSWER)"
   ]
  },
  {
   "cell_type": "markdown",
   "id": "0ca012b6",
   "metadata": {
    "cellIdentifier": "qkiffjfnisqltgafstz44e"
   },
   "source": [
    "<div style=\"background-color:#c2eafa\">\n",
    "\n",
    "**Question 2.8** In the code below, now train both the scaled model and the unscaled model with the following `learning_rates` array: $0.001$, $0.01$, $0.1$, $10$, $100$. Which model seems to be more sensitive to the learning rate?\n",
    "\n"
   ]
  },
  {
   "cell_type": "code",
   "execution_count": 72,
   "id": "b2008667",
   "metadata": {
    "cellIdentifier": "bqknygh4yfn089hjgubadfa"
   },
   "outputs": [
    {
     "data": {
      "image/png": "[encoded data removed]",
      "text/plain": [
       "<Figure size 432x288 with 1 Axes>"
      ]
     },
     "metadata": {
      "needs_background": "light"
     },
     "output_type": "display_data"
    }
   ],
   "source": [
    "number_of_epochs = 200\n",
    "learning_rates = [0.001, 0.01, 0.1, 1, 10, 100]\n",
    "\n",
    "basic_loss_list = []\n",
    "scaled_loss_list = []\n",
    "for eta in learning_rates:\n",
    "    # in the code below you should:\n",
    "    # train the basic model and store it in basic_model\n",
    "    # train the scaled model and store in in scaled_model\n",
    "    \n",
    "    # START ANSWER\n",
    "    basic_model = SGDClassifier(warm_start=True, loss='log_loss', random_state=random_state,\n",
    "                            learning_rate='constant', eta0=eta)\n",
    "\n",
    "    scaled_model = SGDClassifier(warm_start=True, loss='log_loss', random_state=random_state,\n",
    "                            learning_rate='constant', eta0=eta)\n",
    "\n",
    "    for i in range(number_of_epochs):\n",
    "        basic_model.partial_fit(X_poly_features, y, classes=np.unique(y))\n",
    "        scaled_model.partial_fit(X_scaled_poly_features, y, classes=np.unique(y))   \n",
    "    \n",
    "    # END ANSWER\n",
    "    \n",
    "    # evaluate the trained models\n",
    "    basic_predictions = basic_model.predict_proba(X_poly_features)\n",
    "    basic_loss_list.append(log_loss(y, basic_predictions, labels=np.unique(y)))\n",
    "    \n",
    "    scaled_predictions = scaled_model.predict_proba(X_scaled_poly_features)\n",
    "    scaled_loss_list.append(log_loss(y, scaled_predictions, labels=np.unique(y)))\n",
    "\n",
    "plt.plot(learning_rates, basic_loss_list, label='Unscaled features')\n",
    "plt.plot(learning_rates, scaled_loss_list, label='Scaled features')\n",
    "plt.legend()\n",
    "plt.xlabel(\"Learning rate\")\n",
    "plt.ylabel(\"Final loss\")\n",
    "plt.gca().set_xscale('log')\n",
    "plt.show()"
   ]
  },
  {
   "cell_type": "markdown",
   "id": "ed8c010f",
   "metadata": {
    "cellIdentifier": "c9zjcxuw2b9cydyahn8xa"
   },
   "source": [
    "<div style=\"background-color:#f1be3e\">\n",
    "\n",
    "[//]: # (START ANSWER)\n",
    "_The unscaled features seems to be more senstive, because of the behaviour when the learning rate increases._\n",
    "\n",
    "[//]: # (END ANSWER)\n"
   ]
  },
  {
   "cell_type": "markdown",
   "id": "91d6cbb2",
   "metadata": {
    "cellIdentifier": "dqsp06tjegc6zql20r6n39"
   },
   "source": [
    "<div style=\"background-color:#c2eafa\">\n",
    "\n",
    "**Question 2.9** In the code above, change the number of epochs slightly (for example, try 250). What do you notice? Try a few values. Can you guess why this happens? (if not, you can figure it out in the next exercise)\n",
    "\n",
    "<div style=\"background-color:#f1be3e\">\n",
    "\n",
    "[//]: # (START ANSWER)\n",
    "_The loss stabalizes._\n",
    "\n",
    "[//]: # (END ANSWER)\n",
    "\n",
    "<div style=\"background-color:#c2eafa\">\n",
    "\n",
    "**Question 2.10** Plot two training curves, one for scaled and one for unscaled features. Make sure to use the best learning rate for scaled and unscaled features that you just identified above (they are not the same!). Which model converges more rapidly? Use 250 epochs. \n"
   ]
  },
  {
   "cell_type": "code",
   "execution_count": 73,
   "id": "a0450341",
   "metadata": {
    "cellIdentifier": "jm89k38imfmoscwoayed1p"
   },
   "outputs": [
    {
     "name": "stdout",
     "output_type": "stream",
     "text": [
      "Log loss without scaled features: 15.859207491211547 \n",
      "\n",
      "Log loss on scaled features: 0.6877420027390897\n"
     ]
    },
    {
     "data": {
      "image/png": "[encoded data removed]",
      "text/plain": [
       "<Figure size 1080x360 with 2 Axes>"
      ]
     },
     "metadata": {
      "needs_background": "light"
     },
     "output_type": "display_data"
    }
   ],
   "source": [
    "# set the learning rates for both models seperately (they should not be the same!)\n",
    "\n",
    "number_of_epochs = 250 # keep this\n",
    "\n",
    "# START ANSWER\n",
    "learning_rate_basic = 10\n",
    "learning_rate_scaled = 0.001\n",
    "\n",
    "# END ANSWER\n",
    "\n",
    "# store the training curve in these lists:\n",
    "train_log_loss_basic = []\n",
    "train_log_loss_scaled = []\n",
    "\n",
    "basic_model = SGDClassifier(warm_start=True, loss='log_loss', random_state=random_state,\n",
    "                            learning_rate='constant', eta0=learning_rate_basic)\n",
    "\n",
    "scaled_model = SGDClassifier(warm_start=True, loss='log_loss', random_state=random_state,\n",
    "                            learning_rate='constant', eta0=learning_rate_scaled)\n",
    "# START ANSWER\n",
    "\n",
    "for i in range(number_of_epochs):\n",
    "    basic_model.partial_fit(X_poly_features, y, classes=np.unique(y))\n",
    "    scaled_model.partial_fit(X_scaled_poly_features, y, classes=np.unique(y))   \n",
    "    \n",
    "    # evaluate the trained models\n",
    "    basic_predictions = basic_model.predict_proba(X_poly_features)\n",
    "    train_log_loss_basic.append(log_loss(y, basic_predictions, labels=np.unique(y)))\n",
    "    \n",
    "    scaled_predictions = scaled_model.predict_proba(X_scaled_poly_features)\n",
    "    train_log_loss_scaled.append(log_loss(y, scaled_predictions, labels=np.unique(y)))\n",
    "# END ANSWER\n",
    "    \n",
    "# Let's also visualize the results\n",
    "fig, (ax1, ax2) = plt.subplots(1, 2, figsize=(15,5))\n",
    "\n",
    "fig.suptitle('Training curves')\n",
    "\n",
    "ax1.plot(train_log_loss_basic)\n",
    "ax1.set(xlabel='epoch', ylabel='training log loss unscaled')\n",
    "ax1.set(title='Unscaled features')\n",
    "\n",
    "ax2.plot(train_log_loss_scaled)\n",
    "ax2.set(xlabel='epoch', ylabel='training log loss scaled')\n",
    "ax2.set(title='Scaled features')\n",
    "    \n",
    "print('Log loss without scaled features: {} \\n'.format(train_log_loss_basic[-1]))\n",
    "print('Log loss on scaled features: {}'.format(train_log_loss_scaled[-1]))"
   ]
  },
  {
   "cell_type": "markdown",
   "id": "8ad51801",
   "metadata": {
    "cellIdentifier": "b9ceo7k0av1ifddxey6qs"
   },
   "source": [
    "<div style=\"background-color:#f1be3e\">\n",
    "\n",
    "[//]: # (START ANSWER)\n",
    "_Scaled model converges more rapidly (and is also smoother)._\n",
    "\n",
    "[//]: # (END ANSWER)"
   ]
  },
  {
   "cell_type": "markdown",
   "id": "07832cda",
   "metadata": {
    "cellIdentifier": "0fdf9quac3e83rwx9iedhir"
   },
   "source": [
    "#### Part C: Paying Back That Loan\n",
    "\n",
    "**Exercise 3** Linear regression can be used for classification tasks, but has some disadvantages for that. \n",
    "\n",
    "<div style=\"background-color:#c2eafa\">\n",
    "\n",
    "**Question 3.1** What is an advantage of logistic regression over linear regression for classification?"
   ]
  },
  {
   "cell_type": "markdown",
   "id": "b768f4e0",
   "metadata": {
    "cellIdentifier": "34o48r1ntt8ykquocen2x"
   },
   "source": [
    "<div style=\"background-color:#f1be3e\">\n",
    "\n",
    "[//]: # (START ANSWER)\n",
    "_Logistic regression predicts not only the class but also the posterior probability (observing a particular class given the features)._\n",
    "\n",
    "[//]: # (END ANSWER)\n",
    "\n",
    "<div style=\"background-color:#c2eafa\">\n",
    "Let's load the `Default` dataset that you have already seen in the lectures. It presents records of customer defaults on their credit cards. We will convert the `.csv` file into a numpy array and use pandas to investigate the structure of records.\n",
    "\n",
    "<div style=\"background-color:#c2eafa\">\n",
    "\n",
    "**Question 3.2** Create a labels array and a features array, for our classification we will use only the `balance` column.\n",
    "Hint: You will need to cast both arrays using Python's `astype()` method.\n"
   ]
  },
  {
   "cell_type": "code",
   "execution_count": 75,
   "id": "e9db9384",
   "metadata": {
    "cellIdentifier": "43r7wpn2pa79pvbqpzql09",
    "lines_to_next_cell": 0
   },
   "outputs": [
    {
     "data": {
      "text/html": [
       "<div>\n",
       "<style scoped>\n",
       "    .dataframe tbody tr th:only-of-type {\n",
       "        vertical-align: middle;\n",
       "    }\n",
       "\n",
       "    .dataframe tbody tr th {\n",
       "        vertical-align: top;\n",
       "    }\n",
       "\n",
       "    .dataframe thead th {\n",
       "        text-align: right;\n",
       "    }\n",
       "</style>\n",
       "<table border=\"1\" class=\"dataframe\">\n",
       "  <thead>\n",
       "    <tr style=\"text-align: right;\">\n",
       "      <th></th>\n",
       "      <th>default</th>\n",
       "      <th>student</th>\n",
       "      <th>balance</th>\n",
       "      <th>income</th>\n",
       "    </tr>\n",
       "  </thead>\n",
       "  <tbody>\n",
       "    <tr>\n",
       "      <th>0</th>\n",
       "      <td>0</td>\n",
       "      <td>0</td>\n",
       "      <td>729.526495</td>\n",
       "      <td>44361.625074</td>\n",
       "    </tr>\n",
       "    <tr>\n",
       "      <th>1</th>\n",
       "      <td>0</td>\n",
       "      <td>1</td>\n",
       "      <td>817.180407</td>\n",
       "      <td>12106.134700</td>\n",
       "    </tr>\n",
       "    <tr>\n",
       "      <th>2</th>\n",
       "      <td>0</td>\n",
       "      <td>0</td>\n",
       "      <td>1073.549164</td>\n",
       "      <td>31767.138947</td>\n",
       "    </tr>\n",
       "    <tr>\n",
       "      <th>3</th>\n",
       "      <td>0</td>\n",
       "      <td>0</td>\n",
       "      <td>529.250605</td>\n",
       "      <td>35704.493935</td>\n",
       "    </tr>\n",
       "    <tr>\n",
       "      <th>4</th>\n",
       "      <td>0</td>\n",
       "      <td>0</td>\n",
       "      <td>785.655883</td>\n",
       "      <td>38463.495879</td>\n",
       "    </tr>\n",
       "    <tr>\n",
       "      <th>5</th>\n",
       "      <td>0</td>\n",
       "      <td>1</td>\n",
       "      <td>919.588530</td>\n",
       "      <td>7491.558572</td>\n",
       "    </tr>\n",
       "    <tr>\n",
       "      <th>6</th>\n",
       "      <td>0</td>\n",
       "      <td>0</td>\n",
       "      <td>825.513331</td>\n",
       "      <td>24905.226578</td>\n",
       "    </tr>\n",
       "    <tr>\n",
       "      <th>7</th>\n",
       "      <td>0</td>\n",
       "      <td>1</td>\n",
       "      <td>808.667504</td>\n",
       "      <td>17600.451344</td>\n",
       "    </tr>\n",
       "    <tr>\n",
       "      <th>8</th>\n",
       "      <td>0</td>\n",
       "      <td>0</td>\n",
       "      <td>1161.057854</td>\n",
       "      <td>37468.529288</td>\n",
       "    </tr>\n",
       "    <tr>\n",
       "      <th>9</th>\n",
       "      <td>0</td>\n",
       "      <td>0</td>\n",
       "      <td>0.000000</td>\n",
       "      <td>29275.268293</td>\n",
       "    </tr>\n",
       "  </tbody>\n",
       "</table>\n",
       "</div>"
      ],
      "text/plain": [
       "   default  student      balance        income\n",
       "0        0        0   729.526495  44361.625074\n",
       "1        0        1   817.180407  12106.134700\n",
       "2        0        0  1073.549164  31767.138947\n",
       "3        0        0   529.250605  35704.493935\n",
       "4        0        0   785.655883  38463.495879\n",
       "5        0        1   919.588530   7491.558572\n",
       "6        0        0   825.513331  24905.226578\n",
       "7        0        1   808.667504  17600.451344\n",
       "8        0        0  1161.057854  37468.529288\n",
       "9        0        0     0.000000  29275.268293"
      ]
     },
     "execution_count": 75,
     "metadata": {},
     "output_type": "execute_result"
    }
   ],
   "source": [
    "import pandas as pd\n",
    "import numpy as np\n",
    "from sklearn.linear_model import LinearRegression\n",
    "%matplotlib inline\n",
    "import matplotlib.pyplot as plt\n",
    "\n",
    "np.random.seed(42)\n",
    "random_state = 42\n",
    "\n",
    "# We will read the dataset into a pandas dataframe to explore the available samples more easily\n",
    "dataframe = pd.read_csv('data/default.csv', delimiter=',', index_col=0)\n",
    "\n",
    "# Convert the dataframe to numpy\n",
    "default_dataset = dataframe.to_numpy(dtype=None)\n",
    "X_default = None\n",
    "y_default = None\n",
    "\n",
    "# START ANSWER\n",
    "y_default = dataframe['default'].astype(int).to_numpy()\n",
    "X_default = dataframe['balance'].astype(float).to_numpy()\n",
    "\n",
    "# END ANSWER\n",
    "\n",
    "X_default = X_default.reshape(-1, 1)\n",
    "\n",
    "# Show part of the available data\n",
    "dataframe.head(n=10)"
   ]
  },
  {
   "cell_type": "markdown",
   "id": "94be01ed",
   "metadata": {
    "cellIdentifier": "i5d3qenvltdl5ztyhuyuc8"
   },
   "source": [
    "We will define a function for plotting the regression results.\n",
    "\n",
    "First, let us look at the predictions of a linear regression model where `balance` we use to estimate the probability that a person will default on their loan (`1`) or pay it back (`0`).\n"
   ]
  },
  {
   "cell_type": "code",
   "execution_count": 76,
   "id": "902c0c12",
   "metadata": {
    "cellIdentifier": "oqc8dclqwp7a30397f3n",
    "lines_to_next_cell": 2
   },
   "outputs": [],
   "source": [
    "def plot_regression(X, y, predictions):\n",
    "       \n",
    "    X_ordered, predictions = zip(*sorted(zip(X, predictions)))\n",
    "    \n",
    "    plt.scatter(X.ravel(), y_default, color='orange', marker='|')\n",
    "    plt.axhline(y=1.0, color='black', linestyle='--', linewidth=1)\n",
    "    plt.axhline(y=0.0, color='black', linestyle='--', linewidth=1)\n",
    "    plt.plot(X_ordered, predictions)\n",
    "    plt.xlabel(\"Balance\")\n",
    "    plt.ylabel(\"Probability of default\")\n",
    "    plt.show()"
   ]
  },
  {
   "cell_type": "code",
   "execution_count": 77,
   "id": "06c51be0",
   "metadata": {
    "cellIdentifier": "ofio6gut2ge2mnprrj544o",
    "lines_to_next_cell": 0
   },
   "outputs": [
    {
     "data": {
      "image/png": "[encoded data removed]",
      "text/plain": [
       "<Figure size 432x288 with 1 Axes>"
      ]
     },
     "metadata": {
      "needs_background": "light"
     },
     "output_type": "display_data"
    }
   ],
   "source": [
    "lin_regression = LinearRegression()\n",
    "lin_regression.fit(X_default, y_default)\n",
    "lin_prediction = lin_regression.coef_ * X_default + lin_regression.intercept_\n",
    "\n",
    "plot_regression(X_default, y_default, lin_prediction)"
   ]
  },
  {
   "cell_type": "markdown",
   "id": "136d61b2",
   "metadata": {
    "cellIdentifier": "p0l6soxhcvmt4g6lzbvv"
   },
   "source": [
    "<div style=\"background-color:#c2eafa\">\n",
    "\n",
    "**Question 3.3** Why can we not interpret the outputs of the linear regression model in terms of probabilities?\n"
   ]
  },
  {
   "cell_type": "markdown",
   "id": "b636ac43",
   "metadata": {
    "cellIdentifier": "103ug67tflhrek8guzxuti"
   },
   "source": [
    "<div style=\"background-color:#f1be3e\">\n",
    "\n",
    "[//]: # (START ANSWER)\n",
    "_Write your answer here._\n",
    "    A linear regression model can give a value below 0.0 probability or above 1.0, which is impossible. In addition, this relation may not be linearly correlated at all.\n",
    "\n",
    "[//]: # (END ANSWER)\n",
    "\n",
    "<div style=\"background-color:#c2eafa\">\n",
    "\n",
    "**Question 3.4** Explain why it is useful for a bank to have a probability of default of their clients."
   ]
  },
  {
   "cell_type": "markdown",
   "id": "5115dd02",
   "metadata": {
    "cellIdentifier": "z300dqqsz1cfrxs9zsr65"
   },
   "source": [
    "<div style=\"background-color:#f1be3e\">\n",
    "\n",
    "[//]: # (START ANSWER)\n",
    "_Write your answer here._\n",
    "It is useful for a bank to have such a probability because that enables them to assess risk more easily. This is useful for assessment of interest rates.\n",
    "    \n",
    "[//]: # (END ANSWER)\n",
    "\n",
    "We will also train a [LogisticRegression()](https://scikit-learn.org/stable/modules/generated/sklearn.linear_model.LogisticRegression.html) model to generate predictions.\n"
   ]
  },
  {
   "cell_type": "code",
   "execution_count": 78,
   "id": "74f4895a",
   "metadata": {
    "cellIdentifier": "gq1a6fveqhppj6ks10trpf",
    "lines_to_next_cell": 0
   },
   "outputs": [
    {
     "data": {
      "image/png": "[encoded data removed]",
      "text/plain": [
       "<Figure size 432x288 with 1 Axes>"
      ]
     },
     "metadata": {
      "needs_background": "light"
     },
     "output_type": "display_data"
    }
   ],
   "source": [
    "from sklearn.linear_model import LogisticRegression\n",
    "from scipy.special import expit\n",
    "\n",
    "log_regression = LogisticRegression(random_state=random_state)\n",
    "log_regression.fit(X_default, y_default)\n",
    "predictions = log_regression.predict_proba(X_default)[:,1]\n",
    "\n",
    "plot_regression(X_default, y_default, predictions)"
   ]
  },
  {
   "cell_type": "markdown",
   "id": "a583c3f3",
   "metadata": {
    "cellIdentifier": "vv8x8e552fiq8yc5j7jxe"
   },
   "source": [
    "<div style=\"background-color:#c2eafa\">\n",
    "\n",
    "**Question 3.5** What is the probability to default according to this logistic regression model for a balance of $2000?$\n",
    "\n"
   ]
  },
  {
   "cell_type": "code",
   "execution_count": 87,
   "id": "9a14ad56",
   "metadata": {
    "cellIdentifier": "8o3nfx0ik3dqpf3bh2it9",
    "lines_to_next_cell": 0
   },
   "outputs": [
    {
     "name": "stdout",
     "output_type": "stream",
     "text": [
      "0.5857692749512325\n"
     ]
    }
   ],
   "source": [
    "probability_to_default = None\n",
    "# START ANSWER\n",
    "balance_value = np.array([[2000]])  # Create a feature array with the balance value\n",
    "probability_of_default = log_regression.predict_proba(balance_value)[0, 1]\n",
    "print(probability_of_default)\n",
    "\n",
    "# END ANSWER"
   ]
  },
  {
   "cell_type": "markdown",
   "id": "78277db8",
   "metadata": {
    "cellIdentifier": "82lib3eche8n856y1qoc2"
   },
   "source": [
    "**Question 4** A logistic regression classifier is trained to predict whether someone will pay back their loan or not. The model predicts that person A pays back the loan with 0.9 probability, and person B pays back the loan with probability 0.1. In reality, both person A and B don't pay back the loan.\n",
    "\n",
    "For the questions below, you can use the text area to explain your calculations and enter the final answer in the code.\n",
    "\n",
    "<div style=\"background-color:#c2eafa\">\n",
    "\n",
    "**Question 4.1** What is the likehood for this data?\n",
    "\n",
    "<div style=\"background-color:#f1be3e\">\n",
    "\n",
    "[//]: # (START ANSWER)\n",
    "_Write your answer here._\n",
    "The probabilities as stated by the model are first defined, then the actual outcomes. The probability for outcome 0 for person A is 1-0.9=0.1 and vice versa for person B. The product of these probabilities is the likelihood.\n",
    "[//]: # (END ANSWER)\n"
   ]
  },
  {
   "cell_type": "code",
   "execution_count": 88,
   "id": "5baa9b2a",
   "metadata": {
    "cellIdentifier": "kt9wi8isptbynra7am0et",
    "lines_to_next_cell": 0
   },
   "outputs": [
    {
     "data": {
      "text/plain": [
       "0.08999999999999998"
      ]
     },
     "execution_count": 88,
     "metadata": {},
     "output_type": "execute_result"
    }
   ],
   "source": [
    "likelihood = None\n",
    "# START ANSWER\n",
    "y_hat_A = 0.9\n",
    "y_hat_B = 0.1\n",
    "\n",
    "# Actual outcomes\n",
    "y_A = 0\n",
    "y_B = 0\n",
    "\n",
    "# Likelihood for each person\n",
    "likelihood_A = (y_hat_A**y_A) * ((1 - y_hat_A)**(1 - y_A))\n",
    "likelihood_B = (y_hat_B**y_B) * ((1 - y_hat_B)**(1 - y_B))\n",
    "\n",
    "# Overall likelihood\n",
    "likelihood = likelihood_A * likelihood_B\n",
    "likelihood\n",
    "# END ANSWER"
   ]
  },
  {
   "cell_type": "markdown",
   "id": "7c0a442a",
   "metadata": {
    "cellIdentifier": "3a0nvv5lu9gw18hhuyv3d"
   },
   "source": []
  },
  {
   "cell_type": "markdown",
   "id": "4320d981",
   "metadata": {
    "cellIdentifier": "6am01zn0plqxz956ifxhk"
   },
   "source": [
    "<div style=\"background-color:#c2eafa\">\n",
    "\n",
    "**Question 4.2** The negative log likelihood is given by $NLL = - \\sum_{i} {log}_{10} (P(y_i | x_i))$. Usually, the natural logarithm is used, but let us use base 10 to simplify this question. What is the negative log likelihood on this data?\n",
    "\n",
    "<div style=\"background-color:#f1be3e\">\n",
    "\n",
    "[//]: # (START ANSWER)\n",
    "$NLL = - (\\log_Write your answer here._\n",
    "{10}(0.1)) \\approx 1.046$\n",
    "[//]: # (END ANSWER)\n"
   ]
  },
  {
   "cell_type": "code",
   "execution_count": 90,
   "id": "000f8070",
   "metadata": {
    "cellIdentifier": "kxb4670spb7jmtk02u8xx",
    "lines_to_next_cell": 0
   },
   "outputs": [
    {
     "data": {
      "text/plain": [
       "1.045757490560675"
      ]
     },
     "execution_count": 90,
     "metadata": {},
     "output_type": "execute_result"
    }
   ],
   "source": [
    "negative_log_likelihood = None\n",
    "# START ANSWER\n",
    "negative_log_likelihood = -(np.log10(likelihood_A) + np.log10(likelihood_B))\n",
    "negative_log_likelihood\n",
    "\n",
    "# END ANSWER"
   ]
  }
 ],
 "metadata": {
  "jupytext": {
   "cell_metadata_filter": "-all",
   "main_language": "python",
   "notebook_metadata_filter": "-all"
  },
  "kernelspec": {
   "display_name": "Python 3 [3.10]",
   "language": "python",
   "name": "python3"
  },
  "language_info": {
   "codemirror_mode": {
    "name": "ipython",
    "version": 3
   },
   "file_extension": ".py",
   "mimetype": "text/x-python",
   "name": "python",
   "nbconvert_exporter": "python",
   "pygments_lexer": "ipython3",
   "version": "3.10.2"
  }
 },
 "nbformat": 4,
 "nbformat_minor": 5
}
