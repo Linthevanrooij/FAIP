{
 "cells": [
  {
   "cell_type": "code",
   "execution_count": 1,
   "id": "26ae0979",
   "metadata": {},
   "outputs": [
    {
     "data": {
      "image/png": "[encoded data removed]",
      "text/plain": [
       "<Figure size 100x100 with 1 Axes>"
      ]
     },
     "metadata": {},
     "output_type": "display_data"
    }
   ],
   "source": [
    "import matplotlib.pyplot as plt\n",
    "import numpy as np\n",
    "x = np.zeros((1,1)) * 255\n",
    "plt.figure(figsize = (1,1))\n",
    "plt.axis('off')\n",
    "plt.imshow(x,  cmap='gray', vmin=0, vmax=255)\n",
    "plt.show()"
   ]
  },
  {
   "cell_type": "markdown",
   "id": "4e32b319",
   "metadata": {},
   "source": [
    "# An Introduction to Neural Networks\n",
    "In this notebook, the goal is to understand the basics of implementing a fully connected neural network in python using the pytorch library. This is done by completing three steps: \n",
    "<ul>\n",
    "  <li>Loading the MNIST data-set and preformatting the data. The MNIST data set consist out of a number of samples of handwirtten numbers, recorded on a 28x28 grid with values between 0 and 1 for each element.</li>\n",
    "  <li>Constructing a deep and fully connected neural network based on some given hyperparameters. </li>\n",
    "  <li>Training and validating this network on the loaded data-set. Here, we will vary some hyperparamters and investigate their influence on the final result.</li>\n",
    "</ul>  "
   ]
  },
  {
   "cell_type": "markdown",
   "id": "916634f9",
   "metadata": {},
   "source": [
    "## Loading required Libraries\n",
    "In a first step, we have to load the packages we want to uses. This includes the numpy package for preprocessing the data, the pytorch package (torch) for constructing and training the neural network, and the matplotlib package for visualizing the results. We also define a function that allows us the easy representation of any sample from the data-set."
   ]
  },
  {
   "cell_type": "code",
   "execution_count": 1,
   "id": "6d7a1fc7",
   "metadata": {},
   "outputs": [],
   "source": [
    "# Load numpy library\n",
    "import numpy as np\n",
    "# Load pytorch libraries\n",
    "import torch\n",
    "import torch.nn as nn\n",
    "import torch.optim as optim\n",
    "import torch.nn.functional as F\n",
    "# Load matplotlib library\n",
    "import matplotlib.pyplot as plt\n",
    "\n",
    "\n",
    "def plot_in_and_out(x, y_true, y_pred = np.array([None, None])):\n",
    "    plt.figure(figsize = (5,5))\n",
    "    plt.axis('off')\n",
    "    plt.imshow(x,  cmap='gray', vmin=0, vmax=255)\n",
    "    if (y_pred == None).any():\n",
    "        plt.title('This figure is labelled as a {}.'.format(y_true))\n",
    "    else:\n",
    "        plt.title('This figure is labelled as a {}, \\n while beeing classified as {} (probability: {:0.3f}).'.format(y_true, int(y_pred[0]), y_pred[1]))\n",
    "    plt.show()"
   ]
  },
  {
   "cell_type": "markdown",
   "id": "ce823ebb",
   "metadata": {},
   "source": [
    "## Loading the data-set\n",
    "After setting up our python file, we have to load the MNIST data set. This consists out of a training set and a testing set. "
   ]
  },
  {
   "cell_type": "code",
   "execution_count": 2,
   "id": "9a04e8c0",
   "metadata": {},
   "outputs": [],
   "source": [
    "import torchvision.datasets as datasets\n",
    "# load the training set\n",
    "mnist_trainset = datasets.MNIST(root='./data', train=True, download=True, transform=None)\n",
    "# load the test set\n",
    "mnist_testset = datasets.MNIST(root='./data', train=False, download=True, transform=None)\n"
   ]
  },
  {
   "cell_type": "markdown",
   "id": "84f5ab12",
   "metadata": {},
   "source": [
    "## Transform the data-set\n",
    "After loading the dataset, we have to load transform it into a better form.\n",
    "Currently, both data set consist out of a list of samples (60 000 training samples and 10 000 testing samples), each sample being a tuple of an image and an integer label. Our goal is to transform those into numpy arrays for input and label of training and testing set each:"
   ]
  },
  {
   "cell_type": "code",
   "execution_count": 3,
   "id": "3313e5b5",
   "metadata": {},
   "outputs": [],
   "source": [
    "# Set up empty numpy arrays:\n",
    "x_train = mnist_trainset.data.numpy() # training input\n",
    "y_train = mnist_trainset.targets.numpy() # training labels\n",
    "\n",
    "x_test = mnist_testset.data.numpy() # testing input\n",
    "y_test = mnist_testset.targets.numpy() # testing labels\n",
    "    \n",
    "# test if data loaded correctly\n",
    "assert x_train.shape == (60000, 28, 28)\n",
    "assert x_test.shape == (10000, 28, 28)\n",
    "assert y_train.shape == (60000,)\n",
    "assert y_test.shape == (10000,)"
   ]
  },
  {
   "cell_type": "markdown",
   "id": "6a0c1c6a",
   "metadata": {},
   "source": [
    "## Showing an example\n",
    "We can show how one sample looks:"
   ]
  },
  {
   "cell_type": "code",
   "execution_count": 5,
   "id": "a385ecdb",
   "metadata": {},
   "outputs": [
    {
     "data": {
      "image/png": "[encoded data removed]",
      "text/plain": [
       "<Figure size 500x500 with 1 Axes>"
      ]
     },
     "metadata": {},
     "output_type": "display_data"
    }
   ],
   "source": [
    "i_sample = 8\n",
    "plot_in_and_out(x_train[i_sample], y_train[i_sample])"
   ]
  },
  {
   "cell_type": "markdown",
   "id": "c74b23b5",
   "metadata": {},
   "source": [
    "## Transforming the labels\n",
    "The neural network will be constructed to have ten possible outputs, as there are ten possible digits (0,1,...,9). Consequently, the last layer of the network will have ten nodes. Each node here represents the probabilty of the input being the corresponding number. For example, the output [1, 0, 0, 0, 0, 0, 0, 0, 0, 0] will correspond to the network being 100% sure that the input is an 0.\n",
    "\n",
    "To train such a network, our labels of the training set therefore have to be transformed into a so-called one-hot encoding."
   ]
  },
  {
   "cell_type": "code",
   "execution_count": 6,
   "id": "37a03bdd",
   "metadata": {},
   "outputs": [
    {
     "name": "stdout",
     "output_type": "stream",
     "text": [
      "The one-hot encoding corresponding to label 1: [0. 1. 0. 0. 0. 0. 0. 0. 0. 0.]\n"
     ]
    }
   ],
   "source": [
    "# set number of classes\n",
    "num_classes = 10\n",
    "# create array full of zeros\n",
    "y_train_cat = np.zeros((len(y_train), num_classes))\n",
    "# override specific entry in each row with a 1\n",
    "y_train_cat[np.arange(len(y_train)), y_train] = 1\n",
    "\n",
    "print('The one-hot encoding corresponding to label {}:'.format(y_train[i_sample]), y_train_cat[i_sample,:])\n"
   ]
  },
  {
   "cell_type": "markdown",
   "id": "30956c95",
   "metadata": {},
   "source": [
    "## Example: Constructing a neural network\n",
    "The goal is now to create a dense neural netwrok which can classify a given number according to its input. <br>\n",
    "Such an network consists out of three parts, which are the <span style=\"color: #ff8080\">input layer</span>, the <span style=\"color: #8080ff\">hidden layers</span> and the <span style=\"color: #80ff80\">output layer</span>.\n",
    "\n",
    "![An examplar structure of a feed-forward neural network](Neural_Network.png)\n"
   ]
  },
  {
   "cell_type": "markdown",
   "id": "ee3695ad",
   "metadata": {},
   "source": [
    "In pytorch, such networks are commonly constructed as a model class.\n",
    "For a 3 layer dense neural network, where the input samples have the dimensionality of 28x28, and the hidden layer has 100 nueron, while the output layer has 10, it would be implemented in the following way:"
   ]
  },
  {
   "cell_type": "code",
   "execution_count": 17,
   "id": "c64b0028",
   "metadata": {},
   "outputs": [],
   "source": [
    "class Neural_network(nn.Module): #inherit the nn.Module class for backpropagation and training functionalities\n",
    "    # Build the layers of the network, and initializes the parameters\n",
    "    def __init__(self): \n",
    "        super(Neural_network, self).__init__()\n",
    "        self.fc1 = nn.Linear(784, 100, bias = True)  # fully connected layer from 784 to 100 dimensions (28*28) first -> hidden\n",
    "        self.fc2 = nn.Linear(100, 10, bias = True) # fully connected layer from 100 to 10 dimensions hidden -> output\n",
    "    \n",
    "    # Build the forward call \n",
    "    def forward(self, x): # x is the input of dimensionality n x 28 x 28\n",
    "        x = torch.flatten(x, start_dim = 1) # x is reshaped into a n x 784 dimensional input \n",
    "        x = self.fc1(x) # apply the first fully connected layer, x now has shape n x 100\n",
    "        x = F.relu(x) # We apply a ReLU activation to the hidden layer\n",
    "        x = self.fc2(x) # We apply the second fully connected layer, x now has shape n x 10\n",
    "        x = F.softmax(x, dim = -1) # We apply the softmax activation function\n",
    "        return x"
   ]
  },
  {
   "cell_type": "markdown",
   "id": "c9b02639",
   "metadata": {},
   "source": [
    "The softmax activation function takes an input x and transforms it into y so that the sum over y is equal to 1. To avoid any influence of the mean of x, one uses the fromula y = exp(x) / sum(exp(x)) "
   ]
  },
  {
   "cell_type": "markdown",
   "id": "a1a28a42",
   "metadata": {},
   "source": [
    "The parts of the model, as well as their respective parameters, can then be displayed:"
   ]
  },
  {
   "cell_type": "code",
   "execution_count": 18,
   "id": "490849f1",
   "metadata": {},
   "outputs": [
    {
     "name": "stdout",
     "output_type": "stream",
     "text": [
      "Neural_network(\n",
      "  (fc1): Linear(in_features=784, out_features=100, bias=True)\n",
      "  (fc2): Linear(in_features=100, out_features=10, bias=True)\n",
      ")\n",
      "\n",
      "Number of parameter arrays: 4\n",
      "The shape of the parameter arrays:\n",
      "torch.Size([100, 784])\n",
      "torch.Size([100])\n",
      "torch.Size([10, 100])\n",
      "torch.Size([10])\n"
     ]
    }
   ],
   "source": [
    "torch.manual_seed(0) # set random seed for variabl initialization\n",
    "net = Neural_network()\n",
    "print(net)\n",
    "print('')\n",
    "params = list(net.parameters())\n",
    "print('Number of parameter arrays: ' + str(len(params)))\n",
    "print('The shape of the parameter arrays:')\n",
    "for param in params:\n",
    "    print(param.shape)"
   ]
  },
  {
   "cell_type": "markdown",
   "id": "ffb01ffd",
   "metadata": {},
   "source": [
    "## Training the model\n",
    "After writing the model class, we now can train the parameters of the model on a data-set. Here, we have to do a number of steps. \n",
    "\n",
    "### Defining a loss function:\n",
    "The network is able to process an input, but to be able to learn, it has to be able to evaluate the input. This is the purpose of the loss function. Here, we will use the mean squared error: "
   ]
  },
  {
   "cell_type": "code",
   "execution_count": 19,
   "id": "634b7966",
   "metadata": {},
   "outputs": [],
   "source": [
    "loss_func = nn.MSELoss()"
   ]
  },
  {
   "cell_type": "markdown",
   "id": "b2c479a0",
   "metadata": {},
   "source": [
    "The we also have to define an optimizer. This takes the gradients of loss function in regard to the parameters and then changes the parameters accordingly. Here, we use the Adam algorithm:"
   ]
  },
  {
   "cell_type": "code",
   "execution_count": 22,
   "id": "8f652acb",
   "metadata": {},
   "outputs": [],
   "source": [
    "# optimizer = optim.SGD(net.parameters(), lr=0.001)\n",
    "optimizer = optim.Adam(net.parameters(), lr=0.001, betas=(0.9, 0.999))"
   ]
  },
  {
   "cell_type": "markdown",
   "id": "50b8d1e0",
   "metadata": {},
   "source": [
    "Finally, we have to normalize the inputs:"
   ]
  },
  {
   "cell_type": "code",
   "execution_count": 23,
   "id": "186a6f26",
   "metadata": {},
   "outputs": [],
   "source": [
    "x_train_norm = x_train.astype('float32')\n",
    "\n",
    "x_mean = x_train_norm.mean(axis = 0, keepdims = True)\n",
    "x_train_norm -= x_mean\n",
    "\n",
    "x_std = (x_train_norm.std(axis = 0, keepdims = True) + 1e-8)\n",
    "x_train_norm /= x_std\n",
    "\n",
    "x_test_norm = (x_test.astype('float32') - x_mean)/x_std"
   ]
  },
  {
   "cell_type": "markdown",
   "id": "69744f66",
   "metadata": {},
   "source": [
    "Now we have to just iterate over a number of epochs and number of batches:"
   ]
  },
  {
   "cell_type": "code",
   "execution_count": 24,
   "id": "a309b43c",
   "metadata": {},
   "outputs": [
    {
     "name": "stdout",
     "output_type": "stream",
     "text": [
      "Loss for epoch 1/100: 1.5230e-02\n",
      "Loss for epoch 2/100: 6.2644e-03\n",
      "Loss for epoch 3/100: 4.5620e-03\n",
      "Loss for epoch 4/100: 3.5355e-03\n",
      "Loss for epoch 5/100: 2.8777e-03\n",
      "Loss for epoch 6/100: 2.3886e-03\n",
      "Loss for epoch 7/100: 1.9578e-03\n",
      "Loss for epoch 8/100: 1.6776e-03\n",
      "Loss for epoch 9/100: 1.4489e-03\n",
      "Loss for epoch 10/100: 1.2894e-03\n",
      "Loss for epoch 11/100: 1.1228e-03\n",
      "Loss for epoch 12/100: 1.0270e-03\n",
      "Loss for epoch 13/100: 9.5519e-04\n",
      "Loss for epoch 14/100: 8.2692e-04\n",
      "Loss for epoch 15/100: 7.8747e-04\n",
      "Loss for epoch 16/100: 7.7874e-04\n",
      "Loss for epoch 17/100: 7.3504e-04\n",
      "Loss for epoch 18/100: 7.3963e-04\n",
      "Loss for epoch 19/100: 6.2635e-04\n",
      "Loss for epoch 20/100: 6.6493e-04\n",
      "Loss for epoch 21/100: 6.9556e-04\n",
      "Loss for epoch 22/100: 6.1997e-04\n",
      "Loss for epoch 23/100: 5.9584e-04\n",
      "Loss for epoch 24/100: 5.6180e-04\n",
      "Loss for epoch 25/100: 5.2951e-04\n",
      "Loss for epoch 26/100: 5.0684e-04\n",
      "Loss for epoch 27/100: 4.8956e-04\n",
      "Loss for epoch 28/100: 4.9748e-04\n",
      "Loss for epoch 29/100: 5.5249e-04\n",
      "Loss for epoch 30/100: 5.4182e-04\n",
      "Loss for epoch 31/100: 5.0938e-04\n",
      "Loss for epoch 32/100: 5.3307e-04\n",
      "Loss for epoch 33/100: 5.4040e-04\n",
      "Loss for epoch 34/100: 4.9699e-04\n",
      "Loss for epoch 35/100: 4.7176e-04\n",
      "Loss for epoch 36/100: 4.4481e-04\n",
      "Loss for epoch 37/100: 3.9965e-04\n",
      "Loss for epoch 38/100: 4.1939e-04\n",
      "Loss for epoch 39/100: 3.8745e-04\n",
      "Loss for epoch 40/100: 4.6835e-04\n",
      "Loss for epoch 41/100: 5.8298e-04\n",
      "Loss for epoch 42/100: 5.7714e-04\n",
      "Loss for epoch 43/100: 5.0692e-04\n",
      "Loss for epoch 44/100: 5.1218e-04\n",
      "Loss for epoch 45/100: 4.3169e-04\n",
      "Loss for epoch 46/100: 4.2272e-04\n",
      "Loss for epoch 47/100: 4.1343e-04\n",
      "Loss for epoch 48/100: 3.8114e-04\n",
      "Loss for epoch 49/100: 4.4143e-04\n",
      "Loss for epoch 50/100: 4.9017e-04\n",
      "Loss for epoch 51/100: 4.8836e-04\n",
      "Loss for epoch 52/100: 5.2208e-04\n",
      "Loss for epoch 53/100: 4.4801e-04\n",
      "Loss for epoch 54/100: 3.7818e-04\n",
      "Loss for epoch 55/100: 4.0004e-04\n",
      "Loss for epoch 56/100: 3.7843e-04\n",
      "Loss for epoch 57/100: 3.8843e-04\n",
      "Loss for epoch 58/100: 5.3222e-04\n",
      "Loss for epoch 59/100: 5.6195e-04\n",
      "Loss for epoch 60/100: 5.3024e-04\n",
      "Loss for epoch 61/100: 4.6041e-04\n",
      "Loss for epoch 62/100: 4.5685e-04\n",
      "Loss for epoch 63/100: 4.6296e-04\n",
      "Loss for epoch 64/100: 3.9139e-04\n",
      "Loss for epoch 65/100: 3.7804e-04\n",
      "Loss for epoch 66/100: 3.7436e-04\n",
      "Loss for epoch 67/100: 4.2427e-04\n",
      "Loss for epoch 68/100: 4.9444e-04\n",
      "Loss for epoch 69/100: 4.7457e-04\n",
      "Loss for epoch 70/100: 5.2338e-04\n",
      "Loss for epoch 71/100: 4.8527e-04\n",
      "Loss for epoch 72/100: 4.9501e-04\n",
      "Loss for epoch 73/100: 4.9978e-04\n",
      "Loss for epoch 74/100: 4.8058e-04\n",
      "Loss for epoch 75/100: 4.3723e-04\n",
      "Loss for epoch 76/100: 4.0963e-04\n",
      "Loss for epoch 77/100: 3.8017e-04\n",
      "Loss for epoch 78/100: 3.8730e-04\n",
      "Loss for epoch 79/100: 4.8795e-04\n",
      "Loss for epoch 80/100: 4.6226e-04\n",
      "Loss for epoch 81/100: 4.2746e-04\n",
      "Loss for epoch 82/100: 4.5380e-04\n",
      "Loss for epoch 83/100: 4.5307e-04\n",
      "Loss for epoch 84/100: 3.9585e-04\n",
      "Loss for epoch 85/100: 3.7233e-04\n",
      "Loss for epoch 86/100: 4.2523e-04\n",
      "Loss for epoch 87/100: 4.8804e-04\n",
      "Loss for epoch 88/100: 4.3326e-04\n",
      "Loss for epoch 89/100: 4.1470e-04\n",
      "Loss for epoch 90/100: 4.3014e-04\n",
      "Loss for epoch 91/100: 4.5639e-04\n",
      "Loss for epoch 92/100: 5.0529e-04\n",
      "Loss for epoch 93/100: 4.4073e-04\n",
      "Loss for epoch 94/100: 4.4329e-04\n",
      "Loss for epoch 95/100: 3.7239e-04\n",
      "Loss for epoch 96/100: 3.6236e-04\n",
      "Loss for epoch 97/100: 3.6541e-04\n",
      "Loss for epoch 98/100: 4.1164e-04\n",
      "Loss for epoch 99/100: 4.7647e-04\n",
      "Loss for epoch 100/100: 4.8398e-04\n"
     ]
    }
   ],
   "source": [
    "epochs = 100 # how many times do we want to go through the whole data set\n",
    "batch_size = 200 # how many samples do we process before updating weights\n",
    "batches = int(np.floor(len(y_train)/batch_size)) # how many batches are there when dividing the whole data set\n",
    "\n",
    "net.train() # set network to training mode\n",
    "Index = np.arange(len(y_train)) #Index, so we can randomly shuffle inputs and outputs\n",
    "\n",
    "np.random.seed(0) # set random seed for shuffling\n",
    "\n",
    "for epoch in range(1, epochs + 1):\n",
    "    np.random.shuffle(Index) # shuffle indices, so we do not circle during optimization\n",
    "    \n",
    "    loss_epoch = 0\n",
    "    \n",
    "    for batch in range(batches):\n",
    "        Index_batch = Index[batch * batch_size:(batch + 1) * batch_size]\n",
    "        x_batch = torch.from_numpy(x_train_norm[Index_batch]) # Get respective input data and transform into torch tensor\n",
    "        y_batch = torch.from_numpy(y_train_cat[Index_batch].astype('float32')) # Get respective output data and transform into torch tensor\n",
    "        \n",
    "        # delete gradients from optimizer (otherwise, gradients are cummulative summed up over all previous batches)\n",
    "        optimizer.zero_grad()\n",
    "        # predict the output for the given inputs (forward pass)\n",
    "        y_batch_pred = net(x_batch)\n",
    "        # calculate the loss of the predicted input (forward pass)\n",
    "        loss = loss_func(y_batch_pred, y_batch)\n",
    "        # get the gradients of the trainable paramters for the given loss (backward pass)\n",
    "        loss.backward()\n",
    "        # apply the gradients and change weights\n",
    "        optimizer.step()\n",
    "        \n",
    "        loss_epoch += loss\n",
    "    \n",
    "    loss_epoch /= batches\n",
    "    print('Loss for epoch {}/{}: {:0.4e}'.format(epoch,epochs, loss_epoch) )\n",
    "        "
   ]
  },
  {
   "cell_type": "markdown",
   "id": "193ca335",
   "metadata": {},
   "source": [
    "## Testing the model\n",
    "Finally, the model has to be tested:"
   ]
  },
  {
   "cell_type": "code",
   "execution_count": 25,
   "id": "5f25e4f1",
   "metadata": {},
   "outputs": [],
   "source": [
    "net.eval() # Set model inot evaluation mode\n",
    "with torch.no_grad(): # Only build forwards graph => faster method\n",
    "    y_test_pred = net(torch.from_numpy(x_test_norm))\n",
    "y_test_pred = y_test_pred.detach().numpy()"
   ]
  },
  {
   "cell_type": "markdown",
   "id": "d2b9bdf8",
   "metadata": {},
   "source": [
    "To get a prediction, we now have to find the label with the highest probability:"
   ]
  },
  {
   "cell_type": "code",
   "execution_count": 26,
   "id": "166afefe",
   "metadata": {},
   "outputs": [],
   "source": [
    "y_pred = np.concatenate((y_test_pred.argmax(axis = 1)[:,np.newaxis],          # Get the number with the highest probability\n",
    "                         y_test_pred.max(axis = 1)[:,np.newaxis]), axis = 1)  # Get the corresponding probability"
   ]
  },
  {
   "cell_type": "markdown",
   "id": "3b89c7ed",
   "metadata": {},
   "source": [
    "We can now visualize the predictions:"
   ]
  },
  {
   "cell_type": "code",
   "execution_count": 33,
   "id": "a92a093b",
   "metadata": {},
   "outputs": [
    {
     "data": {
      "image/png": "[encoded data removed]",
      "text/plain": [
       "<Figure size 500x500 with 1 Axes>"
      ]
     },
     "metadata": {},
     "output_type": "display_data"
    }
   ],
   "source": [
    "i_sample_test = 4\n",
    "plot_in_and_out(x_test[i_sample_test], y_test[i_sample_test], y_pred[i_sample_test])"
   ]
  },
  {
   "cell_type": "markdown",
   "id": "e83eabe1",
   "metadata": {},
   "source": [
    "### Determine Accuracy\n",
    "Finally, one can determine the accuracy of the model on the test set"
   ]
  },
  {
   "cell_type": "code",
   "execution_count": 34,
   "id": "9a2e195d",
   "metadata": {},
   "outputs": [
    {
     "name": "stdout",
     "output_type": "stream",
     "text": [
      "The accuracy of the model on the test set is 97.32%\n"
     ]
    }
   ],
   "source": [
    "accuracy = np.mean(y_test == y_pred[:,0])\n",
    "print('The accuracy of the model on the test set is {:0.2f}%'.format(100*accuracy))"
   ]
  },
  {
   "cell_type": "code",
   "execution_count": 36,
   "id": "b65bf5e1",
   "metadata": {},
   "outputs": [
    {
     "data": {
      "image/png": "[encoded data removed]",
      "text/plain": [
       "<Figure size 500x500 with 1 Axes>"
      ]
     },
     "metadata": {},
     "output_type": "display_data"
    }
   ],
   "source": [
    "failures = np.where(y_test != y_pred[:,0])[0]\n",
    "\n",
    "i_sample_failure = failures[-1]\n",
    "plot_in_and_out(x_test[i_sample_failure], y_test[i_sample_failure], y_pred[i_sample_failure])"
   ]
  },
  {
   "cell_type": "markdown",
   "id": "7253a176",
   "metadata": {},
   "source": [
    "## Varying the hyperparamters\n",
    "After seeing the example, we now have the goal of building a function which allows us to evaluate the performance for a certain implementation of a neural network, given a number of hyperparamters. The goal is to implement a neural network with two hidden layers, using relu activation in all but the last layers.\n",
    "The following things are to be varied:\n",
    "<ul>\n",
    "  <li>The optimizer: Use Adam as well as SDG</li>\n",
    "  <li>The batch size: Use 10, 100, 1000, 10000 </li>\n",
    "  <li>The number of neuron in the second hidden layer: Use 10, 50, 100 </li>\n",
    "</ul>  \n",
    "Meanwhile, 100 epochs are to be used for training, and the first hidden layer should have 100 neurons.\n",
    "<br>\n",
    "The accuracy of the trained models on the test has to be calculated for a comparison."
   ]
  },
  {
   "cell_type": "code",
   "execution_count": 13,
   "id": "1de9eb9e",
   "metadata": {},
   "outputs": [],
   "source": [
    "class Neural_network(nn.Module): #inherit the nn.Module class for backpropagation and training functionalities\n",
    "    # Build the layers of the network, and initializes the parameters\n",
    "    def __init__(self, num_neurons): \n",
    "        super(Neural_network, self).__init__()\n",
    "        self.fc1 = nn.Linear(784, 100, bias = True)  # fully connected layer from 784 to 100 dimensions (28*28) first -> hidden\n",
    "        self.fc2 = nn.Linear(100, num_neurons)\n",
    "        self.fc3 = nn.Linear(num_neurons, 10, bias = True) # fully connected layer from 100 to 10 dimensions hidden -> output\n",
    "    \n",
    "    # Build the forward call \n",
    "    def forward(self, x): # x is the input of dimensionality n x 28 x 28\n",
    "        x = torch.flatten(x, start_dim = 1) # x is reshaped into a n x 784 dimensional input \n",
    "        x = self.fc1(x) # apply the first fully connected layer, x now has shape n x 100\n",
    "        x = F.relu(x) # We apply a ReLU activation to the hidden layer\n",
    "        x = self.fc2(x) \n",
    "        x = F.relu(x)\n",
    "        x = self.fc3(x) # We apply the second fully connected layer, x now has shape n x 10\n",
    "        x = F.softmax(x, dim = -1) # We apply the softmax activation function\n",
    "        return x"
   ]
  },
  {
   "cell_type": "code",
   "execution_count": 14,
   "id": "b446298f",
   "metadata": {},
   "outputs": [],
   "source": [
    "\n",
    "def evaluate_implementations(x_train, x_test, y_train, y_train_cat, opt, epochs, batch_size, num_neurons):\n",
    "    torch.manual_seed(0)\n",
    "    net = Neural_network(num_neurons=num_neurons)\n",
    "\n",
    "    # LOSS FUNCTION\n",
    "    loss_func = nn.MSELoss()\n",
    "\n",
    "    # OPTIMIZERS\n",
    "    if opt == \"SGD\":\n",
    "        optimizer = optim.SGD(net.parameters(), lr=0.001)\n",
    "    else: \n",
    "        optimizer = optim.Adam(net.parameters(), lr=0.001, betas=(0.9, 0.999))\n",
    "\n",
    "    ## NORMALIZE \n",
    "    x_train_norm = x_train.astype('float32')\n",
    "\n",
    "    x_mean = x_train_norm.mean(axis = 0, keepdims = True)\n",
    "    x_train_norm -= x_mean\n",
    "\n",
    "    x_std = (x_train_norm.std(axis = 0, keepdims = True) + 1e-8)\n",
    "    x_train_norm /= x_std\n",
    "\n",
    "    x_test_norm = (x_test.astype('float32') - x_mean)/x_std\n",
    "\n",
    "    ## TRAINING THE MODEL!!\n",
    "    batches = int(np.floor(len(y_train)/batch_size)) # how many batches are there when dividing the whole data set\n",
    "\n",
    "    net.train() # set network to training mode\n",
    "    Index = np.arange(len(y_train)) #Index, so we can randomly shuffle inputs and outputs\n",
    "\n",
    "    np.random.seed(0) # set random seed for shuffling\n",
    "\n",
    "    for epoch in range(1, epochs + 1):\n",
    "        np.random.shuffle(Index) # shuffle indices, so we do not circle during optimization\n",
    "        \n",
    "        loss_epoch = 0\n",
    "        \n",
    "        for batch in range(batches):\n",
    "            Index_batch = Index[batch * batch_size:(batch + 1) * batch_size]\n",
    "            x_batch = torch.from_numpy(x_train_norm[Index_batch]) # Get respective input data and transform into torch tensor\n",
    "            y_batch = torch.from_numpy(y_train_cat[Index_batch].astype('float32')) # Get respective output data and transform into torch tensor\n",
    "            \n",
    "            # delete gradients from optimizer (otherwise, gradients are cummulative summed up over all previous batches)\n",
    "            optimizer.zero_grad()\n",
    "            # predict the output for the given inputs (forward pass)\n",
    "        \n",
    "            y_batch_pred = net(x_batch)\n",
    "            # calculate the loss of the predicted input (forward pass)\n",
    "            loss = loss_func(y_batch_pred, y_batch)\n",
    "            # get the gradients of the trainable paramters for the given loss (backward pass)\n",
    "            loss.backward()\n",
    "            # apply the gradients and change weights\n",
    "            optimizer.step()\n",
    "            \n",
    "            loss_epoch += loss\n",
    "        \n",
    "        loss_epoch /= batches\n",
    "        print('Loss for epoch {}/{}: {:0.4e}'.format(epoch,epochs, loss_epoch) )\n",
    "        \n",
    "        net.eval() # Set model into evaluation mode\n",
    "        with torch.no_grad(): # Only build forwards graph => faster method\n",
    "            y_test_pred = net(torch.from_numpy(x_test_norm))\n",
    "        y_test_pred = y_test_pred.detach().numpy()\n",
    "\n",
    "        y_pred = np.concatenate((y_test_pred.argmax(axis = 1)[:,np.newaxis],          # Get the number with the highest probability\n",
    "                                y_test_pred.max(axis = 1)[:,np.newaxis]), axis = 1)  # Get the corresponding probability\n",
    "        accuracy = np.mean(y_test == y_pred[:,0])\n",
    "    return accuracy\n",
    "\n",
    "## PRINTING PARAMETERS\n",
    "#  # set random seed for variabl initialization\n",
    "# print(net)\n",
    "# print('')\n",
    "# params = list(net.parameters())\n",
    "# print('Number of parameter arrays: ' + str(len(params)))\n",
    "# print('The shape of the parameter arrays:')\n",
    "# for param in params:\n",
    "#     print(param.shape)\n"
   ]
  },
  {
   "cell_type": "code",
   "execution_count": 15,
   "id": "adb4a5ef",
   "metadata": {},
   "outputs": [
    {
     "name": "stdout",
     "output_type": "stream",
     "text": [
      "10\n",
      "SDG\n",
      "50\n",
      "Loss for epoch 1/100: 1.1080e-02\n",
      "Loss for epoch 2/100: 6.6757e-03\n",
      "Loss for epoch 3/100: 5.6214e-03\n",
      "Loss for epoch 4/100: 5.0589e-03\n",
      "Loss for epoch 5/100: 4.9336e-03\n",
      "Loss for epoch 6/100: 4.9185e-03\n",
      "Loss for epoch 7/100: 5.0191e-03\n",
      "Loss for epoch 8/100: 5.2808e-03\n",
      "Loss for epoch 9/100: 5.1594e-03\n",
      "Loss for epoch 10/100: 5.2449e-03\n",
      "Loss for epoch 11/100: 5.4078e-03\n",
      "Loss for epoch 12/100: 5.7106e-03\n",
      "Loss for epoch 13/100: 5.2054e-03\n",
      "Loss for epoch 14/100: 5.3743e-03\n",
      "Loss for epoch 15/100: 5.1695e-03\n",
      "Loss for epoch 16/100: 5.9519e-03\n",
      "Loss for epoch 17/100: 5.2542e-03\n",
      "Loss for epoch 18/100: 5.7447e-03\n",
      "Loss for epoch 19/100: 6.0085e-03\n",
      "Loss for epoch 20/100: 5.6616e-03\n",
      "Loss for epoch 21/100: 5.8770e-03\n",
      "Loss for epoch 22/100: 5.6026e-03\n",
      "Loss for epoch 23/100: 6.2616e-03\n",
      "Loss for epoch 24/100: 5.8155e-03\n",
      "Loss for epoch 25/100: 5.3274e-03\n",
      "Loss for epoch 26/100: 6.0200e-03\n",
      "Loss for epoch 27/100: 6.4762e-03\n",
      "Loss for epoch 28/100: 5.8169e-03\n",
      "Loss for epoch 29/100: 5.8536e-03\n",
      "Loss for epoch 30/100: 6.0632e-03\n",
      "Loss for epoch 31/100: 6.2575e-03\n",
      "Loss for epoch 32/100: 6.0237e-03\n",
      "Loss for epoch 33/100: 6.1067e-03\n",
      "Loss for epoch 34/100: 6.3937e-03\n",
      "Loss for epoch 35/100: 7.2036e-03\n",
      "Loss for epoch 36/100: 6.1168e-03\n",
      "Loss for epoch 37/100: 6.1647e-03\n",
      "Loss for epoch 38/100: 6.1042e-03\n",
      "Loss for epoch 39/100: 5.8520e-03\n",
      "Loss for epoch 40/100: 6.6710e-03\n",
      "Loss for epoch 41/100: 6.8590e-03\n",
      "Loss for epoch 42/100: 6.7168e-03\n",
      "Loss for epoch 43/100: 6.2444e-03\n",
      "Loss for epoch 44/100: 5.7236e-03\n",
      "Loss for epoch 45/100: 6.0595e-03\n",
      "Loss for epoch 46/100: 6.4789e-03\n",
      "Loss for epoch 47/100: 6.7021e-03\n",
      "Loss for epoch 48/100: 6.7268e-03\n",
      "Loss for epoch 49/100: 6.3161e-03\n",
      "Loss for epoch 50/100: 6.6270e-03\n",
      "Loss for epoch 51/100: 6.4124e-03\n",
      "Loss for epoch 52/100: 6.3836e-03\n",
      "Loss for epoch 53/100: 6.2313e-03\n",
      "Loss for epoch 54/100: 6.8156e-03\n",
      "Loss for epoch 55/100: 5.9158e-03\n",
      "Loss for epoch 56/100: 6.4364e-03\n",
      "Loss for epoch 57/100: 6.3810e-03\n"
     ]
    },
    {
     "ename": "KeyboardInterrupt",
     "evalue": "",
     "output_type": "error",
     "traceback": [
      "\u001b[1;31m---------------------------------------------------------------------------\u001b[0m",
      "\u001b[1;31mKeyboardInterrupt\u001b[0m                         Traceback (most recent call last)",
      "Cell \u001b[1;32mIn[15], line 17\u001b[0m\n\u001b[0;32m     14\u001b[0m \u001b[38;5;28mprint\u001b[39m(opt)\n\u001b[0;32m     15\u001b[0m \u001b[38;5;28mprint\u001b[39m(num_neurons)\n\u001b[1;32m---> 17\u001b[0m accuracy \u001b[38;5;241m=\u001b[39m \u001b[43mevaluate_implementations\u001b[49m\u001b[43m(\u001b[49m\u001b[43mx_train\u001b[49m\u001b[43m,\u001b[49m\u001b[43mx_test\u001b[49m\u001b[43m,\u001b[49m\u001b[43my_train\u001b[49m\u001b[43m,\u001b[49m\u001b[43my_train_cat\u001b[49m\u001b[43m,\u001b[49m\u001b[43m \u001b[49m\u001b[43mopt\u001b[49m\u001b[43m,\u001b[49m\u001b[43m \u001b[49m\u001b[43mepochs\u001b[49m\u001b[43m,\u001b[49m\u001b[43m \u001b[49m\u001b[43mbatch_size\u001b[49m\u001b[43m,\u001b[49m\u001b[43m \u001b[49m\u001b[43mnum_neurons\u001b[49m\u001b[43m)\u001b[49m\n\u001b[0;32m     18\u001b[0m \u001b[38;5;28mprint\u001b[39m(\u001b[38;5;124m'\u001b[39m\u001b[38;5;124mThe accuracy of the model with varying hyperparameters on the test set is \u001b[39m\u001b[38;5;132;01m{:0.2f}\u001b[39;00m\u001b[38;5;124m%\u001b[39m\u001b[38;5;124m'\u001b[39m\u001b[38;5;241m.\u001b[39mformat(\u001b[38;5;241m100\u001b[39m\u001b[38;5;241m*\u001b[39maccuracy))\n\u001b[0;32m     19\u001b[0m \u001b[38;5;28mprint\u001b[39m(\u001b[38;5;124m'\u001b[39m\u001b[38;5;124mThe model was trained with parameters number neurons = \u001b[39m\u001b[38;5;132;01m{}\u001b[39;00m\u001b[38;5;124m, optimization = \u001b[39m\u001b[38;5;132;01m{}\u001b[39;00m\u001b[38;5;124m, batch_size = \u001b[39m\u001b[38;5;132;01m{}\u001b[39;00m\u001b[38;5;124m'\u001b[39m\u001b[38;5;241m.\u001b[39mformat(num_neurons, opt, batch_size))\n",
      "Cell \u001b[1;32mIn[14], line 55\u001b[0m, in \u001b[0;36mevaluate_implementations\u001b[1;34m(x_train, x_test, y_train, y_train_cat, opt, epochs, batch_size, num_neurons)\u001b[0m\n\u001b[0;32m     52\u001b[0m     \u001b[38;5;66;03m# apply the gradients and change weights\u001b[39;00m\n\u001b[0;32m     53\u001b[0m     optimizer\u001b[38;5;241m.\u001b[39mstep()\n\u001b[1;32m---> 55\u001b[0m     loss_epoch \u001b[38;5;241m+\u001b[39m\u001b[38;5;241m=\u001b[39m loss\n\u001b[0;32m     57\u001b[0m loss_epoch \u001b[38;5;241m/\u001b[39m\u001b[38;5;241m=\u001b[39m batches\n\u001b[0;32m     58\u001b[0m \u001b[38;5;28mprint\u001b[39m(\u001b[38;5;124m'\u001b[39m\u001b[38;5;124mLoss for epoch \u001b[39m\u001b[38;5;132;01m{}\u001b[39;00m\u001b[38;5;124m/\u001b[39m\u001b[38;5;132;01m{}\u001b[39;00m\u001b[38;5;124m: \u001b[39m\u001b[38;5;132;01m{:0.4e}\u001b[39;00m\u001b[38;5;124m'\u001b[39m\u001b[38;5;241m.\u001b[39mformat(epoch,epochs, loss_epoch) )\n",
      "\u001b[1;31mKeyboardInterrupt\u001b[0m: "
     ]
    }
   ],
   "source": [
    "import random\n",
    "num_neurons = [10,50,100]\n",
    "opt = [\"SDG\", \"ADAM\"]\n",
    "epochs = 100 # how many times do we want to go through the whole data set\n",
    "batch_size = [10,100,1000,10000] # how many samples do we process before updating weights\n",
    "\n",
    "\n",
    "# for i in range(len(batch_size)):\n",
    "batch_size = batch_size[0]\n",
    "opt = np.random.choice(opt)   \n",
    "num_neurons = np.random.choice(num_neurons)\n",
    "\n",
    "print(batch_size)\n",
    "print(opt)\n",
    "print(num_neurons)\n",
    "\n",
    "accuracy = evaluate_implementations(x_train,x_test,y_train,y_train_cat, opt, epochs, batch_size, num_neurons)\n",
    "print('The accuracy of the model with varying hyperparameters on the test set is {:0.2f}%'.format(100*accuracy))\n",
    "print('The model was trained with parameters number neurons = {}, optimization = {}, batch_size = {}'.format(num_neurons, opt, batch_size))"
   ]
  },
  {
   "cell_type": "code",
   "execution_count": null,
   "id": "4ad6c957",
   "metadata": {},
   "outputs": [],
   "source": []
  }
 ],
 "metadata": {
  "kernelspec": {
   "display_name": "Python 3 (ipykernel)",
   "language": "python",
   "name": "python3"
  },
  "language_info": {
   "codemirror_mode": {
    "name": "ipython",
    "version": 3
   },
   "file_extension": ".py",
   "mimetype": "text/x-python",
   "name": "python",
   "nbconvert_exporter": "python",
   "pygments_lexer": "ipython3",
   "version": "3.12.6"
  }
 },
 "nbformat": 4,
 "nbformat_minor": 5
}
