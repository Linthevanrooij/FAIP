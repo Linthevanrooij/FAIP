{
 "cells": [
  {
   "cell_type": "markdown",
   "id": "75e2194a",
   "metadata": {
    "cellIdentifier": "48zknveuii9816j3779fc2",
    "deletable": false,
    "editable": false,
    "nbgrader": {
     "grade": false,
     "locked": true,
     "solution": false
    }
   },
   "source": [
    "# Topic IV: Shrinkage and Variable Selection"
   ]
  },
  {
   "cell_type": "markdown",
   "id": "a7921bda",
   "metadata": {
    "cellIdentifier": "17wm26twgzwz5vxt7by8i",
    "deletable": false,
    "editable": false,
    "nbgrader": {
     "grade": false,
     "locked": true,
     "solution": false
    }
   },
   "source": [
    "**Information:**  \n",
    "We are using the book 'G. James et al. -  An Introduction to Statistical Learning (with Applications in Python)'. You can find a copy of it for free [here](https://www.statlearning.com/).\n",
    "\n",
    "In this exercise, we will predict the number of applications received using the other variables in the `College` data set."
   ]
  },
  {
   "cell_type": "markdown",
   "id": "884d9683",
   "metadata": {
    "cellIdentifier": "u5f6clul7arokp77bc0h8",
    "deletable": false,
    "editable": false,
    "nbgrader": {
     "grade": false,
     "locked": true,
     "solution": false
    }
   },
   "source": [
    "## Import modules, packages and libraries"
   ]
  },
  {
   "cell_type": "markdown",
   "id": "7f39bf19",
   "metadata": {
    "cellIdentifier": "mmn7hbq203tf9o7vlae8hk",
    "deletable": false,
    "editable": false,
    "nbgrader": {
     "grade": false,
     "locked": true,
     "solution": false
    }
   },
   "source": [
    "First, we import some useful modules, packages and libraries. These are needed for carrying out the computations and for plotting the results."
   ]
  },
  {
   "cell_type": "code",
   "execution_count": 11,
   "id": "dae6eec3",
   "metadata": {
    "cellIdentifier": "boo7pjyakb5x9dr9y4to1m"
   },
   "outputs": [],
   "source": [
    "import numpy as np\n",
    "import pandas as pd\n",
    "import matplotlib.pyplot as plt\n",
    "%matplotlib inline \n",
    "\n",
    "# sci-kit learn specifics\n",
    "# We will use the sklearn package to obtain ridge regression and lasso models.\n",
    "from sklearn.preprocessing import StandardScaler\n",
    "from sklearn.model_selection import train_test_split, GridSearchCV\n",
    "from sklearn.linear_model import Ridge, Lasso\n",
    "from sklearn.metrics import mean_squared_error"
   ]
  },
  {
   "cell_type": "markdown",
   "id": "349ff73a",
   "metadata": {
    "cellIdentifier": "lcodcebqj6s9gbw9dimkg",
    "deletable": false,
    "editable": false,
    "nbgrader": {
     "grade": false,
     "locked": true,
     "solution": false
    }
   },
   "source": [
    "## Load the `College` data set"
   ]
  },
  {
   "cell_type": "code",
   "execution_count": 12,
   "id": "3cbcc67b",
   "metadata": {
    "cellIdentifier": "wcpwrdzz0ynenhc8r7g4"
   },
   "outputs": [
    {
     "data": {
      "text/html": [
       "<div>\n",
       "<style scoped>\n",
       "    .dataframe tbody tr th:only-of-type {\n",
       "        vertical-align: middle;\n",
       "    }\n",
       "\n",
       "    .dataframe tbody tr th {\n",
       "        vertical-align: top;\n",
       "    }\n",
       "\n",
       "    .dataframe thead th {\n",
       "        text-align: right;\n",
       "    }\n",
       "</style>\n",
       "<table border=\"1\" class=\"dataframe\">\n",
       "  <thead>\n",
       "    <tr style=\"text-align: right;\">\n",
       "      <th></th>\n",
       "      <th>Private</th>\n",
       "      <th>Apps</th>\n",
       "      <th>Accept</th>\n",
       "      <th>Enroll</th>\n",
       "      <th>Top10perc</th>\n",
       "      <th>Top25perc</th>\n",
       "      <th>F.Undergrad</th>\n",
       "      <th>P.Undergrad</th>\n",
       "      <th>Outstate</th>\n",
       "      <th>Room.Board</th>\n",
       "      <th>Books</th>\n",
       "      <th>Personal</th>\n",
       "      <th>PhD</th>\n",
       "      <th>Terminal</th>\n",
       "      <th>S.F.Ratio</th>\n",
       "      <th>perc.alumni</th>\n",
       "      <th>Expend</th>\n",
       "      <th>Grad.Rate</th>\n",
       "    </tr>\n",
       "  </thead>\n",
       "  <tbody>\n",
       "    <tr>\n",
       "      <th>Abilene Christian University</th>\n",
       "      <td>Yes</td>\n",
       "      <td>1660</td>\n",
       "      <td>1232</td>\n",
       "      <td>721</td>\n",
       "      <td>23</td>\n",
       "      <td>52</td>\n",
       "      <td>2885</td>\n",
       "      <td>537</td>\n",
       "      <td>7440</td>\n",
       "      <td>3300</td>\n",
       "      <td>450</td>\n",
       "      <td>2200</td>\n",
       "      <td>70</td>\n",
       "      <td>78</td>\n",
       "      <td>18.1</td>\n",
       "      <td>12</td>\n",
       "      <td>7041</td>\n",
       "      <td>60</td>\n",
       "    </tr>\n",
       "    <tr>\n",
       "      <th>Alfred University</th>\n",
       "      <td>Yes</td>\n",
       "      <td>1732</td>\n",
       "      <td>1425</td>\n",
       "      <td>472</td>\n",
       "      <td>37</td>\n",
       "      <td>75</td>\n",
       "      <td>1830</td>\n",
       "      <td>110</td>\n",
       "      <td>16548</td>\n",
       "      <td>5406</td>\n",
       "      <td>500</td>\n",
       "      <td>600</td>\n",
       "      <td>82</td>\n",
       "      <td>88</td>\n",
       "      <td>11.3</td>\n",
       "      <td>31</td>\n",
       "      <td>10932</td>\n",
       "      <td>73</td>\n",
       "    </tr>\n",
       "    <tr>\n",
       "      <th>Antioch University</th>\n",
       "      <td>Yes</td>\n",
       "      <td>713</td>\n",
       "      <td>661</td>\n",
       "      <td>252</td>\n",
       "      <td>25</td>\n",
       "      <td>44</td>\n",
       "      <td>712</td>\n",
       "      <td>23</td>\n",
       "      <td>15476</td>\n",
       "      <td>3336</td>\n",
       "      <td>400</td>\n",
       "      <td>1100</td>\n",
       "      <td>69</td>\n",
       "      <td>82</td>\n",
       "      <td>11.3</td>\n",
       "      <td>35</td>\n",
       "      <td>42926</td>\n",
       "      <td>48</td>\n",
       "    </tr>\n",
       "    <tr>\n",
       "      <th>Augustana College</th>\n",
       "      <td>Yes</td>\n",
       "      <td>761</td>\n",
       "      <td>725</td>\n",
       "      <td>306</td>\n",
       "      <td>21</td>\n",
       "      <td>58</td>\n",
       "      <td>1337</td>\n",
       "      <td>300</td>\n",
       "      <td>10990</td>\n",
       "      <td>3244</td>\n",
       "      <td>600</td>\n",
       "      <td>1021</td>\n",
       "      <td>66</td>\n",
       "      <td>70</td>\n",
       "      <td>10.4</td>\n",
       "      <td>30</td>\n",
       "      <td>6871</td>\n",
       "      <td>69</td>\n",
       "    </tr>\n",
       "    <tr>\n",
       "      <th>Beaver College</th>\n",
       "      <td>Yes</td>\n",
       "      <td>1163</td>\n",
       "      <td>850</td>\n",
       "      <td>348</td>\n",
       "      <td>23</td>\n",
       "      <td>56</td>\n",
       "      <td>878</td>\n",
       "      <td>519</td>\n",
       "      <td>12850</td>\n",
       "      <td>5400</td>\n",
       "      <td>400</td>\n",
       "      <td>800</td>\n",
       "      <td>78</td>\n",
       "      <td>89</td>\n",
       "      <td>12.2</td>\n",
       "      <td>30</td>\n",
       "      <td>8954</td>\n",
       "      <td>73</td>\n",
       "    </tr>\n",
       "  </tbody>\n",
       "</table>\n",
       "</div>"
      ],
      "text/plain": [
       "                             Private  Apps  Accept  Enroll  Top10perc  \\\n",
       "Abilene Christian University     Yes  1660    1232     721         23   \n",
       "Alfred University                Yes  1732    1425     472         37   \n",
       "Antioch University               Yes   713     661     252         25   \n",
       "Augustana College                Yes   761     725     306         21   \n",
       "Beaver College                   Yes  1163     850     348         23   \n",
       "\n",
       "                              Top25perc  F.Undergrad  P.Undergrad  Outstate  \\\n",
       "Abilene Christian University         52         2885          537      7440   \n",
       "Alfred University                    75         1830          110     16548   \n",
       "Antioch University                   44          712           23     15476   \n",
       "Augustana College                    58         1337          300     10990   \n",
       "Beaver College                       56          878          519     12850   \n",
       "\n",
       "                              Room.Board  Books  Personal  PhD  Terminal  \\\n",
       "Abilene Christian University        3300    450      2200   70        78   \n",
       "Alfred University                   5406    500       600   82        88   \n",
       "Antioch University                  3336    400      1100   69        82   \n",
       "Augustana College                   3244    600      1021   66        70   \n",
       "Beaver College                      5400    400       800   78        89   \n",
       "\n",
       "                              S.F.Ratio  perc.alumni  Expend  Grad.Rate  \n",
       "Abilene Christian University       18.1           12    7041         60  \n",
       "Alfred University                  11.3           31   10932         73  \n",
       "Antioch University                 11.3           35   42926         48  \n",
       "Augustana College                  10.4           30    6871         69  \n",
       "Beaver College                     12.2           30    8954         73  "
      ]
     },
     "execution_count": 12,
     "metadata": {},
     "output_type": "execute_result"
    }
   ],
   "source": [
    "college = pd.read_csv('College10.csv', index_col = 0)\n",
    "\n",
    "# Display information about the data set\n",
    "# college.info()\n",
    "\n",
    "# Return summary statistics for each column\n",
    "# college.describe()\n",
    "\n",
    "# Return first five rows of the data set\n",
    "college.head()"
   ]
  },
  {
   "cell_type": "code",
   "execution_count": 4,
   "id": "26e118fc-d995-4124-a753-964d66d185e0",
   "metadata": {
    "cellIdentifier": "asrmcde9s5vptks19gpcza"
   },
   "outputs": [],
   "source": [
    "### PREPROCESSING HERE"
   ]
  },
  {
   "cell_type": "markdown",
   "id": "0a76e562",
   "metadata": {
    "cellIdentifier": "zwrv25yvbg1rcij4drtdm"
   },
   "source": [
    "**(a) Normalize the data and split it into a training set and a test set.**"
   ]
  },
  {
   "cell_type": "code",
   "execution_count": 13,
   "id": "3c6ccfbf",
   "metadata": {
    "cellIdentifier": "68fqks3nsvpxmipiajrp"
   },
   "outputs": [],
   "source": [
    "### YOUR CODE HERE\n",
    "\n",
    "categorical_columns = college.select_dtypes(include=['object']).columns\n",
    "\n",
    "# One-hot encode categorical columns\n",
    "college = pd.get_dummies(college, columns=categorical_columns, drop_first=True)\n",
    "\n",
    "scaler=StandardScaler()\n",
    "                      \n",
    "college['Apps']=scaler.fit_transform(college[['Apps']])\n",
    "X = college.drop('Apps',axis=1)\n",
    "y = college['Apps']\n",
    "X_train, X_test, y_train, y_test = train_test_split(X, y, test_size=0.2, random_state=42)"
   ]
  },
  {
   "cell_type": "markdown",
   "id": "9b98ff19",
   "metadata": {
    "cellIdentifier": "2k74i0maybclpg4ztjpyr"
   },
   "source": [
    "**(b) Fit a linear model using least squares on the training set, and report the test error obtained.**"
   ]
  },
  {
   "cell_type": "code",
   "execution_count": 15,
   "id": "ede2b1e4",
   "metadata": {
    "cellIdentifier": "xmyecvwkjjvk4tx8hxall"
   },
   "outputs": [
    {
     "name": "stdout",
     "output_type": "stream",
     "text": [
      "Test Mean Squared Error: 0.21963403756920946\n"
     ]
    }
   ],
   "source": [
    "### YOUR CODE HERE\n",
    "from sklearn.linear_model import LinearRegression\n",
    "\n",
    "model=LinearRegression()\n",
    "model.fit(X_train, y_train)\n",
    "y_pred=model.predict(X_test)\n",
    "\n",
    "mse = mean_squared_error(y_test, y_pred)\n",
    "\n",
    "# Print the test error\n",
    "print(f'Test Mean Squared Error: {mse}')"
   ]
  },
  {
   "cell_type": "markdown",
   "id": "367e021b",
   "metadata": {
    "cellIdentifier": "tz2g8bwz2y7x960afth6u"
   },
   "source": [
    "**(c) Fit a ridge regression model on the training set, with $ \\lambda $ chosen by cross-validation. Report the test error obtained.**"
   ]
  },
  {
   "cell_type": "code",
   "execution_count": 16,
   "id": "ee55179e",
   "metadata": {
    "cellIdentifier": "qob5m44t0gyoc2jnoky8"
   },
   "outputs": [
    {
     "name": "stdout",
     "output_type": "stream",
     "text": [
      "Best alpha: 10.0\n",
      "Test Mean Squared Error: 0.2182310855668599\n"
     ]
    }
   ],
   "source": [
    "### YOUR CODE HERE\n",
    "alphas = [0.1, 1.0, 10.0, 100.0] \n",
    "ridge=Ridge()\n",
    "param_grid = {'alpha': [0.1, 1.0, 10.0, 100.0]}\n",
    "\n",
    "# Initialize GridSearchCV\n",
    "grid_search = GridSearchCV(ridge, param_grid, cv=5, scoring='neg_mean_squared_error')\n",
    "grid_search.fit(X_train, y_train)\n",
    "\n",
    "# Best alpha chosen by cross-validation\n",
    "best_alpha = grid_search.best_params_['alpha']\n",
    "print(f'Best alpha: {best_alpha}')\n",
    "\n",
    "# Fit the Ridge model with the best alpha\n",
    "ridge_best = Ridge(alpha=best_alpha)\n",
    "ridge_best.fit(X_train, y_train)\n",
    "\n",
    "# Predict on the test set\n",
    "y_pred = ridge_best.predict(X_test)\n",
    "mse = mean_squared_error(y_test, y_pred)\n",
    "\n",
    "print(f'Test Mean Squared Error: {mse}')"
   ]
  },
  {
   "cell_type": "markdown",
   "id": "4a2ba056-369b-4c27-9759-f3ebb0c96cd8",
   "metadata": {
    "cellIdentifier": "q8b83pgck8ioep5zvlgyj"
   },
   "source": [
    "**(d) Fit a lasso model on the training set, with $ \\lambda $ chosen by cross-validation. Report the test error obtained, along with the number of non-zero coefficient estimates.**"
   ]
  },
  {
   "cell_type": "code",
   "execution_count": 17,
   "id": "66600c64-e03a-47af-8bb7-6317486836df",
   "metadata": {
    "cellIdentifier": "0pzprezz2p7r8gxdqrzt53"
   },
   "outputs": [
    {
     "name": "stdout",
     "output_type": "stream",
     "text": [
      "Best alpha: 100.0\n",
      "Test Mean Squared Error: 0.10223605017095388\n"
     ]
    }
   ],
   "source": [
    "### YOUR CODE HERE\n",
    "lasso = Lasso()\n",
    "grid_search = GridSearchCV(lasso, param_grid, cv=5, scoring='neg_mean_squared_error')\n",
    "grid_search.fit(X_train, y_train)\n",
    "best_alpha = grid_search.best_params_['alpha']\n",
    "print(f'Best alpha: {best_alpha}')\n",
    "lasso_best = Lasso(alpha=best_alpha)\n",
    "lasso_best.fit(X_train, y_train)\n",
    "y_pred = lasso_best.predict(X_test)\n",
    "\n",
    "# Calculate the Mean Squared Error (MSE)\n",
    "mse = mean_squared_error(y_test, y_pred)\n",
    "\n",
    "# Print the test error\n",
    "print(f'Test Mean Squared Error: {mse}')"
   ]
  },
  {
   "cell_type": "markdown",
   "id": "911c02c3",
   "metadata": {
    "cellIdentifier": "vff3jv3lnvrquq4l9fkg"
   },
   "source": [
    "**(g) Comment on the results obtained. How accurately can we predict the number of college applications received?**"
   ]
  },
  {
   "cell_type": "code",
   "execution_count": 9,
   "id": "f67aae1d",
   "metadata": {
    "cellIdentifier": "9wh9wb7vyxlmjodda84nhc"
   },
   "outputs": [],
   "source": [
    "### YOUR CODE HERE"
   ]
  },
  {
   "cell_type": "markdown",
   "id": "8f5ff4d6-66e9-45f5-8461-fee4bafd7696",
   "metadata": {
    "cellIdentifier": "hq0ino1fpto9m9ma0ge0xu"
   },
   "source": [
    "\\### YOUR COMMENTS HERE\n",
    "\n",
    "The test mean square error for the lasso model is the lowest, but the regularization parameter is much higher than in the Ridge model therefore it more generalized. However, the ultimate goal is to have a low mean square error, and the lasso model has a much lower MSE than both the linear regression and the ridge regression."
   ]
  },
  {
   "cell_type": "code",
   "execution_count": null,
   "id": "2c71eb94-660c-406b-8322-ace002aaa1f5",
   "metadata": {},
   "outputs": [],
   "source": []
  },
  {
   "cell_type": "code",
   "execution_count": null,
   "id": "a9ea7fb9-4fae-48aa-9fd0-4fd014d3bffd",
   "metadata": {},
   "outputs": [],
   "source": []
  },
  {
   "cell_type": "code",
   "execution_count": null,
   "id": "0fbe05ef-2328-41c6-bb8b-92b861f805a2",
   "metadata": {},
   "outputs": [],
   "source": []
  },
  {
   "cell_type": "code",
   "execution_count": null,
   "id": "89872544-ad74-48a1-9f31-6972258d25c2",
   "metadata": {},
   "outputs": [],
   "source": []
  }
 ],
 "metadata": {
  "kernel_id": "52408fb4-3b21-4335-bec2-8043d0c6bf5f",
  "kernelspec": {
   "display_name": "Python 3 [3.10]",
   "language": "python",
   "name": "python3"
  },
  "language_info": {
   "codemirror_mode": {
    "name": "ipython",
    "version": 3
   },
   "file_extension": ".py",
   "mimetype": "text/x-python",
   "name": "python",
   "nbconvert_exporter": "python",
   "pygments_lexer": "ipython3",
   "version": "3.10.2"
  }
 },
 "nbformat": 4,
 "nbformat_minor": 5
}
