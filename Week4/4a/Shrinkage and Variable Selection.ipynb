{
 "cells": [
  {
   "cell_type": "markdown",
   "id": "75e2194a",
   "metadata": {},
   "source": [
    "# Topic IV: Shrinkage and Variable Selection"
   ]
  },
  {
   "cell_type": "markdown",
   "id": "a7921bda",
   "metadata": {},
   "source": [
    "**Information:**  \n",
    "We are using the book 'G. James et al. -  An Introduction to Statistical Learning (with Applications in Python)'. You can find a copy of it for free [here](https://www.statlearning.com/).\n",
    "\n",
    "In this exercise, we will predict the number of applications received using the other variables in the `College` data set."
   ]
  },
  {
   "cell_type": "markdown",
   "id": "884d9683",
   "metadata": {},
   "source": [
    "## Import modules, packages and libraries"
   ]
  },
  {
   "cell_type": "markdown",
   "id": "7f39bf19",
   "metadata": {},
   "source": [
    "First, we import some useful modules, packages and libraries. These are needed for carrying out the computations and for plotting the results."
   ]
  },
  {
   "cell_type": "code",
   "execution_count": null,
   "id": "dae6eec3",
   "metadata": {},
   "outputs": [],
   "source": [
    "import numpy as np\n",
    "import pandas as pd\n",
    "import matplotlib.pyplot as plt\n",
    "%matplotlib inline \n",
    "\n",
    "# sci-kit learn specifics\n",
    "# We will use the sklearn package to obtain ridge regression and lasso models.\n",
    "from sklearn.preprocessing import StandardScaler\n",
    "from sklearn.model_selection import train_test_split, GridSearchCV\n",
    "from sklearn.linear_model import Ridge, Lasso\n",
    "from sklearn.metrics import mean_squared_error"
   ]
  },
  {
   "cell_type": "markdown",
   "id": "349ff73a",
   "metadata": {},
   "source": [
    "## Load the `College` data set"
   ]
  },
  {
   "cell_type": "code",
   "execution_count": null,
   "id": "3cbcc67b",
   "metadata": {},
   "outputs": [],
   "source": [
    "college = pd.read_csv('College10.csv', index_col = 0)\n",
    "\n",
    "# Display information about the data set\n",
    "# college.info()\n",
    "\n",
    "# Return summary statistics for each column\n",
    "# college.describe()\n",
    "\n",
    "# Return first five rows of the data set\n",
    "college.head()"
   ]
  },
  {
   "cell_type": "code",
   "execution_count": null,
   "id": "26e118fc-d995-4124-a753-964d66d185e0",
   "metadata": {},
   "outputs": [],
   "source": [
    "### PREPROCESSING HERE"
   ]
  },
  {
   "cell_type": "markdown",
   "id": "0a76e562",
   "metadata": {},
   "source": [
    "**(a) Normalize the data and split it into a training set and a test set.**"
   ]
  },
  {
   "cell_type": "code",
   "execution_count": null,
   "id": "3c6ccfbf",
   "metadata": {},
   "outputs": [],
   "source": [
    "### YOUR CODE HERE"
   ]
  },
  {
   "cell_type": "markdown",
   "id": "9b98ff19",
   "metadata": {},
   "source": [
    "**(b) Fit a linear model using least squares on the training set, and report the test error obtained.**"
   ]
  },
  {
   "cell_type": "code",
   "execution_count": null,
   "id": "ede2b1e4",
   "metadata": {},
   "outputs": [],
   "source": [
    "### YOUR CODE HERE"
   ]
  },
  {
   "cell_type": "markdown",
   "id": "367e021b",
   "metadata": {},
   "source": [
    "**(c) Fit a ridge regression model on the training set, with $ \\lambda $ chosen by cross-validation. Report the test error obtained.**"
   ]
  },
  {
   "cell_type": "code",
   "execution_count": null,
   "id": "ee55179e",
   "metadata": {},
   "outputs": [],
   "source": [
    "### YOUR CODE HERE"
   ]
  },
  {
   "cell_type": "markdown",
   "id": "4a2ba056-369b-4c27-9759-f3ebb0c96cd8",
   "metadata": {},
   "source": [
    "**(d) Fit a lasso model on the training set, with $ \\lambda $ chosen by cross-validation. Report the test error obtained, along with the number of non-zero coefficient estimates.**"
   ]
  },
  {
   "cell_type": "code",
   "execution_count": null,
   "id": "66600c64-e03a-47af-8bb7-6317486836df",
   "metadata": {},
   "outputs": [],
   "source": [
    "### YOUR CODE HERE"
   ]
  },
  {
   "cell_type": "markdown",
   "id": "911c02c3",
   "metadata": {},
   "source": [
    "**(g) Comment on the results obtained. How accurately can we predict the number of college applications received?**"
   ]
  },
  {
   "cell_type": "code",
   "execution_count": null,
   "id": "f67aae1d",
   "metadata": {},
   "outputs": [],
   "source": [
    "### YOUR CODE HERE"
   ]
  },
  {
   "cell_type": "markdown",
   "id": "8f5ff4d6-66e9-45f5-8461-fee4bafd7696",
   "metadata": {},
   "source": [
    "\\### YOUR COMMENTS HERE"
   ]
  }
 ],
 "metadata": {
  "kernelspec": {
   "display_name": "Python 3 (ipykernel)",
   "language": "python",
   "name": "python3"
  },
  "language_info": {
   "codemirror_mode": {
    "name": "ipython",
    "version": 3
   },
   "file_extension": ".py",
   "mimetype": "text/x-python",
   "name": "python",
   "nbconvert_exporter": "python",
   "pygments_lexer": "ipython3",
   "version": "3.8.19"
  }
 },
 "nbformat": 4,
 "nbformat_minor": 5
}
